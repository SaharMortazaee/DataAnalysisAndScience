{
 "cells": [
  {
   "cell_type": "markdown",
   "id": "ec5cfc71",
   "metadata": {},
   "source": [
    "## Plotly and Cufflinks"
   ]
  },
  {
   "cell_type": "markdown",
   "id": "d58696df",
   "metadata": {},
   "source": [
    "### Imports and Set-up"
   ]
  },
  {
   "cell_type": "code",
   "execution_count": 1,
   "id": "0f86e3d9",
   "metadata": {},
   "outputs": [],
   "source": [
    "import pandas as pd\n",
    "import numpy as np\n",
    "%matplotlib inline"
   ]
  },
  {
   "cell_type": "code",
   "execution_count": 2,
   "id": "1c9807b6",
   "metadata": {},
   "outputs": [
    {
     "name": "stdout",
     "output_type": "stream",
     "text": [
      "5.8.2\n"
     ]
    }
   ],
   "source": [
    "from plotly import __version__\n",
    "from plotly.offline import download_plotlyjs, init_notebook_mode, plot, iplot\n",
    "\n",
    "print(__version__) # requires version >= 1.9.0"
   ]
  },
  {
   "cell_type": "code",
   "execution_count": 3,
   "id": "27c535ab",
   "metadata": {},
   "outputs": [],
   "source": [
    "import cufflinks as cf"
   ]
  },
  {
   "cell_type": "code",
   "execution_count": 6,
   "id": "4466abbf",
   "metadata": {},
   "outputs": [
    {
     "data": {
      "text/html": [
       "        <script type=\"text/javascript\">\n",
       "        window.PlotlyConfig = {MathJaxConfig: 'local'};\n",
       "        if (window.MathJax && window.MathJax.Hub && window.MathJax.Hub.Config) {window.MathJax.Hub.Config({SVG: {font: \"STIX-Web\"}});}\n",
       "        if (typeof require !== 'undefined') {\n",
       "        require.undef(\"plotly\");\n",
       "        requirejs.config({\n",
       "            paths: {\n",
       "                'plotly': ['https://cdn.plot.ly/plotly-2.12.1.min']\n",
       "            }\n",
       "        });\n",
       "        require(['plotly'], function(Plotly) {\n",
       "            window._Plotly = Plotly;\n",
       "        });\n",
       "        }\n",
       "        </script>\n",
       "        "
      ]
     },
     "metadata": {},
     "output_type": "display_data"
    }
   ],
   "source": [
    "# For Notebooks\n",
    "init_notebook_mode(connected=True)"
   ]
  },
  {
   "cell_type": "code",
   "execution_count": 7,
   "id": "9d3a7096",
   "metadata": {},
   "outputs": [
    {
     "data": {
      "text/html": [
       "        <script type=\"text/javascript\">\n",
       "        window.PlotlyConfig = {MathJaxConfig: 'local'};\n",
       "        if (window.MathJax && window.MathJax.Hub && window.MathJax.Hub.Config) {window.MathJax.Hub.Config({SVG: {font: \"STIX-Web\"}});}\n",
       "        if (typeof require !== 'undefined') {\n",
       "        require.undef(\"plotly\");\n",
       "        requirejs.config({\n",
       "            paths: {\n",
       "                'plotly': ['https://cdn.plot.ly/plotly-2.12.1.min']\n",
       "            }\n",
       "        });\n",
       "        require(['plotly'], function(Plotly) {\n",
       "            window._Plotly = Plotly;\n",
       "        });\n",
       "        }\n",
       "        </script>\n",
       "        "
      ]
     },
     "metadata": {},
     "output_type": "display_data"
    }
   ],
   "source": [
    "# For offline use\n",
    "cf.go_offline()"
   ]
  },
  {
   "cell_type": "markdown",
   "id": "838fea70",
   "metadata": {},
   "source": [
    "### Fake Data"
   ]
  },
  {
   "cell_type": "code",
   "execution_count": 8,
   "id": "64e24d7e",
   "metadata": {},
   "outputs": [],
   "source": [
    "df = pd.DataFrame(np.random.randn(100,4),columns='A B C D'.split())"
   ]
  },
  {
   "cell_type": "code",
   "execution_count": 9,
   "id": "9efd83b8",
   "metadata": {},
   "outputs": [
    {
     "data": {
      "text/html": [
       "<div>\n",
       "<style scoped>\n",
       "    .dataframe tbody tr th:only-of-type {\n",
       "        vertical-align: middle;\n",
       "    }\n",
       "\n",
       "    .dataframe tbody tr th {\n",
       "        vertical-align: top;\n",
       "    }\n",
       "\n",
       "    .dataframe thead th {\n",
       "        text-align: right;\n",
       "    }\n",
       "</style>\n",
       "<table border=\"1\" class=\"dataframe\">\n",
       "  <thead>\n",
       "    <tr style=\"text-align: right;\">\n",
       "      <th></th>\n",
       "      <th>A</th>\n",
       "      <th>B</th>\n",
       "      <th>C</th>\n",
       "      <th>D</th>\n",
       "    </tr>\n",
       "  </thead>\n",
       "  <tbody>\n",
       "    <tr>\n",
       "      <th>0</th>\n",
       "      <td>-0.966771</td>\n",
       "      <td>-1.318819</td>\n",
       "      <td>0.253850</td>\n",
       "      <td>1.481547</td>\n",
       "    </tr>\n",
       "    <tr>\n",
       "      <th>1</th>\n",
       "      <td>-0.285923</td>\n",
       "      <td>-0.519543</td>\n",
       "      <td>-0.507253</td>\n",
       "      <td>-1.939995</td>\n",
       "    </tr>\n",
       "    <tr>\n",
       "      <th>2</th>\n",
       "      <td>-0.959817</td>\n",
       "      <td>3.386454</td>\n",
       "      <td>-0.337956</td>\n",
       "      <td>-0.519241</td>\n",
       "    </tr>\n",
       "    <tr>\n",
       "      <th>3</th>\n",
       "      <td>1.699427</td>\n",
       "      <td>-0.097054</td>\n",
       "      <td>-0.021353</td>\n",
       "      <td>-0.789865</td>\n",
       "    </tr>\n",
       "    <tr>\n",
       "      <th>4</th>\n",
       "      <td>0.667916</td>\n",
       "      <td>-0.297893</td>\n",
       "      <td>1.179887</td>\n",
       "      <td>-1.709638</td>\n",
       "    </tr>\n",
       "  </tbody>\n",
       "</table>\n",
       "</div>"
      ],
      "text/plain": [
       "          A         B         C         D\n",
       "0 -0.966771 -1.318819  0.253850  1.481547\n",
       "1 -0.285923 -0.519543 -0.507253 -1.939995\n",
       "2 -0.959817  3.386454 -0.337956 -0.519241\n",
       "3  1.699427 -0.097054 -0.021353 -0.789865\n",
       "4  0.667916 -0.297893  1.179887 -1.709638"
      ]
     },
     "execution_count": 9,
     "metadata": {},
     "output_type": "execute_result"
    }
   ],
   "source": [
    "df.head()"
   ]
  },
  {
   "cell_type": "code",
   "execution_count": 10,
   "id": "a2505f63",
   "metadata": {},
   "outputs": [],
   "source": [
    "df2 = pd.DataFrame({'Category':['A','B','C'],'Values':[32,43,50]})"
   ]
  },
  {
   "cell_type": "code",
   "execution_count": 11,
   "id": "17a480aa",
   "metadata": {},
   "outputs": [
    {
     "data": {
      "text/html": [
       "<div>\n",
       "<style scoped>\n",
       "    .dataframe tbody tr th:only-of-type {\n",
       "        vertical-align: middle;\n",
       "    }\n",
       "\n",
       "    .dataframe tbody tr th {\n",
       "        vertical-align: top;\n",
       "    }\n",
       "\n",
       "    .dataframe thead th {\n",
       "        text-align: right;\n",
       "    }\n",
       "</style>\n",
       "<table border=\"1\" class=\"dataframe\">\n",
       "  <thead>\n",
       "    <tr style=\"text-align: right;\">\n",
       "      <th></th>\n",
       "      <th>Category</th>\n",
       "      <th>Values</th>\n",
       "    </tr>\n",
       "  </thead>\n",
       "  <tbody>\n",
       "    <tr>\n",
       "      <th>0</th>\n",
       "      <td>A</td>\n",
       "      <td>32</td>\n",
       "    </tr>\n",
       "    <tr>\n",
       "      <th>1</th>\n",
       "      <td>B</td>\n",
       "      <td>43</td>\n",
       "    </tr>\n",
       "    <tr>\n",
       "      <th>2</th>\n",
       "      <td>C</td>\n",
       "      <td>50</td>\n",
       "    </tr>\n",
       "  </tbody>\n",
       "</table>\n",
       "</div>"
      ],
      "text/plain": [
       "  Category  Values\n",
       "0        A      32\n",
       "1        B      43\n",
       "2        C      50"
      ]
     },
     "execution_count": 11,
     "metadata": {},
     "output_type": "execute_result"
    }
   ],
   "source": [
    "df2.head()"
   ]
  },
  {
   "cell_type": "markdown",
   "id": "6bddac73",
   "metadata": {},
   "source": [
    "### Using Cufflinks and iplot()\n",
    "* scatter\n",
    "* bar\n",
    "* box\n",
    "* spread\n",
    "* ratio\n",
    "* heatmap\n",
    "* surface\n",
    "* histogram\n",
    "* bubble"
   ]
  },
  {
   "cell_type": "markdown",
   "id": "2fbaab0b",
   "metadata": {},
   "source": [
    "### Scatter"
   ]
  },
  {
   "cell_type": "code",
   "execution_count": 12,
   "id": "59fa5cc4",
   "metadata": {},
   "outputs": [
    {
     "data": {
      "application/vnd.plotly.v1+json": {
       "config": {
        "linkText": "Export to plot.ly",
        "plotlyServerURL": "https://plot.ly",
        "showLink": true
       },
       "data": [
        {
         "line": {
          "color": "rgba(255, 153, 51, 1.0)",
          "dash": "solid",
          "shape": "linear",
          "width": 1.3
         },
         "marker": {
          "size": 10,
          "symbol": "circle"
         },
         "mode": "markers",
         "name": "B",
         "text": "",
         "type": "scatter",
         "x": [
          -0.9667706031559152,
          -0.2859230331659126,
          -0.9598172529636709,
          1.6994273373143356,
          0.6679156281878831,
          -0.7921386723269326,
          0.6677875090604823,
          0.18842161040285368,
          1.2197013733786959,
          0.3740932827273875,
          0.6763751328413449,
          1.0494561021545243,
          0.07221209523657499,
          -0.8791766868027052,
          0.12162966723876437,
          -0.10357449487613801,
          -0.5094000022078592,
          0.6239757340029429,
          -1.2449571168622398,
          0.3594084096499897,
          1.6765297679482034,
          0.13509423235704984,
          0.2705117695196429,
          -0.7119820402020055,
          -0.12907758215134288,
          0.08319611741499265,
          0.430408914483296,
          1.1322952435002804,
          -0.9607675765706225,
          -0.1420858459791905,
          0.9348025697422142,
          1.0557892979911945,
          -0.7528462987022209,
          -2.1819039128157867,
          -1.4046399567682601,
          0.5861898200940868,
          -0.2911744291241955,
          -0.5509183453632426,
          -0.1127612420803882,
          0.6888117831712275,
          -0.1364296263697243,
          0.3277151667010575,
          0.33758301287551934,
          0.7981383473407812,
          -0.5749282127701741,
          0.0573190971632262,
          2.005614222502313,
          -0.36084649081020853,
          0.12500468331404857,
          -1.000769118596277,
          -1.2581246473715653,
          0.8727168540806867,
          0.5189249974409815,
          0.26003727857485476,
          0.9036555150907073,
          0.2100386271152475,
          0.8011528441099885,
          -1.4767051234211053,
          -0.2984036629837312,
          -2.9439786983978737,
          -0.2072924708400469,
          -0.8970346988592104,
          -1.562210930137962,
          -1.2007698303843537,
          0.5761557464682605,
          -0.3334196477312107,
          -0.1475085352910442,
          -1.9221100669005526,
          -0.37263094070359437,
          -0.2961685288793439,
          0.867188512443164,
          0.21374050067553674,
          -0.7153835481111949,
          1.2527062398553368,
          1.183821901529496,
          2.200161640450383,
          1.695203262152829,
          -1.2996409871306696,
          -0.4603476887302826,
          -0.3357203379555168,
          -0.00262303954320485,
          1.0643942398357191,
          0.326733874202913,
          -0.21373908648877013,
          -1.187563138747254,
          1.43363810629614,
          -0.78225692691843,
          0.0820954573532839,
          1.0920156152206064,
          1.3080169562280424,
          -1.3269670830691598,
          0.6523762892146466,
          -0.2841860611708281,
          -0.06085191281269883,
          0.1811085429676458,
          0.27988653937338126,
          -1.5113247093622162,
          1.9927114711577558,
          -1.2115200720889219,
          1.730413492768943
         ],
         "y": [
          -1.3188190343406079,
          -0.5195427305961262,
          3.386453821992028,
          -0.09705417497171678,
          -0.297892863845476,
          -0.26756095229456917,
          0.5700665741375269,
          0.44529929220723913,
          -0.5510229873684799,
          1.7463483158674042,
          1.0118648347277688,
          0.1458689328478937,
          1.6735595274266766,
          0.7379430702485847,
          -0.7028689770607447,
          -0.07384558691768216,
          -1.7178452837414204,
          -1.9804215168285524,
          1.8325098041859333,
          0.4993355982667355,
          0.6159257998414503,
          -0.4792071402444821,
          0.3559177987316825,
          0.04575842620889139,
          -0.8937333342631764,
          -0.8458911423699876,
          1.2132038105440868,
          0.39373880580881887,
          1.1759919470652533,
          -2.068247462098143,
          -0.18747085870618696,
          -0.008194876832229107,
          -0.907129791010329,
          1.925063230443421,
          1.01885368544152,
          1.387438436729016,
          -1.0066955686153438,
          -0.9671187007033104,
          0.731976451138149,
          -0.9371741422340341,
          -0.768941907442198,
          0.0008091449242708666,
          0.07929553953223403,
          -0.012771443464080616,
          -1.091398000879962,
          0.6806417721703428,
          2.520321123148215,
          -1.6307687921002214,
          0.18510853667360713,
          -0.5309953436595065,
          -0.22650831604718946,
          -1.258650901561935,
          -0.29680745281406823,
          1.2488894303379945,
          0.9682519853659632,
          0.9040218291484514,
          0.4598920631590823,
          0.09824730993245537,
          2.4477757145812893,
          0.7180564035299077,
          0.0315662683405219,
          -0.22996495250392865,
          0.2690941714596704,
          -0.6618681113312663,
          2.4622984818930136,
          -0.9383539350729556,
          0.19670822651949327,
          0.332796451140872,
          -0.8804151825842351,
          1.0226176431072793,
          -0.9568652442737168,
          0.8632965925105605,
          0.3900306902768008,
          -0.9734778777546095,
          -0.03650594927790021,
          0.7698691732943076,
          -1.3788806224060008,
          1.2099361028622364,
          0.9999975718199677,
          -1.0101204359398641,
          0.5601146900966223,
          1.0474334676881487,
          0.9083479954052169,
          0.36007125845211757,
          0.7990499474418643,
          0.047683355715569184,
          0.9159390582775966,
          1.1103493975674814,
          -0.7261520132147986,
          -0.0351697431708248,
          0.8903375868875737,
          -0.832922227123769,
          1.3524321907790178,
          -2.299743297174103,
          -0.10650146403260315,
          -0.8406462819832169,
          -1.0635316643185633,
          0.7775874644776857,
          0.9727642264248069,
          -0.4108309101944478
         ]
        }
       ],
       "layout": {
        "legend": {
         "bgcolor": "#F5F6F9",
         "font": {
          "color": "#4D5663"
         }
        },
        "paper_bgcolor": "#F5F6F9",
        "plot_bgcolor": "#F5F6F9",
        "template": {
         "data": {
          "bar": [
           {
            "error_x": {
             "color": "#2a3f5f"
            },
            "error_y": {
             "color": "#2a3f5f"
            },
            "marker": {
             "line": {
              "color": "#E5ECF6",
              "width": 0.5
             },
             "pattern": {
              "fillmode": "overlay",
              "size": 10,
              "solidity": 0.2
             }
            },
            "type": "bar"
           }
          ],
          "barpolar": [
           {
            "marker": {
             "line": {
              "color": "#E5ECF6",
              "width": 0.5
             },
             "pattern": {
              "fillmode": "overlay",
              "size": 10,
              "solidity": 0.2
             }
            },
            "type": "barpolar"
           }
          ],
          "carpet": [
           {
            "aaxis": {
             "endlinecolor": "#2a3f5f",
             "gridcolor": "white",
             "linecolor": "white",
             "minorgridcolor": "white",
             "startlinecolor": "#2a3f5f"
            },
            "baxis": {
             "endlinecolor": "#2a3f5f",
             "gridcolor": "white",
             "linecolor": "white",
             "minorgridcolor": "white",
             "startlinecolor": "#2a3f5f"
            },
            "type": "carpet"
           }
          ],
          "choropleth": [
           {
            "colorbar": {
             "outlinewidth": 0,
             "ticks": ""
            },
            "type": "choropleth"
           }
          ],
          "contour": [
           {
            "colorbar": {
             "outlinewidth": 0,
             "ticks": ""
            },
            "colorscale": [
             [
              0,
              "#0d0887"
             ],
             [
              0.1111111111111111,
              "#46039f"
             ],
             [
              0.2222222222222222,
              "#7201a8"
             ],
             [
              0.3333333333333333,
              "#9c179e"
             ],
             [
              0.4444444444444444,
              "#bd3786"
             ],
             [
              0.5555555555555556,
              "#d8576b"
             ],
             [
              0.6666666666666666,
              "#ed7953"
             ],
             [
              0.7777777777777778,
              "#fb9f3a"
             ],
             [
              0.8888888888888888,
              "#fdca26"
             ],
             [
              1,
              "#f0f921"
             ]
            ],
            "type": "contour"
           }
          ],
          "contourcarpet": [
           {
            "colorbar": {
             "outlinewidth": 0,
             "ticks": ""
            },
            "type": "contourcarpet"
           }
          ],
          "heatmap": [
           {
            "colorbar": {
             "outlinewidth": 0,
             "ticks": ""
            },
            "colorscale": [
             [
              0,
              "#0d0887"
             ],
             [
              0.1111111111111111,
              "#46039f"
             ],
             [
              0.2222222222222222,
              "#7201a8"
             ],
             [
              0.3333333333333333,
              "#9c179e"
             ],
             [
              0.4444444444444444,
              "#bd3786"
             ],
             [
              0.5555555555555556,
              "#d8576b"
             ],
             [
              0.6666666666666666,
              "#ed7953"
             ],
             [
              0.7777777777777778,
              "#fb9f3a"
             ],
             [
              0.8888888888888888,
              "#fdca26"
             ],
             [
              1,
              "#f0f921"
             ]
            ],
            "type": "heatmap"
           }
          ],
          "heatmapgl": [
           {
            "colorbar": {
             "outlinewidth": 0,
             "ticks": ""
            },
            "colorscale": [
             [
              0,
              "#0d0887"
             ],
             [
              0.1111111111111111,
              "#46039f"
             ],
             [
              0.2222222222222222,
              "#7201a8"
             ],
             [
              0.3333333333333333,
              "#9c179e"
             ],
             [
              0.4444444444444444,
              "#bd3786"
             ],
             [
              0.5555555555555556,
              "#d8576b"
             ],
             [
              0.6666666666666666,
              "#ed7953"
             ],
             [
              0.7777777777777778,
              "#fb9f3a"
             ],
             [
              0.8888888888888888,
              "#fdca26"
             ],
             [
              1,
              "#f0f921"
             ]
            ],
            "type": "heatmapgl"
           }
          ],
          "histogram": [
           {
            "marker": {
             "pattern": {
              "fillmode": "overlay",
              "size": 10,
              "solidity": 0.2
             }
            },
            "type": "histogram"
           }
          ],
          "histogram2d": [
           {
            "colorbar": {
             "outlinewidth": 0,
             "ticks": ""
            },
            "colorscale": [
             [
              0,
              "#0d0887"
             ],
             [
              0.1111111111111111,
              "#46039f"
             ],
             [
              0.2222222222222222,
              "#7201a8"
             ],
             [
              0.3333333333333333,
              "#9c179e"
             ],
             [
              0.4444444444444444,
              "#bd3786"
             ],
             [
              0.5555555555555556,
              "#d8576b"
             ],
             [
              0.6666666666666666,
              "#ed7953"
             ],
             [
              0.7777777777777778,
              "#fb9f3a"
             ],
             [
              0.8888888888888888,
              "#fdca26"
             ],
             [
              1,
              "#f0f921"
             ]
            ],
            "type": "histogram2d"
           }
          ],
          "histogram2dcontour": [
           {
            "colorbar": {
             "outlinewidth": 0,
             "ticks": ""
            },
            "colorscale": [
             [
              0,
              "#0d0887"
             ],
             [
              0.1111111111111111,
              "#46039f"
             ],
             [
              0.2222222222222222,
              "#7201a8"
             ],
             [
              0.3333333333333333,
              "#9c179e"
             ],
             [
              0.4444444444444444,
              "#bd3786"
             ],
             [
              0.5555555555555556,
              "#d8576b"
             ],
             [
              0.6666666666666666,
              "#ed7953"
             ],
             [
              0.7777777777777778,
              "#fb9f3a"
             ],
             [
              0.8888888888888888,
              "#fdca26"
             ],
             [
              1,
              "#f0f921"
             ]
            ],
            "type": "histogram2dcontour"
           }
          ],
          "mesh3d": [
           {
            "colorbar": {
             "outlinewidth": 0,
             "ticks": ""
            },
            "type": "mesh3d"
           }
          ],
          "parcoords": [
           {
            "line": {
             "colorbar": {
              "outlinewidth": 0,
              "ticks": ""
             }
            },
            "type": "parcoords"
           }
          ],
          "pie": [
           {
            "automargin": true,
            "type": "pie"
           }
          ],
          "scatter": [
           {
            "fillpattern": {
             "fillmode": "overlay",
             "size": 10,
             "solidity": 0.2
            },
            "type": "scatter"
           }
          ],
          "scatter3d": [
           {
            "line": {
             "colorbar": {
              "outlinewidth": 0,
              "ticks": ""
             }
            },
            "marker": {
             "colorbar": {
              "outlinewidth": 0,
              "ticks": ""
             }
            },
            "type": "scatter3d"
           }
          ],
          "scattercarpet": [
           {
            "marker": {
             "colorbar": {
              "outlinewidth": 0,
              "ticks": ""
             }
            },
            "type": "scattercarpet"
           }
          ],
          "scattergeo": [
           {
            "marker": {
             "colorbar": {
              "outlinewidth": 0,
              "ticks": ""
             }
            },
            "type": "scattergeo"
           }
          ],
          "scattergl": [
           {
            "marker": {
             "colorbar": {
              "outlinewidth": 0,
              "ticks": ""
             }
            },
            "type": "scattergl"
           }
          ],
          "scattermapbox": [
           {
            "marker": {
             "colorbar": {
              "outlinewidth": 0,
              "ticks": ""
             }
            },
            "type": "scattermapbox"
           }
          ],
          "scatterpolar": [
           {
            "marker": {
             "colorbar": {
              "outlinewidth": 0,
              "ticks": ""
             }
            },
            "type": "scatterpolar"
           }
          ],
          "scatterpolargl": [
           {
            "marker": {
             "colorbar": {
              "outlinewidth": 0,
              "ticks": ""
             }
            },
            "type": "scatterpolargl"
           }
          ],
          "scatterternary": [
           {
            "marker": {
             "colorbar": {
              "outlinewidth": 0,
              "ticks": ""
             }
            },
            "type": "scatterternary"
           }
          ],
          "surface": [
           {
            "colorbar": {
             "outlinewidth": 0,
             "ticks": ""
            },
            "colorscale": [
             [
              0,
              "#0d0887"
             ],
             [
              0.1111111111111111,
              "#46039f"
             ],
             [
              0.2222222222222222,
              "#7201a8"
             ],
             [
              0.3333333333333333,
              "#9c179e"
             ],
             [
              0.4444444444444444,
              "#bd3786"
             ],
             [
              0.5555555555555556,
              "#d8576b"
             ],
             [
              0.6666666666666666,
              "#ed7953"
             ],
             [
              0.7777777777777778,
              "#fb9f3a"
             ],
             [
              0.8888888888888888,
              "#fdca26"
             ],
             [
              1,
              "#f0f921"
             ]
            ],
            "type": "surface"
           }
          ],
          "table": [
           {
            "cells": {
             "fill": {
              "color": "#EBF0F8"
             },
             "line": {
              "color": "white"
             }
            },
            "header": {
             "fill": {
              "color": "#C8D4E3"
             },
             "line": {
              "color": "white"
             }
            },
            "type": "table"
           }
          ]
         },
         "layout": {
          "annotationdefaults": {
           "arrowcolor": "#2a3f5f",
           "arrowhead": 0,
           "arrowwidth": 1
          },
          "autotypenumbers": "strict",
          "coloraxis": {
           "colorbar": {
            "outlinewidth": 0,
            "ticks": ""
           }
          },
          "colorscale": {
           "diverging": [
            [
             0,
             "#8e0152"
            ],
            [
             0.1,
             "#c51b7d"
            ],
            [
             0.2,
             "#de77ae"
            ],
            [
             0.3,
             "#f1b6da"
            ],
            [
             0.4,
             "#fde0ef"
            ],
            [
             0.5,
             "#f7f7f7"
            ],
            [
             0.6,
             "#e6f5d0"
            ],
            [
             0.7,
             "#b8e186"
            ],
            [
             0.8,
             "#7fbc41"
            ],
            [
             0.9,
             "#4d9221"
            ],
            [
             1,
             "#276419"
            ]
           ],
           "sequential": [
            [
             0,
             "#0d0887"
            ],
            [
             0.1111111111111111,
             "#46039f"
            ],
            [
             0.2222222222222222,
             "#7201a8"
            ],
            [
             0.3333333333333333,
             "#9c179e"
            ],
            [
             0.4444444444444444,
             "#bd3786"
            ],
            [
             0.5555555555555556,
             "#d8576b"
            ],
            [
             0.6666666666666666,
             "#ed7953"
            ],
            [
             0.7777777777777778,
             "#fb9f3a"
            ],
            [
             0.8888888888888888,
             "#fdca26"
            ],
            [
             1,
             "#f0f921"
            ]
           ],
           "sequentialminus": [
            [
             0,
             "#0d0887"
            ],
            [
             0.1111111111111111,
             "#46039f"
            ],
            [
             0.2222222222222222,
             "#7201a8"
            ],
            [
             0.3333333333333333,
             "#9c179e"
            ],
            [
             0.4444444444444444,
             "#bd3786"
            ],
            [
             0.5555555555555556,
             "#d8576b"
            ],
            [
             0.6666666666666666,
             "#ed7953"
            ],
            [
             0.7777777777777778,
             "#fb9f3a"
            ],
            [
             0.8888888888888888,
             "#fdca26"
            ],
            [
             1,
             "#f0f921"
            ]
           ]
          },
          "colorway": [
           "#636efa",
           "#EF553B",
           "#00cc96",
           "#ab63fa",
           "#FFA15A",
           "#19d3f3",
           "#FF6692",
           "#B6E880",
           "#FF97FF",
           "#FECB52"
          ],
          "font": {
           "color": "#2a3f5f"
          },
          "geo": {
           "bgcolor": "white",
           "lakecolor": "white",
           "landcolor": "#E5ECF6",
           "showlakes": true,
           "showland": true,
           "subunitcolor": "white"
          },
          "hoverlabel": {
           "align": "left"
          },
          "hovermode": "closest",
          "mapbox": {
           "style": "light"
          },
          "paper_bgcolor": "white",
          "plot_bgcolor": "#E5ECF6",
          "polar": {
           "angularaxis": {
            "gridcolor": "white",
            "linecolor": "white",
            "ticks": ""
           },
           "bgcolor": "#E5ECF6",
           "radialaxis": {
            "gridcolor": "white",
            "linecolor": "white",
            "ticks": ""
           }
          },
          "scene": {
           "xaxis": {
            "backgroundcolor": "#E5ECF6",
            "gridcolor": "white",
            "gridwidth": 2,
            "linecolor": "white",
            "showbackground": true,
            "ticks": "",
            "zerolinecolor": "white"
           },
           "yaxis": {
            "backgroundcolor": "#E5ECF6",
            "gridcolor": "white",
            "gridwidth": 2,
            "linecolor": "white",
            "showbackground": true,
            "ticks": "",
            "zerolinecolor": "white"
           },
           "zaxis": {
            "backgroundcolor": "#E5ECF6",
            "gridcolor": "white",
            "gridwidth": 2,
            "linecolor": "white",
            "showbackground": true,
            "ticks": "",
            "zerolinecolor": "white"
           }
          },
          "shapedefaults": {
           "line": {
            "color": "#2a3f5f"
           }
          },
          "ternary": {
           "aaxis": {
            "gridcolor": "white",
            "linecolor": "white",
            "ticks": ""
           },
           "baxis": {
            "gridcolor": "white",
            "linecolor": "white",
            "ticks": ""
           },
           "bgcolor": "#E5ECF6",
           "caxis": {
            "gridcolor": "white",
            "linecolor": "white",
            "ticks": ""
           }
          },
          "title": {
           "x": 0.05
          },
          "xaxis": {
           "automargin": true,
           "gridcolor": "white",
           "linecolor": "white",
           "ticks": "",
           "title": {
            "standoff": 15
           },
           "zerolinecolor": "white",
           "zerolinewidth": 2
          },
          "yaxis": {
           "automargin": true,
           "gridcolor": "white",
           "linecolor": "white",
           "ticks": "",
           "title": {
            "standoff": 15
           },
           "zerolinecolor": "white",
           "zerolinewidth": 2
          }
         }
        },
        "title": {
         "font": {
          "color": "#4D5663"
         }
        },
        "xaxis": {
         "gridcolor": "#E1E5ED",
         "showgrid": true,
         "tickfont": {
          "color": "#4D5663"
         },
         "title": {
          "font": {
           "color": "#4D5663"
          },
          "text": ""
         },
         "zerolinecolor": "#E1E5ED"
        },
        "yaxis": {
         "gridcolor": "#E1E5ED",
         "showgrid": true,
         "tickfont": {
          "color": "#4D5663"
         },
         "title": {
          "font": {
           "color": "#4D5663"
          },
          "text": ""
         },
         "zerolinecolor": "#E1E5ED"
        }
       }
      },
      "text/html": [
       "<div>                            <div id=\"0d352e2c-748e-49e4-a380-9e2d83eaecd4\" class=\"plotly-graph-div\" style=\"height:525px; width:100%;\"></div>            <script type=\"text/javascript\">                require([\"plotly\"], function(Plotly) {                    window.PLOTLYENV=window.PLOTLYENV || {};\n",
       "                    window.PLOTLYENV.BASE_URL='https://plot.ly';                                    if (document.getElementById(\"0d352e2c-748e-49e4-a380-9e2d83eaecd4\")) {                    Plotly.newPlot(                        \"0d352e2c-748e-49e4-a380-9e2d83eaecd4\",                        [{\"line\":{\"color\":\"rgba(255, 153, 51, 1.0)\",\"dash\":\"solid\",\"shape\":\"linear\",\"width\":1.3},\"marker\":{\"size\":10,\"symbol\":\"circle\"},\"mode\":\"markers\",\"name\":\"B\",\"text\":\"\",\"x\":[-0.9667706031559152,-0.2859230331659126,-0.9598172529636709,1.6994273373143356,0.6679156281878831,-0.7921386723269326,0.6677875090604823,0.18842161040285368,1.2197013733786959,0.3740932827273875,0.6763751328413449,1.0494561021545243,0.07221209523657499,-0.8791766868027052,0.12162966723876437,-0.10357449487613801,-0.5094000022078592,0.6239757340029429,-1.2449571168622398,0.3594084096499897,1.6765297679482034,0.13509423235704984,0.2705117695196429,-0.7119820402020055,-0.12907758215134288,0.08319611741499265,0.430408914483296,1.1322952435002804,-0.9607675765706225,-0.1420858459791905,0.9348025697422142,1.0557892979911945,-0.7528462987022209,-2.1819039128157867,-1.4046399567682601,0.5861898200940868,-0.2911744291241955,-0.5509183453632426,-0.1127612420803882,0.6888117831712275,-0.1364296263697243,0.3277151667010575,0.33758301287551934,0.7981383473407812,-0.5749282127701741,0.0573190971632262,2.005614222502313,-0.36084649081020853,0.12500468331404857,-1.000769118596277,-1.2581246473715653,0.8727168540806867,0.5189249974409815,0.26003727857485476,0.9036555150907073,0.2100386271152475,0.8011528441099885,-1.4767051234211053,-0.2984036629837312,-2.9439786983978737,-0.2072924708400469,-0.8970346988592104,-1.562210930137962,-1.2007698303843537,0.5761557464682605,-0.3334196477312107,-0.1475085352910442,-1.9221100669005526,-0.37263094070359437,-0.2961685288793439,0.867188512443164,0.21374050067553674,-0.7153835481111949,1.2527062398553368,1.183821901529496,2.200161640450383,1.695203262152829,-1.2996409871306696,-0.4603476887302826,-0.3357203379555168,-0.00262303954320485,1.0643942398357191,0.326733874202913,-0.21373908648877013,-1.187563138747254,1.43363810629614,-0.78225692691843,0.0820954573532839,1.0920156152206064,1.3080169562280424,-1.3269670830691598,0.6523762892146466,-0.2841860611708281,-0.06085191281269883,0.1811085429676458,0.27988653937338126,-1.5113247093622162,1.9927114711577558,-1.2115200720889219,1.730413492768943],\"y\":[-1.3188190343406079,-0.5195427305961262,3.386453821992028,-0.09705417497171678,-0.297892863845476,-0.26756095229456917,0.5700665741375269,0.44529929220723913,-0.5510229873684799,1.7463483158674042,1.0118648347277688,0.1458689328478937,1.6735595274266766,0.7379430702485847,-0.7028689770607447,-0.07384558691768216,-1.7178452837414204,-1.9804215168285524,1.8325098041859333,0.4993355982667355,0.6159257998414503,-0.4792071402444821,0.3559177987316825,0.04575842620889139,-0.8937333342631764,-0.8458911423699876,1.2132038105440868,0.39373880580881887,1.1759919470652533,-2.068247462098143,-0.18747085870618696,-0.008194876832229107,-0.907129791010329,1.925063230443421,1.01885368544152,1.387438436729016,-1.0066955686153438,-0.9671187007033104,0.731976451138149,-0.9371741422340341,-0.768941907442198,0.0008091449242708666,0.07929553953223403,-0.012771443464080616,-1.091398000879962,0.6806417721703428,2.520321123148215,-1.6307687921002214,0.18510853667360713,-0.5309953436595065,-0.22650831604718946,-1.258650901561935,-0.29680745281406823,1.2488894303379945,0.9682519853659632,0.9040218291484514,0.4598920631590823,0.09824730993245537,2.4477757145812893,0.7180564035299077,0.0315662683405219,-0.22996495250392865,0.2690941714596704,-0.6618681113312663,2.4622984818930136,-0.9383539350729556,0.19670822651949327,0.332796451140872,-0.8804151825842351,1.0226176431072793,-0.9568652442737168,0.8632965925105605,0.3900306902768008,-0.9734778777546095,-0.03650594927790021,0.7698691732943076,-1.3788806224060008,1.2099361028622364,0.9999975718199677,-1.0101204359398641,0.5601146900966223,1.0474334676881487,0.9083479954052169,0.36007125845211757,0.7990499474418643,0.047683355715569184,0.9159390582775966,1.1103493975674814,-0.7261520132147986,-0.0351697431708248,0.8903375868875737,-0.832922227123769,1.3524321907790178,-2.299743297174103,-0.10650146403260315,-0.8406462819832169,-1.0635316643185633,0.7775874644776857,0.9727642264248069,-0.4108309101944478],\"type\":\"scatter\"}],                        {\"legend\":{\"bgcolor\":\"#F5F6F9\",\"font\":{\"color\":\"#4D5663\"}},\"paper_bgcolor\":\"#F5F6F9\",\"plot_bgcolor\":\"#F5F6F9\",\"template\":{\"data\":{\"barpolar\":[{\"marker\":{\"line\":{\"color\":\"#E5ECF6\",\"width\":0.5},\"pattern\":{\"fillmode\":\"overlay\",\"size\":10,\"solidity\":0.2}},\"type\":\"barpolar\"}],\"bar\":[{\"error_x\":{\"color\":\"#2a3f5f\"},\"error_y\":{\"color\":\"#2a3f5f\"},\"marker\":{\"line\":{\"color\":\"#E5ECF6\",\"width\":0.5},\"pattern\":{\"fillmode\":\"overlay\",\"size\":10,\"solidity\":0.2}},\"type\":\"bar\"}],\"carpet\":[{\"aaxis\":{\"endlinecolor\":\"#2a3f5f\",\"gridcolor\":\"white\",\"linecolor\":\"white\",\"minorgridcolor\":\"white\",\"startlinecolor\":\"#2a3f5f\"},\"baxis\":{\"endlinecolor\":\"#2a3f5f\",\"gridcolor\":\"white\",\"linecolor\":\"white\",\"minorgridcolor\":\"white\",\"startlinecolor\":\"#2a3f5f\"},\"type\":\"carpet\"}],\"choropleth\":[{\"colorbar\":{\"outlinewidth\":0,\"ticks\":\"\"},\"type\":\"choropleth\"}],\"contourcarpet\":[{\"colorbar\":{\"outlinewidth\":0,\"ticks\":\"\"},\"type\":\"contourcarpet\"}],\"contour\":[{\"colorbar\":{\"outlinewidth\":0,\"ticks\":\"\"},\"colorscale\":[[0.0,\"#0d0887\"],[0.1111111111111111,\"#46039f\"],[0.2222222222222222,\"#7201a8\"],[0.3333333333333333,\"#9c179e\"],[0.4444444444444444,\"#bd3786\"],[0.5555555555555556,\"#d8576b\"],[0.6666666666666666,\"#ed7953\"],[0.7777777777777778,\"#fb9f3a\"],[0.8888888888888888,\"#fdca26\"],[1.0,\"#f0f921\"]],\"type\":\"contour\"}],\"heatmapgl\":[{\"colorbar\":{\"outlinewidth\":0,\"ticks\":\"\"},\"colorscale\":[[0.0,\"#0d0887\"],[0.1111111111111111,\"#46039f\"],[0.2222222222222222,\"#7201a8\"],[0.3333333333333333,\"#9c179e\"],[0.4444444444444444,\"#bd3786\"],[0.5555555555555556,\"#d8576b\"],[0.6666666666666666,\"#ed7953\"],[0.7777777777777778,\"#fb9f3a\"],[0.8888888888888888,\"#fdca26\"],[1.0,\"#f0f921\"]],\"type\":\"heatmapgl\"}],\"heatmap\":[{\"colorbar\":{\"outlinewidth\":0,\"ticks\":\"\"},\"colorscale\":[[0.0,\"#0d0887\"],[0.1111111111111111,\"#46039f\"],[0.2222222222222222,\"#7201a8\"],[0.3333333333333333,\"#9c179e\"],[0.4444444444444444,\"#bd3786\"],[0.5555555555555556,\"#d8576b\"],[0.6666666666666666,\"#ed7953\"],[0.7777777777777778,\"#fb9f3a\"],[0.8888888888888888,\"#fdca26\"],[1.0,\"#f0f921\"]],\"type\":\"heatmap\"}],\"histogram2dcontour\":[{\"colorbar\":{\"outlinewidth\":0,\"ticks\":\"\"},\"colorscale\":[[0.0,\"#0d0887\"],[0.1111111111111111,\"#46039f\"],[0.2222222222222222,\"#7201a8\"],[0.3333333333333333,\"#9c179e\"],[0.4444444444444444,\"#bd3786\"],[0.5555555555555556,\"#d8576b\"],[0.6666666666666666,\"#ed7953\"],[0.7777777777777778,\"#fb9f3a\"],[0.8888888888888888,\"#fdca26\"],[1.0,\"#f0f921\"]],\"type\":\"histogram2dcontour\"}],\"histogram2d\":[{\"colorbar\":{\"outlinewidth\":0,\"ticks\":\"\"},\"colorscale\":[[0.0,\"#0d0887\"],[0.1111111111111111,\"#46039f\"],[0.2222222222222222,\"#7201a8\"],[0.3333333333333333,\"#9c179e\"],[0.4444444444444444,\"#bd3786\"],[0.5555555555555556,\"#d8576b\"],[0.6666666666666666,\"#ed7953\"],[0.7777777777777778,\"#fb9f3a\"],[0.8888888888888888,\"#fdca26\"],[1.0,\"#f0f921\"]],\"type\":\"histogram2d\"}],\"histogram\":[{\"marker\":{\"pattern\":{\"fillmode\":\"overlay\",\"size\":10,\"solidity\":0.2}},\"type\":\"histogram\"}],\"mesh3d\":[{\"colorbar\":{\"outlinewidth\":0,\"ticks\":\"\"},\"type\":\"mesh3d\"}],\"parcoords\":[{\"line\":{\"colorbar\":{\"outlinewidth\":0,\"ticks\":\"\"}},\"type\":\"parcoords\"}],\"pie\":[{\"automargin\":true,\"type\":\"pie\"}],\"scatter3d\":[{\"line\":{\"colorbar\":{\"outlinewidth\":0,\"ticks\":\"\"}},\"marker\":{\"colorbar\":{\"outlinewidth\":0,\"ticks\":\"\"}},\"type\":\"scatter3d\"}],\"scattercarpet\":[{\"marker\":{\"colorbar\":{\"outlinewidth\":0,\"ticks\":\"\"}},\"type\":\"scattercarpet\"}],\"scattergeo\":[{\"marker\":{\"colorbar\":{\"outlinewidth\":0,\"ticks\":\"\"}},\"type\":\"scattergeo\"}],\"scattergl\":[{\"marker\":{\"colorbar\":{\"outlinewidth\":0,\"ticks\":\"\"}},\"type\":\"scattergl\"}],\"scattermapbox\":[{\"marker\":{\"colorbar\":{\"outlinewidth\":0,\"ticks\":\"\"}},\"type\":\"scattermapbox\"}],\"scatterpolargl\":[{\"marker\":{\"colorbar\":{\"outlinewidth\":0,\"ticks\":\"\"}},\"type\":\"scatterpolargl\"}],\"scatterpolar\":[{\"marker\":{\"colorbar\":{\"outlinewidth\":0,\"ticks\":\"\"}},\"type\":\"scatterpolar\"}],\"scatter\":[{\"fillpattern\":{\"fillmode\":\"overlay\",\"size\":10,\"solidity\":0.2},\"type\":\"scatter\"}],\"scatterternary\":[{\"marker\":{\"colorbar\":{\"outlinewidth\":0,\"ticks\":\"\"}},\"type\":\"scatterternary\"}],\"surface\":[{\"colorbar\":{\"outlinewidth\":0,\"ticks\":\"\"},\"colorscale\":[[0.0,\"#0d0887\"],[0.1111111111111111,\"#46039f\"],[0.2222222222222222,\"#7201a8\"],[0.3333333333333333,\"#9c179e\"],[0.4444444444444444,\"#bd3786\"],[0.5555555555555556,\"#d8576b\"],[0.6666666666666666,\"#ed7953\"],[0.7777777777777778,\"#fb9f3a\"],[0.8888888888888888,\"#fdca26\"],[1.0,\"#f0f921\"]],\"type\":\"surface\"}],\"table\":[{\"cells\":{\"fill\":{\"color\":\"#EBF0F8\"},\"line\":{\"color\":\"white\"}},\"header\":{\"fill\":{\"color\":\"#C8D4E3\"},\"line\":{\"color\":\"white\"}},\"type\":\"table\"}]},\"layout\":{\"annotationdefaults\":{\"arrowcolor\":\"#2a3f5f\",\"arrowhead\":0,\"arrowwidth\":1},\"autotypenumbers\":\"strict\",\"coloraxis\":{\"colorbar\":{\"outlinewidth\":0,\"ticks\":\"\"}},\"colorscale\":{\"diverging\":[[0,\"#8e0152\"],[0.1,\"#c51b7d\"],[0.2,\"#de77ae\"],[0.3,\"#f1b6da\"],[0.4,\"#fde0ef\"],[0.5,\"#f7f7f7\"],[0.6,\"#e6f5d0\"],[0.7,\"#b8e186\"],[0.8,\"#7fbc41\"],[0.9,\"#4d9221\"],[1,\"#276419\"]],\"sequential\":[[0.0,\"#0d0887\"],[0.1111111111111111,\"#46039f\"],[0.2222222222222222,\"#7201a8\"],[0.3333333333333333,\"#9c179e\"],[0.4444444444444444,\"#bd3786\"],[0.5555555555555556,\"#d8576b\"],[0.6666666666666666,\"#ed7953\"],[0.7777777777777778,\"#fb9f3a\"],[0.8888888888888888,\"#fdca26\"],[1.0,\"#f0f921\"]],\"sequentialminus\":[[0.0,\"#0d0887\"],[0.1111111111111111,\"#46039f\"],[0.2222222222222222,\"#7201a8\"],[0.3333333333333333,\"#9c179e\"],[0.4444444444444444,\"#bd3786\"],[0.5555555555555556,\"#d8576b\"],[0.6666666666666666,\"#ed7953\"],[0.7777777777777778,\"#fb9f3a\"],[0.8888888888888888,\"#fdca26\"],[1.0,\"#f0f921\"]]},\"colorway\":[\"#636efa\",\"#EF553B\",\"#00cc96\",\"#ab63fa\",\"#FFA15A\",\"#19d3f3\",\"#FF6692\",\"#B6E880\",\"#FF97FF\",\"#FECB52\"],\"font\":{\"color\":\"#2a3f5f\"},\"geo\":{\"bgcolor\":\"white\",\"lakecolor\":\"white\",\"landcolor\":\"#E5ECF6\",\"showlakes\":true,\"showland\":true,\"subunitcolor\":\"white\"},\"hoverlabel\":{\"align\":\"left\"},\"hovermode\":\"closest\",\"mapbox\":{\"style\":\"light\"},\"paper_bgcolor\":\"white\",\"plot_bgcolor\":\"#E5ECF6\",\"polar\":{\"angularaxis\":{\"gridcolor\":\"white\",\"linecolor\":\"white\",\"ticks\":\"\"},\"bgcolor\":\"#E5ECF6\",\"radialaxis\":{\"gridcolor\":\"white\",\"linecolor\":\"white\",\"ticks\":\"\"}},\"scene\":{\"xaxis\":{\"backgroundcolor\":\"#E5ECF6\",\"gridcolor\":\"white\",\"gridwidth\":2,\"linecolor\":\"white\",\"showbackground\":true,\"ticks\":\"\",\"zerolinecolor\":\"white\"},\"yaxis\":{\"backgroundcolor\":\"#E5ECF6\",\"gridcolor\":\"white\",\"gridwidth\":2,\"linecolor\":\"white\",\"showbackground\":true,\"ticks\":\"\",\"zerolinecolor\":\"white\"},\"zaxis\":{\"backgroundcolor\":\"#E5ECF6\",\"gridcolor\":\"white\",\"gridwidth\":2,\"linecolor\":\"white\",\"showbackground\":true,\"ticks\":\"\",\"zerolinecolor\":\"white\"}},\"shapedefaults\":{\"line\":{\"color\":\"#2a3f5f\"}},\"ternary\":{\"aaxis\":{\"gridcolor\":\"white\",\"linecolor\":\"white\",\"ticks\":\"\"},\"baxis\":{\"gridcolor\":\"white\",\"linecolor\":\"white\",\"ticks\":\"\"},\"bgcolor\":\"#E5ECF6\",\"caxis\":{\"gridcolor\":\"white\",\"linecolor\":\"white\",\"ticks\":\"\"}},\"title\":{\"x\":0.05},\"xaxis\":{\"automargin\":true,\"gridcolor\":\"white\",\"linecolor\":\"white\",\"ticks\":\"\",\"title\":{\"standoff\":15},\"zerolinecolor\":\"white\",\"zerolinewidth\":2},\"yaxis\":{\"automargin\":true,\"gridcolor\":\"white\",\"linecolor\":\"white\",\"ticks\":\"\",\"title\":{\"standoff\":15},\"zerolinecolor\":\"white\",\"zerolinewidth\":2}}},\"title\":{\"font\":{\"color\":\"#4D5663\"}},\"xaxis\":{\"gridcolor\":\"#E1E5ED\",\"showgrid\":true,\"tickfont\":{\"color\":\"#4D5663\"},\"title\":{\"font\":{\"color\":\"#4D5663\"},\"text\":\"\"},\"zerolinecolor\":\"#E1E5ED\"},\"yaxis\":{\"gridcolor\":\"#E1E5ED\",\"showgrid\":true,\"tickfont\":{\"color\":\"#4D5663\"},\"title\":{\"font\":{\"color\":\"#4D5663\"},\"text\":\"\"},\"zerolinecolor\":\"#E1E5ED\"}},                        {\"showLink\": true, \"linkText\": \"Export to plot.ly\", \"plotlyServerURL\": \"https://plot.ly\", \"responsive\": true}                    ).then(function(){\n",
       "                            \n",
       "var gd = document.getElementById('0d352e2c-748e-49e4-a380-9e2d83eaecd4');\n",
       "var x = new MutationObserver(function (mutations, observer) {{\n",
       "        var display = window.getComputedStyle(gd).display;\n",
       "        if (!display || display === 'none') {{\n",
       "            console.log([gd, 'removed!']);\n",
       "            Plotly.purge(gd);\n",
       "            observer.disconnect();\n",
       "        }}\n",
       "}});\n",
       "\n",
       "// Listen for the removal of the full notebook cells\n",
       "var notebookContainer = gd.closest('#notebook-container');\n",
       "if (notebookContainer) {{\n",
       "    x.observe(notebookContainer, {childList: true});\n",
       "}}\n",
       "\n",
       "// Listen for the clearing of the current output cell\n",
       "var outputEl = gd.closest('.output');\n",
       "if (outputEl) {{\n",
       "    x.observe(outputEl, {childList: true});\n",
       "}}\n",
       "\n",
       "                        })                };                });            </script>        </div>"
      ]
     },
     "metadata": {},
     "output_type": "display_data"
    }
   ],
   "source": [
    "df.iplot(kind='scatter',x='A',y='B',mode='markers',size=10)"
   ]
  },
  {
   "cell_type": "markdown",
   "id": "1197b64d",
   "metadata": {},
   "source": [
    "### Bar Plots"
   ]
  },
  {
   "cell_type": "code",
   "execution_count": 13,
   "id": "89d9e4fb",
   "metadata": {},
   "outputs": [
    {
     "data": {
      "application/vnd.plotly.v1+json": {
       "config": {
        "linkText": "Export to plot.ly",
        "plotlyServerURL": "https://plot.ly",
        "showLink": true
       },
       "data": [
        {
         "marker": {
          "color": "rgba(255, 153, 51, 0.6)",
          "line": {
           "color": "rgba(255, 153, 51, 1.0)",
           "width": 1
          }
         },
         "name": "Values",
         "orientation": "v",
         "text": "",
         "type": "bar",
         "x": [
          "A",
          "B",
          "C"
         ],
         "y": [
          32,
          43,
          50
         ]
        }
       ],
       "layout": {
        "legend": {
         "bgcolor": "#F5F6F9",
         "font": {
          "color": "#4D5663"
         }
        },
        "paper_bgcolor": "#F5F6F9",
        "plot_bgcolor": "#F5F6F9",
        "template": {
         "data": {
          "bar": [
           {
            "error_x": {
             "color": "#2a3f5f"
            },
            "error_y": {
             "color": "#2a3f5f"
            },
            "marker": {
             "line": {
              "color": "#E5ECF6",
              "width": 0.5
             },
             "pattern": {
              "fillmode": "overlay",
              "size": 10,
              "solidity": 0.2
             }
            },
            "type": "bar"
           }
          ],
          "barpolar": [
           {
            "marker": {
             "line": {
              "color": "#E5ECF6",
              "width": 0.5
             },
             "pattern": {
              "fillmode": "overlay",
              "size": 10,
              "solidity": 0.2
             }
            },
            "type": "barpolar"
           }
          ],
          "carpet": [
           {
            "aaxis": {
             "endlinecolor": "#2a3f5f",
             "gridcolor": "white",
             "linecolor": "white",
             "minorgridcolor": "white",
             "startlinecolor": "#2a3f5f"
            },
            "baxis": {
             "endlinecolor": "#2a3f5f",
             "gridcolor": "white",
             "linecolor": "white",
             "minorgridcolor": "white",
             "startlinecolor": "#2a3f5f"
            },
            "type": "carpet"
           }
          ],
          "choropleth": [
           {
            "colorbar": {
             "outlinewidth": 0,
             "ticks": ""
            },
            "type": "choropleth"
           }
          ],
          "contour": [
           {
            "colorbar": {
             "outlinewidth": 0,
             "ticks": ""
            },
            "colorscale": [
             [
              0,
              "#0d0887"
             ],
             [
              0.1111111111111111,
              "#46039f"
             ],
             [
              0.2222222222222222,
              "#7201a8"
             ],
             [
              0.3333333333333333,
              "#9c179e"
             ],
             [
              0.4444444444444444,
              "#bd3786"
             ],
             [
              0.5555555555555556,
              "#d8576b"
             ],
             [
              0.6666666666666666,
              "#ed7953"
             ],
             [
              0.7777777777777778,
              "#fb9f3a"
             ],
             [
              0.8888888888888888,
              "#fdca26"
             ],
             [
              1,
              "#f0f921"
             ]
            ],
            "type": "contour"
           }
          ],
          "contourcarpet": [
           {
            "colorbar": {
             "outlinewidth": 0,
             "ticks": ""
            },
            "type": "contourcarpet"
           }
          ],
          "heatmap": [
           {
            "colorbar": {
             "outlinewidth": 0,
             "ticks": ""
            },
            "colorscale": [
             [
              0,
              "#0d0887"
             ],
             [
              0.1111111111111111,
              "#46039f"
             ],
             [
              0.2222222222222222,
              "#7201a8"
             ],
             [
              0.3333333333333333,
              "#9c179e"
             ],
             [
              0.4444444444444444,
              "#bd3786"
             ],
             [
              0.5555555555555556,
              "#d8576b"
             ],
             [
              0.6666666666666666,
              "#ed7953"
             ],
             [
              0.7777777777777778,
              "#fb9f3a"
             ],
             [
              0.8888888888888888,
              "#fdca26"
             ],
             [
              1,
              "#f0f921"
             ]
            ],
            "type": "heatmap"
           }
          ],
          "heatmapgl": [
           {
            "colorbar": {
             "outlinewidth": 0,
             "ticks": ""
            },
            "colorscale": [
             [
              0,
              "#0d0887"
             ],
             [
              0.1111111111111111,
              "#46039f"
             ],
             [
              0.2222222222222222,
              "#7201a8"
             ],
             [
              0.3333333333333333,
              "#9c179e"
             ],
             [
              0.4444444444444444,
              "#bd3786"
             ],
             [
              0.5555555555555556,
              "#d8576b"
             ],
             [
              0.6666666666666666,
              "#ed7953"
             ],
             [
              0.7777777777777778,
              "#fb9f3a"
             ],
             [
              0.8888888888888888,
              "#fdca26"
             ],
             [
              1,
              "#f0f921"
             ]
            ],
            "type": "heatmapgl"
           }
          ],
          "histogram": [
           {
            "marker": {
             "pattern": {
              "fillmode": "overlay",
              "size": 10,
              "solidity": 0.2
             }
            },
            "type": "histogram"
           }
          ],
          "histogram2d": [
           {
            "colorbar": {
             "outlinewidth": 0,
             "ticks": ""
            },
            "colorscale": [
             [
              0,
              "#0d0887"
             ],
             [
              0.1111111111111111,
              "#46039f"
             ],
             [
              0.2222222222222222,
              "#7201a8"
             ],
             [
              0.3333333333333333,
              "#9c179e"
             ],
             [
              0.4444444444444444,
              "#bd3786"
             ],
             [
              0.5555555555555556,
              "#d8576b"
             ],
             [
              0.6666666666666666,
              "#ed7953"
             ],
             [
              0.7777777777777778,
              "#fb9f3a"
             ],
             [
              0.8888888888888888,
              "#fdca26"
             ],
             [
              1,
              "#f0f921"
             ]
            ],
            "type": "histogram2d"
           }
          ],
          "histogram2dcontour": [
           {
            "colorbar": {
             "outlinewidth": 0,
             "ticks": ""
            },
            "colorscale": [
             [
              0,
              "#0d0887"
             ],
             [
              0.1111111111111111,
              "#46039f"
             ],
             [
              0.2222222222222222,
              "#7201a8"
             ],
             [
              0.3333333333333333,
              "#9c179e"
             ],
             [
              0.4444444444444444,
              "#bd3786"
             ],
             [
              0.5555555555555556,
              "#d8576b"
             ],
             [
              0.6666666666666666,
              "#ed7953"
             ],
             [
              0.7777777777777778,
              "#fb9f3a"
             ],
             [
              0.8888888888888888,
              "#fdca26"
             ],
             [
              1,
              "#f0f921"
             ]
            ],
            "type": "histogram2dcontour"
           }
          ],
          "mesh3d": [
           {
            "colorbar": {
             "outlinewidth": 0,
             "ticks": ""
            },
            "type": "mesh3d"
           }
          ],
          "parcoords": [
           {
            "line": {
             "colorbar": {
              "outlinewidth": 0,
              "ticks": ""
             }
            },
            "type": "parcoords"
           }
          ],
          "pie": [
           {
            "automargin": true,
            "type": "pie"
           }
          ],
          "scatter": [
           {
            "fillpattern": {
             "fillmode": "overlay",
             "size": 10,
             "solidity": 0.2
            },
            "type": "scatter"
           }
          ],
          "scatter3d": [
           {
            "line": {
             "colorbar": {
              "outlinewidth": 0,
              "ticks": ""
             }
            },
            "marker": {
             "colorbar": {
              "outlinewidth": 0,
              "ticks": ""
             }
            },
            "type": "scatter3d"
           }
          ],
          "scattercarpet": [
           {
            "marker": {
             "colorbar": {
              "outlinewidth": 0,
              "ticks": ""
             }
            },
            "type": "scattercarpet"
           }
          ],
          "scattergeo": [
           {
            "marker": {
             "colorbar": {
              "outlinewidth": 0,
              "ticks": ""
             }
            },
            "type": "scattergeo"
           }
          ],
          "scattergl": [
           {
            "marker": {
             "colorbar": {
              "outlinewidth": 0,
              "ticks": ""
             }
            },
            "type": "scattergl"
           }
          ],
          "scattermapbox": [
           {
            "marker": {
             "colorbar": {
              "outlinewidth": 0,
              "ticks": ""
             }
            },
            "type": "scattermapbox"
           }
          ],
          "scatterpolar": [
           {
            "marker": {
             "colorbar": {
              "outlinewidth": 0,
              "ticks": ""
             }
            },
            "type": "scatterpolar"
           }
          ],
          "scatterpolargl": [
           {
            "marker": {
             "colorbar": {
              "outlinewidth": 0,
              "ticks": ""
             }
            },
            "type": "scatterpolargl"
           }
          ],
          "scatterternary": [
           {
            "marker": {
             "colorbar": {
              "outlinewidth": 0,
              "ticks": ""
             }
            },
            "type": "scatterternary"
           }
          ],
          "surface": [
           {
            "colorbar": {
             "outlinewidth": 0,
             "ticks": ""
            },
            "colorscale": [
             [
              0,
              "#0d0887"
             ],
             [
              0.1111111111111111,
              "#46039f"
             ],
             [
              0.2222222222222222,
              "#7201a8"
             ],
             [
              0.3333333333333333,
              "#9c179e"
             ],
             [
              0.4444444444444444,
              "#bd3786"
             ],
             [
              0.5555555555555556,
              "#d8576b"
             ],
             [
              0.6666666666666666,
              "#ed7953"
             ],
             [
              0.7777777777777778,
              "#fb9f3a"
             ],
             [
              0.8888888888888888,
              "#fdca26"
             ],
             [
              1,
              "#f0f921"
             ]
            ],
            "type": "surface"
           }
          ],
          "table": [
           {
            "cells": {
             "fill": {
              "color": "#EBF0F8"
             },
             "line": {
              "color": "white"
             }
            },
            "header": {
             "fill": {
              "color": "#C8D4E3"
             },
             "line": {
              "color": "white"
             }
            },
            "type": "table"
           }
          ]
         },
         "layout": {
          "annotationdefaults": {
           "arrowcolor": "#2a3f5f",
           "arrowhead": 0,
           "arrowwidth": 1
          },
          "autotypenumbers": "strict",
          "coloraxis": {
           "colorbar": {
            "outlinewidth": 0,
            "ticks": ""
           }
          },
          "colorscale": {
           "diverging": [
            [
             0,
             "#8e0152"
            ],
            [
             0.1,
             "#c51b7d"
            ],
            [
             0.2,
             "#de77ae"
            ],
            [
             0.3,
             "#f1b6da"
            ],
            [
             0.4,
             "#fde0ef"
            ],
            [
             0.5,
             "#f7f7f7"
            ],
            [
             0.6,
             "#e6f5d0"
            ],
            [
             0.7,
             "#b8e186"
            ],
            [
             0.8,
             "#7fbc41"
            ],
            [
             0.9,
             "#4d9221"
            ],
            [
             1,
             "#276419"
            ]
           ],
           "sequential": [
            [
             0,
             "#0d0887"
            ],
            [
             0.1111111111111111,
             "#46039f"
            ],
            [
             0.2222222222222222,
             "#7201a8"
            ],
            [
             0.3333333333333333,
             "#9c179e"
            ],
            [
             0.4444444444444444,
             "#bd3786"
            ],
            [
             0.5555555555555556,
             "#d8576b"
            ],
            [
             0.6666666666666666,
             "#ed7953"
            ],
            [
             0.7777777777777778,
             "#fb9f3a"
            ],
            [
             0.8888888888888888,
             "#fdca26"
            ],
            [
             1,
             "#f0f921"
            ]
           ],
           "sequentialminus": [
            [
             0,
             "#0d0887"
            ],
            [
             0.1111111111111111,
             "#46039f"
            ],
            [
             0.2222222222222222,
             "#7201a8"
            ],
            [
             0.3333333333333333,
             "#9c179e"
            ],
            [
             0.4444444444444444,
             "#bd3786"
            ],
            [
             0.5555555555555556,
             "#d8576b"
            ],
            [
             0.6666666666666666,
             "#ed7953"
            ],
            [
             0.7777777777777778,
             "#fb9f3a"
            ],
            [
             0.8888888888888888,
             "#fdca26"
            ],
            [
             1,
             "#f0f921"
            ]
           ]
          },
          "colorway": [
           "#636efa",
           "#EF553B",
           "#00cc96",
           "#ab63fa",
           "#FFA15A",
           "#19d3f3",
           "#FF6692",
           "#B6E880",
           "#FF97FF",
           "#FECB52"
          ],
          "font": {
           "color": "#2a3f5f"
          },
          "geo": {
           "bgcolor": "white",
           "lakecolor": "white",
           "landcolor": "#E5ECF6",
           "showlakes": true,
           "showland": true,
           "subunitcolor": "white"
          },
          "hoverlabel": {
           "align": "left"
          },
          "hovermode": "closest",
          "mapbox": {
           "style": "light"
          },
          "paper_bgcolor": "white",
          "plot_bgcolor": "#E5ECF6",
          "polar": {
           "angularaxis": {
            "gridcolor": "white",
            "linecolor": "white",
            "ticks": ""
           },
           "bgcolor": "#E5ECF6",
           "radialaxis": {
            "gridcolor": "white",
            "linecolor": "white",
            "ticks": ""
           }
          },
          "scene": {
           "xaxis": {
            "backgroundcolor": "#E5ECF6",
            "gridcolor": "white",
            "gridwidth": 2,
            "linecolor": "white",
            "showbackground": true,
            "ticks": "",
            "zerolinecolor": "white"
           },
           "yaxis": {
            "backgroundcolor": "#E5ECF6",
            "gridcolor": "white",
            "gridwidth": 2,
            "linecolor": "white",
            "showbackground": true,
            "ticks": "",
            "zerolinecolor": "white"
           },
           "zaxis": {
            "backgroundcolor": "#E5ECF6",
            "gridcolor": "white",
            "gridwidth": 2,
            "linecolor": "white",
            "showbackground": true,
            "ticks": "",
            "zerolinecolor": "white"
           }
          },
          "shapedefaults": {
           "line": {
            "color": "#2a3f5f"
           }
          },
          "ternary": {
           "aaxis": {
            "gridcolor": "white",
            "linecolor": "white",
            "ticks": ""
           },
           "baxis": {
            "gridcolor": "white",
            "linecolor": "white",
            "ticks": ""
           },
           "bgcolor": "#E5ECF6",
           "caxis": {
            "gridcolor": "white",
            "linecolor": "white",
            "ticks": ""
           }
          },
          "title": {
           "x": 0.05
          },
          "xaxis": {
           "automargin": true,
           "gridcolor": "white",
           "linecolor": "white",
           "ticks": "",
           "title": {
            "standoff": 15
           },
           "zerolinecolor": "white",
           "zerolinewidth": 2
          },
          "yaxis": {
           "automargin": true,
           "gridcolor": "white",
           "linecolor": "white",
           "ticks": "",
           "title": {
            "standoff": 15
           },
           "zerolinecolor": "white",
           "zerolinewidth": 2
          }
         }
        },
        "title": {
         "font": {
          "color": "#4D5663"
         }
        },
        "xaxis": {
         "gridcolor": "#E1E5ED",
         "showgrid": true,
         "tickfont": {
          "color": "#4D5663"
         },
         "title": {
          "font": {
           "color": "#4D5663"
          },
          "text": ""
         },
         "zerolinecolor": "#E1E5ED"
        },
        "yaxis": {
         "gridcolor": "#E1E5ED",
         "showgrid": true,
         "tickfont": {
          "color": "#4D5663"
         },
         "title": {
          "font": {
           "color": "#4D5663"
          },
          "text": ""
         },
         "zerolinecolor": "#E1E5ED"
        }
       }
      },
      "text/html": [
       "<div>                            <div id=\"dc01662b-651c-4216-97a7-a258a7eaabfd\" class=\"plotly-graph-div\" style=\"height:525px; width:100%;\"></div>            <script type=\"text/javascript\">                require([\"plotly\"], function(Plotly) {                    window.PLOTLYENV=window.PLOTLYENV || {};\n",
       "                    window.PLOTLYENV.BASE_URL='https://plot.ly';                                    if (document.getElementById(\"dc01662b-651c-4216-97a7-a258a7eaabfd\")) {                    Plotly.newPlot(                        \"dc01662b-651c-4216-97a7-a258a7eaabfd\",                        [{\"marker\":{\"color\":\"rgba(255, 153, 51, 0.6)\",\"line\":{\"color\":\"rgba(255, 153, 51, 1.0)\",\"width\":1}},\"name\":\"Values\",\"orientation\":\"v\",\"text\":\"\",\"x\":[\"A\",\"B\",\"C\"],\"y\":[32,43,50],\"type\":\"bar\"}],                        {\"legend\":{\"bgcolor\":\"#F5F6F9\",\"font\":{\"color\":\"#4D5663\"}},\"paper_bgcolor\":\"#F5F6F9\",\"plot_bgcolor\":\"#F5F6F9\",\"template\":{\"data\":{\"barpolar\":[{\"marker\":{\"line\":{\"color\":\"#E5ECF6\",\"width\":0.5},\"pattern\":{\"fillmode\":\"overlay\",\"size\":10,\"solidity\":0.2}},\"type\":\"barpolar\"}],\"bar\":[{\"error_x\":{\"color\":\"#2a3f5f\"},\"error_y\":{\"color\":\"#2a3f5f\"},\"marker\":{\"line\":{\"color\":\"#E5ECF6\",\"width\":0.5},\"pattern\":{\"fillmode\":\"overlay\",\"size\":10,\"solidity\":0.2}},\"type\":\"bar\"}],\"carpet\":[{\"aaxis\":{\"endlinecolor\":\"#2a3f5f\",\"gridcolor\":\"white\",\"linecolor\":\"white\",\"minorgridcolor\":\"white\",\"startlinecolor\":\"#2a3f5f\"},\"baxis\":{\"endlinecolor\":\"#2a3f5f\",\"gridcolor\":\"white\",\"linecolor\":\"white\",\"minorgridcolor\":\"white\",\"startlinecolor\":\"#2a3f5f\"},\"type\":\"carpet\"}],\"choropleth\":[{\"colorbar\":{\"outlinewidth\":0,\"ticks\":\"\"},\"type\":\"choropleth\"}],\"contourcarpet\":[{\"colorbar\":{\"outlinewidth\":0,\"ticks\":\"\"},\"type\":\"contourcarpet\"}],\"contour\":[{\"colorbar\":{\"outlinewidth\":0,\"ticks\":\"\"},\"colorscale\":[[0.0,\"#0d0887\"],[0.1111111111111111,\"#46039f\"],[0.2222222222222222,\"#7201a8\"],[0.3333333333333333,\"#9c179e\"],[0.4444444444444444,\"#bd3786\"],[0.5555555555555556,\"#d8576b\"],[0.6666666666666666,\"#ed7953\"],[0.7777777777777778,\"#fb9f3a\"],[0.8888888888888888,\"#fdca26\"],[1.0,\"#f0f921\"]],\"type\":\"contour\"}],\"heatmapgl\":[{\"colorbar\":{\"outlinewidth\":0,\"ticks\":\"\"},\"colorscale\":[[0.0,\"#0d0887\"],[0.1111111111111111,\"#46039f\"],[0.2222222222222222,\"#7201a8\"],[0.3333333333333333,\"#9c179e\"],[0.4444444444444444,\"#bd3786\"],[0.5555555555555556,\"#d8576b\"],[0.6666666666666666,\"#ed7953\"],[0.7777777777777778,\"#fb9f3a\"],[0.8888888888888888,\"#fdca26\"],[1.0,\"#f0f921\"]],\"type\":\"heatmapgl\"}],\"heatmap\":[{\"colorbar\":{\"outlinewidth\":0,\"ticks\":\"\"},\"colorscale\":[[0.0,\"#0d0887\"],[0.1111111111111111,\"#46039f\"],[0.2222222222222222,\"#7201a8\"],[0.3333333333333333,\"#9c179e\"],[0.4444444444444444,\"#bd3786\"],[0.5555555555555556,\"#d8576b\"],[0.6666666666666666,\"#ed7953\"],[0.7777777777777778,\"#fb9f3a\"],[0.8888888888888888,\"#fdca26\"],[1.0,\"#f0f921\"]],\"type\":\"heatmap\"}],\"histogram2dcontour\":[{\"colorbar\":{\"outlinewidth\":0,\"ticks\":\"\"},\"colorscale\":[[0.0,\"#0d0887\"],[0.1111111111111111,\"#46039f\"],[0.2222222222222222,\"#7201a8\"],[0.3333333333333333,\"#9c179e\"],[0.4444444444444444,\"#bd3786\"],[0.5555555555555556,\"#d8576b\"],[0.6666666666666666,\"#ed7953\"],[0.7777777777777778,\"#fb9f3a\"],[0.8888888888888888,\"#fdca26\"],[1.0,\"#f0f921\"]],\"type\":\"histogram2dcontour\"}],\"histogram2d\":[{\"colorbar\":{\"outlinewidth\":0,\"ticks\":\"\"},\"colorscale\":[[0.0,\"#0d0887\"],[0.1111111111111111,\"#46039f\"],[0.2222222222222222,\"#7201a8\"],[0.3333333333333333,\"#9c179e\"],[0.4444444444444444,\"#bd3786\"],[0.5555555555555556,\"#d8576b\"],[0.6666666666666666,\"#ed7953\"],[0.7777777777777778,\"#fb9f3a\"],[0.8888888888888888,\"#fdca26\"],[1.0,\"#f0f921\"]],\"type\":\"histogram2d\"}],\"histogram\":[{\"marker\":{\"pattern\":{\"fillmode\":\"overlay\",\"size\":10,\"solidity\":0.2}},\"type\":\"histogram\"}],\"mesh3d\":[{\"colorbar\":{\"outlinewidth\":0,\"ticks\":\"\"},\"type\":\"mesh3d\"}],\"parcoords\":[{\"line\":{\"colorbar\":{\"outlinewidth\":0,\"ticks\":\"\"}},\"type\":\"parcoords\"}],\"pie\":[{\"automargin\":true,\"type\":\"pie\"}],\"scatter3d\":[{\"line\":{\"colorbar\":{\"outlinewidth\":0,\"ticks\":\"\"}},\"marker\":{\"colorbar\":{\"outlinewidth\":0,\"ticks\":\"\"}},\"type\":\"scatter3d\"}],\"scattercarpet\":[{\"marker\":{\"colorbar\":{\"outlinewidth\":0,\"ticks\":\"\"}},\"type\":\"scattercarpet\"}],\"scattergeo\":[{\"marker\":{\"colorbar\":{\"outlinewidth\":0,\"ticks\":\"\"}},\"type\":\"scattergeo\"}],\"scattergl\":[{\"marker\":{\"colorbar\":{\"outlinewidth\":0,\"ticks\":\"\"}},\"type\":\"scattergl\"}],\"scattermapbox\":[{\"marker\":{\"colorbar\":{\"outlinewidth\":0,\"ticks\":\"\"}},\"type\":\"scattermapbox\"}],\"scatterpolargl\":[{\"marker\":{\"colorbar\":{\"outlinewidth\":0,\"ticks\":\"\"}},\"type\":\"scatterpolargl\"}],\"scatterpolar\":[{\"marker\":{\"colorbar\":{\"outlinewidth\":0,\"ticks\":\"\"}},\"type\":\"scatterpolar\"}],\"scatter\":[{\"fillpattern\":{\"fillmode\":\"overlay\",\"size\":10,\"solidity\":0.2},\"type\":\"scatter\"}],\"scatterternary\":[{\"marker\":{\"colorbar\":{\"outlinewidth\":0,\"ticks\":\"\"}},\"type\":\"scatterternary\"}],\"surface\":[{\"colorbar\":{\"outlinewidth\":0,\"ticks\":\"\"},\"colorscale\":[[0.0,\"#0d0887\"],[0.1111111111111111,\"#46039f\"],[0.2222222222222222,\"#7201a8\"],[0.3333333333333333,\"#9c179e\"],[0.4444444444444444,\"#bd3786\"],[0.5555555555555556,\"#d8576b\"],[0.6666666666666666,\"#ed7953\"],[0.7777777777777778,\"#fb9f3a\"],[0.8888888888888888,\"#fdca26\"],[1.0,\"#f0f921\"]],\"type\":\"surface\"}],\"table\":[{\"cells\":{\"fill\":{\"color\":\"#EBF0F8\"},\"line\":{\"color\":\"white\"}},\"header\":{\"fill\":{\"color\":\"#C8D4E3\"},\"line\":{\"color\":\"white\"}},\"type\":\"table\"}]},\"layout\":{\"annotationdefaults\":{\"arrowcolor\":\"#2a3f5f\",\"arrowhead\":0,\"arrowwidth\":1},\"autotypenumbers\":\"strict\",\"coloraxis\":{\"colorbar\":{\"outlinewidth\":0,\"ticks\":\"\"}},\"colorscale\":{\"diverging\":[[0,\"#8e0152\"],[0.1,\"#c51b7d\"],[0.2,\"#de77ae\"],[0.3,\"#f1b6da\"],[0.4,\"#fde0ef\"],[0.5,\"#f7f7f7\"],[0.6,\"#e6f5d0\"],[0.7,\"#b8e186\"],[0.8,\"#7fbc41\"],[0.9,\"#4d9221\"],[1,\"#276419\"]],\"sequential\":[[0.0,\"#0d0887\"],[0.1111111111111111,\"#46039f\"],[0.2222222222222222,\"#7201a8\"],[0.3333333333333333,\"#9c179e\"],[0.4444444444444444,\"#bd3786\"],[0.5555555555555556,\"#d8576b\"],[0.6666666666666666,\"#ed7953\"],[0.7777777777777778,\"#fb9f3a\"],[0.8888888888888888,\"#fdca26\"],[1.0,\"#f0f921\"]],\"sequentialminus\":[[0.0,\"#0d0887\"],[0.1111111111111111,\"#46039f\"],[0.2222222222222222,\"#7201a8\"],[0.3333333333333333,\"#9c179e\"],[0.4444444444444444,\"#bd3786\"],[0.5555555555555556,\"#d8576b\"],[0.6666666666666666,\"#ed7953\"],[0.7777777777777778,\"#fb9f3a\"],[0.8888888888888888,\"#fdca26\"],[1.0,\"#f0f921\"]]},\"colorway\":[\"#636efa\",\"#EF553B\",\"#00cc96\",\"#ab63fa\",\"#FFA15A\",\"#19d3f3\",\"#FF6692\",\"#B6E880\",\"#FF97FF\",\"#FECB52\"],\"font\":{\"color\":\"#2a3f5f\"},\"geo\":{\"bgcolor\":\"white\",\"lakecolor\":\"white\",\"landcolor\":\"#E5ECF6\",\"showlakes\":true,\"showland\":true,\"subunitcolor\":\"white\"},\"hoverlabel\":{\"align\":\"left\"},\"hovermode\":\"closest\",\"mapbox\":{\"style\":\"light\"},\"paper_bgcolor\":\"white\",\"plot_bgcolor\":\"#E5ECF6\",\"polar\":{\"angularaxis\":{\"gridcolor\":\"white\",\"linecolor\":\"white\",\"ticks\":\"\"},\"bgcolor\":\"#E5ECF6\",\"radialaxis\":{\"gridcolor\":\"white\",\"linecolor\":\"white\",\"ticks\":\"\"}},\"scene\":{\"xaxis\":{\"backgroundcolor\":\"#E5ECF6\",\"gridcolor\":\"white\",\"gridwidth\":2,\"linecolor\":\"white\",\"showbackground\":true,\"ticks\":\"\",\"zerolinecolor\":\"white\"},\"yaxis\":{\"backgroundcolor\":\"#E5ECF6\",\"gridcolor\":\"white\",\"gridwidth\":2,\"linecolor\":\"white\",\"showbackground\":true,\"ticks\":\"\",\"zerolinecolor\":\"white\"},\"zaxis\":{\"backgroundcolor\":\"#E5ECF6\",\"gridcolor\":\"white\",\"gridwidth\":2,\"linecolor\":\"white\",\"showbackground\":true,\"ticks\":\"\",\"zerolinecolor\":\"white\"}},\"shapedefaults\":{\"line\":{\"color\":\"#2a3f5f\"}},\"ternary\":{\"aaxis\":{\"gridcolor\":\"white\",\"linecolor\":\"white\",\"ticks\":\"\"},\"baxis\":{\"gridcolor\":\"white\",\"linecolor\":\"white\",\"ticks\":\"\"},\"bgcolor\":\"#E5ECF6\",\"caxis\":{\"gridcolor\":\"white\",\"linecolor\":\"white\",\"ticks\":\"\"}},\"title\":{\"x\":0.05},\"xaxis\":{\"automargin\":true,\"gridcolor\":\"white\",\"linecolor\":\"white\",\"ticks\":\"\",\"title\":{\"standoff\":15},\"zerolinecolor\":\"white\",\"zerolinewidth\":2},\"yaxis\":{\"automargin\":true,\"gridcolor\":\"white\",\"linecolor\":\"white\",\"ticks\":\"\",\"title\":{\"standoff\":15},\"zerolinecolor\":\"white\",\"zerolinewidth\":2}}},\"title\":{\"font\":{\"color\":\"#4D5663\"}},\"xaxis\":{\"gridcolor\":\"#E1E5ED\",\"showgrid\":true,\"tickfont\":{\"color\":\"#4D5663\"},\"title\":{\"font\":{\"color\":\"#4D5663\"},\"text\":\"\"},\"zerolinecolor\":\"#E1E5ED\"},\"yaxis\":{\"gridcolor\":\"#E1E5ED\",\"showgrid\":true,\"tickfont\":{\"color\":\"#4D5663\"},\"title\":{\"font\":{\"color\":\"#4D5663\"},\"text\":\"\"},\"zerolinecolor\":\"#E1E5ED\"}},                        {\"showLink\": true, \"linkText\": \"Export to plot.ly\", \"plotlyServerURL\": \"https://plot.ly\", \"responsive\": true}                    ).then(function(){\n",
       "                            \n",
       "var gd = document.getElementById('dc01662b-651c-4216-97a7-a258a7eaabfd');\n",
       "var x = new MutationObserver(function (mutations, observer) {{\n",
       "        var display = window.getComputedStyle(gd).display;\n",
       "        if (!display || display === 'none') {{\n",
       "            console.log([gd, 'removed!']);\n",
       "            Plotly.purge(gd);\n",
       "            observer.disconnect();\n",
       "        }}\n",
       "}});\n",
       "\n",
       "// Listen for the removal of the full notebook cells\n",
       "var notebookContainer = gd.closest('#notebook-container');\n",
       "if (notebookContainer) {{\n",
       "    x.observe(notebookContainer, {childList: true});\n",
       "}}\n",
       "\n",
       "// Listen for the clearing of the current output cell\n",
       "var outputEl = gd.closest('.output');\n",
       "if (outputEl) {{\n",
       "    x.observe(outputEl, {childList: true});\n",
       "}}\n",
       "\n",
       "                        })                };                });            </script>        </div>"
      ]
     },
     "metadata": {},
     "output_type": "display_data"
    }
   ],
   "source": [
    "df2.iplot(kind='bar',x='Category',y='Values')"
   ]
  },
  {
   "cell_type": "code",
   "execution_count": 14,
   "id": "6daa3360",
   "metadata": {},
   "outputs": [
    {
     "data": {
      "application/vnd.plotly.v1+json": {
       "config": {
        "linkText": "Export to plot.ly",
        "plotlyServerURL": "https://plot.ly",
        "showLink": true
       },
       "data": [
        {
         "marker": {
          "color": "rgba(255, 153, 51, 0.6)",
          "line": {
           "color": "rgba(255, 153, 51, 1.0)",
           "width": 1
          }
         },
         "name": "None",
         "orientation": "v",
         "text": "",
         "type": "bar",
         "x": [
          "A",
          "B",
          "C",
          "D"
         ],
         "y": [
          100,
          100,
          100,
          100
         ]
        }
       ],
       "layout": {
        "legend": {
         "bgcolor": "#F5F6F9",
         "font": {
          "color": "#4D5663"
         }
        },
        "paper_bgcolor": "#F5F6F9",
        "plot_bgcolor": "#F5F6F9",
        "template": {
         "data": {
          "bar": [
           {
            "error_x": {
             "color": "#2a3f5f"
            },
            "error_y": {
             "color": "#2a3f5f"
            },
            "marker": {
             "line": {
              "color": "#E5ECF6",
              "width": 0.5
             },
             "pattern": {
              "fillmode": "overlay",
              "size": 10,
              "solidity": 0.2
             }
            },
            "type": "bar"
           }
          ],
          "barpolar": [
           {
            "marker": {
             "line": {
              "color": "#E5ECF6",
              "width": 0.5
             },
             "pattern": {
              "fillmode": "overlay",
              "size": 10,
              "solidity": 0.2
             }
            },
            "type": "barpolar"
           }
          ],
          "carpet": [
           {
            "aaxis": {
             "endlinecolor": "#2a3f5f",
             "gridcolor": "white",
             "linecolor": "white",
             "minorgridcolor": "white",
             "startlinecolor": "#2a3f5f"
            },
            "baxis": {
             "endlinecolor": "#2a3f5f",
             "gridcolor": "white",
             "linecolor": "white",
             "minorgridcolor": "white",
             "startlinecolor": "#2a3f5f"
            },
            "type": "carpet"
           }
          ],
          "choropleth": [
           {
            "colorbar": {
             "outlinewidth": 0,
             "ticks": ""
            },
            "type": "choropleth"
           }
          ],
          "contour": [
           {
            "colorbar": {
             "outlinewidth": 0,
             "ticks": ""
            },
            "colorscale": [
             [
              0,
              "#0d0887"
             ],
             [
              0.1111111111111111,
              "#46039f"
             ],
             [
              0.2222222222222222,
              "#7201a8"
             ],
             [
              0.3333333333333333,
              "#9c179e"
             ],
             [
              0.4444444444444444,
              "#bd3786"
             ],
             [
              0.5555555555555556,
              "#d8576b"
             ],
             [
              0.6666666666666666,
              "#ed7953"
             ],
             [
              0.7777777777777778,
              "#fb9f3a"
             ],
             [
              0.8888888888888888,
              "#fdca26"
             ],
             [
              1,
              "#f0f921"
             ]
            ],
            "type": "contour"
           }
          ],
          "contourcarpet": [
           {
            "colorbar": {
             "outlinewidth": 0,
             "ticks": ""
            },
            "type": "contourcarpet"
           }
          ],
          "heatmap": [
           {
            "colorbar": {
             "outlinewidth": 0,
             "ticks": ""
            },
            "colorscale": [
             [
              0,
              "#0d0887"
             ],
             [
              0.1111111111111111,
              "#46039f"
             ],
             [
              0.2222222222222222,
              "#7201a8"
             ],
             [
              0.3333333333333333,
              "#9c179e"
             ],
             [
              0.4444444444444444,
              "#bd3786"
             ],
             [
              0.5555555555555556,
              "#d8576b"
             ],
             [
              0.6666666666666666,
              "#ed7953"
             ],
             [
              0.7777777777777778,
              "#fb9f3a"
             ],
             [
              0.8888888888888888,
              "#fdca26"
             ],
             [
              1,
              "#f0f921"
             ]
            ],
            "type": "heatmap"
           }
          ],
          "heatmapgl": [
           {
            "colorbar": {
             "outlinewidth": 0,
             "ticks": ""
            },
            "colorscale": [
             [
              0,
              "#0d0887"
             ],
             [
              0.1111111111111111,
              "#46039f"
             ],
             [
              0.2222222222222222,
              "#7201a8"
             ],
             [
              0.3333333333333333,
              "#9c179e"
             ],
             [
              0.4444444444444444,
              "#bd3786"
             ],
             [
              0.5555555555555556,
              "#d8576b"
             ],
             [
              0.6666666666666666,
              "#ed7953"
             ],
             [
              0.7777777777777778,
              "#fb9f3a"
             ],
             [
              0.8888888888888888,
              "#fdca26"
             ],
             [
              1,
              "#f0f921"
             ]
            ],
            "type": "heatmapgl"
           }
          ],
          "histogram": [
           {
            "marker": {
             "pattern": {
              "fillmode": "overlay",
              "size": 10,
              "solidity": 0.2
             }
            },
            "type": "histogram"
           }
          ],
          "histogram2d": [
           {
            "colorbar": {
             "outlinewidth": 0,
             "ticks": ""
            },
            "colorscale": [
             [
              0,
              "#0d0887"
             ],
             [
              0.1111111111111111,
              "#46039f"
             ],
             [
              0.2222222222222222,
              "#7201a8"
             ],
             [
              0.3333333333333333,
              "#9c179e"
             ],
             [
              0.4444444444444444,
              "#bd3786"
             ],
             [
              0.5555555555555556,
              "#d8576b"
             ],
             [
              0.6666666666666666,
              "#ed7953"
             ],
             [
              0.7777777777777778,
              "#fb9f3a"
             ],
             [
              0.8888888888888888,
              "#fdca26"
             ],
             [
              1,
              "#f0f921"
             ]
            ],
            "type": "histogram2d"
           }
          ],
          "histogram2dcontour": [
           {
            "colorbar": {
             "outlinewidth": 0,
             "ticks": ""
            },
            "colorscale": [
             [
              0,
              "#0d0887"
             ],
             [
              0.1111111111111111,
              "#46039f"
             ],
             [
              0.2222222222222222,
              "#7201a8"
             ],
             [
              0.3333333333333333,
              "#9c179e"
             ],
             [
              0.4444444444444444,
              "#bd3786"
             ],
             [
              0.5555555555555556,
              "#d8576b"
             ],
             [
              0.6666666666666666,
              "#ed7953"
             ],
             [
              0.7777777777777778,
              "#fb9f3a"
             ],
             [
              0.8888888888888888,
              "#fdca26"
             ],
             [
              1,
              "#f0f921"
             ]
            ],
            "type": "histogram2dcontour"
           }
          ],
          "mesh3d": [
           {
            "colorbar": {
             "outlinewidth": 0,
             "ticks": ""
            },
            "type": "mesh3d"
           }
          ],
          "parcoords": [
           {
            "line": {
             "colorbar": {
              "outlinewidth": 0,
              "ticks": ""
             }
            },
            "type": "parcoords"
           }
          ],
          "pie": [
           {
            "automargin": true,
            "type": "pie"
           }
          ],
          "scatter": [
           {
            "fillpattern": {
             "fillmode": "overlay",
             "size": 10,
             "solidity": 0.2
            },
            "type": "scatter"
           }
          ],
          "scatter3d": [
           {
            "line": {
             "colorbar": {
              "outlinewidth": 0,
              "ticks": ""
             }
            },
            "marker": {
             "colorbar": {
              "outlinewidth": 0,
              "ticks": ""
             }
            },
            "type": "scatter3d"
           }
          ],
          "scattercarpet": [
           {
            "marker": {
             "colorbar": {
              "outlinewidth": 0,
              "ticks": ""
             }
            },
            "type": "scattercarpet"
           }
          ],
          "scattergeo": [
           {
            "marker": {
             "colorbar": {
              "outlinewidth": 0,
              "ticks": ""
             }
            },
            "type": "scattergeo"
           }
          ],
          "scattergl": [
           {
            "marker": {
             "colorbar": {
              "outlinewidth": 0,
              "ticks": ""
             }
            },
            "type": "scattergl"
           }
          ],
          "scattermapbox": [
           {
            "marker": {
             "colorbar": {
              "outlinewidth": 0,
              "ticks": ""
             }
            },
            "type": "scattermapbox"
           }
          ],
          "scatterpolar": [
           {
            "marker": {
             "colorbar": {
              "outlinewidth": 0,
              "ticks": ""
             }
            },
            "type": "scatterpolar"
           }
          ],
          "scatterpolargl": [
           {
            "marker": {
             "colorbar": {
              "outlinewidth": 0,
              "ticks": ""
             }
            },
            "type": "scatterpolargl"
           }
          ],
          "scatterternary": [
           {
            "marker": {
             "colorbar": {
              "outlinewidth": 0,
              "ticks": ""
             }
            },
            "type": "scatterternary"
           }
          ],
          "surface": [
           {
            "colorbar": {
             "outlinewidth": 0,
             "ticks": ""
            },
            "colorscale": [
             [
              0,
              "#0d0887"
             ],
             [
              0.1111111111111111,
              "#46039f"
             ],
             [
              0.2222222222222222,
              "#7201a8"
             ],
             [
              0.3333333333333333,
              "#9c179e"
             ],
             [
              0.4444444444444444,
              "#bd3786"
             ],
             [
              0.5555555555555556,
              "#d8576b"
             ],
             [
              0.6666666666666666,
              "#ed7953"
             ],
             [
              0.7777777777777778,
              "#fb9f3a"
             ],
             [
              0.8888888888888888,
              "#fdca26"
             ],
             [
              1,
              "#f0f921"
             ]
            ],
            "type": "surface"
           }
          ],
          "table": [
           {
            "cells": {
             "fill": {
              "color": "#EBF0F8"
             },
             "line": {
              "color": "white"
             }
            },
            "header": {
             "fill": {
              "color": "#C8D4E3"
             },
             "line": {
              "color": "white"
             }
            },
            "type": "table"
           }
          ]
         },
         "layout": {
          "annotationdefaults": {
           "arrowcolor": "#2a3f5f",
           "arrowhead": 0,
           "arrowwidth": 1
          },
          "autotypenumbers": "strict",
          "coloraxis": {
           "colorbar": {
            "outlinewidth": 0,
            "ticks": ""
           }
          },
          "colorscale": {
           "diverging": [
            [
             0,
             "#8e0152"
            ],
            [
             0.1,
             "#c51b7d"
            ],
            [
             0.2,
             "#de77ae"
            ],
            [
             0.3,
             "#f1b6da"
            ],
            [
             0.4,
             "#fde0ef"
            ],
            [
             0.5,
             "#f7f7f7"
            ],
            [
             0.6,
             "#e6f5d0"
            ],
            [
             0.7,
             "#b8e186"
            ],
            [
             0.8,
             "#7fbc41"
            ],
            [
             0.9,
             "#4d9221"
            ],
            [
             1,
             "#276419"
            ]
           ],
           "sequential": [
            [
             0,
             "#0d0887"
            ],
            [
             0.1111111111111111,
             "#46039f"
            ],
            [
             0.2222222222222222,
             "#7201a8"
            ],
            [
             0.3333333333333333,
             "#9c179e"
            ],
            [
             0.4444444444444444,
             "#bd3786"
            ],
            [
             0.5555555555555556,
             "#d8576b"
            ],
            [
             0.6666666666666666,
             "#ed7953"
            ],
            [
             0.7777777777777778,
             "#fb9f3a"
            ],
            [
             0.8888888888888888,
             "#fdca26"
            ],
            [
             1,
             "#f0f921"
            ]
           ],
           "sequentialminus": [
            [
             0,
             "#0d0887"
            ],
            [
             0.1111111111111111,
             "#46039f"
            ],
            [
             0.2222222222222222,
             "#7201a8"
            ],
            [
             0.3333333333333333,
             "#9c179e"
            ],
            [
             0.4444444444444444,
             "#bd3786"
            ],
            [
             0.5555555555555556,
             "#d8576b"
            ],
            [
             0.6666666666666666,
             "#ed7953"
            ],
            [
             0.7777777777777778,
             "#fb9f3a"
            ],
            [
             0.8888888888888888,
             "#fdca26"
            ],
            [
             1,
             "#f0f921"
            ]
           ]
          },
          "colorway": [
           "#636efa",
           "#EF553B",
           "#00cc96",
           "#ab63fa",
           "#FFA15A",
           "#19d3f3",
           "#FF6692",
           "#B6E880",
           "#FF97FF",
           "#FECB52"
          ],
          "font": {
           "color": "#2a3f5f"
          },
          "geo": {
           "bgcolor": "white",
           "lakecolor": "white",
           "landcolor": "#E5ECF6",
           "showlakes": true,
           "showland": true,
           "subunitcolor": "white"
          },
          "hoverlabel": {
           "align": "left"
          },
          "hovermode": "closest",
          "mapbox": {
           "style": "light"
          },
          "paper_bgcolor": "white",
          "plot_bgcolor": "#E5ECF6",
          "polar": {
           "angularaxis": {
            "gridcolor": "white",
            "linecolor": "white",
            "ticks": ""
           },
           "bgcolor": "#E5ECF6",
           "radialaxis": {
            "gridcolor": "white",
            "linecolor": "white",
            "ticks": ""
           }
          },
          "scene": {
           "xaxis": {
            "backgroundcolor": "#E5ECF6",
            "gridcolor": "white",
            "gridwidth": 2,
            "linecolor": "white",
            "showbackground": true,
            "ticks": "",
            "zerolinecolor": "white"
           },
           "yaxis": {
            "backgroundcolor": "#E5ECF6",
            "gridcolor": "white",
            "gridwidth": 2,
            "linecolor": "white",
            "showbackground": true,
            "ticks": "",
            "zerolinecolor": "white"
           },
           "zaxis": {
            "backgroundcolor": "#E5ECF6",
            "gridcolor": "white",
            "gridwidth": 2,
            "linecolor": "white",
            "showbackground": true,
            "ticks": "",
            "zerolinecolor": "white"
           }
          },
          "shapedefaults": {
           "line": {
            "color": "#2a3f5f"
           }
          },
          "ternary": {
           "aaxis": {
            "gridcolor": "white",
            "linecolor": "white",
            "ticks": ""
           },
           "baxis": {
            "gridcolor": "white",
            "linecolor": "white",
            "ticks": ""
           },
           "bgcolor": "#E5ECF6",
           "caxis": {
            "gridcolor": "white",
            "linecolor": "white",
            "ticks": ""
           }
          },
          "title": {
           "x": 0.05
          },
          "xaxis": {
           "automargin": true,
           "gridcolor": "white",
           "linecolor": "white",
           "ticks": "",
           "title": {
            "standoff": 15
           },
           "zerolinecolor": "white",
           "zerolinewidth": 2
          },
          "yaxis": {
           "automargin": true,
           "gridcolor": "white",
           "linecolor": "white",
           "ticks": "",
           "title": {
            "standoff": 15
           },
           "zerolinecolor": "white",
           "zerolinewidth": 2
          }
         }
        },
        "title": {
         "font": {
          "color": "#4D5663"
         }
        },
        "xaxis": {
         "gridcolor": "#E1E5ED",
         "showgrid": true,
         "tickfont": {
          "color": "#4D5663"
         },
         "title": {
          "font": {
           "color": "#4D5663"
          },
          "text": ""
         },
         "zerolinecolor": "#E1E5ED"
        },
        "yaxis": {
         "gridcolor": "#E1E5ED",
         "showgrid": true,
         "tickfont": {
          "color": "#4D5663"
         },
         "title": {
          "font": {
           "color": "#4D5663"
          },
          "text": ""
         },
         "zerolinecolor": "#E1E5ED"
        }
       }
      },
      "text/html": [
       "<div>                            <div id=\"42c24a36-a3c4-4b4d-862a-07804935a68b\" class=\"plotly-graph-div\" style=\"height:525px; width:100%;\"></div>            <script type=\"text/javascript\">                require([\"plotly\"], function(Plotly) {                    window.PLOTLYENV=window.PLOTLYENV || {};\n",
       "                    window.PLOTLYENV.BASE_URL='https://plot.ly';                                    if (document.getElementById(\"42c24a36-a3c4-4b4d-862a-07804935a68b\")) {                    Plotly.newPlot(                        \"42c24a36-a3c4-4b4d-862a-07804935a68b\",                        [{\"marker\":{\"color\":\"rgba(255, 153, 51, 0.6)\",\"line\":{\"color\":\"rgba(255, 153, 51, 1.0)\",\"width\":1}},\"name\":\"None\",\"orientation\":\"v\",\"text\":\"\",\"x\":[\"A\",\"B\",\"C\",\"D\"],\"y\":[100,100,100,100],\"type\":\"bar\"}],                        {\"legend\":{\"bgcolor\":\"#F5F6F9\",\"font\":{\"color\":\"#4D5663\"}},\"paper_bgcolor\":\"#F5F6F9\",\"plot_bgcolor\":\"#F5F6F9\",\"template\":{\"data\":{\"barpolar\":[{\"marker\":{\"line\":{\"color\":\"#E5ECF6\",\"width\":0.5},\"pattern\":{\"fillmode\":\"overlay\",\"size\":10,\"solidity\":0.2}},\"type\":\"barpolar\"}],\"bar\":[{\"error_x\":{\"color\":\"#2a3f5f\"},\"error_y\":{\"color\":\"#2a3f5f\"},\"marker\":{\"line\":{\"color\":\"#E5ECF6\",\"width\":0.5},\"pattern\":{\"fillmode\":\"overlay\",\"size\":10,\"solidity\":0.2}},\"type\":\"bar\"}],\"carpet\":[{\"aaxis\":{\"endlinecolor\":\"#2a3f5f\",\"gridcolor\":\"white\",\"linecolor\":\"white\",\"minorgridcolor\":\"white\",\"startlinecolor\":\"#2a3f5f\"},\"baxis\":{\"endlinecolor\":\"#2a3f5f\",\"gridcolor\":\"white\",\"linecolor\":\"white\",\"minorgridcolor\":\"white\",\"startlinecolor\":\"#2a3f5f\"},\"type\":\"carpet\"}],\"choropleth\":[{\"colorbar\":{\"outlinewidth\":0,\"ticks\":\"\"},\"type\":\"choropleth\"}],\"contourcarpet\":[{\"colorbar\":{\"outlinewidth\":0,\"ticks\":\"\"},\"type\":\"contourcarpet\"}],\"contour\":[{\"colorbar\":{\"outlinewidth\":0,\"ticks\":\"\"},\"colorscale\":[[0.0,\"#0d0887\"],[0.1111111111111111,\"#46039f\"],[0.2222222222222222,\"#7201a8\"],[0.3333333333333333,\"#9c179e\"],[0.4444444444444444,\"#bd3786\"],[0.5555555555555556,\"#d8576b\"],[0.6666666666666666,\"#ed7953\"],[0.7777777777777778,\"#fb9f3a\"],[0.8888888888888888,\"#fdca26\"],[1.0,\"#f0f921\"]],\"type\":\"contour\"}],\"heatmapgl\":[{\"colorbar\":{\"outlinewidth\":0,\"ticks\":\"\"},\"colorscale\":[[0.0,\"#0d0887\"],[0.1111111111111111,\"#46039f\"],[0.2222222222222222,\"#7201a8\"],[0.3333333333333333,\"#9c179e\"],[0.4444444444444444,\"#bd3786\"],[0.5555555555555556,\"#d8576b\"],[0.6666666666666666,\"#ed7953\"],[0.7777777777777778,\"#fb9f3a\"],[0.8888888888888888,\"#fdca26\"],[1.0,\"#f0f921\"]],\"type\":\"heatmapgl\"}],\"heatmap\":[{\"colorbar\":{\"outlinewidth\":0,\"ticks\":\"\"},\"colorscale\":[[0.0,\"#0d0887\"],[0.1111111111111111,\"#46039f\"],[0.2222222222222222,\"#7201a8\"],[0.3333333333333333,\"#9c179e\"],[0.4444444444444444,\"#bd3786\"],[0.5555555555555556,\"#d8576b\"],[0.6666666666666666,\"#ed7953\"],[0.7777777777777778,\"#fb9f3a\"],[0.8888888888888888,\"#fdca26\"],[1.0,\"#f0f921\"]],\"type\":\"heatmap\"}],\"histogram2dcontour\":[{\"colorbar\":{\"outlinewidth\":0,\"ticks\":\"\"},\"colorscale\":[[0.0,\"#0d0887\"],[0.1111111111111111,\"#46039f\"],[0.2222222222222222,\"#7201a8\"],[0.3333333333333333,\"#9c179e\"],[0.4444444444444444,\"#bd3786\"],[0.5555555555555556,\"#d8576b\"],[0.6666666666666666,\"#ed7953\"],[0.7777777777777778,\"#fb9f3a\"],[0.8888888888888888,\"#fdca26\"],[1.0,\"#f0f921\"]],\"type\":\"histogram2dcontour\"}],\"histogram2d\":[{\"colorbar\":{\"outlinewidth\":0,\"ticks\":\"\"},\"colorscale\":[[0.0,\"#0d0887\"],[0.1111111111111111,\"#46039f\"],[0.2222222222222222,\"#7201a8\"],[0.3333333333333333,\"#9c179e\"],[0.4444444444444444,\"#bd3786\"],[0.5555555555555556,\"#d8576b\"],[0.6666666666666666,\"#ed7953\"],[0.7777777777777778,\"#fb9f3a\"],[0.8888888888888888,\"#fdca26\"],[1.0,\"#f0f921\"]],\"type\":\"histogram2d\"}],\"histogram\":[{\"marker\":{\"pattern\":{\"fillmode\":\"overlay\",\"size\":10,\"solidity\":0.2}},\"type\":\"histogram\"}],\"mesh3d\":[{\"colorbar\":{\"outlinewidth\":0,\"ticks\":\"\"},\"type\":\"mesh3d\"}],\"parcoords\":[{\"line\":{\"colorbar\":{\"outlinewidth\":0,\"ticks\":\"\"}},\"type\":\"parcoords\"}],\"pie\":[{\"automargin\":true,\"type\":\"pie\"}],\"scatter3d\":[{\"line\":{\"colorbar\":{\"outlinewidth\":0,\"ticks\":\"\"}},\"marker\":{\"colorbar\":{\"outlinewidth\":0,\"ticks\":\"\"}},\"type\":\"scatter3d\"}],\"scattercarpet\":[{\"marker\":{\"colorbar\":{\"outlinewidth\":0,\"ticks\":\"\"}},\"type\":\"scattercarpet\"}],\"scattergeo\":[{\"marker\":{\"colorbar\":{\"outlinewidth\":0,\"ticks\":\"\"}},\"type\":\"scattergeo\"}],\"scattergl\":[{\"marker\":{\"colorbar\":{\"outlinewidth\":0,\"ticks\":\"\"}},\"type\":\"scattergl\"}],\"scattermapbox\":[{\"marker\":{\"colorbar\":{\"outlinewidth\":0,\"ticks\":\"\"}},\"type\":\"scattermapbox\"}],\"scatterpolargl\":[{\"marker\":{\"colorbar\":{\"outlinewidth\":0,\"ticks\":\"\"}},\"type\":\"scatterpolargl\"}],\"scatterpolar\":[{\"marker\":{\"colorbar\":{\"outlinewidth\":0,\"ticks\":\"\"}},\"type\":\"scatterpolar\"}],\"scatter\":[{\"fillpattern\":{\"fillmode\":\"overlay\",\"size\":10,\"solidity\":0.2},\"type\":\"scatter\"}],\"scatterternary\":[{\"marker\":{\"colorbar\":{\"outlinewidth\":0,\"ticks\":\"\"}},\"type\":\"scatterternary\"}],\"surface\":[{\"colorbar\":{\"outlinewidth\":0,\"ticks\":\"\"},\"colorscale\":[[0.0,\"#0d0887\"],[0.1111111111111111,\"#46039f\"],[0.2222222222222222,\"#7201a8\"],[0.3333333333333333,\"#9c179e\"],[0.4444444444444444,\"#bd3786\"],[0.5555555555555556,\"#d8576b\"],[0.6666666666666666,\"#ed7953\"],[0.7777777777777778,\"#fb9f3a\"],[0.8888888888888888,\"#fdca26\"],[1.0,\"#f0f921\"]],\"type\":\"surface\"}],\"table\":[{\"cells\":{\"fill\":{\"color\":\"#EBF0F8\"},\"line\":{\"color\":\"white\"}},\"header\":{\"fill\":{\"color\":\"#C8D4E3\"},\"line\":{\"color\":\"white\"}},\"type\":\"table\"}]},\"layout\":{\"annotationdefaults\":{\"arrowcolor\":\"#2a3f5f\",\"arrowhead\":0,\"arrowwidth\":1},\"autotypenumbers\":\"strict\",\"coloraxis\":{\"colorbar\":{\"outlinewidth\":0,\"ticks\":\"\"}},\"colorscale\":{\"diverging\":[[0,\"#8e0152\"],[0.1,\"#c51b7d\"],[0.2,\"#de77ae\"],[0.3,\"#f1b6da\"],[0.4,\"#fde0ef\"],[0.5,\"#f7f7f7\"],[0.6,\"#e6f5d0\"],[0.7,\"#b8e186\"],[0.8,\"#7fbc41\"],[0.9,\"#4d9221\"],[1,\"#276419\"]],\"sequential\":[[0.0,\"#0d0887\"],[0.1111111111111111,\"#46039f\"],[0.2222222222222222,\"#7201a8\"],[0.3333333333333333,\"#9c179e\"],[0.4444444444444444,\"#bd3786\"],[0.5555555555555556,\"#d8576b\"],[0.6666666666666666,\"#ed7953\"],[0.7777777777777778,\"#fb9f3a\"],[0.8888888888888888,\"#fdca26\"],[1.0,\"#f0f921\"]],\"sequentialminus\":[[0.0,\"#0d0887\"],[0.1111111111111111,\"#46039f\"],[0.2222222222222222,\"#7201a8\"],[0.3333333333333333,\"#9c179e\"],[0.4444444444444444,\"#bd3786\"],[0.5555555555555556,\"#d8576b\"],[0.6666666666666666,\"#ed7953\"],[0.7777777777777778,\"#fb9f3a\"],[0.8888888888888888,\"#fdca26\"],[1.0,\"#f0f921\"]]},\"colorway\":[\"#636efa\",\"#EF553B\",\"#00cc96\",\"#ab63fa\",\"#FFA15A\",\"#19d3f3\",\"#FF6692\",\"#B6E880\",\"#FF97FF\",\"#FECB52\"],\"font\":{\"color\":\"#2a3f5f\"},\"geo\":{\"bgcolor\":\"white\",\"lakecolor\":\"white\",\"landcolor\":\"#E5ECF6\",\"showlakes\":true,\"showland\":true,\"subunitcolor\":\"white\"},\"hoverlabel\":{\"align\":\"left\"},\"hovermode\":\"closest\",\"mapbox\":{\"style\":\"light\"},\"paper_bgcolor\":\"white\",\"plot_bgcolor\":\"#E5ECF6\",\"polar\":{\"angularaxis\":{\"gridcolor\":\"white\",\"linecolor\":\"white\",\"ticks\":\"\"},\"bgcolor\":\"#E5ECF6\",\"radialaxis\":{\"gridcolor\":\"white\",\"linecolor\":\"white\",\"ticks\":\"\"}},\"scene\":{\"xaxis\":{\"backgroundcolor\":\"#E5ECF6\",\"gridcolor\":\"white\",\"gridwidth\":2,\"linecolor\":\"white\",\"showbackground\":true,\"ticks\":\"\",\"zerolinecolor\":\"white\"},\"yaxis\":{\"backgroundcolor\":\"#E5ECF6\",\"gridcolor\":\"white\",\"gridwidth\":2,\"linecolor\":\"white\",\"showbackground\":true,\"ticks\":\"\",\"zerolinecolor\":\"white\"},\"zaxis\":{\"backgroundcolor\":\"#E5ECF6\",\"gridcolor\":\"white\",\"gridwidth\":2,\"linecolor\":\"white\",\"showbackground\":true,\"ticks\":\"\",\"zerolinecolor\":\"white\"}},\"shapedefaults\":{\"line\":{\"color\":\"#2a3f5f\"}},\"ternary\":{\"aaxis\":{\"gridcolor\":\"white\",\"linecolor\":\"white\",\"ticks\":\"\"},\"baxis\":{\"gridcolor\":\"white\",\"linecolor\":\"white\",\"ticks\":\"\"},\"bgcolor\":\"#E5ECF6\",\"caxis\":{\"gridcolor\":\"white\",\"linecolor\":\"white\",\"ticks\":\"\"}},\"title\":{\"x\":0.05},\"xaxis\":{\"automargin\":true,\"gridcolor\":\"white\",\"linecolor\":\"white\",\"ticks\":\"\",\"title\":{\"standoff\":15},\"zerolinecolor\":\"white\",\"zerolinewidth\":2},\"yaxis\":{\"automargin\":true,\"gridcolor\":\"white\",\"linecolor\":\"white\",\"ticks\":\"\",\"title\":{\"standoff\":15},\"zerolinecolor\":\"white\",\"zerolinewidth\":2}}},\"title\":{\"font\":{\"color\":\"#4D5663\"}},\"xaxis\":{\"gridcolor\":\"#E1E5ED\",\"showgrid\":true,\"tickfont\":{\"color\":\"#4D5663\"},\"title\":{\"font\":{\"color\":\"#4D5663\"},\"text\":\"\"},\"zerolinecolor\":\"#E1E5ED\"},\"yaxis\":{\"gridcolor\":\"#E1E5ED\",\"showgrid\":true,\"tickfont\":{\"color\":\"#4D5663\"},\"title\":{\"font\":{\"color\":\"#4D5663\"},\"text\":\"\"},\"zerolinecolor\":\"#E1E5ED\"}},                        {\"showLink\": true, \"linkText\": \"Export to plot.ly\", \"plotlyServerURL\": \"https://plot.ly\", \"responsive\": true}                    ).then(function(){\n",
       "                            \n",
       "var gd = document.getElementById('42c24a36-a3c4-4b4d-862a-07804935a68b');\n",
       "var x = new MutationObserver(function (mutations, observer) {{\n",
       "        var display = window.getComputedStyle(gd).display;\n",
       "        if (!display || display === 'none') {{\n",
       "            console.log([gd, 'removed!']);\n",
       "            Plotly.purge(gd);\n",
       "            observer.disconnect();\n",
       "        }}\n",
       "}});\n",
       "\n",
       "// Listen for the removal of the full notebook cells\n",
       "var notebookContainer = gd.closest('#notebook-container');\n",
       "if (notebookContainer) {{\n",
       "    x.observe(notebookContainer, {childList: true});\n",
       "}}\n",
       "\n",
       "// Listen for the clearing of the current output cell\n",
       "var outputEl = gd.closest('.output');\n",
       "if (outputEl) {{\n",
       "    x.observe(outputEl, {childList: true});\n",
       "}}\n",
       "\n",
       "                        })                };                });            </script>        </div>"
      ]
     },
     "metadata": {},
     "output_type": "display_data"
    }
   ],
   "source": [
    "df.count().iplot(kind='bar')"
   ]
  },
  {
   "cell_type": "markdown",
   "id": "0587fa01",
   "metadata": {},
   "source": [
    "### Boxplots"
   ]
  },
  {
   "cell_type": "code",
   "execution_count": 15,
   "id": "dbe2cc98",
   "metadata": {},
   "outputs": [
    {
     "data": {
      "application/vnd.plotly.v1+json": {
       "config": {
        "linkText": "Export to plot.ly",
        "plotlyServerURL": "https://plot.ly",
        "showLink": true
       },
       "data": [
        {
         "boxpoints": false,
         "line": {
          "width": 1.3
         },
         "marker": {
          "color": "rgba(255, 153, 51, 1.0)"
         },
         "name": "A",
         "orientation": "v",
         "type": "box",
         "y": [
          -0.9667706031559152,
          -0.2859230331659126,
          -0.9598172529636709,
          1.6994273373143356,
          0.6679156281878831,
          -0.7921386723269326,
          0.6677875090604823,
          0.18842161040285368,
          1.2197013733786959,
          0.3740932827273875,
          0.6763751328413449,
          1.0494561021545243,
          0.07221209523657499,
          -0.8791766868027052,
          0.12162966723876437,
          -0.10357449487613801,
          -0.5094000022078592,
          0.6239757340029429,
          -1.2449571168622398,
          0.3594084096499897,
          1.6765297679482034,
          0.13509423235704984,
          0.2705117695196429,
          -0.7119820402020055,
          -0.12907758215134288,
          0.08319611741499265,
          0.430408914483296,
          1.1322952435002804,
          -0.9607675765706225,
          -0.1420858459791905,
          0.9348025697422142,
          1.0557892979911945,
          -0.7528462987022209,
          -2.1819039128157867,
          -1.4046399567682601,
          0.5861898200940868,
          -0.2911744291241955,
          -0.5509183453632426,
          -0.1127612420803882,
          0.6888117831712275,
          -0.1364296263697243,
          0.3277151667010575,
          0.33758301287551934,
          0.7981383473407812,
          -0.5749282127701741,
          0.0573190971632262,
          2.005614222502313,
          -0.36084649081020853,
          0.12500468331404857,
          -1.000769118596277,
          -1.2581246473715653,
          0.8727168540806867,
          0.5189249974409815,
          0.26003727857485476,
          0.9036555150907073,
          0.2100386271152475,
          0.8011528441099885,
          -1.4767051234211053,
          -0.2984036629837312,
          -2.9439786983978737,
          -0.2072924708400469,
          -0.8970346988592104,
          -1.562210930137962,
          -1.2007698303843537,
          0.5761557464682605,
          -0.3334196477312107,
          -0.1475085352910442,
          -1.9221100669005526,
          -0.37263094070359437,
          -0.2961685288793439,
          0.867188512443164,
          0.21374050067553674,
          -0.7153835481111949,
          1.2527062398553368,
          1.183821901529496,
          2.200161640450383,
          1.695203262152829,
          -1.2996409871306696,
          -0.4603476887302826,
          -0.3357203379555168,
          -0.00262303954320485,
          1.0643942398357191,
          0.326733874202913,
          -0.21373908648877013,
          -1.187563138747254,
          1.43363810629614,
          -0.78225692691843,
          0.0820954573532839,
          1.0920156152206064,
          1.3080169562280424,
          -1.3269670830691598,
          0.6523762892146466,
          -0.2841860611708281,
          -0.06085191281269883,
          0.1811085429676458,
          0.27988653937338126,
          -1.5113247093622162,
          1.9927114711577558,
          -1.2115200720889219,
          1.730413492768943
         ]
        },
        {
         "boxpoints": false,
         "line": {
          "width": 1.3
         },
         "marker": {
          "color": "rgba(55, 128, 191, 1.0)"
         },
         "name": "B",
         "orientation": "v",
         "type": "box",
         "y": [
          -1.3188190343406079,
          -0.5195427305961262,
          3.386453821992028,
          -0.09705417497171678,
          -0.297892863845476,
          -0.26756095229456917,
          0.5700665741375269,
          0.44529929220723913,
          -0.5510229873684799,
          1.7463483158674042,
          1.0118648347277688,
          0.1458689328478937,
          1.6735595274266766,
          0.7379430702485847,
          -0.7028689770607447,
          -0.07384558691768216,
          -1.7178452837414204,
          -1.9804215168285524,
          1.8325098041859333,
          0.4993355982667355,
          0.6159257998414503,
          -0.4792071402444821,
          0.3559177987316825,
          0.04575842620889139,
          -0.8937333342631764,
          -0.8458911423699876,
          1.2132038105440868,
          0.39373880580881887,
          1.1759919470652533,
          -2.068247462098143,
          -0.18747085870618696,
          -0.008194876832229107,
          -0.907129791010329,
          1.925063230443421,
          1.01885368544152,
          1.387438436729016,
          -1.0066955686153438,
          -0.9671187007033104,
          0.731976451138149,
          -0.9371741422340341,
          -0.768941907442198,
          0.0008091449242708666,
          0.07929553953223403,
          -0.012771443464080616,
          -1.091398000879962,
          0.6806417721703428,
          2.520321123148215,
          -1.6307687921002214,
          0.18510853667360713,
          -0.5309953436595065,
          -0.22650831604718946,
          -1.258650901561935,
          -0.29680745281406823,
          1.2488894303379945,
          0.9682519853659632,
          0.9040218291484514,
          0.4598920631590823,
          0.09824730993245537,
          2.4477757145812893,
          0.7180564035299077,
          0.0315662683405219,
          -0.22996495250392865,
          0.2690941714596704,
          -0.6618681113312663,
          2.4622984818930136,
          -0.9383539350729556,
          0.19670822651949327,
          0.332796451140872,
          -0.8804151825842351,
          1.0226176431072793,
          -0.9568652442737168,
          0.8632965925105605,
          0.3900306902768008,
          -0.9734778777546095,
          -0.03650594927790021,
          0.7698691732943076,
          -1.3788806224060008,
          1.2099361028622364,
          0.9999975718199677,
          -1.0101204359398641,
          0.5601146900966223,
          1.0474334676881487,
          0.9083479954052169,
          0.36007125845211757,
          0.7990499474418643,
          0.047683355715569184,
          0.9159390582775966,
          1.1103493975674814,
          -0.7261520132147986,
          -0.0351697431708248,
          0.8903375868875737,
          -0.832922227123769,
          1.3524321907790178,
          -2.299743297174103,
          -0.10650146403260315,
          -0.8406462819832169,
          -1.0635316643185633,
          0.7775874644776857,
          0.9727642264248069,
          -0.4108309101944478
         ]
        },
        {
         "boxpoints": false,
         "line": {
          "width": 1.3
         },
         "marker": {
          "color": "rgba(50, 171, 96, 1.0)"
         },
         "name": "C",
         "orientation": "v",
         "type": "box",
         "y": [
          0.25384966049770624,
          -0.5072527135914842,
          -0.337956158122121,
          -0.021352989724285766,
          1.1798868936955196,
          -1.0619700074535035,
          -1.242640821990061,
          0.63718481054885,
          1.182983470444718,
          1.1803557563755003,
          1.4251439506467716,
          -0.059659649994779365,
          -0.8183834369391694,
          -0.5480051785885504,
          0.6047796513034572,
          -1.532362548338797,
          1.9239531136213526,
          -2.2729330116717357,
          0.7038139573002804,
          -0.5783982798836852,
          -0.40423646886615494,
          -1.4741140623505002,
          0.9421230293344746,
          -0.40488433389262524,
          0.7385946957282342,
          -1.220305479372563,
          0.5083037439106535,
          -1.6573596969282112,
          -0.30622793420655764,
          1.2090117296626592,
          -2.092375564918579,
          -0.07912412923330465,
          0.9907154607991587,
          1.3835363731413068,
          0.062050475447299046,
          -1.3279093169917124,
          -0.24090333909465758,
          -0.8686632118413525,
          -0.8737433194791209,
          1.286057339281788,
          1.1686997283325733,
          0.11463104050926562,
          -0.49333094725935783,
          -0.7163251198552059,
          -0.3867609736290793,
          -0.9300779087220071,
          -0.5029500766553069,
          -0.5099766136711134,
          0.7650616600011578,
          0.40885174878448294,
          0.1858949247611975,
          0.6334705020307428,
          0.857156989390653,
          1.1016962908562378,
          -2.6962695811727477,
          0.3671456344609041,
          -0.9456895970314112,
          0.8262109010679536,
          0.31775441451093905,
          -0.8140391902608517,
          -1.206299209830328,
          -1.8531579472430875,
          -0.8876817122602841,
          0.05353775292349346,
          -0.12607935820821967,
          -0.03448799870597999,
          0.09870641464153888,
          -0.1446216067198726,
          1.2998517221380463,
          -0.12470385761846105,
          0.47802670745805237,
          -0.9522869833192295,
          -1.636073353351388,
          -0.6203662373169074,
          -0.29660064998420343,
          1.3138788609614107,
          1.265578656104241,
          -0.9401464868752111,
          0.5336937679093039,
          0.9778422471052447,
          -0.3184371043335791,
          -0.281351219907658,
          -0.1001231941237401,
          -0.06297713617496802,
          1.0764980974966396,
          0.8182828791208246,
          -0.8802382564637786,
          0.5766341192681865,
          0.10400447689675228,
          2.811653328740616,
          0.6747095421809363,
          -0.0952407923845185,
          0.8569146552911229,
          0.17384052881986306,
          -0.5743496895141323,
          -0.020052297571810183,
          1.615604923206011,
          0.14114648417347928,
          0.8334472689749779,
          1.2835939015893971
         ]
        },
        {
         "boxpoints": false,
         "line": {
          "width": 1.3
         },
         "marker": {
          "color": "rgba(128, 0, 128, 1.0)"
         },
         "name": "D",
         "orientation": "v",
         "type": "box",
         "y": [
          1.4815474610296049,
          -1.9399949598560504,
          -0.5192410189081605,
          -0.7898645421626244,
          -1.7096375423618129,
          0.2714533654279277,
          -1.3968305414201274,
          0.6282768205350342,
          2.176222326302205,
          -1.0264252953976682,
          1.3904401099939683,
          0.010824542527164216,
          -1.2175794875521029,
          0.3716209577099888,
          -1.3120934728624076,
          3.170939661760095,
          -1.458745480205832,
          -0.26439735324349584,
          1.1148649811421643,
          -1.1834165391311606,
          0.19940803639036503,
          -0.6390283733918236,
          -0.2397171463813505,
          -0.6494781932428652,
          1.649310694332983,
          -0.2964914172594756,
          -0.9353650503551492,
          0.9157186257911698,
          0.4876738607533547,
          -0.48199022831880894,
          -0.8349616170091793,
          1.3455087541679283,
          1.0590188939449208,
          0.836366174132724,
          1.5584629863592703,
          0.8348947232424436,
          -1.5731745117470843,
          0.13442209475790842,
          0.47631553285110445,
          -1.2038030148104866,
          -0.4347025061416813,
          1.5278190505918834,
          -0.5130721965259754,
          -1.3361021034635543,
          0.9835424597703536,
          0.4705045921911986,
          -0.978921113520018,
          -0.7712720999658328,
          0.6585146037629854,
          -0.19953392510152093,
          0.6660646067585204,
          0.5970847152486468,
          0.7372721084064577,
          1.1911541187181174,
          1.1479936893825013,
          1.283248296703858,
          -0.7876409921955367,
          -0.9149652381778776,
          0.39827433505999343,
          -0.6710173250569395,
          0.8159945751152134,
          -1.5903063065526848,
          -0.4959982172304841,
          -1.3329954554344272,
          1.0199703277720364,
          2.4105667127187584,
          -0.32796522837022896,
          0.43346683329833796,
          0.8073583140133243,
          -1.5072450491863791,
          -1.6170993013177883,
          -0.326640720754919,
          -1.1417972275953043,
          -0.963167293179758,
          -1.1199542329043528,
          0.21898146132919458,
          -0.5538360340051623,
          0.437774048310451,
          -0.4554710344968834,
          0.8810671717263063,
          -0.18618693579618942,
          -0.22937403549950175,
          -1.2960949662883683,
          3.0244334385227534,
          0.09151833504505799,
          -1.2348946008715653,
          0.8435621156772137,
          1.5187612384908198,
          1.1205147462709322,
          1.4990579085824633,
          0.6940208707220915,
          0.03425611488741808,
          0.4662048603667723,
          0.9211490479984151,
          -1.538982321904577,
          -1.1380477010193768,
          0.10557234739990107,
          0.3037577914167502,
          1.5797856584030867,
          0.48563011243884
         ]
        }
       ],
       "layout": {
        "legend": {
         "bgcolor": "#F5F6F9",
         "font": {
          "color": "#4D5663"
         }
        },
        "paper_bgcolor": "#F5F6F9",
        "plot_bgcolor": "#F5F6F9",
        "template": {
         "data": {
          "bar": [
           {
            "error_x": {
             "color": "#2a3f5f"
            },
            "error_y": {
             "color": "#2a3f5f"
            },
            "marker": {
             "line": {
              "color": "#E5ECF6",
              "width": 0.5
             },
             "pattern": {
              "fillmode": "overlay",
              "size": 10,
              "solidity": 0.2
             }
            },
            "type": "bar"
           }
          ],
          "barpolar": [
           {
            "marker": {
             "line": {
              "color": "#E5ECF6",
              "width": 0.5
             },
             "pattern": {
              "fillmode": "overlay",
              "size": 10,
              "solidity": 0.2
             }
            },
            "type": "barpolar"
           }
          ],
          "carpet": [
           {
            "aaxis": {
             "endlinecolor": "#2a3f5f",
             "gridcolor": "white",
             "linecolor": "white",
             "minorgridcolor": "white",
             "startlinecolor": "#2a3f5f"
            },
            "baxis": {
             "endlinecolor": "#2a3f5f",
             "gridcolor": "white",
             "linecolor": "white",
             "minorgridcolor": "white",
             "startlinecolor": "#2a3f5f"
            },
            "type": "carpet"
           }
          ],
          "choropleth": [
           {
            "colorbar": {
             "outlinewidth": 0,
             "ticks": ""
            },
            "type": "choropleth"
           }
          ],
          "contour": [
           {
            "colorbar": {
             "outlinewidth": 0,
             "ticks": ""
            },
            "colorscale": [
             [
              0,
              "#0d0887"
             ],
             [
              0.1111111111111111,
              "#46039f"
             ],
             [
              0.2222222222222222,
              "#7201a8"
             ],
             [
              0.3333333333333333,
              "#9c179e"
             ],
             [
              0.4444444444444444,
              "#bd3786"
             ],
             [
              0.5555555555555556,
              "#d8576b"
             ],
             [
              0.6666666666666666,
              "#ed7953"
             ],
             [
              0.7777777777777778,
              "#fb9f3a"
             ],
             [
              0.8888888888888888,
              "#fdca26"
             ],
             [
              1,
              "#f0f921"
             ]
            ],
            "type": "contour"
           }
          ],
          "contourcarpet": [
           {
            "colorbar": {
             "outlinewidth": 0,
             "ticks": ""
            },
            "type": "contourcarpet"
           }
          ],
          "heatmap": [
           {
            "colorbar": {
             "outlinewidth": 0,
             "ticks": ""
            },
            "colorscale": [
             [
              0,
              "#0d0887"
             ],
             [
              0.1111111111111111,
              "#46039f"
             ],
             [
              0.2222222222222222,
              "#7201a8"
             ],
             [
              0.3333333333333333,
              "#9c179e"
             ],
             [
              0.4444444444444444,
              "#bd3786"
             ],
             [
              0.5555555555555556,
              "#d8576b"
             ],
             [
              0.6666666666666666,
              "#ed7953"
             ],
             [
              0.7777777777777778,
              "#fb9f3a"
             ],
             [
              0.8888888888888888,
              "#fdca26"
             ],
             [
              1,
              "#f0f921"
             ]
            ],
            "type": "heatmap"
           }
          ],
          "heatmapgl": [
           {
            "colorbar": {
             "outlinewidth": 0,
             "ticks": ""
            },
            "colorscale": [
             [
              0,
              "#0d0887"
             ],
             [
              0.1111111111111111,
              "#46039f"
             ],
             [
              0.2222222222222222,
              "#7201a8"
             ],
             [
              0.3333333333333333,
              "#9c179e"
             ],
             [
              0.4444444444444444,
              "#bd3786"
             ],
             [
              0.5555555555555556,
              "#d8576b"
             ],
             [
              0.6666666666666666,
              "#ed7953"
             ],
             [
              0.7777777777777778,
              "#fb9f3a"
             ],
             [
              0.8888888888888888,
              "#fdca26"
             ],
             [
              1,
              "#f0f921"
             ]
            ],
            "type": "heatmapgl"
           }
          ],
          "histogram": [
           {
            "marker": {
             "pattern": {
              "fillmode": "overlay",
              "size": 10,
              "solidity": 0.2
             }
            },
            "type": "histogram"
           }
          ],
          "histogram2d": [
           {
            "colorbar": {
             "outlinewidth": 0,
             "ticks": ""
            },
            "colorscale": [
             [
              0,
              "#0d0887"
             ],
             [
              0.1111111111111111,
              "#46039f"
             ],
             [
              0.2222222222222222,
              "#7201a8"
             ],
             [
              0.3333333333333333,
              "#9c179e"
             ],
             [
              0.4444444444444444,
              "#bd3786"
             ],
             [
              0.5555555555555556,
              "#d8576b"
             ],
             [
              0.6666666666666666,
              "#ed7953"
             ],
             [
              0.7777777777777778,
              "#fb9f3a"
             ],
             [
              0.8888888888888888,
              "#fdca26"
             ],
             [
              1,
              "#f0f921"
             ]
            ],
            "type": "histogram2d"
           }
          ],
          "histogram2dcontour": [
           {
            "colorbar": {
             "outlinewidth": 0,
             "ticks": ""
            },
            "colorscale": [
             [
              0,
              "#0d0887"
             ],
             [
              0.1111111111111111,
              "#46039f"
             ],
             [
              0.2222222222222222,
              "#7201a8"
             ],
             [
              0.3333333333333333,
              "#9c179e"
             ],
             [
              0.4444444444444444,
              "#bd3786"
             ],
             [
              0.5555555555555556,
              "#d8576b"
             ],
             [
              0.6666666666666666,
              "#ed7953"
             ],
             [
              0.7777777777777778,
              "#fb9f3a"
             ],
             [
              0.8888888888888888,
              "#fdca26"
             ],
             [
              1,
              "#f0f921"
             ]
            ],
            "type": "histogram2dcontour"
           }
          ],
          "mesh3d": [
           {
            "colorbar": {
             "outlinewidth": 0,
             "ticks": ""
            },
            "type": "mesh3d"
           }
          ],
          "parcoords": [
           {
            "line": {
             "colorbar": {
              "outlinewidth": 0,
              "ticks": ""
             }
            },
            "type": "parcoords"
           }
          ],
          "pie": [
           {
            "automargin": true,
            "type": "pie"
           }
          ],
          "scatter": [
           {
            "fillpattern": {
             "fillmode": "overlay",
             "size": 10,
             "solidity": 0.2
            },
            "type": "scatter"
           }
          ],
          "scatter3d": [
           {
            "line": {
             "colorbar": {
              "outlinewidth": 0,
              "ticks": ""
             }
            },
            "marker": {
             "colorbar": {
              "outlinewidth": 0,
              "ticks": ""
             }
            },
            "type": "scatter3d"
           }
          ],
          "scattercarpet": [
           {
            "marker": {
             "colorbar": {
              "outlinewidth": 0,
              "ticks": ""
             }
            },
            "type": "scattercarpet"
           }
          ],
          "scattergeo": [
           {
            "marker": {
             "colorbar": {
              "outlinewidth": 0,
              "ticks": ""
             }
            },
            "type": "scattergeo"
           }
          ],
          "scattergl": [
           {
            "marker": {
             "colorbar": {
              "outlinewidth": 0,
              "ticks": ""
             }
            },
            "type": "scattergl"
           }
          ],
          "scattermapbox": [
           {
            "marker": {
             "colorbar": {
              "outlinewidth": 0,
              "ticks": ""
             }
            },
            "type": "scattermapbox"
           }
          ],
          "scatterpolar": [
           {
            "marker": {
             "colorbar": {
              "outlinewidth": 0,
              "ticks": ""
             }
            },
            "type": "scatterpolar"
           }
          ],
          "scatterpolargl": [
           {
            "marker": {
             "colorbar": {
              "outlinewidth": 0,
              "ticks": ""
             }
            },
            "type": "scatterpolargl"
           }
          ],
          "scatterternary": [
           {
            "marker": {
             "colorbar": {
              "outlinewidth": 0,
              "ticks": ""
             }
            },
            "type": "scatterternary"
           }
          ],
          "surface": [
           {
            "colorbar": {
             "outlinewidth": 0,
             "ticks": ""
            },
            "colorscale": [
             [
              0,
              "#0d0887"
             ],
             [
              0.1111111111111111,
              "#46039f"
             ],
             [
              0.2222222222222222,
              "#7201a8"
             ],
             [
              0.3333333333333333,
              "#9c179e"
             ],
             [
              0.4444444444444444,
              "#bd3786"
             ],
             [
              0.5555555555555556,
              "#d8576b"
             ],
             [
              0.6666666666666666,
              "#ed7953"
             ],
             [
              0.7777777777777778,
              "#fb9f3a"
             ],
             [
              0.8888888888888888,
              "#fdca26"
             ],
             [
              1,
              "#f0f921"
             ]
            ],
            "type": "surface"
           }
          ],
          "table": [
           {
            "cells": {
             "fill": {
              "color": "#EBF0F8"
             },
             "line": {
              "color": "white"
             }
            },
            "header": {
             "fill": {
              "color": "#C8D4E3"
             },
             "line": {
              "color": "white"
             }
            },
            "type": "table"
           }
          ]
         },
         "layout": {
          "annotationdefaults": {
           "arrowcolor": "#2a3f5f",
           "arrowhead": 0,
           "arrowwidth": 1
          },
          "autotypenumbers": "strict",
          "coloraxis": {
           "colorbar": {
            "outlinewidth": 0,
            "ticks": ""
           }
          },
          "colorscale": {
           "diverging": [
            [
             0,
             "#8e0152"
            ],
            [
             0.1,
             "#c51b7d"
            ],
            [
             0.2,
             "#de77ae"
            ],
            [
             0.3,
             "#f1b6da"
            ],
            [
             0.4,
             "#fde0ef"
            ],
            [
             0.5,
             "#f7f7f7"
            ],
            [
             0.6,
             "#e6f5d0"
            ],
            [
             0.7,
             "#b8e186"
            ],
            [
             0.8,
             "#7fbc41"
            ],
            [
             0.9,
             "#4d9221"
            ],
            [
             1,
             "#276419"
            ]
           ],
           "sequential": [
            [
             0,
             "#0d0887"
            ],
            [
             0.1111111111111111,
             "#46039f"
            ],
            [
             0.2222222222222222,
             "#7201a8"
            ],
            [
             0.3333333333333333,
             "#9c179e"
            ],
            [
             0.4444444444444444,
             "#bd3786"
            ],
            [
             0.5555555555555556,
             "#d8576b"
            ],
            [
             0.6666666666666666,
             "#ed7953"
            ],
            [
             0.7777777777777778,
             "#fb9f3a"
            ],
            [
             0.8888888888888888,
             "#fdca26"
            ],
            [
             1,
             "#f0f921"
            ]
           ],
           "sequentialminus": [
            [
             0,
             "#0d0887"
            ],
            [
             0.1111111111111111,
             "#46039f"
            ],
            [
             0.2222222222222222,
             "#7201a8"
            ],
            [
             0.3333333333333333,
             "#9c179e"
            ],
            [
             0.4444444444444444,
             "#bd3786"
            ],
            [
             0.5555555555555556,
             "#d8576b"
            ],
            [
             0.6666666666666666,
             "#ed7953"
            ],
            [
             0.7777777777777778,
             "#fb9f3a"
            ],
            [
             0.8888888888888888,
             "#fdca26"
            ],
            [
             1,
             "#f0f921"
            ]
           ]
          },
          "colorway": [
           "#636efa",
           "#EF553B",
           "#00cc96",
           "#ab63fa",
           "#FFA15A",
           "#19d3f3",
           "#FF6692",
           "#B6E880",
           "#FF97FF",
           "#FECB52"
          ],
          "font": {
           "color": "#2a3f5f"
          },
          "geo": {
           "bgcolor": "white",
           "lakecolor": "white",
           "landcolor": "#E5ECF6",
           "showlakes": true,
           "showland": true,
           "subunitcolor": "white"
          },
          "hoverlabel": {
           "align": "left"
          },
          "hovermode": "closest",
          "mapbox": {
           "style": "light"
          },
          "paper_bgcolor": "white",
          "plot_bgcolor": "#E5ECF6",
          "polar": {
           "angularaxis": {
            "gridcolor": "white",
            "linecolor": "white",
            "ticks": ""
           },
           "bgcolor": "#E5ECF6",
           "radialaxis": {
            "gridcolor": "white",
            "linecolor": "white",
            "ticks": ""
           }
          },
          "scene": {
           "xaxis": {
            "backgroundcolor": "#E5ECF6",
            "gridcolor": "white",
            "gridwidth": 2,
            "linecolor": "white",
            "showbackground": true,
            "ticks": "",
            "zerolinecolor": "white"
           },
           "yaxis": {
            "backgroundcolor": "#E5ECF6",
            "gridcolor": "white",
            "gridwidth": 2,
            "linecolor": "white",
            "showbackground": true,
            "ticks": "",
            "zerolinecolor": "white"
           },
           "zaxis": {
            "backgroundcolor": "#E5ECF6",
            "gridcolor": "white",
            "gridwidth": 2,
            "linecolor": "white",
            "showbackground": true,
            "ticks": "",
            "zerolinecolor": "white"
           }
          },
          "shapedefaults": {
           "line": {
            "color": "#2a3f5f"
           }
          },
          "ternary": {
           "aaxis": {
            "gridcolor": "white",
            "linecolor": "white",
            "ticks": ""
           },
           "baxis": {
            "gridcolor": "white",
            "linecolor": "white",
            "ticks": ""
           },
           "bgcolor": "#E5ECF6",
           "caxis": {
            "gridcolor": "white",
            "linecolor": "white",
            "ticks": ""
           }
          },
          "title": {
           "x": 0.05
          },
          "xaxis": {
           "automargin": true,
           "gridcolor": "white",
           "linecolor": "white",
           "ticks": "",
           "title": {
            "standoff": 15
           },
           "zerolinecolor": "white",
           "zerolinewidth": 2
          },
          "yaxis": {
           "automargin": true,
           "gridcolor": "white",
           "linecolor": "white",
           "ticks": "",
           "title": {
            "standoff": 15
           },
           "zerolinecolor": "white",
           "zerolinewidth": 2
          }
         }
        },
        "title": {
         "font": {
          "color": "#4D5663"
         }
        },
        "xaxis": {
         "gridcolor": "#E1E5ED",
         "showgrid": true,
         "tickfont": {
          "color": "#4D5663"
         },
         "title": {
          "font": {
           "color": "#4D5663"
          },
          "text": ""
         },
         "zerolinecolor": "#E1E5ED"
        },
        "yaxis": {
         "gridcolor": "#E1E5ED",
         "showgrid": true,
         "tickfont": {
          "color": "#4D5663"
         },
         "title": {
          "font": {
           "color": "#4D5663"
          },
          "text": ""
         },
         "zerolinecolor": "#E1E5ED"
        }
       }
      },
      "text/html": [
       "<div>                            <div id=\"953ef089-4a4c-40e7-95e3-811b3273b88b\" class=\"plotly-graph-div\" style=\"height:525px; width:100%;\"></div>            <script type=\"text/javascript\">                require([\"plotly\"], function(Plotly) {                    window.PLOTLYENV=window.PLOTLYENV || {};\n",
       "                    window.PLOTLYENV.BASE_URL='https://plot.ly';                                    if (document.getElementById(\"953ef089-4a4c-40e7-95e3-811b3273b88b\")) {                    Plotly.newPlot(                        \"953ef089-4a4c-40e7-95e3-811b3273b88b\",                        [{\"boxpoints\":false,\"line\":{\"width\":1.3},\"marker\":{\"color\":\"rgba(255, 153, 51, 1.0)\"},\"name\":\"A\",\"orientation\":\"v\",\"y\":[-0.9667706031559152,-0.2859230331659126,-0.9598172529636709,1.6994273373143356,0.6679156281878831,-0.7921386723269326,0.6677875090604823,0.18842161040285368,1.2197013733786959,0.3740932827273875,0.6763751328413449,1.0494561021545243,0.07221209523657499,-0.8791766868027052,0.12162966723876437,-0.10357449487613801,-0.5094000022078592,0.6239757340029429,-1.2449571168622398,0.3594084096499897,1.6765297679482034,0.13509423235704984,0.2705117695196429,-0.7119820402020055,-0.12907758215134288,0.08319611741499265,0.430408914483296,1.1322952435002804,-0.9607675765706225,-0.1420858459791905,0.9348025697422142,1.0557892979911945,-0.7528462987022209,-2.1819039128157867,-1.4046399567682601,0.5861898200940868,-0.2911744291241955,-0.5509183453632426,-0.1127612420803882,0.6888117831712275,-0.1364296263697243,0.3277151667010575,0.33758301287551934,0.7981383473407812,-0.5749282127701741,0.0573190971632262,2.005614222502313,-0.36084649081020853,0.12500468331404857,-1.000769118596277,-1.2581246473715653,0.8727168540806867,0.5189249974409815,0.26003727857485476,0.9036555150907073,0.2100386271152475,0.8011528441099885,-1.4767051234211053,-0.2984036629837312,-2.9439786983978737,-0.2072924708400469,-0.8970346988592104,-1.562210930137962,-1.2007698303843537,0.5761557464682605,-0.3334196477312107,-0.1475085352910442,-1.9221100669005526,-0.37263094070359437,-0.2961685288793439,0.867188512443164,0.21374050067553674,-0.7153835481111949,1.2527062398553368,1.183821901529496,2.200161640450383,1.695203262152829,-1.2996409871306696,-0.4603476887302826,-0.3357203379555168,-0.00262303954320485,1.0643942398357191,0.326733874202913,-0.21373908648877013,-1.187563138747254,1.43363810629614,-0.78225692691843,0.0820954573532839,1.0920156152206064,1.3080169562280424,-1.3269670830691598,0.6523762892146466,-0.2841860611708281,-0.06085191281269883,0.1811085429676458,0.27988653937338126,-1.5113247093622162,1.9927114711577558,-1.2115200720889219,1.730413492768943],\"type\":\"box\"},{\"boxpoints\":false,\"line\":{\"width\":1.3},\"marker\":{\"color\":\"rgba(55, 128, 191, 1.0)\"},\"name\":\"B\",\"orientation\":\"v\",\"y\":[-1.3188190343406079,-0.5195427305961262,3.386453821992028,-0.09705417497171678,-0.297892863845476,-0.26756095229456917,0.5700665741375269,0.44529929220723913,-0.5510229873684799,1.7463483158674042,1.0118648347277688,0.1458689328478937,1.6735595274266766,0.7379430702485847,-0.7028689770607447,-0.07384558691768216,-1.7178452837414204,-1.9804215168285524,1.8325098041859333,0.4993355982667355,0.6159257998414503,-0.4792071402444821,0.3559177987316825,0.04575842620889139,-0.8937333342631764,-0.8458911423699876,1.2132038105440868,0.39373880580881887,1.1759919470652533,-2.068247462098143,-0.18747085870618696,-0.008194876832229107,-0.907129791010329,1.925063230443421,1.01885368544152,1.387438436729016,-1.0066955686153438,-0.9671187007033104,0.731976451138149,-0.9371741422340341,-0.768941907442198,0.0008091449242708666,0.07929553953223403,-0.012771443464080616,-1.091398000879962,0.6806417721703428,2.520321123148215,-1.6307687921002214,0.18510853667360713,-0.5309953436595065,-0.22650831604718946,-1.258650901561935,-0.29680745281406823,1.2488894303379945,0.9682519853659632,0.9040218291484514,0.4598920631590823,0.09824730993245537,2.4477757145812893,0.7180564035299077,0.0315662683405219,-0.22996495250392865,0.2690941714596704,-0.6618681113312663,2.4622984818930136,-0.9383539350729556,0.19670822651949327,0.332796451140872,-0.8804151825842351,1.0226176431072793,-0.9568652442737168,0.8632965925105605,0.3900306902768008,-0.9734778777546095,-0.03650594927790021,0.7698691732943076,-1.3788806224060008,1.2099361028622364,0.9999975718199677,-1.0101204359398641,0.5601146900966223,1.0474334676881487,0.9083479954052169,0.36007125845211757,0.7990499474418643,0.047683355715569184,0.9159390582775966,1.1103493975674814,-0.7261520132147986,-0.0351697431708248,0.8903375868875737,-0.832922227123769,1.3524321907790178,-2.299743297174103,-0.10650146403260315,-0.8406462819832169,-1.0635316643185633,0.7775874644776857,0.9727642264248069,-0.4108309101944478],\"type\":\"box\"},{\"boxpoints\":false,\"line\":{\"width\":1.3},\"marker\":{\"color\":\"rgba(50, 171, 96, 1.0)\"},\"name\":\"C\",\"orientation\":\"v\",\"y\":[0.25384966049770624,-0.5072527135914842,-0.337956158122121,-0.021352989724285766,1.1798868936955196,-1.0619700074535035,-1.242640821990061,0.63718481054885,1.182983470444718,1.1803557563755003,1.4251439506467716,-0.059659649994779365,-0.8183834369391694,-0.5480051785885504,0.6047796513034572,-1.532362548338797,1.9239531136213526,-2.2729330116717357,0.7038139573002804,-0.5783982798836852,-0.40423646886615494,-1.4741140623505002,0.9421230293344746,-0.40488433389262524,0.7385946957282342,-1.220305479372563,0.5083037439106535,-1.6573596969282112,-0.30622793420655764,1.2090117296626592,-2.092375564918579,-0.07912412923330465,0.9907154607991587,1.3835363731413068,0.062050475447299046,-1.3279093169917124,-0.24090333909465758,-0.8686632118413525,-0.8737433194791209,1.286057339281788,1.1686997283325733,0.11463104050926562,-0.49333094725935783,-0.7163251198552059,-0.3867609736290793,-0.9300779087220071,-0.5029500766553069,-0.5099766136711134,0.7650616600011578,0.40885174878448294,0.1858949247611975,0.6334705020307428,0.857156989390653,1.1016962908562378,-2.6962695811727477,0.3671456344609041,-0.9456895970314112,0.8262109010679536,0.31775441451093905,-0.8140391902608517,-1.206299209830328,-1.8531579472430875,-0.8876817122602841,0.05353775292349346,-0.12607935820821967,-0.03448799870597999,0.09870641464153888,-0.1446216067198726,1.2998517221380463,-0.12470385761846105,0.47802670745805237,-0.9522869833192295,-1.636073353351388,-0.6203662373169074,-0.29660064998420343,1.3138788609614107,1.265578656104241,-0.9401464868752111,0.5336937679093039,0.9778422471052447,-0.3184371043335791,-0.281351219907658,-0.1001231941237401,-0.06297713617496802,1.0764980974966396,0.8182828791208246,-0.8802382564637786,0.5766341192681865,0.10400447689675228,2.811653328740616,0.6747095421809363,-0.0952407923845185,0.8569146552911229,0.17384052881986306,-0.5743496895141323,-0.020052297571810183,1.615604923206011,0.14114648417347928,0.8334472689749779,1.2835939015893971],\"type\":\"box\"},{\"boxpoints\":false,\"line\":{\"width\":1.3},\"marker\":{\"color\":\"rgba(128, 0, 128, 1.0)\"},\"name\":\"D\",\"orientation\":\"v\",\"y\":[1.4815474610296049,-1.9399949598560504,-0.5192410189081605,-0.7898645421626244,-1.7096375423618129,0.2714533654279277,-1.3968305414201274,0.6282768205350342,2.176222326302205,-1.0264252953976682,1.3904401099939683,0.010824542527164216,-1.2175794875521029,0.3716209577099888,-1.3120934728624076,3.170939661760095,-1.458745480205832,-0.26439735324349584,1.1148649811421643,-1.1834165391311606,0.19940803639036503,-0.6390283733918236,-0.2397171463813505,-0.6494781932428652,1.649310694332983,-0.2964914172594756,-0.9353650503551492,0.9157186257911698,0.4876738607533547,-0.48199022831880894,-0.8349616170091793,1.3455087541679283,1.0590188939449208,0.836366174132724,1.5584629863592703,0.8348947232424436,-1.5731745117470843,0.13442209475790842,0.47631553285110445,-1.2038030148104866,-0.4347025061416813,1.5278190505918834,-0.5130721965259754,-1.3361021034635543,0.9835424597703536,0.4705045921911986,-0.978921113520018,-0.7712720999658328,0.6585146037629854,-0.19953392510152093,0.6660646067585204,0.5970847152486468,0.7372721084064577,1.1911541187181174,1.1479936893825013,1.283248296703858,-0.7876409921955367,-0.9149652381778776,0.39827433505999343,-0.6710173250569395,0.8159945751152134,-1.5903063065526848,-0.4959982172304841,-1.3329954554344272,1.0199703277720364,2.4105667127187584,-0.32796522837022896,0.43346683329833796,0.8073583140133243,-1.5072450491863791,-1.6170993013177883,-0.326640720754919,-1.1417972275953043,-0.963167293179758,-1.1199542329043528,0.21898146132919458,-0.5538360340051623,0.437774048310451,-0.4554710344968834,0.8810671717263063,-0.18618693579618942,-0.22937403549950175,-1.2960949662883683,3.0244334385227534,0.09151833504505799,-1.2348946008715653,0.8435621156772137,1.5187612384908198,1.1205147462709322,1.4990579085824633,0.6940208707220915,0.03425611488741808,0.4662048603667723,0.9211490479984151,-1.538982321904577,-1.1380477010193768,0.10557234739990107,0.3037577914167502,1.5797856584030867,0.48563011243884],\"type\":\"box\"}],                        {\"legend\":{\"bgcolor\":\"#F5F6F9\",\"font\":{\"color\":\"#4D5663\"}},\"paper_bgcolor\":\"#F5F6F9\",\"plot_bgcolor\":\"#F5F6F9\",\"template\":{\"data\":{\"barpolar\":[{\"marker\":{\"line\":{\"color\":\"#E5ECF6\",\"width\":0.5},\"pattern\":{\"fillmode\":\"overlay\",\"size\":10,\"solidity\":0.2}},\"type\":\"barpolar\"}],\"bar\":[{\"error_x\":{\"color\":\"#2a3f5f\"},\"error_y\":{\"color\":\"#2a3f5f\"},\"marker\":{\"line\":{\"color\":\"#E5ECF6\",\"width\":0.5},\"pattern\":{\"fillmode\":\"overlay\",\"size\":10,\"solidity\":0.2}},\"type\":\"bar\"}],\"carpet\":[{\"aaxis\":{\"endlinecolor\":\"#2a3f5f\",\"gridcolor\":\"white\",\"linecolor\":\"white\",\"minorgridcolor\":\"white\",\"startlinecolor\":\"#2a3f5f\"},\"baxis\":{\"endlinecolor\":\"#2a3f5f\",\"gridcolor\":\"white\",\"linecolor\":\"white\",\"minorgridcolor\":\"white\",\"startlinecolor\":\"#2a3f5f\"},\"type\":\"carpet\"}],\"choropleth\":[{\"colorbar\":{\"outlinewidth\":0,\"ticks\":\"\"},\"type\":\"choropleth\"}],\"contourcarpet\":[{\"colorbar\":{\"outlinewidth\":0,\"ticks\":\"\"},\"type\":\"contourcarpet\"}],\"contour\":[{\"colorbar\":{\"outlinewidth\":0,\"ticks\":\"\"},\"colorscale\":[[0.0,\"#0d0887\"],[0.1111111111111111,\"#46039f\"],[0.2222222222222222,\"#7201a8\"],[0.3333333333333333,\"#9c179e\"],[0.4444444444444444,\"#bd3786\"],[0.5555555555555556,\"#d8576b\"],[0.6666666666666666,\"#ed7953\"],[0.7777777777777778,\"#fb9f3a\"],[0.8888888888888888,\"#fdca26\"],[1.0,\"#f0f921\"]],\"type\":\"contour\"}],\"heatmapgl\":[{\"colorbar\":{\"outlinewidth\":0,\"ticks\":\"\"},\"colorscale\":[[0.0,\"#0d0887\"],[0.1111111111111111,\"#46039f\"],[0.2222222222222222,\"#7201a8\"],[0.3333333333333333,\"#9c179e\"],[0.4444444444444444,\"#bd3786\"],[0.5555555555555556,\"#d8576b\"],[0.6666666666666666,\"#ed7953\"],[0.7777777777777778,\"#fb9f3a\"],[0.8888888888888888,\"#fdca26\"],[1.0,\"#f0f921\"]],\"type\":\"heatmapgl\"}],\"heatmap\":[{\"colorbar\":{\"outlinewidth\":0,\"ticks\":\"\"},\"colorscale\":[[0.0,\"#0d0887\"],[0.1111111111111111,\"#46039f\"],[0.2222222222222222,\"#7201a8\"],[0.3333333333333333,\"#9c179e\"],[0.4444444444444444,\"#bd3786\"],[0.5555555555555556,\"#d8576b\"],[0.6666666666666666,\"#ed7953\"],[0.7777777777777778,\"#fb9f3a\"],[0.8888888888888888,\"#fdca26\"],[1.0,\"#f0f921\"]],\"type\":\"heatmap\"}],\"histogram2dcontour\":[{\"colorbar\":{\"outlinewidth\":0,\"ticks\":\"\"},\"colorscale\":[[0.0,\"#0d0887\"],[0.1111111111111111,\"#46039f\"],[0.2222222222222222,\"#7201a8\"],[0.3333333333333333,\"#9c179e\"],[0.4444444444444444,\"#bd3786\"],[0.5555555555555556,\"#d8576b\"],[0.6666666666666666,\"#ed7953\"],[0.7777777777777778,\"#fb9f3a\"],[0.8888888888888888,\"#fdca26\"],[1.0,\"#f0f921\"]],\"type\":\"histogram2dcontour\"}],\"histogram2d\":[{\"colorbar\":{\"outlinewidth\":0,\"ticks\":\"\"},\"colorscale\":[[0.0,\"#0d0887\"],[0.1111111111111111,\"#46039f\"],[0.2222222222222222,\"#7201a8\"],[0.3333333333333333,\"#9c179e\"],[0.4444444444444444,\"#bd3786\"],[0.5555555555555556,\"#d8576b\"],[0.6666666666666666,\"#ed7953\"],[0.7777777777777778,\"#fb9f3a\"],[0.8888888888888888,\"#fdca26\"],[1.0,\"#f0f921\"]],\"type\":\"histogram2d\"}],\"histogram\":[{\"marker\":{\"pattern\":{\"fillmode\":\"overlay\",\"size\":10,\"solidity\":0.2}},\"type\":\"histogram\"}],\"mesh3d\":[{\"colorbar\":{\"outlinewidth\":0,\"ticks\":\"\"},\"type\":\"mesh3d\"}],\"parcoords\":[{\"line\":{\"colorbar\":{\"outlinewidth\":0,\"ticks\":\"\"}},\"type\":\"parcoords\"}],\"pie\":[{\"automargin\":true,\"type\":\"pie\"}],\"scatter3d\":[{\"line\":{\"colorbar\":{\"outlinewidth\":0,\"ticks\":\"\"}},\"marker\":{\"colorbar\":{\"outlinewidth\":0,\"ticks\":\"\"}},\"type\":\"scatter3d\"}],\"scattercarpet\":[{\"marker\":{\"colorbar\":{\"outlinewidth\":0,\"ticks\":\"\"}},\"type\":\"scattercarpet\"}],\"scattergeo\":[{\"marker\":{\"colorbar\":{\"outlinewidth\":0,\"ticks\":\"\"}},\"type\":\"scattergeo\"}],\"scattergl\":[{\"marker\":{\"colorbar\":{\"outlinewidth\":0,\"ticks\":\"\"}},\"type\":\"scattergl\"}],\"scattermapbox\":[{\"marker\":{\"colorbar\":{\"outlinewidth\":0,\"ticks\":\"\"}},\"type\":\"scattermapbox\"}],\"scatterpolargl\":[{\"marker\":{\"colorbar\":{\"outlinewidth\":0,\"ticks\":\"\"}},\"type\":\"scatterpolargl\"}],\"scatterpolar\":[{\"marker\":{\"colorbar\":{\"outlinewidth\":0,\"ticks\":\"\"}},\"type\":\"scatterpolar\"}],\"scatter\":[{\"fillpattern\":{\"fillmode\":\"overlay\",\"size\":10,\"solidity\":0.2},\"type\":\"scatter\"}],\"scatterternary\":[{\"marker\":{\"colorbar\":{\"outlinewidth\":0,\"ticks\":\"\"}},\"type\":\"scatterternary\"}],\"surface\":[{\"colorbar\":{\"outlinewidth\":0,\"ticks\":\"\"},\"colorscale\":[[0.0,\"#0d0887\"],[0.1111111111111111,\"#46039f\"],[0.2222222222222222,\"#7201a8\"],[0.3333333333333333,\"#9c179e\"],[0.4444444444444444,\"#bd3786\"],[0.5555555555555556,\"#d8576b\"],[0.6666666666666666,\"#ed7953\"],[0.7777777777777778,\"#fb9f3a\"],[0.8888888888888888,\"#fdca26\"],[1.0,\"#f0f921\"]],\"type\":\"surface\"}],\"table\":[{\"cells\":{\"fill\":{\"color\":\"#EBF0F8\"},\"line\":{\"color\":\"white\"}},\"header\":{\"fill\":{\"color\":\"#C8D4E3\"},\"line\":{\"color\":\"white\"}},\"type\":\"table\"}]},\"layout\":{\"annotationdefaults\":{\"arrowcolor\":\"#2a3f5f\",\"arrowhead\":0,\"arrowwidth\":1},\"autotypenumbers\":\"strict\",\"coloraxis\":{\"colorbar\":{\"outlinewidth\":0,\"ticks\":\"\"}},\"colorscale\":{\"diverging\":[[0,\"#8e0152\"],[0.1,\"#c51b7d\"],[0.2,\"#de77ae\"],[0.3,\"#f1b6da\"],[0.4,\"#fde0ef\"],[0.5,\"#f7f7f7\"],[0.6,\"#e6f5d0\"],[0.7,\"#b8e186\"],[0.8,\"#7fbc41\"],[0.9,\"#4d9221\"],[1,\"#276419\"]],\"sequential\":[[0.0,\"#0d0887\"],[0.1111111111111111,\"#46039f\"],[0.2222222222222222,\"#7201a8\"],[0.3333333333333333,\"#9c179e\"],[0.4444444444444444,\"#bd3786\"],[0.5555555555555556,\"#d8576b\"],[0.6666666666666666,\"#ed7953\"],[0.7777777777777778,\"#fb9f3a\"],[0.8888888888888888,\"#fdca26\"],[1.0,\"#f0f921\"]],\"sequentialminus\":[[0.0,\"#0d0887\"],[0.1111111111111111,\"#46039f\"],[0.2222222222222222,\"#7201a8\"],[0.3333333333333333,\"#9c179e\"],[0.4444444444444444,\"#bd3786\"],[0.5555555555555556,\"#d8576b\"],[0.6666666666666666,\"#ed7953\"],[0.7777777777777778,\"#fb9f3a\"],[0.8888888888888888,\"#fdca26\"],[1.0,\"#f0f921\"]]},\"colorway\":[\"#636efa\",\"#EF553B\",\"#00cc96\",\"#ab63fa\",\"#FFA15A\",\"#19d3f3\",\"#FF6692\",\"#B6E880\",\"#FF97FF\",\"#FECB52\"],\"font\":{\"color\":\"#2a3f5f\"},\"geo\":{\"bgcolor\":\"white\",\"lakecolor\":\"white\",\"landcolor\":\"#E5ECF6\",\"showlakes\":true,\"showland\":true,\"subunitcolor\":\"white\"},\"hoverlabel\":{\"align\":\"left\"},\"hovermode\":\"closest\",\"mapbox\":{\"style\":\"light\"},\"paper_bgcolor\":\"white\",\"plot_bgcolor\":\"#E5ECF6\",\"polar\":{\"angularaxis\":{\"gridcolor\":\"white\",\"linecolor\":\"white\",\"ticks\":\"\"},\"bgcolor\":\"#E5ECF6\",\"radialaxis\":{\"gridcolor\":\"white\",\"linecolor\":\"white\",\"ticks\":\"\"}},\"scene\":{\"xaxis\":{\"backgroundcolor\":\"#E5ECF6\",\"gridcolor\":\"white\",\"gridwidth\":2,\"linecolor\":\"white\",\"showbackground\":true,\"ticks\":\"\",\"zerolinecolor\":\"white\"},\"yaxis\":{\"backgroundcolor\":\"#E5ECF6\",\"gridcolor\":\"white\",\"gridwidth\":2,\"linecolor\":\"white\",\"showbackground\":true,\"ticks\":\"\",\"zerolinecolor\":\"white\"},\"zaxis\":{\"backgroundcolor\":\"#E5ECF6\",\"gridcolor\":\"white\",\"gridwidth\":2,\"linecolor\":\"white\",\"showbackground\":true,\"ticks\":\"\",\"zerolinecolor\":\"white\"}},\"shapedefaults\":{\"line\":{\"color\":\"#2a3f5f\"}},\"ternary\":{\"aaxis\":{\"gridcolor\":\"white\",\"linecolor\":\"white\",\"ticks\":\"\"},\"baxis\":{\"gridcolor\":\"white\",\"linecolor\":\"white\",\"ticks\":\"\"},\"bgcolor\":\"#E5ECF6\",\"caxis\":{\"gridcolor\":\"white\",\"linecolor\":\"white\",\"ticks\":\"\"}},\"title\":{\"x\":0.05},\"xaxis\":{\"automargin\":true,\"gridcolor\":\"white\",\"linecolor\":\"white\",\"ticks\":\"\",\"title\":{\"standoff\":15},\"zerolinecolor\":\"white\",\"zerolinewidth\":2},\"yaxis\":{\"automargin\":true,\"gridcolor\":\"white\",\"linecolor\":\"white\",\"ticks\":\"\",\"title\":{\"standoff\":15},\"zerolinecolor\":\"white\",\"zerolinewidth\":2}}},\"title\":{\"font\":{\"color\":\"#4D5663\"}},\"xaxis\":{\"gridcolor\":\"#E1E5ED\",\"showgrid\":true,\"tickfont\":{\"color\":\"#4D5663\"},\"title\":{\"font\":{\"color\":\"#4D5663\"},\"text\":\"\"},\"zerolinecolor\":\"#E1E5ED\"},\"yaxis\":{\"gridcolor\":\"#E1E5ED\",\"showgrid\":true,\"tickfont\":{\"color\":\"#4D5663\"},\"title\":{\"font\":{\"color\":\"#4D5663\"},\"text\":\"\"},\"zerolinecolor\":\"#E1E5ED\"}},                        {\"showLink\": true, \"linkText\": \"Export to plot.ly\", \"plotlyServerURL\": \"https://plot.ly\", \"responsive\": true}                    ).then(function(){\n",
       "                            \n",
       "var gd = document.getElementById('953ef089-4a4c-40e7-95e3-811b3273b88b');\n",
       "var x = new MutationObserver(function (mutations, observer) {{\n",
       "        var display = window.getComputedStyle(gd).display;\n",
       "        if (!display || display === 'none') {{\n",
       "            console.log([gd, 'removed!']);\n",
       "            Plotly.purge(gd);\n",
       "            observer.disconnect();\n",
       "        }}\n",
       "}});\n",
       "\n",
       "// Listen for the removal of the full notebook cells\n",
       "var notebookContainer = gd.closest('#notebook-container');\n",
       "if (notebookContainer) {{\n",
       "    x.observe(notebookContainer, {childList: true});\n",
       "}}\n",
       "\n",
       "// Listen for the clearing of the current output cell\n",
       "var outputEl = gd.closest('.output');\n",
       "if (outputEl) {{\n",
       "    x.observe(outputEl, {childList: true});\n",
       "}}\n",
       "\n",
       "                        })                };                });            </script>        </div>"
      ]
     },
     "metadata": {},
     "output_type": "display_data"
    }
   ],
   "source": [
    "df.iplot(kind='box')"
   ]
  },
  {
   "cell_type": "markdown",
   "id": "915f909f",
   "metadata": {},
   "source": [
    "### 3d Surface"
   ]
  },
  {
   "cell_type": "code",
   "execution_count": 16,
   "id": "46371fd3",
   "metadata": {},
   "outputs": [
    {
     "data": {
      "application/vnd.plotly.v1+json": {
       "config": {
        "linkText": "Export to plot.ly",
        "plotlyServerURL": "https://plot.ly",
        "showLink": true
       },
       "data": [
        {
         "colorscale": [
          [
           0,
           "rgb(165,0,38)"
          ],
          [
           0.1,
           "rgb(215,48,39)"
          ],
          [
           0.2,
           "rgb(244,109,67)"
          ],
          [
           0.3,
           "rgb(253,174,97)"
          ],
          [
           0.4,
           "rgb(254,224,144)"
          ],
          [
           0.5,
           "rgb(255,255,191)"
          ],
          [
           0.6,
           "rgb(224,243,248)"
          ],
          [
           0.7,
           "rgb(171,217,233)"
          ],
          [
           0.8,
           "rgb(116,173,209)"
          ],
          [
           0.9,
           "rgb(69,117,180)"
          ],
          [
           1,
           "rgb(49,54,149)"
          ]
         ],
         "type": "surface",
         "x": [
          0,
          1,
          2,
          3,
          4
         ],
         "y": [
          "x",
          "y",
          "z"
         ],
         "z": [
          [
           1,
           2,
           3,
           4,
           5
          ],
          [
           10,
           20,
           30,
           20,
           10
          ],
          [
           5,
           4,
           3,
           2,
           1
          ]
         ]
        }
       ],
       "layout": {
        "legend": {
         "bgcolor": "#F5F6F9",
         "font": {
          "color": "#4D5663"
         }
        },
        "paper_bgcolor": "#F5F6F9",
        "plot_bgcolor": "#F5F6F9",
        "template": {
         "data": {
          "bar": [
           {
            "error_x": {
             "color": "#2a3f5f"
            },
            "error_y": {
             "color": "#2a3f5f"
            },
            "marker": {
             "line": {
              "color": "#E5ECF6",
              "width": 0.5
             },
             "pattern": {
              "fillmode": "overlay",
              "size": 10,
              "solidity": 0.2
             }
            },
            "type": "bar"
           }
          ],
          "barpolar": [
           {
            "marker": {
             "line": {
              "color": "#E5ECF6",
              "width": 0.5
             },
             "pattern": {
              "fillmode": "overlay",
              "size": 10,
              "solidity": 0.2
             }
            },
            "type": "barpolar"
           }
          ],
          "carpet": [
           {
            "aaxis": {
             "endlinecolor": "#2a3f5f",
             "gridcolor": "white",
             "linecolor": "white",
             "minorgridcolor": "white",
             "startlinecolor": "#2a3f5f"
            },
            "baxis": {
             "endlinecolor": "#2a3f5f",
             "gridcolor": "white",
             "linecolor": "white",
             "minorgridcolor": "white",
             "startlinecolor": "#2a3f5f"
            },
            "type": "carpet"
           }
          ],
          "choropleth": [
           {
            "colorbar": {
             "outlinewidth": 0,
             "ticks": ""
            },
            "type": "choropleth"
           }
          ],
          "contour": [
           {
            "colorbar": {
             "outlinewidth": 0,
             "ticks": ""
            },
            "colorscale": [
             [
              0,
              "#0d0887"
             ],
             [
              0.1111111111111111,
              "#46039f"
             ],
             [
              0.2222222222222222,
              "#7201a8"
             ],
             [
              0.3333333333333333,
              "#9c179e"
             ],
             [
              0.4444444444444444,
              "#bd3786"
             ],
             [
              0.5555555555555556,
              "#d8576b"
             ],
             [
              0.6666666666666666,
              "#ed7953"
             ],
             [
              0.7777777777777778,
              "#fb9f3a"
             ],
             [
              0.8888888888888888,
              "#fdca26"
             ],
             [
              1,
              "#f0f921"
             ]
            ],
            "type": "contour"
           }
          ],
          "contourcarpet": [
           {
            "colorbar": {
             "outlinewidth": 0,
             "ticks": ""
            },
            "type": "contourcarpet"
           }
          ],
          "heatmap": [
           {
            "colorbar": {
             "outlinewidth": 0,
             "ticks": ""
            },
            "colorscale": [
             [
              0,
              "#0d0887"
             ],
             [
              0.1111111111111111,
              "#46039f"
             ],
             [
              0.2222222222222222,
              "#7201a8"
             ],
             [
              0.3333333333333333,
              "#9c179e"
             ],
             [
              0.4444444444444444,
              "#bd3786"
             ],
             [
              0.5555555555555556,
              "#d8576b"
             ],
             [
              0.6666666666666666,
              "#ed7953"
             ],
             [
              0.7777777777777778,
              "#fb9f3a"
             ],
             [
              0.8888888888888888,
              "#fdca26"
             ],
             [
              1,
              "#f0f921"
             ]
            ],
            "type": "heatmap"
           }
          ],
          "heatmapgl": [
           {
            "colorbar": {
             "outlinewidth": 0,
             "ticks": ""
            },
            "colorscale": [
             [
              0,
              "#0d0887"
             ],
             [
              0.1111111111111111,
              "#46039f"
             ],
             [
              0.2222222222222222,
              "#7201a8"
             ],
             [
              0.3333333333333333,
              "#9c179e"
             ],
             [
              0.4444444444444444,
              "#bd3786"
             ],
             [
              0.5555555555555556,
              "#d8576b"
             ],
             [
              0.6666666666666666,
              "#ed7953"
             ],
             [
              0.7777777777777778,
              "#fb9f3a"
             ],
             [
              0.8888888888888888,
              "#fdca26"
             ],
             [
              1,
              "#f0f921"
             ]
            ],
            "type": "heatmapgl"
           }
          ],
          "histogram": [
           {
            "marker": {
             "pattern": {
              "fillmode": "overlay",
              "size": 10,
              "solidity": 0.2
             }
            },
            "type": "histogram"
           }
          ],
          "histogram2d": [
           {
            "colorbar": {
             "outlinewidth": 0,
             "ticks": ""
            },
            "colorscale": [
             [
              0,
              "#0d0887"
             ],
             [
              0.1111111111111111,
              "#46039f"
             ],
             [
              0.2222222222222222,
              "#7201a8"
             ],
             [
              0.3333333333333333,
              "#9c179e"
             ],
             [
              0.4444444444444444,
              "#bd3786"
             ],
             [
              0.5555555555555556,
              "#d8576b"
             ],
             [
              0.6666666666666666,
              "#ed7953"
             ],
             [
              0.7777777777777778,
              "#fb9f3a"
             ],
             [
              0.8888888888888888,
              "#fdca26"
             ],
             [
              1,
              "#f0f921"
             ]
            ],
            "type": "histogram2d"
           }
          ],
          "histogram2dcontour": [
           {
            "colorbar": {
             "outlinewidth": 0,
             "ticks": ""
            },
            "colorscale": [
             [
              0,
              "#0d0887"
             ],
             [
              0.1111111111111111,
              "#46039f"
             ],
             [
              0.2222222222222222,
              "#7201a8"
             ],
             [
              0.3333333333333333,
              "#9c179e"
             ],
             [
              0.4444444444444444,
              "#bd3786"
             ],
             [
              0.5555555555555556,
              "#d8576b"
             ],
             [
              0.6666666666666666,
              "#ed7953"
             ],
             [
              0.7777777777777778,
              "#fb9f3a"
             ],
             [
              0.8888888888888888,
              "#fdca26"
             ],
             [
              1,
              "#f0f921"
             ]
            ],
            "type": "histogram2dcontour"
           }
          ],
          "mesh3d": [
           {
            "colorbar": {
             "outlinewidth": 0,
             "ticks": ""
            },
            "type": "mesh3d"
           }
          ],
          "parcoords": [
           {
            "line": {
             "colorbar": {
              "outlinewidth": 0,
              "ticks": ""
             }
            },
            "type": "parcoords"
           }
          ],
          "pie": [
           {
            "automargin": true,
            "type": "pie"
           }
          ],
          "scatter": [
           {
            "fillpattern": {
             "fillmode": "overlay",
             "size": 10,
             "solidity": 0.2
            },
            "type": "scatter"
           }
          ],
          "scatter3d": [
           {
            "line": {
             "colorbar": {
              "outlinewidth": 0,
              "ticks": ""
             }
            },
            "marker": {
             "colorbar": {
              "outlinewidth": 0,
              "ticks": ""
             }
            },
            "type": "scatter3d"
           }
          ],
          "scattercarpet": [
           {
            "marker": {
             "colorbar": {
              "outlinewidth": 0,
              "ticks": ""
             }
            },
            "type": "scattercarpet"
           }
          ],
          "scattergeo": [
           {
            "marker": {
             "colorbar": {
              "outlinewidth": 0,
              "ticks": ""
             }
            },
            "type": "scattergeo"
           }
          ],
          "scattergl": [
           {
            "marker": {
             "colorbar": {
              "outlinewidth": 0,
              "ticks": ""
             }
            },
            "type": "scattergl"
           }
          ],
          "scattermapbox": [
           {
            "marker": {
             "colorbar": {
              "outlinewidth": 0,
              "ticks": ""
             }
            },
            "type": "scattermapbox"
           }
          ],
          "scatterpolar": [
           {
            "marker": {
             "colorbar": {
              "outlinewidth": 0,
              "ticks": ""
             }
            },
            "type": "scatterpolar"
           }
          ],
          "scatterpolargl": [
           {
            "marker": {
             "colorbar": {
              "outlinewidth": 0,
              "ticks": ""
             }
            },
            "type": "scatterpolargl"
           }
          ],
          "scatterternary": [
           {
            "marker": {
             "colorbar": {
              "outlinewidth": 0,
              "ticks": ""
             }
            },
            "type": "scatterternary"
           }
          ],
          "surface": [
           {
            "colorbar": {
             "outlinewidth": 0,
             "ticks": ""
            },
            "colorscale": [
             [
              0,
              "#0d0887"
             ],
             [
              0.1111111111111111,
              "#46039f"
             ],
             [
              0.2222222222222222,
              "#7201a8"
             ],
             [
              0.3333333333333333,
              "#9c179e"
             ],
             [
              0.4444444444444444,
              "#bd3786"
             ],
             [
              0.5555555555555556,
              "#d8576b"
             ],
             [
              0.6666666666666666,
              "#ed7953"
             ],
             [
              0.7777777777777778,
              "#fb9f3a"
             ],
             [
              0.8888888888888888,
              "#fdca26"
             ],
             [
              1,
              "#f0f921"
             ]
            ],
            "type": "surface"
           }
          ],
          "table": [
           {
            "cells": {
             "fill": {
              "color": "#EBF0F8"
             },
             "line": {
              "color": "white"
             }
            },
            "header": {
             "fill": {
              "color": "#C8D4E3"
             },
             "line": {
              "color": "white"
             }
            },
            "type": "table"
           }
          ]
         },
         "layout": {
          "annotationdefaults": {
           "arrowcolor": "#2a3f5f",
           "arrowhead": 0,
           "arrowwidth": 1
          },
          "autotypenumbers": "strict",
          "coloraxis": {
           "colorbar": {
            "outlinewidth": 0,
            "ticks": ""
           }
          },
          "colorscale": {
           "diverging": [
            [
             0,
             "#8e0152"
            ],
            [
             0.1,
             "#c51b7d"
            ],
            [
             0.2,
             "#de77ae"
            ],
            [
             0.3,
             "#f1b6da"
            ],
            [
             0.4,
             "#fde0ef"
            ],
            [
             0.5,
             "#f7f7f7"
            ],
            [
             0.6,
             "#e6f5d0"
            ],
            [
             0.7,
             "#b8e186"
            ],
            [
             0.8,
             "#7fbc41"
            ],
            [
             0.9,
             "#4d9221"
            ],
            [
             1,
             "#276419"
            ]
           ],
           "sequential": [
            [
             0,
             "#0d0887"
            ],
            [
             0.1111111111111111,
             "#46039f"
            ],
            [
             0.2222222222222222,
             "#7201a8"
            ],
            [
             0.3333333333333333,
             "#9c179e"
            ],
            [
             0.4444444444444444,
             "#bd3786"
            ],
            [
             0.5555555555555556,
             "#d8576b"
            ],
            [
             0.6666666666666666,
             "#ed7953"
            ],
            [
             0.7777777777777778,
             "#fb9f3a"
            ],
            [
             0.8888888888888888,
             "#fdca26"
            ],
            [
             1,
             "#f0f921"
            ]
           ],
           "sequentialminus": [
            [
             0,
             "#0d0887"
            ],
            [
             0.1111111111111111,
             "#46039f"
            ],
            [
             0.2222222222222222,
             "#7201a8"
            ],
            [
             0.3333333333333333,
             "#9c179e"
            ],
            [
             0.4444444444444444,
             "#bd3786"
            ],
            [
             0.5555555555555556,
             "#d8576b"
            ],
            [
             0.6666666666666666,
             "#ed7953"
            ],
            [
             0.7777777777777778,
             "#fb9f3a"
            ],
            [
             0.8888888888888888,
             "#fdca26"
            ],
            [
             1,
             "#f0f921"
            ]
           ]
          },
          "colorway": [
           "#636efa",
           "#EF553B",
           "#00cc96",
           "#ab63fa",
           "#FFA15A",
           "#19d3f3",
           "#FF6692",
           "#B6E880",
           "#FF97FF",
           "#FECB52"
          ],
          "font": {
           "color": "#2a3f5f"
          },
          "geo": {
           "bgcolor": "white",
           "lakecolor": "white",
           "landcolor": "#E5ECF6",
           "showlakes": true,
           "showland": true,
           "subunitcolor": "white"
          },
          "hoverlabel": {
           "align": "left"
          },
          "hovermode": "closest",
          "mapbox": {
           "style": "light"
          },
          "paper_bgcolor": "white",
          "plot_bgcolor": "#E5ECF6",
          "polar": {
           "angularaxis": {
            "gridcolor": "white",
            "linecolor": "white",
            "ticks": ""
           },
           "bgcolor": "#E5ECF6",
           "radialaxis": {
            "gridcolor": "white",
            "linecolor": "white",
            "ticks": ""
           }
          },
          "scene": {
           "xaxis": {
            "backgroundcolor": "#E5ECF6",
            "gridcolor": "white",
            "gridwidth": 2,
            "linecolor": "white",
            "showbackground": true,
            "ticks": "",
            "zerolinecolor": "white"
           },
           "yaxis": {
            "backgroundcolor": "#E5ECF6",
            "gridcolor": "white",
            "gridwidth": 2,
            "linecolor": "white",
            "showbackground": true,
            "ticks": "",
            "zerolinecolor": "white"
           },
           "zaxis": {
            "backgroundcolor": "#E5ECF6",
            "gridcolor": "white",
            "gridwidth": 2,
            "linecolor": "white",
            "showbackground": true,
            "ticks": "",
            "zerolinecolor": "white"
           }
          },
          "shapedefaults": {
           "line": {
            "color": "#2a3f5f"
           }
          },
          "ternary": {
           "aaxis": {
            "gridcolor": "white",
            "linecolor": "white",
            "ticks": ""
           },
           "baxis": {
            "gridcolor": "white",
            "linecolor": "white",
            "ticks": ""
           },
           "bgcolor": "#E5ECF6",
           "caxis": {
            "gridcolor": "white",
            "linecolor": "white",
            "ticks": ""
           }
          },
          "title": {
           "x": 0.05
          },
          "xaxis": {
           "automargin": true,
           "gridcolor": "white",
           "linecolor": "white",
           "ticks": "",
           "title": {
            "standoff": 15
           },
           "zerolinecolor": "white",
           "zerolinewidth": 2
          },
          "yaxis": {
           "automargin": true,
           "gridcolor": "white",
           "linecolor": "white",
           "ticks": "",
           "title": {
            "standoff": 15
           },
           "zerolinecolor": "white",
           "zerolinewidth": 2
          }
         }
        },
        "title": {
         "font": {
          "color": "#4D5663"
         }
        },
        "xaxis": {
         "gridcolor": "#E1E5ED",
         "showgrid": true,
         "tickfont": {
          "color": "#4D5663"
         },
         "title": {
          "font": {
           "color": "#4D5663"
          },
          "text": ""
         },
         "zerolinecolor": "#E1E5ED"
        },
        "yaxis": {
         "gridcolor": "#E1E5ED",
         "showgrid": true,
         "tickfont": {
          "color": "#4D5663"
         },
         "title": {
          "font": {
           "color": "#4D5663"
          },
          "text": ""
         },
         "zerolinecolor": "#E1E5ED"
        }
       }
      },
      "text/html": [
       "<div>                            <div id=\"723ad108-c31e-4787-98f1-094408f7e6b8\" class=\"plotly-graph-div\" style=\"height:525px; width:100%;\"></div>            <script type=\"text/javascript\">                require([\"plotly\"], function(Plotly) {                    window.PLOTLYENV=window.PLOTLYENV || {};\n",
       "                    window.PLOTLYENV.BASE_URL='https://plot.ly';                                    if (document.getElementById(\"723ad108-c31e-4787-98f1-094408f7e6b8\")) {                    Plotly.newPlot(                        \"723ad108-c31e-4787-98f1-094408f7e6b8\",                        [{\"colorscale\":[[0.0,\"rgb(165,0,38)\"],[0.1,\"rgb(215,48,39)\"],[0.2,\"rgb(244,109,67)\"],[0.3,\"rgb(253,174,97)\"],[0.4,\"rgb(254,224,144)\"],[0.5,\"rgb(255,255,191)\"],[0.6,\"rgb(224,243,248)\"],[0.7,\"rgb(171,217,233)\"],[0.8,\"rgb(116,173,209)\"],[0.9,\"rgb(69,117,180)\"],[1.0,\"rgb(49,54,149)\"]],\"x\":[0,1,2,3,4],\"y\":[\"x\",\"y\",\"z\"],\"z\":[[1,2,3,4,5],[10,20,30,20,10],[5,4,3,2,1]],\"type\":\"surface\"}],                        {\"legend\":{\"bgcolor\":\"#F5F6F9\",\"font\":{\"color\":\"#4D5663\"}},\"paper_bgcolor\":\"#F5F6F9\",\"plot_bgcolor\":\"#F5F6F9\",\"template\":{\"data\":{\"barpolar\":[{\"marker\":{\"line\":{\"color\":\"#E5ECF6\",\"width\":0.5},\"pattern\":{\"fillmode\":\"overlay\",\"size\":10,\"solidity\":0.2}},\"type\":\"barpolar\"}],\"bar\":[{\"error_x\":{\"color\":\"#2a3f5f\"},\"error_y\":{\"color\":\"#2a3f5f\"},\"marker\":{\"line\":{\"color\":\"#E5ECF6\",\"width\":0.5},\"pattern\":{\"fillmode\":\"overlay\",\"size\":10,\"solidity\":0.2}},\"type\":\"bar\"}],\"carpet\":[{\"aaxis\":{\"endlinecolor\":\"#2a3f5f\",\"gridcolor\":\"white\",\"linecolor\":\"white\",\"minorgridcolor\":\"white\",\"startlinecolor\":\"#2a3f5f\"},\"baxis\":{\"endlinecolor\":\"#2a3f5f\",\"gridcolor\":\"white\",\"linecolor\":\"white\",\"minorgridcolor\":\"white\",\"startlinecolor\":\"#2a3f5f\"},\"type\":\"carpet\"}],\"choropleth\":[{\"colorbar\":{\"outlinewidth\":0,\"ticks\":\"\"},\"type\":\"choropleth\"}],\"contourcarpet\":[{\"colorbar\":{\"outlinewidth\":0,\"ticks\":\"\"},\"type\":\"contourcarpet\"}],\"contour\":[{\"colorbar\":{\"outlinewidth\":0,\"ticks\":\"\"},\"colorscale\":[[0.0,\"#0d0887\"],[0.1111111111111111,\"#46039f\"],[0.2222222222222222,\"#7201a8\"],[0.3333333333333333,\"#9c179e\"],[0.4444444444444444,\"#bd3786\"],[0.5555555555555556,\"#d8576b\"],[0.6666666666666666,\"#ed7953\"],[0.7777777777777778,\"#fb9f3a\"],[0.8888888888888888,\"#fdca26\"],[1.0,\"#f0f921\"]],\"type\":\"contour\"}],\"heatmapgl\":[{\"colorbar\":{\"outlinewidth\":0,\"ticks\":\"\"},\"colorscale\":[[0.0,\"#0d0887\"],[0.1111111111111111,\"#46039f\"],[0.2222222222222222,\"#7201a8\"],[0.3333333333333333,\"#9c179e\"],[0.4444444444444444,\"#bd3786\"],[0.5555555555555556,\"#d8576b\"],[0.6666666666666666,\"#ed7953\"],[0.7777777777777778,\"#fb9f3a\"],[0.8888888888888888,\"#fdca26\"],[1.0,\"#f0f921\"]],\"type\":\"heatmapgl\"}],\"heatmap\":[{\"colorbar\":{\"outlinewidth\":0,\"ticks\":\"\"},\"colorscale\":[[0.0,\"#0d0887\"],[0.1111111111111111,\"#46039f\"],[0.2222222222222222,\"#7201a8\"],[0.3333333333333333,\"#9c179e\"],[0.4444444444444444,\"#bd3786\"],[0.5555555555555556,\"#d8576b\"],[0.6666666666666666,\"#ed7953\"],[0.7777777777777778,\"#fb9f3a\"],[0.8888888888888888,\"#fdca26\"],[1.0,\"#f0f921\"]],\"type\":\"heatmap\"}],\"histogram2dcontour\":[{\"colorbar\":{\"outlinewidth\":0,\"ticks\":\"\"},\"colorscale\":[[0.0,\"#0d0887\"],[0.1111111111111111,\"#46039f\"],[0.2222222222222222,\"#7201a8\"],[0.3333333333333333,\"#9c179e\"],[0.4444444444444444,\"#bd3786\"],[0.5555555555555556,\"#d8576b\"],[0.6666666666666666,\"#ed7953\"],[0.7777777777777778,\"#fb9f3a\"],[0.8888888888888888,\"#fdca26\"],[1.0,\"#f0f921\"]],\"type\":\"histogram2dcontour\"}],\"histogram2d\":[{\"colorbar\":{\"outlinewidth\":0,\"ticks\":\"\"},\"colorscale\":[[0.0,\"#0d0887\"],[0.1111111111111111,\"#46039f\"],[0.2222222222222222,\"#7201a8\"],[0.3333333333333333,\"#9c179e\"],[0.4444444444444444,\"#bd3786\"],[0.5555555555555556,\"#d8576b\"],[0.6666666666666666,\"#ed7953\"],[0.7777777777777778,\"#fb9f3a\"],[0.8888888888888888,\"#fdca26\"],[1.0,\"#f0f921\"]],\"type\":\"histogram2d\"}],\"histogram\":[{\"marker\":{\"pattern\":{\"fillmode\":\"overlay\",\"size\":10,\"solidity\":0.2}},\"type\":\"histogram\"}],\"mesh3d\":[{\"colorbar\":{\"outlinewidth\":0,\"ticks\":\"\"},\"type\":\"mesh3d\"}],\"parcoords\":[{\"line\":{\"colorbar\":{\"outlinewidth\":0,\"ticks\":\"\"}},\"type\":\"parcoords\"}],\"pie\":[{\"automargin\":true,\"type\":\"pie\"}],\"scatter3d\":[{\"line\":{\"colorbar\":{\"outlinewidth\":0,\"ticks\":\"\"}},\"marker\":{\"colorbar\":{\"outlinewidth\":0,\"ticks\":\"\"}},\"type\":\"scatter3d\"}],\"scattercarpet\":[{\"marker\":{\"colorbar\":{\"outlinewidth\":0,\"ticks\":\"\"}},\"type\":\"scattercarpet\"}],\"scattergeo\":[{\"marker\":{\"colorbar\":{\"outlinewidth\":0,\"ticks\":\"\"}},\"type\":\"scattergeo\"}],\"scattergl\":[{\"marker\":{\"colorbar\":{\"outlinewidth\":0,\"ticks\":\"\"}},\"type\":\"scattergl\"}],\"scattermapbox\":[{\"marker\":{\"colorbar\":{\"outlinewidth\":0,\"ticks\":\"\"}},\"type\":\"scattermapbox\"}],\"scatterpolargl\":[{\"marker\":{\"colorbar\":{\"outlinewidth\":0,\"ticks\":\"\"}},\"type\":\"scatterpolargl\"}],\"scatterpolar\":[{\"marker\":{\"colorbar\":{\"outlinewidth\":0,\"ticks\":\"\"}},\"type\":\"scatterpolar\"}],\"scatter\":[{\"fillpattern\":{\"fillmode\":\"overlay\",\"size\":10,\"solidity\":0.2},\"type\":\"scatter\"}],\"scatterternary\":[{\"marker\":{\"colorbar\":{\"outlinewidth\":0,\"ticks\":\"\"}},\"type\":\"scatterternary\"}],\"surface\":[{\"colorbar\":{\"outlinewidth\":0,\"ticks\":\"\"},\"colorscale\":[[0.0,\"#0d0887\"],[0.1111111111111111,\"#46039f\"],[0.2222222222222222,\"#7201a8\"],[0.3333333333333333,\"#9c179e\"],[0.4444444444444444,\"#bd3786\"],[0.5555555555555556,\"#d8576b\"],[0.6666666666666666,\"#ed7953\"],[0.7777777777777778,\"#fb9f3a\"],[0.8888888888888888,\"#fdca26\"],[1.0,\"#f0f921\"]],\"type\":\"surface\"}],\"table\":[{\"cells\":{\"fill\":{\"color\":\"#EBF0F8\"},\"line\":{\"color\":\"white\"}},\"header\":{\"fill\":{\"color\":\"#C8D4E3\"},\"line\":{\"color\":\"white\"}},\"type\":\"table\"}]},\"layout\":{\"annotationdefaults\":{\"arrowcolor\":\"#2a3f5f\",\"arrowhead\":0,\"arrowwidth\":1},\"autotypenumbers\":\"strict\",\"coloraxis\":{\"colorbar\":{\"outlinewidth\":0,\"ticks\":\"\"}},\"colorscale\":{\"diverging\":[[0,\"#8e0152\"],[0.1,\"#c51b7d\"],[0.2,\"#de77ae\"],[0.3,\"#f1b6da\"],[0.4,\"#fde0ef\"],[0.5,\"#f7f7f7\"],[0.6,\"#e6f5d0\"],[0.7,\"#b8e186\"],[0.8,\"#7fbc41\"],[0.9,\"#4d9221\"],[1,\"#276419\"]],\"sequential\":[[0.0,\"#0d0887\"],[0.1111111111111111,\"#46039f\"],[0.2222222222222222,\"#7201a8\"],[0.3333333333333333,\"#9c179e\"],[0.4444444444444444,\"#bd3786\"],[0.5555555555555556,\"#d8576b\"],[0.6666666666666666,\"#ed7953\"],[0.7777777777777778,\"#fb9f3a\"],[0.8888888888888888,\"#fdca26\"],[1.0,\"#f0f921\"]],\"sequentialminus\":[[0.0,\"#0d0887\"],[0.1111111111111111,\"#46039f\"],[0.2222222222222222,\"#7201a8\"],[0.3333333333333333,\"#9c179e\"],[0.4444444444444444,\"#bd3786\"],[0.5555555555555556,\"#d8576b\"],[0.6666666666666666,\"#ed7953\"],[0.7777777777777778,\"#fb9f3a\"],[0.8888888888888888,\"#fdca26\"],[1.0,\"#f0f921\"]]},\"colorway\":[\"#636efa\",\"#EF553B\",\"#00cc96\",\"#ab63fa\",\"#FFA15A\",\"#19d3f3\",\"#FF6692\",\"#B6E880\",\"#FF97FF\",\"#FECB52\"],\"font\":{\"color\":\"#2a3f5f\"},\"geo\":{\"bgcolor\":\"white\",\"lakecolor\":\"white\",\"landcolor\":\"#E5ECF6\",\"showlakes\":true,\"showland\":true,\"subunitcolor\":\"white\"},\"hoverlabel\":{\"align\":\"left\"},\"hovermode\":\"closest\",\"mapbox\":{\"style\":\"light\"},\"paper_bgcolor\":\"white\",\"plot_bgcolor\":\"#E5ECF6\",\"polar\":{\"angularaxis\":{\"gridcolor\":\"white\",\"linecolor\":\"white\",\"ticks\":\"\"},\"bgcolor\":\"#E5ECF6\",\"radialaxis\":{\"gridcolor\":\"white\",\"linecolor\":\"white\",\"ticks\":\"\"}},\"scene\":{\"xaxis\":{\"backgroundcolor\":\"#E5ECF6\",\"gridcolor\":\"white\",\"gridwidth\":2,\"linecolor\":\"white\",\"showbackground\":true,\"ticks\":\"\",\"zerolinecolor\":\"white\"},\"yaxis\":{\"backgroundcolor\":\"#E5ECF6\",\"gridcolor\":\"white\",\"gridwidth\":2,\"linecolor\":\"white\",\"showbackground\":true,\"ticks\":\"\",\"zerolinecolor\":\"white\"},\"zaxis\":{\"backgroundcolor\":\"#E5ECF6\",\"gridcolor\":\"white\",\"gridwidth\":2,\"linecolor\":\"white\",\"showbackground\":true,\"ticks\":\"\",\"zerolinecolor\":\"white\"}},\"shapedefaults\":{\"line\":{\"color\":\"#2a3f5f\"}},\"ternary\":{\"aaxis\":{\"gridcolor\":\"white\",\"linecolor\":\"white\",\"ticks\":\"\"},\"baxis\":{\"gridcolor\":\"white\",\"linecolor\":\"white\",\"ticks\":\"\"},\"bgcolor\":\"#E5ECF6\",\"caxis\":{\"gridcolor\":\"white\",\"linecolor\":\"white\",\"ticks\":\"\"}},\"title\":{\"x\":0.05},\"xaxis\":{\"automargin\":true,\"gridcolor\":\"white\",\"linecolor\":\"white\",\"ticks\":\"\",\"title\":{\"standoff\":15},\"zerolinecolor\":\"white\",\"zerolinewidth\":2},\"yaxis\":{\"automargin\":true,\"gridcolor\":\"white\",\"linecolor\":\"white\",\"ticks\":\"\",\"title\":{\"standoff\":15},\"zerolinecolor\":\"white\",\"zerolinewidth\":2}}},\"title\":{\"font\":{\"color\":\"#4D5663\"}},\"xaxis\":{\"gridcolor\":\"#E1E5ED\",\"showgrid\":true,\"tickfont\":{\"color\":\"#4D5663\"},\"title\":{\"font\":{\"color\":\"#4D5663\"},\"text\":\"\"},\"zerolinecolor\":\"#E1E5ED\"},\"yaxis\":{\"gridcolor\":\"#E1E5ED\",\"showgrid\":true,\"tickfont\":{\"color\":\"#4D5663\"},\"title\":{\"font\":{\"color\":\"#4D5663\"},\"text\":\"\"},\"zerolinecolor\":\"#E1E5ED\"}},                        {\"showLink\": true, \"linkText\": \"Export to plot.ly\", \"plotlyServerURL\": \"https://plot.ly\", \"responsive\": true}                    ).then(function(){\n",
       "                            \n",
       "var gd = document.getElementById('723ad108-c31e-4787-98f1-094408f7e6b8');\n",
       "var x = new MutationObserver(function (mutations, observer) {{\n",
       "        var display = window.getComputedStyle(gd).display;\n",
       "        if (!display || display === 'none') {{\n",
       "            console.log([gd, 'removed!']);\n",
       "            Plotly.purge(gd);\n",
       "            observer.disconnect();\n",
       "        }}\n",
       "}});\n",
       "\n",
       "// Listen for the removal of the full notebook cells\n",
       "var notebookContainer = gd.closest('#notebook-container');\n",
       "if (notebookContainer) {{\n",
       "    x.observe(notebookContainer, {childList: true});\n",
       "}}\n",
       "\n",
       "// Listen for the clearing of the current output cell\n",
       "var outputEl = gd.closest('.output');\n",
       "if (outputEl) {{\n",
       "    x.observe(outputEl, {childList: true});\n",
       "}}\n",
       "\n",
       "                        })                };                });            </script>        </div>"
      ]
     },
     "metadata": {},
     "output_type": "display_data"
    }
   ],
   "source": [
    "df3 = pd.DataFrame({'x':[1,2,3,4,5],'y':[10,20,30,20,10],'z':[5,4,3,2,1]})\n",
    "df3.iplot(kind='surface',colorscale='rdylbu')"
   ]
  },
  {
   "cell_type": "markdown",
   "id": "a36d84dd",
   "metadata": {},
   "source": [
    "### Spread"
   ]
  },
  {
   "cell_type": "code",
   "execution_count": 18,
   "id": "185ecf87",
   "metadata": {},
   "outputs": [
    {
     "data": {
      "application/vnd.plotly.v1+json": {
       "config": {
        "linkText": "Export to plot.ly",
        "plotlyServerURL": "https://plot.ly",
        "showLink": true
       },
       "data": [
        {
         "line": {
          "color": "rgba(255, 153, 51, 1.0)",
          "dash": "solid",
          "shape": "linear",
          "width": 1.3
         },
         "mode": "lines",
         "name": "A",
         "text": "",
         "type": "scatter",
         "x": [
          0,
          1,
          2,
          3,
          4,
          5,
          6,
          7,
          8,
          9,
          10,
          11,
          12,
          13,
          14,
          15,
          16,
          17,
          18,
          19,
          20,
          21,
          22,
          23,
          24,
          25,
          26,
          27,
          28,
          29,
          30,
          31,
          32,
          33,
          34,
          35,
          36,
          37,
          38,
          39,
          40,
          41,
          42,
          43,
          44,
          45,
          46,
          47,
          48,
          49,
          50,
          51,
          52,
          53,
          54,
          55,
          56,
          57,
          58,
          59,
          60,
          61,
          62,
          63,
          64,
          65,
          66,
          67,
          68,
          69,
          70,
          71,
          72,
          73,
          74,
          75,
          76,
          77,
          78,
          79,
          80,
          81,
          82,
          83,
          84,
          85,
          86,
          87,
          88,
          89,
          90,
          91,
          92,
          93,
          94,
          95,
          96,
          97,
          98,
          99
         ],
         "y": [
          -0.9667706031559152,
          -0.2859230331659126,
          -0.9598172529636709,
          1.6994273373143356,
          0.6679156281878831,
          -0.7921386723269326,
          0.6677875090604823,
          0.18842161040285368,
          1.2197013733786959,
          0.3740932827273875,
          0.6763751328413449,
          1.0494561021545243,
          0.07221209523657499,
          -0.8791766868027052,
          0.12162966723876437,
          -0.10357449487613801,
          -0.5094000022078592,
          0.6239757340029429,
          -1.2449571168622398,
          0.3594084096499897,
          1.6765297679482034,
          0.13509423235704984,
          0.2705117695196429,
          -0.7119820402020055,
          -0.12907758215134288,
          0.08319611741499265,
          0.430408914483296,
          1.1322952435002804,
          -0.9607675765706225,
          -0.1420858459791905,
          0.9348025697422142,
          1.0557892979911945,
          -0.7528462987022209,
          -2.1819039128157867,
          -1.4046399567682601,
          0.5861898200940868,
          -0.2911744291241955,
          -0.5509183453632426,
          -0.1127612420803882,
          0.6888117831712275,
          -0.1364296263697243,
          0.3277151667010575,
          0.33758301287551934,
          0.7981383473407812,
          -0.5749282127701741,
          0.0573190971632262,
          2.005614222502313,
          -0.36084649081020853,
          0.12500468331404857,
          -1.000769118596277,
          -1.2581246473715653,
          0.8727168540806867,
          0.5189249974409815,
          0.26003727857485476,
          0.9036555150907073,
          0.2100386271152475,
          0.8011528441099885,
          -1.4767051234211053,
          -0.2984036629837312,
          -2.9439786983978737,
          -0.2072924708400469,
          -0.8970346988592104,
          -1.562210930137962,
          -1.2007698303843537,
          0.5761557464682605,
          -0.3334196477312107,
          -0.1475085352910442,
          -1.9221100669005526,
          -0.37263094070359437,
          -0.2961685288793439,
          0.867188512443164,
          0.21374050067553674,
          -0.7153835481111949,
          1.2527062398553368,
          1.183821901529496,
          2.200161640450383,
          1.695203262152829,
          -1.2996409871306696,
          -0.4603476887302826,
          -0.3357203379555168,
          -0.00262303954320485,
          1.0643942398357191,
          0.326733874202913,
          -0.21373908648877013,
          -1.187563138747254,
          1.43363810629614,
          -0.78225692691843,
          0.0820954573532839,
          1.0920156152206064,
          1.3080169562280424,
          -1.3269670830691598,
          0.6523762892146466,
          -0.2841860611708281,
          -0.06085191281269883,
          0.1811085429676458,
          0.27988653937338126,
          -1.5113247093622162,
          1.9927114711577558,
          -1.2115200720889219,
          1.730413492768943
         ]
        },
        {
         "line": {
          "color": "rgba(55, 128, 191, 1.0)",
          "dash": "solid",
          "shape": "linear",
          "width": 1.3
         },
         "mode": "lines",
         "name": "B",
         "text": "",
         "type": "scatter",
         "x": [
          0,
          1,
          2,
          3,
          4,
          5,
          6,
          7,
          8,
          9,
          10,
          11,
          12,
          13,
          14,
          15,
          16,
          17,
          18,
          19,
          20,
          21,
          22,
          23,
          24,
          25,
          26,
          27,
          28,
          29,
          30,
          31,
          32,
          33,
          34,
          35,
          36,
          37,
          38,
          39,
          40,
          41,
          42,
          43,
          44,
          45,
          46,
          47,
          48,
          49,
          50,
          51,
          52,
          53,
          54,
          55,
          56,
          57,
          58,
          59,
          60,
          61,
          62,
          63,
          64,
          65,
          66,
          67,
          68,
          69,
          70,
          71,
          72,
          73,
          74,
          75,
          76,
          77,
          78,
          79,
          80,
          81,
          82,
          83,
          84,
          85,
          86,
          87,
          88,
          89,
          90,
          91,
          92,
          93,
          94,
          95,
          96,
          97,
          98,
          99
         ],
         "y": [
          -1.3188190343406079,
          -0.5195427305961262,
          3.386453821992028,
          -0.09705417497171678,
          -0.297892863845476,
          -0.26756095229456917,
          0.5700665741375269,
          0.44529929220723913,
          -0.5510229873684799,
          1.7463483158674042,
          1.0118648347277688,
          0.1458689328478937,
          1.6735595274266766,
          0.7379430702485847,
          -0.7028689770607447,
          -0.07384558691768216,
          -1.7178452837414204,
          -1.9804215168285524,
          1.8325098041859333,
          0.4993355982667355,
          0.6159257998414503,
          -0.4792071402444821,
          0.3559177987316825,
          0.04575842620889139,
          -0.8937333342631764,
          -0.8458911423699876,
          1.2132038105440868,
          0.39373880580881887,
          1.1759919470652533,
          -2.068247462098143,
          -0.18747085870618696,
          -0.008194876832229107,
          -0.907129791010329,
          1.925063230443421,
          1.01885368544152,
          1.387438436729016,
          -1.0066955686153438,
          -0.9671187007033104,
          0.731976451138149,
          -0.9371741422340341,
          -0.768941907442198,
          0.0008091449242708666,
          0.07929553953223403,
          -0.012771443464080616,
          -1.091398000879962,
          0.6806417721703428,
          2.520321123148215,
          -1.6307687921002214,
          0.18510853667360713,
          -0.5309953436595065,
          -0.22650831604718946,
          -1.258650901561935,
          -0.29680745281406823,
          1.2488894303379945,
          0.9682519853659632,
          0.9040218291484514,
          0.4598920631590823,
          0.09824730993245537,
          2.4477757145812893,
          0.7180564035299077,
          0.0315662683405219,
          -0.22996495250392865,
          0.2690941714596704,
          -0.6618681113312663,
          2.4622984818930136,
          -0.9383539350729556,
          0.19670822651949327,
          0.332796451140872,
          -0.8804151825842351,
          1.0226176431072793,
          -0.9568652442737168,
          0.8632965925105605,
          0.3900306902768008,
          -0.9734778777546095,
          -0.03650594927790021,
          0.7698691732943076,
          -1.3788806224060008,
          1.2099361028622364,
          0.9999975718199677,
          -1.0101204359398641,
          0.5601146900966223,
          1.0474334676881487,
          0.9083479954052169,
          0.36007125845211757,
          0.7990499474418643,
          0.047683355715569184,
          0.9159390582775966,
          1.1103493975674814,
          -0.7261520132147986,
          -0.0351697431708248,
          0.8903375868875737,
          -0.832922227123769,
          1.3524321907790178,
          -2.299743297174103,
          -0.10650146403260315,
          -0.8406462819832169,
          -1.0635316643185633,
          0.7775874644776857,
          0.9727642264248069,
          -0.4108309101944478
         ]
        },
        {
         "connectgaps": false,
         "fill": "tozeroy",
         "line": {
          "color": "green",
          "dash": "solid",
          "shape": "linear",
          "width": 0.5
         },
         "mode": "lines",
         "name": "Spread",
         "showlegend": false,
         "type": "scatter",
         "x": [
          0,
          1,
          2,
          3,
          4,
          5,
          6,
          7,
          8,
          9,
          10,
          11,
          12,
          13,
          14,
          15,
          16,
          17,
          18,
          19,
          20,
          21,
          22,
          23,
          24,
          25,
          26,
          27,
          28,
          29,
          30,
          31,
          32,
          33,
          34,
          35,
          36,
          37,
          38,
          39,
          40,
          41,
          42,
          43,
          44,
          45,
          46,
          47,
          48,
          49,
          50,
          51,
          52,
          53,
          54,
          55,
          56,
          57,
          58,
          59,
          60,
          61,
          62,
          63,
          64,
          65,
          66,
          67,
          68,
          69,
          70,
          71,
          72,
          73,
          74,
          75,
          76,
          77,
          78,
          79,
          80,
          81,
          82,
          83,
          84,
          85,
          86,
          87,
          88,
          89,
          90,
          91,
          92,
          93,
          94,
          95,
          96,
          97,
          98,
          99
         ],
         "xaxis": "x2",
         "y": [
          0.35204843118469265,
          0.2336196974302136,
          "",
          1.7964815122860525,
          0.9658084920333591,
          "",
          0.09772093492295542,
          "",
          1.7707243607471757,
          "",
          "",
          0.9035871693066306,
          "",
          "",
          0.824498644299509,
          "",
          1.2084452815335611,
          2.604397250831495,
          "",
          "",
          1.060603968106753,
          0.614301372601532,
          "",
          "",
          0.7646557521118335,
          0.9290872597849803,
          "",
          0.7385564376914615,
          "",
          1.9261616161189523,
          1.122273428448401,
          1.0639841748234236,
          0.15428349230810812,
          "",
          "",
          "",
          0.7155211394911483,
          0.41620035534006783,
          "",
          1.6259859254052615,
          0.6325122810724737,
          0.3269060217767866,
          0.2582874733432853,
          0.8109097908048618,
          0.5164697881097878,
          "",
          "",
          1.269922301290013,
          "",
          "",
          "",
          2.1313677556426214,
          0.8157324502550498,
          "",
          "",
          "",
          0.34126078095090623,
          "",
          "",
          "",
          "",
          "",
          "",
          "",
          "",
          0.6049342873417449,
          "",
          "",
          0.5077842418806408,
          "",
          1.8240537567168809,
          "",
          "",
          2.226184117609946,
          1.2203278508073963,
          1.4302924671560753,
          3.0740838845588296,
          "",
          "",
          0.6744000979843473,
          "",
          0.016960772147570413,
          "",
          "",
          "",
          1.385954750580571,
          "",
          "",
          1.818167628435405,
          1.3431866993988673,
          "",
          1.4852985163384156,
          "",
          2.2388913843614042,
          0.28761000700024897,
          1.1205328213565982,
          "",
          1.2151240066800701,
          "",
          2.1412444029633906
         ],
         "yaxis": "y2"
        },
        {
         "connectgaps": false,
         "fill": "tozeroy",
         "line": {
          "color": "red",
          "dash": "solid",
          "shape": "linear",
          "width": 0.5
         },
         "mode": "lines",
         "name": "Spread",
         "showlegend": false,
         "type": "scatter",
         "x": [
          0,
          1,
          2,
          3,
          4,
          5,
          6,
          7,
          8,
          9,
          10,
          11,
          12,
          13,
          14,
          15,
          16,
          17,
          18,
          19,
          20,
          21,
          22,
          23,
          24,
          25,
          26,
          27,
          28,
          29,
          30,
          31,
          32,
          33,
          34,
          35,
          36,
          37,
          38,
          39,
          40,
          41,
          42,
          43,
          44,
          45,
          46,
          47,
          48,
          49,
          50,
          51,
          52,
          53,
          54,
          55,
          56,
          57,
          58,
          59,
          60,
          61,
          62,
          63,
          64,
          65,
          66,
          67,
          68,
          69,
          70,
          71,
          72,
          73,
          74,
          75,
          76,
          77,
          78,
          79,
          80,
          81,
          82,
          83,
          84,
          85,
          86,
          87,
          88,
          89,
          90,
          91,
          92,
          93,
          94,
          95,
          96,
          97,
          98,
          99
         ],
         "xaxis": "x2",
         "y": [
          "",
          "",
          -4.346271074955699,
          "",
          "",
          -0.5245777200323634,
          "",
          -0.2568776818043854,
          "",
          -1.3722550331400167,
          -0.3354897018864239,
          "",
          -1.6013474321901016,
          -1.6171197570512899,
          "",
          -0.029728907958455855,
          "",
          "",
          -3.077466921048173,
          -0.1399271886167458,
          "",
          "",
          -0.0854060292120396,
          -0.7577404664108969,
          "",
          "",
          -0.7827948960607908,
          "",
          -2.1367595236358756,
          "",
          "",
          "",
          "",
          -4.106967143259208,
          -2.42349364220978,
          -0.8012486166349292,
          "",
          "",
          -0.8447376932185372,
          "",
          "",
          "",
          "",
          "",
          "",
          -0.6233226750071166,
          -0.5147069006459022,
          "",
          -0.06010385335955856,
          -0.4697737749367705,
          -1.0316163313243758,
          "",
          "",
          -0.9888521517631397,
          -0.06459647027525595,
          -0.693983202033204,
          "",
          -1.5749524333535607,
          -2.7461793775650207,
          -3.6620351019277813,
          -0.2388587391805688,
          -0.6670697463552817,
          -1.8313051015976325,
          -0.5389017190530874,
          -1.886142735424753,
          "",
          -0.3442167618105375,
          -2.2549065180414245,
          "",
          -1.3187861719866232,
          "",
          -0.6495560918350237,
          -1.1054142383879957,
          "",
          "",
          "",
          "",
          -2.5095770899929057,
          -1.4603452605502503,
          "",
          -0.5627377296398272,
          "",
          -0.5816141212023039,
          -0.5738103449408877,
          -1.9866130861891182,
          "",
          -1.6981959851960267,
          -1.0282539402141975,
          "",
          "",
          -2.2173046699567336,
          "",
          -1.6366182519498458,
          "",
          "",
          "",
          -0.4477930450436529,
          "",
          -2.1842842985137287,
          ""
         ],
         "yaxis": "y2"
        }
       ],
       "layout": {
        "hovermode": "x",
        "legend": {
         "bgcolor": "#F5F6F9",
         "font": {
          "color": "#4D5663"
         }
        },
        "paper_bgcolor": "#F5F6F9",
        "plot_bgcolor": "#F5F6F9",
        "template": {
         "data": {
          "bar": [
           {
            "error_x": {
             "color": "#2a3f5f"
            },
            "error_y": {
             "color": "#2a3f5f"
            },
            "marker": {
             "line": {
              "color": "#E5ECF6",
              "width": 0.5
             },
             "pattern": {
              "fillmode": "overlay",
              "size": 10,
              "solidity": 0.2
             }
            },
            "type": "bar"
           }
          ],
          "barpolar": [
           {
            "marker": {
             "line": {
              "color": "#E5ECF6",
              "width": 0.5
             },
             "pattern": {
              "fillmode": "overlay",
              "size": 10,
              "solidity": 0.2
             }
            },
            "type": "barpolar"
           }
          ],
          "carpet": [
           {
            "aaxis": {
             "endlinecolor": "#2a3f5f",
             "gridcolor": "white",
             "linecolor": "white",
             "minorgridcolor": "white",
             "startlinecolor": "#2a3f5f"
            },
            "baxis": {
             "endlinecolor": "#2a3f5f",
             "gridcolor": "white",
             "linecolor": "white",
             "minorgridcolor": "white",
             "startlinecolor": "#2a3f5f"
            },
            "type": "carpet"
           }
          ],
          "choropleth": [
           {
            "colorbar": {
             "outlinewidth": 0,
             "ticks": ""
            },
            "type": "choropleth"
           }
          ],
          "contour": [
           {
            "colorbar": {
             "outlinewidth": 0,
             "ticks": ""
            },
            "colorscale": [
             [
              0,
              "#0d0887"
             ],
             [
              0.1111111111111111,
              "#46039f"
             ],
             [
              0.2222222222222222,
              "#7201a8"
             ],
             [
              0.3333333333333333,
              "#9c179e"
             ],
             [
              0.4444444444444444,
              "#bd3786"
             ],
             [
              0.5555555555555556,
              "#d8576b"
             ],
             [
              0.6666666666666666,
              "#ed7953"
             ],
             [
              0.7777777777777778,
              "#fb9f3a"
             ],
             [
              0.8888888888888888,
              "#fdca26"
             ],
             [
              1,
              "#f0f921"
             ]
            ],
            "type": "contour"
           }
          ],
          "contourcarpet": [
           {
            "colorbar": {
             "outlinewidth": 0,
             "ticks": ""
            },
            "type": "contourcarpet"
           }
          ],
          "heatmap": [
           {
            "colorbar": {
             "outlinewidth": 0,
             "ticks": ""
            },
            "colorscale": [
             [
              0,
              "#0d0887"
             ],
             [
              0.1111111111111111,
              "#46039f"
             ],
             [
              0.2222222222222222,
              "#7201a8"
             ],
             [
              0.3333333333333333,
              "#9c179e"
             ],
             [
              0.4444444444444444,
              "#bd3786"
             ],
             [
              0.5555555555555556,
              "#d8576b"
             ],
             [
              0.6666666666666666,
              "#ed7953"
             ],
             [
              0.7777777777777778,
              "#fb9f3a"
             ],
             [
              0.8888888888888888,
              "#fdca26"
             ],
             [
              1,
              "#f0f921"
             ]
            ],
            "type": "heatmap"
           }
          ],
          "heatmapgl": [
           {
            "colorbar": {
             "outlinewidth": 0,
             "ticks": ""
            },
            "colorscale": [
             [
              0,
              "#0d0887"
             ],
             [
              0.1111111111111111,
              "#46039f"
             ],
             [
              0.2222222222222222,
              "#7201a8"
             ],
             [
              0.3333333333333333,
              "#9c179e"
             ],
             [
              0.4444444444444444,
              "#bd3786"
             ],
             [
              0.5555555555555556,
              "#d8576b"
             ],
             [
              0.6666666666666666,
              "#ed7953"
             ],
             [
              0.7777777777777778,
              "#fb9f3a"
             ],
             [
              0.8888888888888888,
              "#fdca26"
             ],
             [
              1,
              "#f0f921"
             ]
            ],
            "type": "heatmapgl"
           }
          ],
          "histogram": [
           {
            "marker": {
             "pattern": {
              "fillmode": "overlay",
              "size": 10,
              "solidity": 0.2
             }
            },
            "type": "histogram"
           }
          ],
          "histogram2d": [
           {
            "colorbar": {
             "outlinewidth": 0,
             "ticks": ""
            },
            "colorscale": [
             [
              0,
              "#0d0887"
             ],
             [
              0.1111111111111111,
              "#46039f"
             ],
             [
              0.2222222222222222,
              "#7201a8"
             ],
             [
              0.3333333333333333,
              "#9c179e"
             ],
             [
              0.4444444444444444,
              "#bd3786"
             ],
             [
              0.5555555555555556,
              "#d8576b"
             ],
             [
              0.6666666666666666,
              "#ed7953"
             ],
             [
              0.7777777777777778,
              "#fb9f3a"
             ],
             [
              0.8888888888888888,
              "#fdca26"
             ],
             [
              1,
              "#f0f921"
             ]
            ],
            "type": "histogram2d"
           }
          ],
          "histogram2dcontour": [
           {
            "colorbar": {
             "outlinewidth": 0,
             "ticks": ""
            },
            "colorscale": [
             [
              0,
              "#0d0887"
             ],
             [
              0.1111111111111111,
              "#46039f"
             ],
             [
              0.2222222222222222,
              "#7201a8"
             ],
             [
              0.3333333333333333,
              "#9c179e"
             ],
             [
              0.4444444444444444,
              "#bd3786"
             ],
             [
              0.5555555555555556,
              "#d8576b"
             ],
             [
              0.6666666666666666,
              "#ed7953"
             ],
             [
              0.7777777777777778,
              "#fb9f3a"
             ],
             [
              0.8888888888888888,
              "#fdca26"
             ],
             [
              1,
              "#f0f921"
             ]
            ],
            "type": "histogram2dcontour"
           }
          ],
          "mesh3d": [
           {
            "colorbar": {
             "outlinewidth": 0,
             "ticks": ""
            },
            "type": "mesh3d"
           }
          ],
          "parcoords": [
           {
            "line": {
             "colorbar": {
              "outlinewidth": 0,
              "ticks": ""
             }
            },
            "type": "parcoords"
           }
          ],
          "pie": [
           {
            "automargin": true,
            "type": "pie"
           }
          ],
          "scatter": [
           {
            "fillpattern": {
             "fillmode": "overlay",
             "size": 10,
             "solidity": 0.2
            },
            "type": "scatter"
           }
          ],
          "scatter3d": [
           {
            "line": {
             "colorbar": {
              "outlinewidth": 0,
              "ticks": ""
             }
            },
            "marker": {
             "colorbar": {
              "outlinewidth": 0,
              "ticks": ""
             }
            },
            "type": "scatter3d"
           }
          ],
          "scattercarpet": [
           {
            "marker": {
             "colorbar": {
              "outlinewidth": 0,
              "ticks": ""
             }
            },
            "type": "scattercarpet"
           }
          ],
          "scattergeo": [
           {
            "marker": {
             "colorbar": {
              "outlinewidth": 0,
              "ticks": ""
             }
            },
            "type": "scattergeo"
           }
          ],
          "scattergl": [
           {
            "marker": {
             "colorbar": {
              "outlinewidth": 0,
              "ticks": ""
             }
            },
            "type": "scattergl"
           }
          ],
          "scattermapbox": [
           {
            "marker": {
             "colorbar": {
              "outlinewidth": 0,
              "ticks": ""
             }
            },
            "type": "scattermapbox"
           }
          ],
          "scatterpolar": [
           {
            "marker": {
             "colorbar": {
              "outlinewidth": 0,
              "ticks": ""
             }
            },
            "type": "scatterpolar"
           }
          ],
          "scatterpolargl": [
           {
            "marker": {
             "colorbar": {
              "outlinewidth": 0,
              "ticks": ""
             }
            },
            "type": "scatterpolargl"
           }
          ],
          "scatterternary": [
           {
            "marker": {
             "colorbar": {
              "outlinewidth": 0,
              "ticks": ""
             }
            },
            "type": "scatterternary"
           }
          ],
          "surface": [
           {
            "colorbar": {
             "outlinewidth": 0,
             "ticks": ""
            },
            "colorscale": [
             [
              0,
              "#0d0887"
             ],
             [
              0.1111111111111111,
              "#46039f"
             ],
             [
              0.2222222222222222,
              "#7201a8"
             ],
             [
              0.3333333333333333,
              "#9c179e"
             ],
             [
              0.4444444444444444,
              "#bd3786"
             ],
             [
              0.5555555555555556,
              "#d8576b"
             ],
             [
              0.6666666666666666,
              "#ed7953"
             ],
             [
              0.7777777777777778,
              "#fb9f3a"
             ],
             [
              0.8888888888888888,
              "#fdca26"
             ],
             [
              1,
              "#f0f921"
             ]
            ],
            "type": "surface"
           }
          ],
          "table": [
           {
            "cells": {
             "fill": {
              "color": "#EBF0F8"
             },
             "line": {
              "color": "white"
             }
            },
            "header": {
             "fill": {
              "color": "#C8D4E3"
             },
             "line": {
              "color": "white"
             }
            },
            "type": "table"
           }
          ]
         },
         "layout": {
          "annotationdefaults": {
           "arrowcolor": "#2a3f5f",
           "arrowhead": 0,
           "arrowwidth": 1
          },
          "autotypenumbers": "strict",
          "coloraxis": {
           "colorbar": {
            "outlinewidth": 0,
            "ticks": ""
           }
          },
          "colorscale": {
           "diverging": [
            [
             0,
             "#8e0152"
            ],
            [
             0.1,
             "#c51b7d"
            ],
            [
             0.2,
             "#de77ae"
            ],
            [
             0.3,
             "#f1b6da"
            ],
            [
             0.4,
             "#fde0ef"
            ],
            [
             0.5,
             "#f7f7f7"
            ],
            [
             0.6,
             "#e6f5d0"
            ],
            [
             0.7,
             "#b8e186"
            ],
            [
             0.8,
             "#7fbc41"
            ],
            [
             0.9,
             "#4d9221"
            ],
            [
             1,
             "#276419"
            ]
           ],
           "sequential": [
            [
             0,
             "#0d0887"
            ],
            [
             0.1111111111111111,
             "#46039f"
            ],
            [
             0.2222222222222222,
             "#7201a8"
            ],
            [
             0.3333333333333333,
             "#9c179e"
            ],
            [
             0.4444444444444444,
             "#bd3786"
            ],
            [
             0.5555555555555556,
             "#d8576b"
            ],
            [
             0.6666666666666666,
             "#ed7953"
            ],
            [
             0.7777777777777778,
             "#fb9f3a"
            ],
            [
             0.8888888888888888,
             "#fdca26"
            ],
            [
             1,
             "#f0f921"
            ]
           ],
           "sequentialminus": [
            [
             0,
             "#0d0887"
            ],
            [
             0.1111111111111111,
             "#46039f"
            ],
            [
             0.2222222222222222,
             "#7201a8"
            ],
            [
             0.3333333333333333,
             "#9c179e"
            ],
            [
             0.4444444444444444,
             "#bd3786"
            ],
            [
             0.5555555555555556,
             "#d8576b"
            ],
            [
             0.6666666666666666,
             "#ed7953"
            ],
            [
             0.7777777777777778,
             "#fb9f3a"
            ],
            [
             0.8888888888888888,
             "#fdca26"
            ],
            [
             1,
             "#f0f921"
            ]
           ]
          },
          "colorway": [
           "#636efa",
           "#EF553B",
           "#00cc96",
           "#ab63fa",
           "#FFA15A",
           "#19d3f3",
           "#FF6692",
           "#B6E880",
           "#FF97FF",
           "#FECB52"
          ],
          "font": {
           "color": "#2a3f5f"
          },
          "geo": {
           "bgcolor": "white",
           "lakecolor": "white",
           "landcolor": "#E5ECF6",
           "showlakes": true,
           "showland": true,
           "subunitcolor": "white"
          },
          "hoverlabel": {
           "align": "left"
          },
          "hovermode": "closest",
          "mapbox": {
           "style": "light"
          },
          "paper_bgcolor": "white",
          "plot_bgcolor": "#E5ECF6",
          "polar": {
           "angularaxis": {
            "gridcolor": "white",
            "linecolor": "white",
            "ticks": ""
           },
           "bgcolor": "#E5ECF6",
           "radialaxis": {
            "gridcolor": "white",
            "linecolor": "white",
            "ticks": ""
           }
          },
          "scene": {
           "xaxis": {
            "backgroundcolor": "#E5ECF6",
            "gridcolor": "white",
            "gridwidth": 2,
            "linecolor": "white",
            "showbackground": true,
            "ticks": "",
            "zerolinecolor": "white"
           },
           "yaxis": {
            "backgroundcolor": "#E5ECF6",
            "gridcolor": "white",
            "gridwidth": 2,
            "linecolor": "white",
            "showbackground": true,
            "ticks": "",
            "zerolinecolor": "white"
           },
           "zaxis": {
            "backgroundcolor": "#E5ECF6",
            "gridcolor": "white",
            "gridwidth": 2,
            "linecolor": "white",
            "showbackground": true,
            "ticks": "",
            "zerolinecolor": "white"
           }
          },
          "shapedefaults": {
           "line": {
            "color": "#2a3f5f"
           }
          },
          "ternary": {
           "aaxis": {
            "gridcolor": "white",
            "linecolor": "white",
            "ticks": ""
           },
           "baxis": {
            "gridcolor": "white",
            "linecolor": "white",
            "ticks": ""
           },
           "bgcolor": "#E5ECF6",
           "caxis": {
            "gridcolor": "white",
            "linecolor": "white",
            "ticks": ""
           }
          },
          "title": {
           "x": 0.05
          },
          "xaxis": {
           "automargin": true,
           "gridcolor": "white",
           "linecolor": "white",
           "ticks": "",
           "title": {
            "standoff": 15
           },
           "zerolinecolor": "white",
           "zerolinewidth": 2
          },
          "yaxis": {
           "automargin": true,
           "gridcolor": "white",
           "linecolor": "white",
           "ticks": "",
           "title": {
            "standoff": 15
           },
           "zerolinecolor": "white",
           "zerolinewidth": 2
          }
         }
        },
        "title": {
         "font": {
          "color": "#4D5663"
         }
        },
        "xaxis": {
         "gridcolor": "#E1E5ED",
         "showgrid": true,
         "tickfont": {
          "color": "#4D5663"
         },
         "title": {
          "font": {
           "color": "#4D5663"
          },
          "text": ""
         },
         "zerolinecolor": "#E1E5ED"
        },
        "xaxis2": {
         "anchor": "y2",
         "gridcolor": "#E1E5ED",
         "showgrid": true,
         "showticklabels": false,
         "tickfont": {
          "color": "#4D5663"
         },
         "title": {
          "font": {
           "color": "#4D5663"
          },
          "text": ""
         },
         "zerolinecolor": "#E1E5ED"
        },
        "yaxis": {
         "domain": [
          0.3,
          1
         ],
         "gridcolor": "#E1E5ED",
         "showgrid": true,
         "tickfont": {
          "color": "#4D5663"
         },
         "title": {
          "font": {
           "color": "#4D5663"
          },
          "text": ""
         },
         "zerolinecolor": "#E1E5ED"
        },
        "yaxis2": {
         "domain": [
          0,
          0.25
         ],
         "gridcolor": "#E1E5ED",
         "showgrid": true,
         "tickfont": {
          "color": "#4D5663"
         },
         "title": {
          "font": {
           "color": "#4D5663"
          },
          "text": "Spread"
         },
         "zerolinecolor": "#E1E5ED"
        }
       }
      },
      "text/html": [
       "<div>                            <div id=\"4e123061-530d-4eb2-b84b-fa9e1ad9eedc\" class=\"plotly-graph-div\" style=\"height:525px; width:100%;\"></div>            <script type=\"text/javascript\">                require([\"plotly\"], function(Plotly) {                    window.PLOTLYENV=window.PLOTLYENV || {};\n",
       "                    window.PLOTLYENV.BASE_URL='https://plot.ly';                                    if (document.getElementById(\"4e123061-530d-4eb2-b84b-fa9e1ad9eedc\")) {                    Plotly.newPlot(                        \"4e123061-530d-4eb2-b84b-fa9e1ad9eedc\",                        [{\"line\":{\"color\":\"rgba(255, 153, 51, 1.0)\",\"dash\":\"solid\",\"shape\":\"linear\",\"width\":1.3},\"mode\":\"lines\",\"name\":\"A\",\"text\":\"\",\"x\":[0,1,2,3,4,5,6,7,8,9,10,11,12,13,14,15,16,17,18,19,20,21,22,23,24,25,26,27,28,29,30,31,32,33,34,35,36,37,38,39,40,41,42,43,44,45,46,47,48,49,50,51,52,53,54,55,56,57,58,59,60,61,62,63,64,65,66,67,68,69,70,71,72,73,74,75,76,77,78,79,80,81,82,83,84,85,86,87,88,89,90,91,92,93,94,95,96,97,98,99],\"y\":[-0.9667706031559152,-0.2859230331659126,-0.9598172529636709,1.6994273373143356,0.6679156281878831,-0.7921386723269326,0.6677875090604823,0.18842161040285368,1.2197013733786959,0.3740932827273875,0.6763751328413449,1.0494561021545243,0.07221209523657499,-0.8791766868027052,0.12162966723876437,-0.10357449487613801,-0.5094000022078592,0.6239757340029429,-1.2449571168622398,0.3594084096499897,1.6765297679482034,0.13509423235704984,0.2705117695196429,-0.7119820402020055,-0.12907758215134288,0.08319611741499265,0.430408914483296,1.1322952435002804,-0.9607675765706225,-0.1420858459791905,0.9348025697422142,1.0557892979911945,-0.7528462987022209,-2.1819039128157867,-1.4046399567682601,0.5861898200940868,-0.2911744291241955,-0.5509183453632426,-0.1127612420803882,0.6888117831712275,-0.1364296263697243,0.3277151667010575,0.33758301287551934,0.7981383473407812,-0.5749282127701741,0.0573190971632262,2.005614222502313,-0.36084649081020853,0.12500468331404857,-1.000769118596277,-1.2581246473715653,0.8727168540806867,0.5189249974409815,0.26003727857485476,0.9036555150907073,0.2100386271152475,0.8011528441099885,-1.4767051234211053,-0.2984036629837312,-2.9439786983978737,-0.2072924708400469,-0.8970346988592104,-1.562210930137962,-1.2007698303843537,0.5761557464682605,-0.3334196477312107,-0.1475085352910442,-1.9221100669005526,-0.37263094070359437,-0.2961685288793439,0.867188512443164,0.21374050067553674,-0.7153835481111949,1.2527062398553368,1.183821901529496,2.200161640450383,1.695203262152829,-1.2996409871306696,-0.4603476887302826,-0.3357203379555168,-0.00262303954320485,1.0643942398357191,0.326733874202913,-0.21373908648877013,-1.187563138747254,1.43363810629614,-0.78225692691843,0.0820954573532839,1.0920156152206064,1.3080169562280424,-1.3269670830691598,0.6523762892146466,-0.2841860611708281,-0.06085191281269883,0.1811085429676458,0.27988653937338126,-1.5113247093622162,1.9927114711577558,-1.2115200720889219,1.730413492768943],\"type\":\"scatter\"},{\"line\":{\"color\":\"rgba(55, 128, 191, 1.0)\",\"dash\":\"solid\",\"shape\":\"linear\",\"width\":1.3},\"mode\":\"lines\",\"name\":\"B\",\"text\":\"\",\"x\":[0,1,2,3,4,5,6,7,8,9,10,11,12,13,14,15,16,17,18,19,20,21,22,23,24,25,26,27,28,29,30,31,32,33,34,35,36,37,38,39,40,41,42,43,44,45,46,47,48,49,50,51,52,53,54,55,56,57,58,59,60,61,62,63,64,65,66,67,68,69,70,71,72,73,74,75,76,77,78,79,80,81,82,83,84,85,86,87,88,89,90,91,92,93,94,95,96,97,98,99],\"y\":[-1.3188190343406079,-0.5195427305961262,3.386453821992028,-0.09705417497171678,-0.297892863845476,-0.26756095229456917,0.5700665741375269,0.44529929220723913,-0.5510229873684799,1.7463483158674042,1.0118648347277688,0.1458689328478937,1.6735595274266766,0.7379430702485847,-0.7028689770607447,-0.07384558691768216,-1.7178452837414204,-1.9804215168285524,1.8325098041859333,0.4993355982667355,0.6159257998414503,-0.4792071402444821,0.3559177987316825,0.04575842620889139,-0.8937333342631764,-0.8458911423699876,1.2132038105440868,0.39373880580881887,1.1759919470652533,-2.068247462098143,-0.18747085870618696,-0.008194876832229107,-0.907129791010329,1.925063230443421,1.01885368544152,1.387438436729016,-1.0066955686153438,-0.9671187007033104,0.731976451138149,-0.9371741422340341,-0.768941907442198,0.0008091449242708666,0.07929553953223403,-0.012771443464080616,-1.091398000879962,0.6806417721703428,2.520321123148215,-1.6307687921002214,0.18510853667360713,-0.5309953436595065,-0.22650831604718946,-1.258650901561935,-0.29680745281406823,1.2488894303379945,0.9682519853659632,0.9040218291484514,0.4598920631590823,0.09824730993245537,2.4477757145812893,0.7180564035299077,0.0315662683405219,-0.22996495250392865,0.2690941714596704,-0.6618681113312663,2.4622984818930136,-0.9383539350729556,0.19670822651949327,0.332796451140872,-0.8804151825842351,1.0226176431072793,-0.9568652442737168,0.8632965925105605,0.3900306902768008,-0.9734778777546095,-0.03650594927790021,0.7698691732943076,-1.3788806224060008,1.2099361028622364,0.9999975718199677,-1.0101204359398641,0.5601146900966223,1.0474334676881487,0.9083479954052169,0.36007125845211757,0.7990499474418643,0.047683355715569184,0.9159390582775966,1.1103493975674814,-0.7261520132147986,-0.0351697431708248,0.8903375868875737,-0.832922227123769,1.3524321907790178,-2.299743297174103,-0.10650146403260315,-0.8406462819832169,-1.0635316643185633,0.7775874644776857,0.9727642264248069,-0.4108309101944478],\"type\":\"scatter\"},{\"connectgaps\":false,\"fill\":\"tozeroy\",\"line\":{\"color\":\"green\",\"dash\":\"solid\",\"shape\":\"linear\",\"width\":0.5},\"mode\":\"lines\",\"name\":\"Spread\",\"showlegend\":false,\"x\":[0,1,2,3,4,5,6,7,8,9,10,11,12,13,14,15,16,17,18,19,20,21,22,23,24,25,26,27,28,29,30,31,32,33,34,35,36,37,38,39,40,41,42,43,44,45,46,47,48,49,50,51,52,53,54,55,56,57,58,59,60,61,62,63,64,65,66,67,68,69,70,71,72,73,74,75,76,77,78,79,80,81,82,83,84,85,86,87,88,89,90,91,92,93,94,95,96,97,98,99],\"xaxis\":\"x2\",\"y\":[0.35204843118469265,0.2336196974302136,\"\",1.7964815122860525,0.9658084920333591,\"\",0.09772093492295542,\"\",1.7707243607471757,\"\",\"\",0.9035871693066306,\"\",\"\",0.824498644299509,\"\",1.2084452815335611,2.604397250831495,\"\",\"\",1.060603968106753,0.614301372601532,\"\",\"\",0.7646557521118335,0.9290872597849803,\"\",0.7385564376914615,\"\",1.9261616161189523,1.122273428448401,1.0639841748234236,0.15428349230810812,\"\",\"\",\"\",0.7155211394911483,0.41620035534006783,\"\",1.6259859254052615,0.6325122810724737,0.3269060217767866,0.2582874733432853,0.8109097908048618,0.5164697881097878,\"\",\"\",1.269922301290013,\"\",\"\",\"\",2.1313677556426214,0.8157324502550498,\"\",\"\",\"\",0.34126078095090623,\"\",\"\",\"\",\"\",\"\",\"\",\"\",\"\",0.6049342873417449,\"\",\"\",0.5077842418806408,\"\",1.8240537567168809,\"\",\"\",2.226184117609946,1.2203278508073963,1.4302924671560753,3.0740838845588296,\"\",\"\",0.6744000979843473,\"\",0.016960772147570413,\"\",\"\",\"\",1.385954750580571,\"\",\"\",1.818167628435405,1.3431866993988673,\"\",1.4852985163384156,\"\",2.2388913843614042,0.28761000700024897,1.1205328213565982,\"\",1.2151240066800701,\"\",2.1412444029633906],\"yaxis\":\"y2\",\"type\":\"scatter\"},{\"connectgaps\":false,\"fill\":\"tozeroy\",\"line\":{\"color\":\"red\",\"dash\":\"solid\",\"shape\":\"linear\",\"width\":0.5},\"mode\":\"lines\",\"name\":\"Spread\",\"showlegend\":false,\"x\":[0,1,2,3,4,5,6,7,8,9,10,11,12,13,14,15,16,17,18,19,20,21,22,23,24,25,26,27,28,29,30,31,32,33,34,35,36,37,38,39,40,41,42,43,44,45,46,47,48,49,50,51,52,53,54,55,56,57,58,59,60,61,62,63,64,65,66,67,68,69,70,71,72,73,74,75,76,77,78,79,80,81,82,83,84,85,86,87,88,89,90,91,92,93,94,95,96,97,98,99],\"xaxis\":\"x2\",\"y\":[\"\",\"\",-4.346271074955699,\"\",\"\",-0.5245777200323634,\"\",-0.2568776818043854,\"\",-1.3722550331400167,-0.3354897018864239,\"\",-1.6013474321901016,-1.6171197570512899,\"\",-0.029728907958455855,\"\",\"\",-3.077466921048173,-0.1399271886167458,\"\",\"\",-0.0854060292120396,-0.7577404664108969,\"\",\"\",-0.7827948960607908,\"\",-2.1367595236358756,\"\",\"\",\"\",\"\",-4.106967143259208,-2.42349364220978,-0.8012486166349292,\"\",\"\",-0.8447376932185372,\"\",\"\",\"\",\"\",\"\",\"\",-0.6233226750071166,-0.5147069006459022,\"\",-0.06010385335955856,-0.4697737749367705,-1.0316163313243758,\"\",\"\",-0.9888521517631397,-0.06459647027525595,-0.693983202033204,\"\",-1.5749524333535607,-2.7461793775650207,-3.6620351019277813,-0.2388587391805688,-0.6670697463552817,-1.8313051015976325,-0.5389017190530874,-1.886142735424753,\"\",-0.3442167618105375,-2.2549065180414245,\"\",-1.3187861719866232,\"\",-0.6495560918350237,-1.1054142383879957,\"\",\"\",\"\",\"\",-2.5095770899929057,-1.4603452605502503,\"\",-0.5627377296398272,\"\",-0.5816141212023039,-0.5738103449408877,-1.9866130861891182,\"\",-1.6981959851960267,-1.0282539402141975,\"\",\"\",-2.2173046699567336,\"\",-1.6366182519498458,\"\",\"\",\"\",-0.4477930450436529,\"\",-2.1842842985137287,\"\"],\"yaxis\":\"y2\",\"type\":\"scatter\"}],                        {\"hovermode\":\"x\",\"legend\":{\"bgcolor\":\"#F5F6F9\",\"font\":{\"color\":\"#4D5663\"}},\"paper_bgcolor\":\"#F5F6F9\",\"plot_bgcolor\":\"#F5F6F9\",\"template\":{\"data\":{\"barpolar\":[{\"marker\":{\"line\":{\"color\":\"#E5ECF6\",\"width\":0.5},\"pattern\":{\"fillmode\":\"overlay\",\"size\":10,\"solidity\":0.2}},\"type\":\"barpolar\"}],\"bar\":[{\"error_x\":{\"color\":\"#2a3f5f\"},\"error_y\":{\"color\":\"#2a3f5f\"},\"marker\":{\"line\":{\"color\":\"#E5ECF6\",\"width\":0.5},\"pattern\":{\"fillmode\":\"overlay\",\"size\":10,\"solidity\":0.2}},\"type\":\"bar\"}],\"carpet\":[{\"aaxis\":{\"endlinecolor\":\"#2a3f5f\",\"gridcolor\":\"white\",\"linecolor\":\"white\",\"minorgridcolor\":\"white\",\"startlinecolor\":\"#2a3f5f\"},\"baxis\":{\"endlinecolor\":\"#2a3f5f\",\"gridcolor\":\"white\",\"linecolor\":\"white\",\"minorgridcolor\":\"white\",\"startlinecolor\":\"#2a3f5f\"},\"type\":\"carpet\"}],\"choropleth\":[{\"colorbar\":{\"outlinewidth\":0,\"ticks\":\"\"},\"type\":\"choropleth\"}],\"contourcarpet\":[{\"colorbar\":{\"outlinewidth\":0,\"ticks\":\"\"},\"type\":\"contourcarpet\"}],\"contour\":[{\"colorbar\":{\"outlinewidth\":0,\"ticks\":\"\"},\"colorscale\":[[0.0,\"#0d0887\"],[0.1111111111111111,\"#46039f\"],[0.2222222222222222,\"#7201a8\"],[0.3333333333333333,\"#9c179e\"],[0.4444444444444444,\"#bd3786\"],[0.5555555555555556,\"#d8576b\"],[0.6666666666666666,\"#ed7953\"],[0.7777777777777778,\"#fb9f3a\"],[0.8888888888888888,\"#fdca26\"],[1.0,\"#f0f921\"]],\"type\":\"contour\"}],\"heatmapgl\":[{\"colorbar\":{\"outlinewidth\":0,\"ticks\":\"\"},\"colorscale\":[[0.0,\"#0d0887\"],[0.1111111111111111,\"#46039f\"],[0.2222222222222222,\"#7201a8\"],[0.3333333333333333,\"#9c179e\"],[0.4444444444444444,\"#bd3786\"],[0.5555555555555556,\"#d8576b\"],[0.6666666666666666,\"#ed7953\"],[0.7777777777777778,\"#fb9f3a\"],[0.8888888888888888,\"#fdca26\"],[1.0,\"#f0f921\"]],\"type\":\"heatmapgl\"}],\"heatmap\":[{\"colorbar\":{\"outlinewidth\":0,\"ticks\":\"\"},\"colorscale\":[[0.0,\"#0d0887\"],[0.1111111111111111,\"#46039f\"],[0.2222222222222222,\"#7201a8\"],[0.3333333333333333,\"#9c179e\"],[0.4444444444444444,\"#bd3786\"],[0.5555555555555556,\"#d8576b\"],[0.6666666666666666,\"#ed7953\"],[0.7777777777777778,\"#fb9f3a\"],[0.8888888888888888,\"#fdca26\"],[1.0,\"#f0f921\"]],\"type\":\"heatmap\"}],\"histogram2dcontour\":[{\"colorbar\":{\"outlinewidth\":0,\"ticks\":\"\"},\"colorscale\":[[0.0,\"#0d0887\"],[0.1111111111111111,\"#46039f\"],[0.2222222222222222,\"#7201a8\"],[0.3333333333333333,\"#9c179e\"],[0.4444444444444444,\"#bd3786\"],[0.5555555555555556,\"#d8576b\"],[0.6666666666666666,\"#ed7953\"],[0.7777777777777778,\"#fb9f3a\"],[0.8888888888888888,\"#fdca26\"],[1.0,\"#f0f921\"]],\"type\":\"histogram2dcontour\"}],\"histogram2d\":[{\"colorbar\":{\"outlinewidth\":0,\"ticks\":\"\"},\"colorscale\":[[0.0,\"#0d0887\"],[0.1111111111111111,\"#46039f\"],[0.2222222222222222,\"#7201a8\"],[0.3333333333333333,\"#9c179e\"],[0.4444444444444444,\"#bd3786\"],[0.5555555555555556,\"#d8576b\"],[0.6666666666666666,\"#ed7953\"],[0.7777777777777778,\"#fb9f3a\"],[0.8888888888888888,\"#fdca26\"],[1.0,\"#f0f921\"]],\"type\":\"histogram2d\"}],\"histogram\":[{\"marker\":{\"pattern\":{\"fillmode\":\"overlay\",\"size\":10,\"solidity\":0.2}},\"type\":\"histogram\"}],\"mesh3d\":[{\"colorbar\":{\"outlinewidth\":0,\"ticks\":\"\"},\"type\":\"mesh3d\"}],\"parcoords\":[{\"line\":{\"colorbar\":{\"outlinewidth\":0,\"ticks\":\"\"}},\"type\":\"parcoords\"}],\"pie\":[{\"automargin\":true,\"type\":\"pie\"}],\"scatter3d\":[{\"line\":{\"colorbar\":{\"outlinewidth\":0,\"ticks\":\"\"}},\"marker\":{\"colorbar\":{\"outlinewidth\":0,\"ticks\":\"\"}},\"type\":\"scatter3d\"}],\"scattercarpet\":[{\"marker\":{\"colorbar\":{\"outlinewidth\":0,\"ticks\":\"\"}},\"type\":\"scattercarpet\"}],\"scattergeo\":[{\"marker\":{\"colorbar\":{\"outlinewidth\":0,\"ticks\":\"\"}},\"type\":\"scattergeo\"}],\"scattergl\":[{\"marker\":{\"colorbar\":{\"outlinewidth\":0,\"ticks\":\"\"}},\"type\":\"scattergl\"}],\"scattermapbox\":[{\"marker\":{\"colorbar\":{\"outlinewidth\":0,\"ticks\":\"\"}},\"type\":\"scattermapbox\"}],\"scatterpolargl\":[{\"marker\":{\"colorbar\":{\"outlinewidth\":0,\"ticks\":\"\"}},\"type\":\"scatterpolargl\"}],\"scatterpolar\":[{\"marker\":{\"colorbar\":{\"outlinewidth\":0,\"ticks\":\"\"}},\"type\":\"scatterpolar\"}],\"scatter\":[{\"fillpattern\":{\"fillmode\":\"overlay\",\"size\":10,\"solidity\":0.2},\"type\":\"scatter\"}],\"scatterternary\":[{\"marker\":{\"colorbar\":{\"outlinewidth\":0,\"ticks\":\"\"}},\"type\":\"scatterternary\"}],\"surface\":[{\"colorbar\":{\"outlinewidth\":0,\"ticks\":\"\"},\"colorscale\":[[0.0,\"#0d0887\"],[0.1111111111111111,\"#46039f\"],[0.2222222222222222,\"#7201a8\"],[0.3333333333333333,\"#9c179e\"],[0.4444444444444444,\"#bd3786\"],[0.5555555555555556,\"#d8576b\"],[0.6666666666666666,\"#ed7953\"],[0.7777777777777778,\"#fb9f3a\"],[0.8888888888888888,\"#fdca26\"],[1.0,\"#f0f921\"]],\"type\":\"surface\"}],\"table\":[{\"cells\":{\"fill\":{\"color\":\"#EBF0F8\"},\"line\":{\"color\":\"white\"}},\"header\":{\"fill\":{\"color\":\"#C8D4E3\"},\"line\":{\"color\":\"white\"}},\"type\":\"table\"}]},\"layout\":{\"annotationdefaults\":{\"arrowcolor\":\"#2a3f5f\",\"arrowhead\":0,\"arrowwidth\":1},\"autotypenumbers\":\"strict\",\"coloraxis\":{\"colorbar\":{\"outlinewidth\":0,\"ticks\":\"\"}},\"colorscale\":{\"diverging\":[[0,\"#8e0152\"],[0.1,\"#c51b7d\"],[0.2,\"#de77ae\"],[0.3,\"#f1b6da\"],[0.4,\"#fde0ef\"],[0.5,\"#f7f7f7\"],[0.6,\"#e6f5d0\"],[0.7,\"#b8e186\"],[0.8,\"#7fbc41\"],[0.9,\"#4d9221\"],[1,\"#276419\"]],\"sequential\":[[0.0,\"#0d0887\"],[0.1111111111111111,\"#46039f\"],[0.2222222222222222,\"#7201a8\"],[0.3333333333333333,\"#9c179e\"],[0.4444444444444444,\"#bd3786\"],[0.5555555555555556,\"#d8576b\"],[0.6666666666666666,\"#ed7953\"],[0.7777777777777778,\"#fb9f3a\"],[0.8888888888888888,\"#fdca26\"],[1.0,\"#f0f921\"]],\"sequentialminus\":[[0.0,\"#0d0887\"],[0.1111111111111111,\"#46039f\"],[0.2222222222222222,\"#7201a8\"],[0.3333333333333333,\"#9c179e\"],[0.4444444444444444,\"#bd3786\"],[0.5555555555555556,\"#d8576b\"],[0.6666666666666666,\"#ed7953\"],[0.7777777777777778,\"#fb9f3a\"],[0.8888888888888888,\"#fdca26\"],[1.0,\"#f0f921\"]]},\"colorway\":[\"#636efa\",\"#EF553B\",\"#00cc96\",\"#ab63fa\",\"#FFA15A\",\"#19d3f3\",\"#FF6692\",\"#B6E880\",\"#FF97FF\",\"#FECB52\"],\"font\":{\"color\":\"#2a3f5f\"},\"geo\":{\"bgcolor\":\"white\",\"lakecolor\":\"white\",\"landcolor\":\"#E5ECF6\",\"showlakes\":true,\"showland\":true,\"subunitcolor\":\"white\"},\"hoverlabel\":{\"align\":\"left\"},\"hovermode\":\"closest\",\"mapbox\":{\"style\":\"light\"},\"paper_bgcolor\":\"white\",\"plot_bgcolor\":\"#E5ECF6\",\"polar\":{\"angularaxis\":{\"gridcolor\":\"white\",\"linecolor\":\"white\",\"ticks\":\"\"},\"bgcolor\":\"#E5ECF6\",\"radialaxis\":{\"gridcolor\":\"white\",\"linecolor\":\"white\",\"ticks\":\"\"}},\"scene\":{\"xaxis\":{\"backgroundcolor\":\"#E5ECF6\",\"gridcolor\":\"white\",\"gridwidth\":2,\"linecolor\":\"white\",\"showbackground\":true,\"ticks\":\"\",\"zerolinecolor\":\"white\"},\"yaxis\":{\"backgroundcolor\":\"#E5ECF6\",\"gridcolor\":\"white\",\"gridwidth\":2,\"linecolor\":\"white\",\"showbackground\":true,\"ticks\":\"\",\"zerolinecolor\":\"white\"},\"zaxis\":{\"backgroundcolor\":\"#E5ECF6\",\"gridcolor\":\"white\",\"gridwidth\":2,\"linecolor\":\"white\",\"showbackground\":true,\"ticks\":\"\",\"zerolinecolor\":\"white\"}},\"shapedefaults\":{\"line\":{\"color\":\"#2a3f5f\"}},\"ternary\":{\"aaxis\":{\"gridcolor\":\"white\",\"linecolor\":\"white\",\"ticks\":\"\"},\"baxis\":{\"gridcolor\":\"white\",\"linecolor\":\"white\",\"ticks\":\"\"},\"bgcolor\":\"#E5ECF6\",\"caxis\":{\"gridcolor\":\"white\",\"linecolor\":\"white\",\"ticks\":\"\"}},\"title\":{\"x\":0.05},\"xaxis\":{\"automargin\":true,\"gridcolor\":\"white\",\"linecolor\":\"white\",\"ticks\":\"\",\"title\":{\"standoff\":15},\"zerolinecolor\":\"white\",\"zerolinewidth\":2},\"yaxis\":{\"automargin\":true,\"gridcolor\":\"white\",\"linecolor\":\"white\",\"ticks\":\"\",\"title\":{\"standoff\":15},\"zerolinecolor\":\"white\",\"zerolinewidth\":2}}},\"title\":{\"font\":{\"color\":\"#4D5663\"}},\"xaxis\":{\"gridcolor\":\"#E1E5ED\",\"showgrid\":true,\"tickfont\":{\"color\":\"#4D5663\"},\"title\":{\"font\":{\"color\":\"#4D5663\"},\"text\":\"\"},\"zerolinecolor\":\"#E1E5ED\"},\"yaxis\":{\"domain\":[0.3,1],\"gridcolor\":\"#E1E5ED\",\"showgrid\":true,\"tickfont\":{\"color\":\"#4D5663\"},\"title\":{\"font\":{\"color\":\"#4D5663\"},\"text\":\"\"},\"zerolinecolor\":\"#E1E5ED\"},\"yaxis2\":{\"domain\":[0,0.25],\"gridcolor\":\"#E1E5ED\",\"showgrid\":true,\"tickfont\":{\"color\":\"#4D5663\"},\"title\":{\"font\":{\"color\":\"#4D5663\"},\"text\":\"Spread\"},\"zerolinecolor\":\"#E1E5ED\"},\"xaxis2\":{\"anchor\":\"y2\",\"gridcolor\":\"#E1E5ED\",\"showgrid\":true,\"showticklabels\":false,\"tickfont\":{\"color\":\"#4D5663\"},\"title\":{\"font\":{\"color\":\"#4D5663\"},\"text\":\"\"},\"zerolinecolor\":\"#E1E5ED\"}},                        {\"showLink\": true, \"linkText\": \"Export to plot.ly\", \"plotlyServerURL\": \"https://plot.ly\", \"responsive\": true}                    ).then(function(){\n",
       "                            \n",
       "var gd = document.getElementById('4e123061-530d-4eb2-b84b-fa9e1ad9eedc');\n",
       "var x = new MutationObserver(function (mutations, observer) {{\n",
       "        var display = window.getComputedStyle(gd).display;\n",
       "        if (!display || display === 'none') {{\n",
       "            console.log([gd, 'removed!']);\n",
       "            Plotly.purge(gd);\n",
       "            observer.disconnect();\n",
       "        }}\n",
       "}});\n",
       "\n",
       "// Listen for the removal of the full notebook cells\n",
       "var notebookContainer = gd.closest('#notebook-container');\n",
       "if (notebookContainer) {{\n",
       "    x.observe(notebookContainer, {childList: true});\n",
       "}}\n",
       "\n",
       "// Listen for the clearing of the current output cell\n",
       "var outputEl = gd.closest('.output');\n",
       "if (outputEl) {{\n",
       "    x.observe(outputEl, {childList: true});\n",
       "}}\n",
       "\n",
       "                        })                };                });            </script>        </div>"
      ]
     },
     "metadata": {},
     "output_type": "display_data"
    }
   ],
   "source": [
    "import numpy as np\n",
    "df[['A','B']].iplot(kind='spread')"
   ]
  },
  {
   "cell_type": "markdown",
   "id": "de0e8168",
   "metadata": {},
   "source": [
    "### histogram"
   ]
  },
  {
   "cell_type": "code",
   "execution_count": 19,
   "id": "84e0ed69",
   "metadata": {},
   "outputs": [
    {
     "data": {
      "application/vnd.plotly.v1+json": {
       "config": {
        "linkText": "Export to plot.ly",
        "plotlyServerURL": "https://plot.ly",
        "showLink": true
       },
       "data": [
        {
         "histfunc": "count",
         "histnorm": "",
         "marker": {
          "color": "rgba(255, 153, 51, 1.0)",
          "line": {
           "color": "#4D5663",
           "width": 1.3
          }
         },
         "name": "A",
         "nbinsx": 25,
         "opacity": 0.8,
         "orientation": "v",
         "type": "histogram",
         "x": [
          -0.9667706031559152,
          -0.2859230331659126,
          -0.9598172529636709,
          1.6994273373143356,
          0.6679156281878831,
          -0.7921386723269326,
          0.6677875090604823,
          0.18842161040285368,
          1.2197013733786959,
          0.3740932827273875,
          0.6763751328413449,
          1.0494561021545243,
          0.07221209523657499,
          -0.8791766868027052,
          0.12162966723876437,
          -0.10357449487613801,
          -0.5094000022078592,
          0.6239757340029429,
          -1.2449571168622398,
          0.3594084096499897,
          1.6765297679482034,
          0.13509423235704984,
          0.2705117695196429,
          -0.7119820402020055,
          -0.12907758215134288,
          0.08319611741499265,
          0.430408914483296,
          1.1322952435002804,
          -0.9607675765706225,
          -0.1420858459791905,
          0.9348025697422142,
          1.0557892979911945,
          -0.7528462987022209,
          -2.1819039128157867,
          -1.4046399567682601,
          0.5861898200940868,
          -0.2911744291241955,
          -0.5509183453632426,
          -0.1127612420803882,
          0.6888117831712275,
          -0.1364296263697243,
          0.3277151667010575,
          0.33758301287551934,
          0.7981383473407812,
          -0.5749282127701741,
          0.0573190971632262,
          2.005614222502313,
          -0.36084649081020853,
          0.12500468331404857,
          -1.000769118596277,
          -1.2581246473715653,
          0.8727168540806867,
          0.5189249974409815,
          0.26003727857485476,
          0.9036555150907073,
          0.2100386271152475,
          0.8011528441099885,
          -1.4767051234211053,
          -0.2984036629837312,
          -2.9439786983978737,
          -0.2072924708400469,
          -0.8970346988592104,
          -1.562210930137962,
          -1.2007698303843537,
          0.5761557464682605,
          -0.3334196477312107,
          -0.1475085352910442,
          -1.9221100669005526,
          -0.37263094070359437,
          -0.2961685288793439,
          0.867188512443164,
          0.21374050067553674,
          -0.7153835481111949,
          1.2527062398553368,
          1.183821901529496,
          2.200161640450383,
          1.695203262152829,
          -1.2996409871306696,
          -0.4603476887302826,
          -0.3357203379555168,
          -0.00262303954320485,
          1.0643942398357191,
          0.326733874202913,
          -0.21373908648877013,
          -1.187563138747254,
          1.43363810629614,
          -0.78225692691843,
          0.0820954573532839,
          1.0920156152206064,
          1.3080169562280424,
          -1.3269670830691598,
          0.6523762892146466,
          -0.2841860611708281,
          -0.06085191281269883,
          0.1811085429676458,
          0.27988653937338126,
          -1.5113247093622162,
          1.9927114711577558,
          -1.2115200720889219,
          1.730413492768943
         ]
        }
       ],
       "layout": {
        "barmode": "overlay",
        "legend": {
         "bgcolor": "#F5F6F9",
         "font": {
          "color": "#4D5663"
         }
        },
        "paper_bgcolor": "#F5F6F9",
        "plot_bgcolor": "#F5F6F9",
        "template": {
         "data": {
          "bar": [
           {
            "error_x": {
             "color": "#2a3f5f"
            },
            "error_y": {
             "color": "#2a3f5f"
            },
            "marker": {
             "line": {
              "color": "#E5ECF6",
              "width": 0.5
             },
             "pattern": {
              "fillmode": "overlay",
              "size": 10,
              "solidity": 0.2
             }
            },
            "type": "bar"
           }
          ],
          "barpolar": [
           {
            "marker": {
             "line": {
              "color": "#E5ECF6",
              "width": 0.5
             },
             "pattern": {
              "fillmode": "overlay",
              "size": 10,
              "solidity": 0.2
             }
            },
            "type": "barpolar"
           }
          ],
          "carpet": [
           {
            "aaxis": {
             "endlinecolor": "#2a3f5f",
             "gridcolor": "white",
             "linecolor": "white",
             "minorgridcolor": "white",
             "startlinecolor": "#2a3f5f"
            },
            "baxis": {
             "endlinecolor": "#2a3f5f",
             "gridcolor": "white",
             "linecolor": "white",
             "minorgridcolor": "white",
             "startlinecolor": "#2a3f5f"
            },
            "type": "carpet"
           }
          ],
          "choropleth": [
           {
            "colorbar": {
             "outlinewidth": 0,
             "ticks": ""
            },
            "type": "choropleth"
           }
          ],
          "contour": [
           {
            "colorbar": {
             "outlinewidth": 0,
             "ticks": ""
            },
            "colorscale": [
             [
              0,
              "#0d0887"
             ],
             [
              0.1111111111111111,
              "#46039f"
             ],
             [
              0.2222222222222222,
              "#7201a8"
             ],
             [
              0.3333333333333333,
              "#9c179e"
             ],
             [
              0.4444444444444444,
              "#bd3786"
             ],
             [
              0.5555555555555556,
              "#d8576b"
             ],
             [
              0.6666666666666666,
              "#ed7953"
             ],
             [
              0.7777777777777778,
              "#fb9f3a"
             ],
             [
              0.8888888888888888,
              "#fdca26"
             ],
             [
              1,
              "#f0f921"
             ]
            ],
            "type": "contour"
           }
          ],
          "contourcarpet": [
           {
            "colorbar": {
             "outlinewidth": 0,
             "ticks": ""
            },
            "type": "contourcarpet"
           }
          ],
          "heatmap": [
           {
            "colorbar": {
             "outlinewidth": 0,
             "ticks": ""
            },
            "colorscale": [
             [
              0,
              "#0d0887"
             ],
             [
              0.1111111111111111,
              "#46039f"
             ],
             [
              0.2222222222222222,
              "#7201a8"
             ],
             [
              0.3333333333333333,
              "#9c179e"
             ],
             [
              0.4444444444444444,
              "#bd3786"
             ],
             [
              0.5555555555555556,
              "#d8576b"
             ],
             [
              0.6666666666666666,
              "#ed7953"
             ],
             [
              0.7777777777777778,
              "#fb9f3a"
             ],
             [
              0.8888888888888888,
              "#fdca26"
             ],
             [
              1,
              "#f0f921"
             ]
            ],
            "type": "heatmap"
           }
          ],
          "heatmapgl": [
           {
            "colorbar": {
             "outlinewidth": 0,
             "ticks": ""
            },
            "colorscale": [
             [
              0,
              "#0d0887"
             ],
             [
              0.1111111111111111,
              "#46039f"
             ],
             [
              0.2222222222222222,
              "#7201a8"
             ],
             [
              0.3333333333333333,
              "#9c179e"
             ],
             [
              0.4444444444444444,
              "#bd3786"
             ],
             [
              0.5555555555555556,
              "#d8576b"
             ],
             [
              0.6666666666666666,
              "#ed7953"
             ],
             [
              0.7777777777777778,
              "#fb9f3a"
             ],
             [
              0.8888888888888888,
              "#fdca26"
             ],
             [
              1,
              "#f0f921"
             ]
            ],
            "type": "heatmapgl"
           }
          ],
          "histogram": [
           {
            "marker": {
             "pattern": {
              "fillmode": "overlay",
              "size": 10,
              "solidity": 0.2
             }
            },
            "type": "histogram"
           }
          ],
          "histogram2d": [
           {
            "colorbar": {
             "outlinewidth": 0,
             "ticks": ""
            },
            "colorscale": [
             [
              0,
              "#0d0887"
             ],
             [
              0.1111111111111111,
              "#46039f"
             ],
             [
              0.2222222222222222,
              "#7201a8"
             ],
             [
              0.3333333333333333,
              "#9c179e"
             ],
             [
              0.4444444444444444,
              "#bd3786"
             ],
             [
              0.5555555555555556,
              "#d8576b"
             ],
             [
              0.6666666666666666,
              "#ed7953"
             ],
             [
              0.7777777777777778,
              "#fb9f3a"
             ],
             [
              0.8888888888888888,
              "#fdca26"
             ],
             [
              1,
              "#f0f921"
             ]
            ],
            "type": "histogram2d"
           }
          ],
          "histogram2dcontour": [
           {
            "colorbar": {
             "outlinewidth": 0,
             "ticks": ""
            },
            "colorscale": [
             [
              0,
              "#0d0887"
             ],
             [
              0.1111111111111111,
              "#46039f"
             ],
             [
              0.2222222222222222,
              "#7201a8"
             ],
             [
              0.3333333333333333,
              "#9c179e"
             ],
             [
              0.4444444444444444,
              "#bd3786"
             ],
             [
              0.5555555555555556,
              "#d8576b"
             ],
             [
              0.6666666666666666,
              "#ed7953"
             ],
             [
              0.7777777777777778,
              "#fb9f3a"
             ],
             [
              0.8888888888888888,
              "#fdca26"
             ],
             [
              1,
              "#f0f921"
             ]
            ],
            "type": "histogram2dcontour"
           }
          ],
          "mesh3d": [
           {
            "colorbar": {
             "outlinewidth": 0,
             "ticks": ""
            },
            "type": "mesh3d"
           }
          ],
          "parcoords": [
           {
            "line": {
             "colorbar": {
              "outlinewidth": 0,
              "ticks": ""
             }
            },
            "type": "parcoords"
           }
          ],
          "pie": [
           {
            "automargin": true,
            "type": "pie"
           }
          ],
          "scatter": [
           {
            "fillpattern": {
             "fillmode": "overlay",
             "size": 10,
             "solidity": 0.2
            },
            "type": "scatter"
           }
          ],
          "scatter3d": [
           {
            "line": {
             "colorbar": {
              "outlinewidth": 0,
              "ticks": ""
             }
            },
            "marker": {
             "colorbar": {
              "outlinewidth": 0,
              "ticks": ""
             }
            },
            "type": "scatter3d"
           }
          ],
          "scattercarpet": [
           {
            "marker": {
             "colorbar": {
              "outlinewidth": 0,
              "ticks": ""
             }
            },
            "type": "scattercarpet"
           }
          ],
          "scattergeo": [
           {
            "marker": {
             "colorbar": {
              "outlinewidth": 0,
              "ticks": ""
             }
            },
            "type": "scattergeo"
           }
          ],
          "scattergl": [
           {
            "marker": {
             "colorbar": {
              "outlinewidth": 0,
              "ticks": ""
             }
            },
            "type": "scattergl"
           }
          ],
          "scattermapbox": [
           {
            "marker": {
             "colorbar": {
              "outlinewidth": 0,
              "ticks": ""
             }
            },
            "type": "scattermapbox"
           }
          ],
          "scatterpolar": [
           {
            "marker": {
             "colorbar": {
              "outlinewidth": 0,
              "ticks": ""
             }
            },
            "type": "scatterpolar"
           }
          ],
          "scatterpolargl": [
           {
            "marker": {
             "colorbar": {
              "outlinewidth": 0,
              "ticks": ""
             }
            },
            "type": "scatterpolargl"
           }
          ],
          "scatterternary": [
           {
            "marker": {
             "colorbar": {
              "outlinewidth": 0,
              "ticks": ""
             }
            },
            "type": "scatterternary"
           }
          ],
          "surface": [
           {
            "colorbar": {
             "outlinewidth": 0,
             "ticks": ""
            },
            "colorscale": [
             [
              0,
              "#0d0887"
             ],
             [
              0.1111111111111111,
              "#46039f"
             ],
             [
              0.2222222222222222,
              "#7201a8"
             ],
             [
              0.3333333333333333,
              "#9c179e"
             ],
             [
              0.4444444444444444,
              "#bd3786"
             ],
             [
              0.5555555555555556,
              "#d8576b"
             ],
             [
              0.6666666666666666,
              "#ed7953"
             ],
             [
              0.7777777777777778,
              "#fb9f3a"
             ],
             [
              0.8888888888888888,
              "#fdca26"
             ],
             [
              1,
              "#f0f921"
             ]
            ],
            "type": "surface"
           }
          ],
          "table": [
           {
            "cells": {
             "fill": {
              "color": "#EBF0F8"
             },
             "line": {
              "color": "white"
             }
            },
            "header": {
             "fill": {
              "color": "#C8D4E3"
             },
             "line": {
              "color": "white"
             }
            },
            "type": "table"
           }
          ]
         },
         "layout": {
          "annotationdefaults": {
           "arrowcolor": "#2a3f5f",
           "arrowhead": 0,
           "arrowwidth": 1
          },
          "autotypenumbers": "strict",
          "coloraxis": {
           "colorbar": {
            "outlinewidth": 0,
            "ticks": ""
           }
          },
          "colorscale": {
           "diverging": [
            [
             0,
             "#8e0152"
            ],
            [
             0.1,
             "#c51b7d"
            ],
            [
             0.2,
             "#de77ae"
            ],
            [
             0.3,
             "#f1b6da"
            ],
            [
             0.4,
             "#fde0ef"
            ],
            [
             0.5,
             "#f7f7f7"
            ],
            [
             0.6,
             "#e6f5d0"
            ],
            [
             0.7,
             "#b8e186"
            ],
            [
             0.8,
             "#7fbc41"
            ],
            [
             0.9,
             "#4d9221"
            ],
            [
             1,
             "#276419"
            ]
           ],
           "sequential": [
            [
             0,
             "#0d0887"
            ],
            [
             0.1111111111111111,
             "#46039f"
            ],
            [
             0.2222222222222222,
             "#7201a8"
            ],
            [
             0.3333333333333333,
             "#9c179e"
            ],
            [
             0.4444444444444444,
             "#bd3786"
            ],
            [
             0.5555555555555556,
             "#d8576b"
            ],
            [
             0.6666666666666666,
             "#ed7953"
            ],
            [
             0.7777777777777778,
             "#fb9f3a"
            ],
            [
             0.8888888888888888,
             "#fdca26"
            ],
            [
             1,
             "#f0f921"
            ]
           ],
           "sequentialminus": [
            [
             0,
             "#0d0887"
            ],
            [
             0.1111111111111111,
             "#46039f"
            ],
            [
             0.2222222222222222,
             "#7201a8"
            ],
            [
             0.3333333333333333,
             "#9c179e"
            ],
            [
             0.4444444444444444,
             "#bd3786"
            ],
            [
             0.5555555555555556,
             "#d8576b"
            ],
            [
             0.6666666666666666,
             "#ed7953"
            ],
            [
             0.7777777777777778,
             "#fb9f3a"
            ],
            [
             0.8888888888888888,
             "#fdca26"
            ],
            [
             1,
             "#f0f921"
            ]
           ]
          },
          "colorway": [
           "#636efa",
           "#EF553B",
           "#00cc96",
           "#ab63fa",
           "#FFA15A",
           "#19d3f3",
           "#FF6692",
           "#B6E880",
           "#FF97FF",
           "#FECB52"
          ],
          "font": {
           "color": "#2a3f5f"
          },
          "geo": {
           "bgcolor": "white",
           "lakecolor": "white",
           "landcolor": "#E5ECF6",
           "showlakes": true,
           "showland": true,
           "subunitcolor": "white"
          },
          "hoverlabel": {
           "align": "left"
          },
          "hovermode": "closest",
          "mapbox": {
           "style": "light"
          },
          "paper_bgcolor": "white",
          "plot_bgcolor": "#E5ECF6",
          "polar": {
           "angularaxis": {
            "gridcolor": "white",
            "linecolor": "white",
            "ticks": ""
           },
           "bgcolor": "#E5ECF6",
           "radialaxis": {
            "gridcolor": "white",
            "linecolor": "white",
            "ticks": ""
           }
          },
          "scene": {
           "xaxis": {
            "backgroundcolor": "#E5ECF6",
            "gridcolor": "white",
            "gridwidth": 2,
            "linecolor": "white",
            "showbackground": true,
            "ticks": "",
            "zerolinecolor": "white"
           },
           "yaxis": {
            "backgroundcolor": "#E5ECF6",
            "gridcolor": "white",
            "gridwidth": 2,
            "linecolor": "white",
            "showbackground": true,
            "ticks": "",
            "zerolinecolor": "white"
           },
           "zaxis": {
            "backgroundcolor": "#E5ECF6",
            "gridcolor": "white",
            "gridwidth": 2,
            "linecolor": "white",
            "showbackground": true,
            "ticks": "",
            "zerolinecolor": "white"
           }
          },
          "shapedefaults": {
           "line": {
            "color": "#2a3f5f"
           }
          },
          "ternary": {
           "aaxis": {
            "gridcolor": "white",
            "linecolor": "white",
            "ticks": ""
           },
           "baxis": {
            "gridcolor": "white",
            "linecolor": "white",
            "ticks": ""
           },
           "bgcolor": "#E5ECF6",
           "caxis": {
            "gridcolor": "white",
            "linecolor": "white",
            "ticks": ""
           }
          },
          "title": {
           "x": 0.05
          },
          "xaxis": {
           "automargin": true,
           "gridcolor": "white",
           "linecolor": "white",
           "ticks": "",
           "title": {
            "standoff": 15
           },
           "zerolinecolor": "white",
           "zerolinewidth": 2
          },
          "yaxis": {
           "automargin": true,
           "gridcolor": "white",
           "linecolor": "white",
           "ticks": "",
           "title": {
            "standoff": 15
           },
           "zerolinecolor": "white",
           "zerolinewidth": 2
          }
         }
        },
        "title": {
         "font": {
          "color": "#4D5663"
         }
        },
        "xaxis": {
         "gridcolor": "#E1E5ED",
         "showgrid": true,
         "tickfont": {
          "color": "#4D5663"
         },
         "title": {
          "font": {
           "color": "#4D5663"
          },
          "text": ""
         },
         "zerolinecolor": "#E1E5ED"
        },
        "yaxis": {
         "gridcolor": "#E1E5ED",
         "showgrid": true,
         "tickfont": {
          "color": "#4D5663"
         },
         "title": {
          "font": {
           "color": "#4D5663"
          },
          "text": ""
         },
         "zerolinecolor": "#E1E5ED"
        }
       }
      },
      "text/html": [
       "<div>                            <div id=\"26666378-d03b-4f95-bcc4-ba6cb818cadd\" class=\"plotly-graph-div\" style=\"height:525px; width:100%;\"></div>            <script type=\"text/javascript\">                require([\"plotly\"], function(Plotly) {                    window.PLOTLYENV=window.PLOTLYENV || {};\n",
       "                    window.PLOTLYENV.BASE_URL='https://plot.ly';                                    if (document.getElementById(\"26666378-d03b-4f95-bcc4-ba6cb818cadd\")) {                    Plotly.newPlot(                        \"26666378-d03b-4f95-bcc4-ba6cb818cadd\",                        [{\"histfunc\":\"count\",\"histnorm\":\"\",\"marker\":{\"color\":\"rgba(255, 153, 51, 1.0)\",\"line\":{\"color\":\"#4D5663\",\"width\":1.3}},\"name\":\"A\",\"nbinsx\":25,\"opacity\":0.8,\"orientation\":\"v\",\"x\":[-0.9667706031559152,-0.2859230331659126,-0.9598172529636709,1.6994273373143356,0.6679156281878831,-0.7921386723269326,0.6677875090604823,0.18842161040285368,1.2197013733786959,0.3740932827273875,0.6763751328413449,1.0494561021545243,0.07221209523657499,-0.8791766868027052,0.12162966723876437,-0.10357449487613801,-0.5094000022078592,0.6239757340029429,-1.2449571168622398,0.3594084096499897,1.6765297679482034,0.13509423235704984,0.2705117695196429,-0.7119820402020055,-0.12907758215134288,0.08319611741499265,0.430408914483296,1.1322952435002804,-0.9607675765706225,-0.1420858459791905,0.9348025697422142,1.0557892979911945,-0.7528462987022209,-2.1819039128157867,-1.4046399567682601,0.5861898200940868,-0.2911744291241955,-0.5509183453632426,-0.1127612420803882,0.6888117831712275,-0.1364296263697243,0.3277151667010575,0.33758301287551934,0.7981383473407812,-0.5749282127701741,0.0573190971632262,2.005614222502313,-0.36084649081020853,0.12500468331404857,-1.000769118596277,-1.2581246473715653,0.8727168540806867,0.5189249974409815,0.26003727857485476,0.9036555150907073,0.2100386271152475,0.8011528441099885,-1.4767051234211053,-0.2984036629837312,-2.9439786983978737,-0.2072924708400469,-0.8970346988592104,-1.562210930137962,-1.2007698303843537,0.5761557464682605,-0.3334196477312107,-0.1475085352910442,-1.9221100669005526,-0.37263094070359437,-0.2961685288793439,0.867188512443164,0.21374050067553674,-0.7153835481111949,1.2527062398553368,1.183821901529496,2.200161640450383,1.695203262152829,-1.2996409871306696,-0.4603476887302826,-0.3357203379555168,-0.00262303954320485,1.0643942398357191,0.326733874202913,-0.21373908648877013,-1.187563138747254,1.43363810629614,-0.78225692691843,0.0820954573532839,1.0920156152206064,1.3080169562280424,-1.3269670830691598,0.6523762892146466,-0.2841860611708281,-0.06085191281269883,0.1811085429676458,0.27988653937338126,-1.5113247093622162,1.9927114711577558,-1.2115200720889219,1.730413492768943],\"type\":\"histogram\"}],                        {\"barmode\":\"overlay\",\"legend\":{\"bgcolor\":\"#F5F6F9\",\"font\":{\"color\":\"#4D5663\"}},\"paper_bgcolor\":\"#F5F6F9\",\"plot_bgcolor\":\"#F5F6F9\",\"template\":{\"data\":{\"barpolar\":[{\"marker\":{\"line\":{\"color\":\"#E5ECF6\",\"width\":0.5},\"pattern\":{\"fillmode\":\"overlay\",\"size\":10,\"solidity\":0.2}},\"type\":\"barpolar\"}],\"bar\":[{\"error_x\":{\"color\":\"#2a3f5f\"},\"error_y\":{\"color\":\"#2a3f5f\"},\"marker\":{\"line\":{\"color\":\"#E5ECF6\",\"width\":0.5},\"pattern\":{\"fillmode\":\"overlay\",\"size\":10,\"solidity\":0.2}},\"type\":\"bar\"}],\"carpet\":[{\"aaxis\":{\"endlinecolor\":\"#2a3f5f\",\"gridcolor\":\"white\",\"linecolor\":\"white\",\"minorgridcolor\":\"white\",\"startlinecolor\":\"#2a3f5f\"},\"baxis\":{\"endlinecolor\":\"#2a3f5f\",\"gridcolor\":\"white\",\"linecolor\":\"white\",\"minorgridcolor\":\"white\",\"startlinecolor\":\"#2a3f5f\"},\"type\":\"carpet\"}],\"choropleth\":[{\"colorbar\":{\"outlinewidth\":0,\"ticks\":\"\"},\"type\":\"choropleth\"}],\"contourcarpet\":[{\"colorbar\":{\"outlinewidth\":0,\"ticks\":\"\"},\"type\":\"contourcarpet\"}],\"contour\":[{\"colorbar\":{\"outlinewidth\":0,\"ticks\":\"\"},\"colorscale\":[[0.0,\"#0d0887\"],[0.1111111111111111,\"#46039f\"],[0.2222222222222222,\"#7201a8\"],[0.3333333333333333,\"#9c179e\"],[0.4444444444444444,\"#bd3786\"],[0.5555555555555556,\"#d8576b\"],[0.6666666666666666,\"#ed7953\"],[0.7777777777777778,\"#fb9f3a\"],[0.8888888888888888,\"#fdca26\"],[1.0,\"#f0f921\"]],\"type\":\"contour\"}],\"heatmapgl\":[{\"colorbar\":{\"outlinewidth\":0,\"ticks\":\"\"},\"colorscale\":[[0.0,\"#0d0887\"],[0.1111111111111111,\"#46039f\"],[0.2222222222222222,\"#7201a8\"],[0.3333333333333333,\"#9c179e\"],[0.4444444444444444,\"#bd3786\"],[0.5555555555555556,\"#d8576b\"],[0.6666666666666666,\"#ed7953\"],[0.7777777777777778,\"#fb9f3a\"],[0.8888888888888888,\"#fdca26\"],[1.0,\"#f0f921\"]],\"type\":\"heatmapgl\"}],\"heatmap\":[{\"colorbar\":{\"outlinewidth\":0,\"ticks\":\"\"},\"colorscale\":[[0.0,\"#0d0887\"],[0.1111111111111111,\"#46039f\"],[0.2222222222222222,\"#7201a8\"],[0.3333333333333333,\"#9c179e\"],[0.4444444444444444,\"#bd3786\"],[0.5555555555555556,\"#d8576b\"],[0.6666666666666666,\"#ed7953\"],[0.7777777777777778,\"#fb9f3a\"],[0.8888888888888888,\"#fdca26\"],[1.0,\"#f0f921\"]],\"type\":\"heatmap\"}],\"histogram2dcontour\":[{\"colorbar\":{\"outlinewidth\":0,\"ticks\":\"\"},\"colorscale\":[[0.0,\"#0d0887\"],[0.1111111111111111,\"#46039f\"],[0.2222222222222222,\"#7201a8\"],[0.3333333333333333,\"#9c179e\"],[0.4444444444444444,\"#bd3786\"],[0.5555555555555556,\"#d8576b\"],[0.6666666666666666,\"#ed7953\"],[0.7777777777777778,\"#fb9f3a\"],[0.8888888888888888,\"#fdca26\"],[1.0,\"#f0f921\"]],\"type\":\"histogram2dcontour\"}],\"histogram2d\":[{\"colorbar\":{\"outlinewidth\":0,\"ticks\":\"\"},\"colorscale\":[[0.0,\"#0d0887\"],[0.1111111111111111,\"#46039f\"],[0.2222222222222222,\"#7201a8\"],[0.3333333333333333,\"#9c179e\"],[0.4444444444444444,\"#bd3786\"],[0.5555555555555556,\"#d8576b\"],[0.6666666666666666,\"#ed7953\"],[0.7777777777777778,\"#fb9f3a\"],[0.8888888888888888,\"#fdca26\"],[1.0,\"#f0f921\"]],\"type\":\"histogram2d\"}],\"histogram\":[{\"marker\":{\"pattern\":{\"fillmode\":\"overlay\",\"size\":10,\"solidity\":0.2}},\"type\":\"histogram\"}],\"mesh3d\":[{\"colorbar\":{\"outlinewidth\":0,\"ticks\":\"\"},\"type\":\"mesh3d\"}],\"parcoords\":[{\"line\":{\"colorbar\":{\"outlinewidth\":0,\"ticks\":\"\"}},\"type\":\"parcoords\"}],\"pie\":[{\"automargin\":true,\"type\":\"pie\"}],\"scatter3d\":[{\"line\":{\"colorbar\":{\"outlinewidth\":0,\"ticks\":\"\"}},\"marker\":{\"colorbar\":{\"outlinewidth\":0,\"ticks\":\"\"}},\"type\":\"scatter3d\"}],\"scattercarpet\":[{\"marker\":{\"colorbar\":{\"outlinewidth\":0,\"ticks\":\"\"}},\"type\":\"scattercarpet\"}],\"scattergeo\":[{\"marker\":{\"colorbar\":{\"outlinewidth\":0,\"ticks\":\"\"}},\"type\":\"scattergeo\"}],\"scattergl\":[{\"marker\":{\"colorbar\":{\"outlinewidth\":0,\"ticks\":\"\"}},\"type\":\"scattergl\"}],\"scattermapbox\":[{\"marker\":{\"colorbar\":{\"outlinewidth\":0,\"ticks\":\"\"}},\"type\":\"scattermapbox\"}],\"scatterpolargl\":[{\"marker\":{\"colorbar\":{\"outlinewidth\":0,\"ticks\":\"\"}},\"type\":\"scatterpolargl\"}],\"scatterpolar\":[{\"marker\":{\"colorbar\":{\"outlinewidth\":0,\"ticks\":\"\"}},\"type\":\"scatterpolar\"}],\"scatter\":[{\"fillpattern\":{\"fillmode\":\"overlay\",\"size\":10,\"solidity\":0.2},\"type\":\"scatter\"}],\"scatterternary\":[{\"marker\":{\"colorbar\":{\"outlinewidth\":0,\"ticks\":\"\"}},\"type\":\"scatterternary\"}],\"surface\":[{\"colorbar\":{\"outlinewidth\":0,\"ticks\":\"\"},\"colorscale\":[[0.0,\"#0d0887\"],[0.1111111111111111,\"#46039f\"],[0.2222222222222222,\"#7201a8\"],[0.3333333333333333,\"#9c179e\"],[0.4444444444444444,\"#bd3786\"],[0.5555555555555556,\"#d8576b\"],[0.6666666666666666,\"#ed7953\"],[0.7777777777777778,\"#fb9f3a\"],[0.8888888888888888,\"#fdca26\"],[1.0,\"#f0f921\"]],\"type\":\"surface\"}],\"table\":[{\"cells\":{\"fill\":{\"color\":\"#EBF0F8\"},\"line\":{\"color\":\"white\"}},\"header\":{\"fill\":{\"color\":\"#C8D4E3\"},\"line\":{\"color\":\"white\"}},\"type\":\"table\"}]},\"layout\":{\"annotationdefaults\":{\"arrowcolor\":\"#2a3f5f\",\"arrowhead\":0,\"arrowwidth\":1},\"autotypenumbers\":\"strict\",\"coloraxis\":{\"colorbar\":{\"outlinewidth\":0,\"ticks\":\"\"}},\"colorscale\":{\"diverging\":[[0,\"#8e0152\"],[0.1,\"#c51b7d\"],[0.2,\"#de77ae\"],[0.3,\"#f1b6da\"],[0.4,\"#fde0ef\"],[0.5,\"#f7f7f7\"],[0.6,\"#e6f5d0\"],[0.7,\"#b8e186\"],[0.8,\"#7fbc41\"],[0.9,\"#4d9221\"],[1,\"#276419\"]],\"sequential\":[[0.0,\"#0d0887\"],[0.1111111111111111,\"#46039f\"],[0.2222222222222222,\"#7201a8\"],[0.3333333333333333,\"#9c179e\"],[0.4444444444444444,\"#bd3786\"],[0.5555555555555556,\"#d8576b\"],[0.6666666666666666,\"#ed7953\"],[0.7777777777777778,\"#fb9f3a\"],[0.8888888888888888,\"#fdca26\"],[1.0,\"#f0f921\"]],\"sequentialminus\":[[0.0,\"#0d0887\"],[0.1111111111111111,\"#46039f\"],[0.2222222222222222,\"#7201a8\"],[0.3333333333333333,\"#9c179e\"],[0.4444444444444444,\"#bd3786\"],[0.5555555555555556,\"#d8576b\"],[0.6666666666666666,\"#ed7953\"],[0.7777777777777778,\"#fb9f3a\"],[0.8888888888888888,\"#fdca26\"],[1.0,\"#f0f921\"]]},\"colorway\":[\"#636efa\",\"#EF553B\",\"#00cc96\",\"#ab63fa\",\"#FFA15A\",\"#19d3f3\",\"#FF6692\",\"#B6E880\",\"#FF97FF\",\"#FECB52\"],\"font\":{\"color\":\"#2a3f5f\"},\"geo\":{\"bgcolor\":\"white\",\"lakecolor\":\"white\",\"landcolor\":\"#E5ECF6\",\"showlakes\":true,\"showland\":true,\"subunitcolor\":\"white\"},\"hoverlabel\":{\"align\":\"left\"},\"hovermode\":\"closest\",\"mapbox\":{\"style\":\"light\"},\"paper_bgcolor\":\"white\",\"plot_bgcolor\":\"#E5ECF6\",\"polar\":{\"angularaxis\":{\"gridcolor\":\"white\",\"linecolor\":\"white\",\"ticks\":\"\"},\"bgcolor\":\"#E5ECF6\",\"radialaxis\":{\"gridcolor\":\"white\",\"linecolor\":\"white\",\"ticks\":\"\"}},\"scene\":{\"xaxis\":{\"backgroundcolor\":\"#E5ECF6\",\"gridcolor\":\"white\",\"gridwidth\":2,\"linecolor\":\"white\",\"showbackground\":true,\"ticks\":\"\",\"zerolinecolor\":\"white\"},\"yaxis\":{\"backgroundcolor\":\"#E5ECF6\",\"gridcolor\":\"white\",\"gridwidth\":2,\"linecolor\":\"white\",\"showbackground\":true,\"ticks\":\"\",\"zerolinecolor\":\"white\"},\"zaxis\":{\"backgroundcolor\":\"#E5ECF6\",\"gridcolor\":\"white\",\"gridwidth\":2,\"linecolor\":\"white\",\"showbackground\":true,\"ticks\":\"\",\"zerolinecolor\":\"white\"}},\"shapedefaults\":{\"line\":{\"color\":\"#2a3f5f\"}},\"ternary\":{\"aaxis\":{\"gridcolor\":\"white\",\"linecolor\":\"white\",\"ticks\":\"\"},\"baxis\":{\"gridcolor\":\"white\",\"linecolor\":\"white\",\"ticks\":\"\"},\"bgcolor\":\"#E5ECF6\",\"caxis\":{\"gridcolor\":\"white\",\"linecolor\":\"white\",\"ticks\":\"\"}},\"title\":{\"x\":0.05},\"xaxis\":{\"automargin\":true,\"gridcolor\":\"white\",\"linecolor\":\"white\",\"ticks\":\"\",\"title\":{\"standoff\":15},\"zerolinecolor\":\"white\",\"zerolinewidth\":2},\"yaxis\":{\"automargin\":true,\"gridcolor\":\"white\",\"linecolor\":\"white\",\"ticks\":\"\",\"title\":{\"standoff\":15},\"zerolinecolor\":\"white\",\"zerolinewidth\":2}}},\"title\":{\"font\":{\"color\":\"#4D5663\"}},\"xaxis\":{\"gridcolor\":\"#E1E5ED\",\"showgrid\":true,\"tickfont\":{\"color\":\"#4D5663\"},\"title\":{\"font\":{\"color\":\"#4D5663\"},\"text\":\"\"},\"zerolinecolor\":\"#E1E5ED\"},\"yaxis\":{\"gridcolor\":\"#E1E5ED\",\"showgrid\":true,\"tickfont\":{\"color\":\"#4D5663\"},\"title\":{\"font\":{\"color\":\"#4D5663\"},\"text\":\"\"},\"zerolinecolor\":\"#E1E5ED\"}},                        {\"showLink\": true, \"linkText\": \"Export to plot.ly\", \"plotlyServerURL\": \"https://plot.ly\", \"responsive\": true}                    ).then(function(){\n",
       "                            \n",
       "var gd = document.getElementById('26666378-d03b-4f95-bcc4-ba6cb818cadd');\n",
       "var x = new MutationObserver(function (mutations, observer) {{\n",
       "        var display = window.getComputedStyle(gd).display;\n",
       "        if (!display || display === 'none') {{\n",
       "            console.log([gd, 'removed!']);\n",
       "            Plotly.purge(gd);\n",
       "            observer.disconnect();\n",
       "        }}\n",
       "}});\n",
       "\n",
       "// Listen for the removal of the full notebook cells\n",
       "var notebookContainer = gd.closest('#notebook-container');\n",
       "if (notebookContainer) {{\n",
       "    x.observe(notebookContainer, {childList: true});\n",
       "}}\n",
       "\n",
       "// Listen for the clearing of the current output cell\n",
       "var outputEl = gd.closest('.output');\n",
       "if (outputEl) {{\n",
       "    x.observe(outputEl, {childList: true});\n",
       "}}\n",
       "\n",
       "                        })                };                });            </script>        </div>"
      ]
     },
     "metadata": {},
     "output_type": "display_data"
    }
   ],
   "source": [
    "df['A'].iplot(kind='hist',bins=25)"
   ]
  },
  {
   "cell_type": "code",
   "execution_count": 20,
   "id": "6b90dbea",
   "metadata": {},
   "outputs": [
    {
     "data": {
      "application/vnd.plotly.v1+json": {
       "config": {
        "linkText": "Export to plot.ly",
        "plotlyServerURL": "https://plot.ly",
        "showLink": true
       },
       "data": [
        {
         "marker": {
          "color": [
           "rgb(255, 153, 51)",
           "rgb(55, 128, 191)",
           "rgb(50, 171, 96)",
           "rgb(128, 0, 128)",
           "rgb(219, 64, 82)",
           "rgb(0, 128, 128)",
           "rgb(255, 255, 51)",
           "rgb(128, 128, 0)",
           "rgb(251, 128, 114)",
           "rgb(128, 177, 211)"
          ],
          "line": {
           "width": 1.3
          },
          "size": [
           65,
           51,
           54,
           60,
           82,
           41,
           38,
           72,
           82,
           82,
           86,
           59,
           46,
           51,
           71,
           33,
           95,
           19,
           73,
           50,
           53,
           34,
           78,
           53,
           74,
           38,
           70,
           30,
           55,
           82,
           22,
           59,
           78,
           86,
           62,
           36,
           56,
           45,
           45,
           84,
           82,
           63,
           51,
           47,
           53,
           44,
           51,
           51,
           74,
           68,
           64,
           72,
           76,
           80,
           12,
           67,
           43,
           75,
           66,
           46,
           39,
           27,
           44,
           61,
           58,
           60,
           62,
           58,
           84,
           58,
           69,
           43,
           31,
           49,
           55,
           84,
           83,
           43,
           70,
           78,
           55,
           55,
           59,
           59,
           80,
           75,
           44,
           71,
           62,
           112,
           73,
           59,
           76,
           64,
           50,
           60,
           90,
           63,
           76,
           84
          ],
          "symbol": "circle"
         },
         "mode": "markers",
         "text": "",
         "type": "scatter",
         "x": [
          -0.9667706031559152,
          -0.2859230331659126,
          -0.9598172529636709,
          1.6994273373143356,
          0.6679156281878831,
          -0.7921386723269326,
          0.6677875090604823,
          0.18842161040285368,
          1.2197013733786959,
          0.3740932827273875,
          0.6763751328413449,
          1.0494561021545243,
          0.07221209523657499,
          -0.8791766868027052,
          0.12162966723876437,
          -0.10357449487613801,
          -0.5094000022078592,
          0.6239757340029429,
          -1.2449571168622398,
          0.3594084096499897,
          1.6765297679482034,
          0.13509423235704984,
          0.2705117695196429,
          -0.7119820402020055,
          -0.12907758215134288,
          0.08319611741499265,
          0.430408914483296,
          1.1322952435002804,
          -0.9607675765706225,
          -0.1420858459791905,
          0.9348025697422142,
          1.0557892979911945,
          -0.7528462987022209,
          -2.1819039128157867,
          -1.4046399567682601,
          0.5861898200940868,
          -0.2911744291241955,
          -0.5509183453632426,
          -0.1127612420803882,
          0.6888117831712275,
          -0.1364296263697243,
          0.3277151667010575,
          0.33758301287551934,
          0.7981383473407812,
          -0.5749282127701741,
          0.0573190971632262,
          2.005614222502313,
          -0.36084649081020853,
          0.12500468331404857,
          -1.000769118596277,
          -1.2581246473715653,
          0.8727168540806867,
          0.5189249974409815,
          0.26003727857485476,
          0.9036555150907073,
          0.2100386271152475,
          0.8011528441099885,
          -1.4767051234211053,
          -0.2984036629837312,
          -2.9439786983978737,
          -0.2072924708400469,
          -0.8970346988592104,
          -1.562210930137962,
          -1.2007698303843537,
          0.5761557464682605,
          -0.3334196477312107,
          -0.1475085352910442,
          -1.9221100669005526,
          -0.37263094070359437,
          -0.2961685288793439,
          0.867188512443164,
          0.21374050067553674,
          -0.7153835481111949,
          1.2527062398553368,
          1.183821901529496,
          2.200161640450383,
          1.695203262152829,
          -1.2996409871306696,
          -0.4603476887302826,
          -0.3357203379555168,
          -0.00262303954320485,
          1.0643942398357191,
          0.326733874202913,
          -0.21373908648877013,
          -1.187563138747254,
          1.43363810629614,
          -0.78225692691843,
          0.0820954573532839,
          1.0920156152206064,
          1.3080169562280424,
          -1.3269670830691598,
          0.6523762892146466,
          -0.2841860611708281,
          -0.06085191281269883,
          0.1811085429676458,
          0.27988653937338126,
          -1.5113247093622162,
          1.9927114711577558,
          -1.2115200720889219,
          1.730413492768943
         ],
         "y": [
          -1.3188190343406079,
          -0.5195427305961262,
          3.386453821992028,
          -0.09705417497171678,
          -0.297892863845476,
          -0.26756095229456917,
          0.5700665741375269,
          0.44529929220723913,
          -0.5510229873684799,
          1.7463483158674042,
          1.0118648347277688,
          0.1458689328478937,
          1.6735595274266766,
          0.7379430702485847,
          -0.7028689770607447,
          -0.07384558691768216,
          -1.7178452837414204,
          -1.9804215168285524,
          1.8325098041859333,
          0.4993355982667355,
          0.6159257998414503,
          -0.4792071402444821,
          0.3559177987316825,
          0.04575842620889139,
          -0.8937333342631764,
          -0.8458911423699876,
          1.2132038105440868,
          0.39373880580881887,
          1.1759919470652533,
          -2.068247462098143,
          -0.18747085870618696,
          -0.008194876832229107,
          -0.907129791010329,
          1.925063230443421,
          1.01885368544152,
          1.387438436729016,
          -1.0066955686153438,
          -0.9671187007033104,
          0.731976451138149,
          -0.9371741422340341,
          -0.768941907442198,
          0.0008091449242708666,
          0.07929553953223403,
          -0.012771443464080616,
          -1.091398000879962,
          0.6806417721703428,
          2.520321123148215,
          -1.6307687921002214,
          0.18510853667360713,
          -0.5309953436595065,
          -0.22650831604718946,
          -1.258650901561935,
          -0.29680745281406823,
          1.2488894303379945,
          0.9682519853659632,
          0.9040218291484514,
          0.4598920631590823,
          0.09824730993245537,
          2.4477757145812893,
          0.7180564035299077,
          0.0315662683405219,
          -0.22996495250392865,
          0.2690941714596704,
          -0.6618681113312663,
          2.4622984818930136,
          -0.9383539350729556,
          0.19670822651949327,
          0.332796451140872,
          -0.8804151825842351,
          1.0226176431072793,
          -0.9568652442737168,
          0.8632965925105605,
          0.3900306902768008,
          -0.9734778777546095,
          -0.03650594927790021,
          0.7698691732943076,
          -1.3788806224060008,
          1.2099361028622364,
          0.9999975718199677,
          -1.0101204359398641,
          0.5601146900966223,
          1.0474334676881487,
          0.9083479954052169,
          0.36007125845211757,
          0.7990499474418643,
          0.047683355715569184,
          0.9159390582775966,
          1.1103493975674814,
          -0.7261520132147986,
          -0.0351697431708248,
          0.8903375868875737,
          -0.832922227123769,
          1.3524321907790178,
          -2.299743297174103,
          -0.10650146403260315,
          -0.8406462819832169,
          -1.0635316643185633,
          0.7775874644776857,
          0.9727642264248069,
          -0.4108309101944478
         ]
        }
       ],
       "layout": {
        "legend": {
         "bgcolor": "#F5F6F9",
         "font": {
          "color": "#4D5663"
         }
        },
        "paper_bgcolor": "#F5F6F9",
        "plot_bgcolor": "#F5F6F9",
        "template": {
         "data": {
          "bar": [
           {
            "error_x": {
             "color": "#2a3f5f"
            },
            "error_y": {
             "color": "#2a3f5f"
            },
            "marker": {
             "line": {
              "color": "#E5ECF6",
              "width": 0.5
             },
             "pattern": {
              "fillmode": "overlay",
              "size": 10,
              "solidity": 0.2
             }
            },
            "type": "bar"
           }
          ],
          "barpolar": [
           {
            "marker": {
             "line": {
              "color": "#E5ECF6",
              "width": 0.5
             },
             "pattern": {
              "fillmode": "overlay",
              "size": 10,
              "solidity": 0.2
             }
            },
            "type": "barpolar"
           }
          ],
          "carpet": [
           {
            "aaxis": {
             "endlinecolor": "#2a3f5f",
             "gridcolor": "white",
             "linecolor": "white",
             "minorgridcolor": "white",
             "startlinecolor": "#2a3f5f"
            },
            "baxis": {
             "endlinecolor": "#2a3f5f",
             "gridcolor": "white",
             "linecolor": "white",
             "minorgridcolor": "white",
             "startlinecolor": "#2a3f5f"
            },
            "type": "carpet"
           }
          ],
          "choropleth": [
           {
            "colorbar": {
             "outlinewidth": 0,
             "ticks": ""
            },
            "type": "choropleth"
           }
          ],
          "contour": [
           {
            "colorbar": {
             "outlinewidth": 0,
             "ticks": ""
            },
            "colorscale": [
             [
              0,
              "#0d0887"
             ],
             [
              0.1111111111111111,
              "#46039f"
             ],
             [
              0.2222222222222222,
              "#7201a8"
             ],
             [
              0.3333333333333333,
              "#9c179e"
             ],
             [
              0.4444444444444444,
              "#bd3786"
             ],
             [
              0.5555555555555556,
              "#d8576b"
             ],
             [
              0.6666666666666666,
              "#ed7953"
             ],
             [
              0.7777777777777778,
              "#fb9f3a"
             ],
             [
              0.8888888888888888,
              "#fdca26"
             ],
             [
              1,
              "#f0f921"
             ]
            ],
            "type": "contour"
           }
          ],
          "contourcarpet": [
           {
            "colorbar": {
             "outlinewidth": 0,
             "ticks": ""
            },
            "type": "contourcarpet"
           }
          ],
          "heatmap": [
           {
            "colorbar": {
             "outlinewidth": 0,
             "ticks": ""
            },
            "colorscale": [
             [
              0,
              "#0d0887"
             ],
             [
              0.1111111111111111,
              "#46039f"
             ],
             [
              0.2222222222222222,
              "#7201a8"
             ],
             [
              0.3333333333333333,
              "#9c179e"
             ],
             [
              0.4444444444444444,
              "#bd3786"
             ],
             [
              0.5555555555555556,
              "#d8576b"
             ],
             [
              0.6666666666666666,
              "#ed7953"
             ],
             [
              0.7777777777777778,
              "#fb9f3a"
             ],
             [
              0.8888888888888888,
              "#fdca26"
             ],
             [
              1,
              "#f0f921"
             ]
            ],
            "type": "heatmap"
           }
          ],
          "heatmapgl": [
           {
            "colorbar": {
             "outlinewidth": 0,
             "ticks": ""
            },
            "colorscale": [
             [
              0,
              "#0d0887"
             ],
             [
              0.1111111111111111,
              "#46039f"
             ],
             [
              0.2222222222222222,
              "#7201a8"
             ],
             [
              0.3333333333333333,
              "#9c179e"
             ],
             [
              0.4444444444444444,
              "#bd3786"
             ],
             [
              0.5555555555555556,
              "#d8576b"
             ],
             [
              0.6666666666666666,
              "#ed7953"
             ],
             [
              0.7777777777777778,
              "#fb9f3a"
             ],
             [
              0.8888888888888888,
              "#fdca26"
             ],
             [
              1,
              "#f0f921"
             ]
            ],
            "type": "heatmapgl"
           }
          ],
          "histogram": [
           {
            "marker": {
             "pattern": {
              "fillmode": "overlay",
              "size": 10,
              "solidity": 0.2
             }
            },
            "type": "histogram"
           }
          ],
          "histogram2d": [
           {
            "colorbar": {
             "outlinewidth": 0,
             "ticks": ""
            },
            "colorscale": [
             [
              0,
              "#0d0887"
             ],
             [
              0.1111111111111111,
              "#46039f"
             ],
             [
              0.2222222222222222,
              "#7201a8"
             ],
             [
              0.3333333333333333,
              "#9c179e"
             ],
             [
              0.4444444444444444,
              "#bd3786"
             ],
             [
              0.5555555555555556,
              "#d8576b"
             ],
             [
              0.6666666666666666,
              "#ed7953"
             ],
             [
              0.7777777777777778,
              "#fb9f3a"
             ],
             [
              0.8888888888888888,
              "#fdca26"
             ],
             [
              1,
              "#f0f921"
             ]
            ],
            "type": "histogram2d"
           }
          ],
          "histogram2dcontour": [
           {
            "colorbar": {
             "outlinewidth": 0,
             "ticks": ""
            },
            "colorscale": [
             [
              0,
              "#0d0887"
             ],
             [
              0.1111111111111111,
              "#46039f"
             ],
             [
              0.2222222222222222,
              "#7201a8"
             ],
             [
              0.3333333333333333,
              "#9c179e"
             ],
             [
              0.4444444444444444,
              "#bd3786"
             ],
             [
              0.5555555555555556,
              "#d8576b"
             ],
             [
              0.6666666666666666,
              "#ed7953"
             ],
             [
              0.7777777777777778,
              "#fb9f3a"
             ],
             [
              0.8888888888888888,
              "#fdca26"
             ],
             [
              1,
              "#f0f921"
             ]
            ],
            "type": "histogram2dcontour"
           }
          ],
          "mesh3d": [
           {
            "colorbar": {
             "outlinewidth": 0,
             "ticks": ""
            },
            "type": "mesh3d"
           }
          ],
          "parcoords": [
           {
            "line": {
             "colorbar": {
              "outlinewidth": 0,
              "ticks": ""
             }
            },
            "type": "parcoords"
           }
          ],
          "pie": [
           {
            "automargin": true,
            "type": "pie"
           }
          ],
          "scatter": [
           {
            "fillpattern": {
             "fillmode": "overlay",
             "size": 10,
             "solidity": 0.2
            },
            "type": "scatter"
           }
          ],
          "scatter3d": [
           {
            "line": {
             "colorbar": {
              "outlinewidth": 0,
              "ticks": ""
             }
            },
            "marker": {
             "colorbar": {
              "outlinewidth": 0,
              "ticks": ""
             }
            },
            "type": "scatter3d"
           }
          ],
          "scattercarpet": [
           {
            "marker": {
             "colorbar": {
              "outlinewidth": 0,
              "ticks": ""
             }
            },
            "type": "scattercarpet"
           }
          ],
          "scattergeo": [
           {
            "marker": {
             "colorbar": {
              "outlinewidth": 0,
              "ticks": ""
             }
            },
            "type": "scattergeo"
           }
          ],
          "scattergl": [
           {
            "marker": {
             "colorbar": {
              "outlinewidth": 0,
              "ticks": ""
             }
            },
            "type": "scattergl"
           }
          ],
          "scattermapbox": [
           {
            "marker": {
             "colorbar": {
              "outlinewidth": 0,
              "ticks": ""
             }
            },
            "type": "scattermapbox"
           }
          ],
          "scatterpolar": [
           {
            "marker": {
             "colorbar": {
              "outlinewidth": 0,
              "ticks": ""
             }
            },
            "type": "scatterpolar"
           }
          ],
          "scatterpolargl": [
           {
            "marker": {
             "colorbar": {
              "outlinewidth": 0,
              "ticks": ""
             }
            },
            "type": "scatterpolargl"
           }
          ],
          "scatterternary": [
           {
            "marker": {
             "colorbar": {
              "outlinewidth": 0,
              "ticks": ""
             }
            },
            "type": "scatterternary"
           }
          ],
          "surface": [
           {
            "colorbar": {
             "outlinewidth": 0,
             "ticks": ""
            },
            "colorscale": [
             [
              0,
              "#0d0887"
             ],
             [
              0.1111111111111111,
              "#46039f"
             ],
             [
              0.2222222222222222,
              "#7201a8"
             ],
             [
              0.3333333333333333,
              "#9c179e"
             ],
             [
              0.4444444444444444,
              "#bd3786"
             ],
             [
              0.5555555555555556,
              "#d8576b"
             ],
             [
              0.6666666666666666,
              "#ed7953"
             ],
             [
              0.7777777777777778,
              "#fb9f3a"
             ],
             [
              0.8888888888888888,
              "#fdca26"
             ],
             [
              1,
              "#f0f921"
             ]
            ],
            "type": "surface"
           }
          ],
          "table": [
           {
            "cells": {
             "fill": {
              "color": "#EBF0F8"
             },
             "line": {
              "color": "white"
             }
            },
            "header": {
             "fill": {
              "color": "#C8D4E3"
             },
             "line": {
              "color": "white"
             }
            },
            "type": "table"
           }
          ]
         },
         "layout": {
          "annotationdefaults": {
           "arrowcolor": "#2a3f5f",
           "arrowhead": 0,
           "arrowwidth": 1
          },
          "autotypenumbers": "strict",
          "coloraxis": {
           "colorbar": {
            "outlinewidth": 0,
            "ticks": ""
           }
          },
          "colorscale": {
           "diverging": [
            [
             0,
             "#8e0152"
            ],
            [
             0.1,
             "#c51b7d"
            ],
            [
             0.2,
             "#de77ae"
            ],
            [
             0.3,
             "#f1b6da"
            ],
            [
             0.4,
             "#fde0ef"
            ],
            [
             0.5,
             "#f7f7f7"
            ],
            [
             0.6,
             "#e6f5d0"
            ],
            [
             0.7,
             "#b8e186"
            ],
            [
             0.8,
             "#7fbc41"
            ],
            [
             0.9,
             "#4d9221"
            ],
            [
             1,
             "#276419"
            ]
           ],
           "sequential": [
            [
             0,
             "#0d0887"
            ],
            [
             0.1111111111111111,
             "#46039f"
            ],
            [
             0.2222222222222222,
             "#7201a8"
            ],
            [
             0.3333333333333333,
             "#9c179e"
            ],
            [
             0.4444444444444444,
             "#bd3786"
            ],
            [
             0.5555555555555556,
             "#d8576b"
            ],
            [
             0.6666666666666666,
             "#ed7953"
            ],
            [
             0.7777777777777778,
             "#fb9f3a"
            ],
            [
             0.8888888888888888,
             "#fdca26"
            ],
            [
             1,
             "#f0f921"
            ]
           ],
           "sequentialminus": [
            [
             0,
             "#0d0887"
            ],
            [
             0.1111111111111111,
             "#46039f"
            ],
            [
             0.2222222222222222,
             "#7201a8"
            ],
            [
             0.3333333333333333,
             "#9c179e"
            ],
            [
             0.4444444444444444,
             "#bd3786"
            ],
            [
             0.5555555555555556,
             "#d8576b"
            ],
            [
             0.6666666666666666,
             "#ed7953"
            ],
            [
             0.7777777777777778,
             "#fb9f3a"
            ],
            [
             0.8888888888888888,
             "#fdca26"
            ],
            [
             1,
             "#f0f921"
            ]
           ]
          },
          "colorway": [
           "#636efa",
           "#EF553B",
           "#00cc96",
           "#ab63fa",
           "#FFA15A",
           "#19d3f3",
           "#FF6692",
           "#B6E880",
           "#FF97FF",
           "#FECB52"
          ],
          "font": {
           "color": "#2a3f5f"
          },
          "geo": {
           "bgcolor": "white",
           "lakecolor": "white",
           "landcolor": "#E5ECF6",
           "showlakes": true,
           "showland": true,
           "subunitcolor": "white"
          },
          "hoverlabel": {
           "align": "left"
          },
          "hovermode": "closest",
          "mapbox": {
           "style": "light"
          },
          "paper_bgcolor": "white",
          "plot_bgcolor": "#E5ECF6",
          "polar": {
           "angularaxis": {
            "gridcolor": "white",
            "linecolor": "white",
            "ticks": ""
           },
           "bgcolor": "#E5ECF6",
           "radialaxis": {
            "gridcolor": "white",
            "linecolor": "white",
            "ticks": ""
           }
          },
          "scene": {
           "xaxis": {
            "backgroundcolor": "#E5ECF6",
            "gridcolor": "white",
            "gridwidth": 2,
            "linecolor": "white",
            "showbackground": true,
            "ticks": "",
            "zerolinecolor": "white"
           },
           "yaxis": {
            "backgroundcolor": "#E5ECF6",
            "gridcolor": "white",
            "gridwidth": 2,
            "linecolor": "white",
            "showbackground": true,
            "ticks": "",
            "zerolinecolor": "white"
           },
           "zaxis": {
            "backgroundcolor": "#E5ECF6",
            "gridcolor": "white",
            "gridwidth": 2,
            "linecolor": "white",
            "showbackground": true,
            "ticks": "",
            "zerolinecolor": "white"
           }
          },
          "shapedefaults": {
           "line": {
            "color": "#2a3f5f"
           }
          },
          "ternary": {
           "aaxis": {
            "gridcolor": "white",
            "linecolor": "white",
            "ticks": ""
           },
           "baxis": {
            "gridcolor": "white",
            "linecolor": "white",
            "ticks": ""
           },
           "bgcolor": "#E5ECF6",
           "caxis": {
            "gridcolor": "white",
            "linecolor": "white",
            "ticks": ""
           }
          },
          "title": {
           "x": 0.05
          },
          "xaxis": {
           "automargin": true,
           "gridcolor": "white",
           "linecolor": "white",
           "ticks": "",
           "title": {
            "standoff": 15
           },
           "zerolinecolor": "white",
           "zerolinewidth": 2
          },
          "yaxis": {
           "automargin": true,
           "gridcolor": "white",
           "linecolor": "white",
           "ticks": "",
           "title": {
            "standoff": 15
           },
           "zerolinecolor": "white",
           "zerolinewidth": 2
          }
         }
        },
        "title": {
         "font": {
          "color": "#4D5663"
         }
        },
        "xaxis": {
         "gridcolor": "#E1E5ED",
         "showgrid": true,
         "tickfont": {
          "color": "#4D5663"
         },
         "title": {
          "font": {
           "color": "#4D5663"
          },
          "text": ""
         },
         "zerolinecolor": "#E1E5ED"
        },
        "yaxis": {
         "gridcolor": "#E1E5ED",
         "showgrid": true,
         "tickfont": {
          "color": "#4D5663"
         },
         "title": {
          "font": {
           "color": "#4D5663"
          },
          "text": ""
         },
         "zerolinecolor": "#E1E5ED"
        }
       }
      },
      "text/html": [
       "<div>                            <div id=\"3ab02daa-2ab4-490b-9fc3-3059d8586e46\" class=\"plotly-graph-div\" style=\"height:525px; width:100%;\"></div>            <script type=\"text/javascript\">                require([\"plotly\"], function(Plotly) {                    window.PLOTLYENV=window.PLOTLYENV || {};\n",
       "                    window.PLOTLYENV.BASE_URL='https://plot.ly';                                    if (document.getElementById(\"3ab02daa-2ab4-490b-9fc3-3059d8586e46\")) {                    Plotly.newPlot(                        \"3ab02daa-2ab4-490b-9fc3-3059d8586e46\",                        [{\"marker\":{\"color\":[\"rgb(255, 153, 51)\",\"rgb(55, 128, 191)\",\"rgb(50, 171, 96)\",\"rgb(128, 0, 128)\",\"rgb(219, 64, 82)\",\"rgb(0, 128, 128)\",\"rgb(255, 255, 51)\",\"rgb(128, 128, 0)\",\"rgb(251, 128, 114)\",\"rgb(128, 177, 211)\"],\"line\":{\"width\":1.3},\"size\":[65,51,54,60,82,41,38,72,82,82,86,59,46,51,71,33,95,19,73,50,53,34,78,53,74,38,70,30,55,82,22,59,78,86,62,36,56,45,45,84,82,63,51,47,53,44,51,51,74,68,64,72,76,80,12,67,43,75,66,46,39,27,44,61,58,60,62,58,84,58,69,43,31,49,55,84,83,43,70,78,55,55,59,59,80,75,44,71,62,112,73,59,76,64,50,60,90,63,76,84],\"symbol\":\"circle\"},\"mode\":\"markers\",\"text\":\"\",\"x\":[-0.9667706031559152,-0.2859230331659126,-0.9598172529636709,1.6994273373143356,0.6679156281878831,-0.7921386723269326,0.6677875090604823,0.18842161040285368,1.2197013733786959,0.3740932827273875,0.6763751328413449,1.0494561021545243,0.07221209523657499,-0.8791766868027052,0.12162966723876437,-0.10357449487613801,-0.5094000022078592,0.6239757340029429,-1.2449571168622398,0.3594084096499897,1.6765297679482034,0.13509423235704984,0.2705117695196429,-0.7119820402020055,-0.12907758215134288,0.08319611741499265,0.430408914483296,1.1322952435002804,-0.9607675765706225,-0.1420858459791905,0.9348025697422142,1.0557892979911945,-0.7528462987022209,-2.1819039128157867,-1.4046399567682601,0.5861898200940868,-0.2911744291241955,-0.5509183453632426,-0.1127612420803882,0.6888117831712275,-0.1364296263697243,0.3277151667010575,0.33758301287551934,0.7981383473407812,-0.5749282127701741,0.0573190971632262,2.005614222502313,-0.36084649081020853,0.12500468331404857,-1.000769118596277,-1.2581246473715653,0.8727168540806867,0.5189249974409815,0.26003727857485476,0.9036555150907073,0.2100386271152475,0.8011528441099885,-1.4767051234211053,-0.2984036629837312,-2.9439786983978737,-0.2072924708400469,-0.8970346988592104,-1.562210930137962,-1.2007698303843537,0.5761557464682605,-0.3334196477312107,-0.1475085352910442,-1.9221100669005526,-0.37263094070359437,-0.2961685288793439,0.867188512443164,0.21374050067553674,-0.7153835481111949,1.2527062398553368,1.183821901529496,2.200161640450383,1.695203262152829,-1.2996409871306696,-0.4603476887302826,-0.3357203379555168,-0.00262303954320485,1.0643942398357191,0.326733874202913,-0.21373908648877013,-1.187563138747254,1.43363810629614,-0.78225692691843,0.0820954573532839,1.0920156152206064,1.3080169562280424,-1.3269670830691598,0.6523762892146466,-0.2841860611708281,-0.06085191281269883,0.1811085429676458,0.27988653937338126,-1.5113247093622162,1.9927114711577558,-1.2115200720889219,1.730413492768943],\"y\":[-1.3188190343406079,-0.5195427305961262,3.386453821992028,-0.09705417497171678,-0.297892863845476,-0.26756095229456917,0.5700665741375269,0.44529929220723913,-0.5510229873684799,1.7463483158674042,1.0118648347277688,0.1458689328478937,1.6735595274266766,0.7379430702485847,-0.7028689770607447,-0.07384558691768216,-1.7178452837414204,-1.9804215168285524,1.8325098041859333,0.4993355982667355,0.6159257998414503,-0.4792071402444821,0.3559177987316825,0.04575842620889139,-0.8937333342631764,-0.8458911423699876,1.2132038105440868,0.39373880580881887,1.1759919470652533,-2.068247462098143,-0.18747085870618696,-0.008194876832229107,-0.907129791010329,1.925063230443421,1.01885368544152,1.387438436729016,-1.0066955686153438,-0.9671187007033104,0.731976451138149,-0.9371741422340341,-0.768941907442198,0.0008091449242708666,0.07929553953223403,-0.012771443464080616,-1.091398000879962,0.6806417721703428,2.520321123148215,-1.6307687921002214,0.18510853667360713,-0.5309953436595065,-0.22650831604718946,-1.258650901561935,-0.29680745281406823,1.2488894303379945,0.9682519853659632,0.9040218291484514,0.4598920631590823,0.09824730993245537,2.4477757145812893,0.7180564035299077,0.0315662683405219,-0.22996495250392865,0.2690941714596704,-0.6618681113312663,2.4622984818930136,-0.9383539350729556,0.19670822651949327,0.332796451140872,-0.8804151825842351,1.0226176431072793,-0.9568652442737168,0.8632965925105605,0.3900306902768008,-0.9734778777546095,-0.03650594927790021,0.7698691732943076,-1.3788806224060008,1.2099361028622364,0.9999975718199677,-1.0101204359398641,0.5601146900966223,1.0474334676881487,0.9083479954052169,0.36007125845211757,0.7990499474418643,0.047683355715569184,0.9159390582775966,1.1103493975674814,-0.7261520132147986,-0.0351697431708248,0.8903375868875737,-0.832922227123769,1.3524321907790178,-2.299743297174103,-0.10650146403260315,-0.8406462819832169,-1.0635316643185633,0.7775874644776857,0.9727642264248069,-0.4108309101944478],\"type\":\"scatter\"}],                        {\"legend\":{\"bgcolor\":\"#F5F6F9\",\"font\":{\"color\":\"#4D5663\"}},\"paper_bgcolor\":\"#F5F6F9\",\"plot_bgcolor\":\"#F5F6F9\",\"template\":{\"data\":{\"barpolar\":[{\"marker\":{\"line\":{\"color\":\"#E5ECF6\",\"width\":0.5},\"pattern\":{\"fillmode\":\"overlay\",\"size\":10,\"solidity\":0.2}},\"type\":\"barpolar\"}],\"bar\":[{\"error_x\":{\"color\":\"#2a3f5f\"},\"error_y\":{\"color\":\"#2a3f5f\"},\"marker\":{\"line\":{\"color\":\"#E5ECF6\",\"width\":0.5},\"pattern\":{\"fillmode\":\"overlay\",\"size\":10,\"solidity\":0.2}},\"type\":\"bar\"}],\"carpet\":[{\"aaxis\":{\"endlinecolor\":\"#2a3f5f\",\"gridcolor\":\"white\",\"linecolor\":\"white\",\"minorgridcolor\":\"white\",\"startlinecolor\":\"#2a3f5f\"},\"baxis\":{\"endlinecolor\":\"#2a3f5f\",\"gridcolor\":\"white\",\"linecolor\":\"white\",\"minorgridcolor\":\"white\",\"startlinecolor\":\"#2a3f5f\"},\"type\":\"carpet\"}],\"choropleth\":[{\"colorbar\":{\"outlinewidth\":0,\"ticks\":\"\"},\"type\":\"choropleth\"}],\"contourcarpet\":[{\"colorbar\":{\"outlinewidth\":0,\"ticks\":\"\"},\"type\":\"contourcarpet\"}],\"contour\":[{\"colorbar\":{\"outlinewidth\":0,\"ticks\":\"\"},\"colorscale\":[[0.0,\"#0d0887\"],[0.1111111111111111,\"#46039f\"],[0.2222222222222222,\"#7201a8\"],[0.3333333333333333,\"#9c179e\"],[0.4444444444444444,\"#bd3786\"],[0.5555555555555556,\"#d8576b\"],[0.6666666666666666,\"#ed7953\"],[0.7777777777777778,\"#fb9f3a\"],[0.8888888888888888,\"#fdca26\"],[1.0,\"#f0f921\"]],\"type\":\"contour\"}],\"heatmapgl\":[{\"colorbar\":{\"outlinewidth\":0,\"ticks\":\"\"},\"colorscale\":[[0.0,\"#0d0887\"],[0.1111111111111111,\"#46039f\"],[0.2222222222222222,\"#7201a8\"],[0.3333333333333333,\"#9c179e\"],[0.4444444444444444,\"#bd3786\"],[0.5555555555555556,\"#d8576b\"],[0.6666666666666666,\"#ed7953\"],[0.7777777777777778,\"#fb9f3a\"],[0.8888888888888888,\"#fdca26\"],[1.0,\"#f0f921\"]],\"type\":\"heatmapgl\"}],\"heatmap\":[{\"colorbar\":{\"outlinewidth\":0,\"ticks\":\"\"},\"colorscale\":[[0.0,\"#0d0887\"],[0.1111111111111111,\"#46039f\"],[0.2222222222222222,\"#7201a8\"],[0.3333333333333333,\"#9c179e\"],[0.4444444444444444,\"#bd3786\"],[0.5555555555555556,\"#d8576b\"],[0.6666666666666666,\"#ed7953\"],[0.7777777777777778,\"#fb9f3a\"],[0.8888888888888888,\"#fdca26\"],[1.0,\"#f0f921\"]],\"type\":\"heatmap\"}],\"histogram2dcontour\":[{\"colorbar\":{\"outlinewidth\":0,\"ticks\":\"\"},\"colorscale\":[[0.0,\"#0d0887\"],[0.1111111111111111,\"#46039f\"],[0.2222222222222222,\"#7201a8\"],[0.3333333333333333,\"#9c179e\"],[0.4444444444444444,\"#bd3786\"],[0.5555555555555556,\"#d8576b\"],[0.6666666666666666,\"#ed7953\"],[0.7777777777777778,\"#fb9f3a\"],[0.8888888888888888,\"#fdca26\"],[1.0,\"#f0f921\"]],\"type\":\"histogram2dcontour\"}],\"histogram2d\":[{\"colorbar\":{\"outlinewidth\":0,\"ticks\":\"\"},\"colorscale\":[[0.0,\"#0d0887\"],[0.1111111111111111,\"#46039f\"],[0.2222222222222222,\"#7201a8\"],[0.3333333333333333,\"#9c179e\"],[0.4444444444444444,\"#bd3786\"],[0.5555555555555556,\"#d8576b\"],[0.6666666666666666,\"#ed7953\"],[0.7777777777777778,\"#fb9f3a\"],[0.8888888888888888,\"#fdca26\"],[1.0,\"#f0f921\"]],\"type\":\"histogram2d\"}],\"histogram\":[{\"marker\":{\"pattern\":{\"fillmode\":\"overlay\",\"size\":10,\"solidity\":0.2}},\"type\":\"histogram\"}],\"mesh3d\":[{\"colorbar\":{\"outlinewidth\":0,\"ticks\":\"\"},\"type\":\"mesh3d\"}],\"parcoords\":[{\"line\":{\"colorbar\":{\"outlinewidth\":0,\"ticks\":\"\"}},\"type\":\"parcoords\"}],\"pie\":[{\"automargin\":true,\"type\":\"pie\"}],\"scatter3d\":[{\"line\":{\"colorbar\":{\"outlinewidth\":0,\"ticks\":\"\"}},\"marker\":{\"colorbar\":{\"outlinewidth\":0,\"ticks\":\"\"}},\"type\":\"scatter3d\"}],\"scattercarpet\":[{\"marker\":{\"colorbar\":{\"outlinewidth\":0,\"ticks\":\"\"}},\"type\":\"scattercarpet\"}],\"scattergeo\":[{\"marker\":{\"colorbar\":{\"outlinewidth\":0,\"ticks\":\"\"}},\"type\":\"scattergeo\"}],\"scattergl\":[{\"marker\":{\"colorbar\":{\"outlinewidth\":0,\"ticks\":\"\"}},\"type\":\"scattergl\"}],\"scattermapbox\":[{\"marker\":{\"colorbar\":{\"outlinewidth\":0,\"ticks\":\"\"}},\"type\":\"scattermapbox\"}],\"scatterpolargl\":[{\"marker\":{\"colorbar\":{\"outlinewidth\":0,\"ticks\":\"\"}},\"type\":\"scatterpolargl\"}],\"scatterpolar\":[{\"marker\":{\"colorbar\":{\"outlinewidth\":0,\"ticks\":\"\"}},\"type\":\"scatterpolar\"}],\"scatter\":[{\"fillpattern\":{\"fillmode\":\"overlay\",\"size\":10,\"solidity\":0.2},\"type\":\"scatter\"}],\"scatterternary\":[{\"marker\":{\"colorbar\":{\"outlinewidth\":0,\"ticks\":\"\"}},\"type\":\"scatterternary\"}],\"surface\":[{\"colorbar\":{\"outlinewidth\":0,\"ticks\":\"\"},\"colorscale\":[[0.0,\"#0d0887\"],[0.1111111111111111,\"#46039f\"],[0.2222222222222222,\"#7201a8\"],[0.3333333333333333,\"#9c179e\"],[0.4444444444444444,\"#bd3786\"],[0.5555555555555556,\"#d8576b\"],[0.6666666666666666,\"#ed7953\"],[0.7777777777777778,\"#fb9f3a\"],[0.8888888888888888,\"#fdca26\"],[1.0,\"#f0f921\"]],\"type\":\"surface\"}],\"table\":[{\"cells\":{\"fill\":{\"color\":\"#EBF0F8\"},\"line\":{\"color\":\"white\"}},\"header\":{\"fill\":{\"color\":\"#C8D4E3\"},\"line\":{\"color\":\"white\"}},\"type\":\"table\"}]},\"layout\":{\"annotationdefaults\":{\"arrowcolor\":\"#2a3f5f\",\"arrowhead\":0,\"arrowwidth\":1},\"autotypenumbers\":\"strict\",\"coloraxis\":{\"colorbar\":{\"outlinewidth\":0,\"ticks\":\"\"}},\"colorscale\":{\"diverging\":[[0,\"#8e0152\"],[0.1,\"#c51b7d\"],[0.2,\"#de77ae\"],[0.3,\"#f1b6da\"],[0.4,\"#fde0ef\"],[0.5,\"#f7f7f7\"],[0.6,\"#e6f5d0\"],[0.7,\"#b8e186\"],[0.8,\"#7fbc41\"],[0.9,\"#4d9221\"],[1,\"#276419\"]],\"sequential\":[[0.0,\"#0d0887\"],[0.1111111111111111,\"#46039f\"],[0.2222222222222222,\"#7201a8\"],[0.3333333333333333,\"#9c179e\"],[0.4444444444444444,\"#bd3786\"],[0.5555555555555556,\"#d8576b\"],[0.6666666666666666,\"#ed7953\"],[0.7777777777777778,\"#fb9f3a\"],[0.8888888888888888,\"#fdca26\"],[1.0,\"#f0f921\"]],\"sequentialminus\":[[0.0,\"#0d0887\"],[0.1111111111111111,\"#46039f\"],[0.2222222222222222,\"#7201a8\"],[0.3333333333333333,\"#9c179e\"],[0.4444444444444444,\"#bd3786\"],[0.5555555555555556,\"#d8576b\"],[0.6666666666666666,\"#ed7953\"],[0.7777777777777778,\"#fb9f3a\"],[0.8888888888888888,\"#fdca26\"],[1.0,\"#f0f921\"]]},\"colorway\":[\"#636efa\",\"#EF553B\",\"#00cc96\",\"#ab63fa\",\"#FFA15A\",\"#19d3f3\",\"#FF6692\",\"#B6E880\",\"#FF97FF\",\"#FECB52\"],\"font\":{\"color\":\"#2a3f5f\"},\"geo\":{\"bgcolor\":\"white\",\"lakecolor\":\"white\",\"landcolor\":\"#E5ECF6\",\"showlakes\":true,\"showland\":true,\"subunitcolor\":\"white\"},\"hoverlabel\":{\"align\":\"left\"},\"hovermode\":\"closest\",\"mapbox\":{\"style\":\"light\"},\"paper_bgcolor\":\"white\",\"plot_bgcolor\":\"#E5ECF6\",\"polar\":{\"angularaxis\":{\"gridcolor\":\"white\",\"linecolor\":\"white\",\"ticks\":\"\"},\"bgcolor\":\"#E5ECF6\",\"radialaxis\":{\"gridcolor\":\"white\",\"linecolor\":\"white\",\"ticks\":\"\"}},\"scene\":{\"xaxis\":{\"backgroundcolor\":\"#E5ECF6\",\"gridcolor\":\"white\",\"gridwidth\":2,\"linecolor\":\"white\",\"showbackground\":true,\"ticks\":\"\",\"zerolinecolor\":\"white\"},\"yaxis\":{\"backgroundcolor\":\"#E5ECF6\",\"gridcolor\":\"white\",\"gridwidth\":2,\"linecolor\":\"white\",\"showbackground\":true,\"ticks\":\"\",\"zerolinecolor\":\"white\"},\"zaxis\":{\"backgroundcolor\":\"#E5ECF6\",\"gridcolor\":\"white\",\"gridwidth\":2,\"linecolor\":\"white\",\"showbackground\":true,\"ticks\":\"\",\"zerolinecolor\":\"white\"}},\"shapedefaults\":{\"line\":{\"color\":\"#2a3f5f\"}},\"ternary\":{\"aaxis\":{\"gridcolor\":\"white\",\"linecolor\":\"white\",\"ticks\":\"\"},\"baxis\":{\"gridcolor\":\"white\",\"linecolor\":\"white\",\"ticks\":\"\"},\"bgcolor\":\"#E5ECF6\",\"caxis\":{\"gridcolor\":\"white\",\"linecolor\":\"white\",\"ticks\":\"\"}},\"title\":{\"x\":0.05},\"xaxis\":{\"automargin\":true,\"gridcolor\":\"white\",\"linecolor\":\"white\",\"ticks\":\"\",\"title\":{\"standoff\":15},\"zerolinecolor\":\"white\",\"zerolinewidth\":2},\"yaxis\":{\"automargin\":true,\"gridcolor\":\"white\",\"linecolor\":\"white\",\"ticks\":\"\",\"title\":{\"standoff\":15},\"zerolinecolor\":\"white\",\"zerolinewidth\":2}}},\"title\":{\"font\":{\"color\":\"#4D5663\"}},\"xaxis\":{\"gridcolor\":\"#E1E5ED\",\"showgrid\":true,\"tickfont\":{\"color\":\"#4D5663\"},\"title\":{\"font\":{\"color\":\"#4D5663\"},\"text\":\"\"},\"zerolinecolor\":\"#E1E5ED\"},\"yaxis\":{\"gridcolor\":\"#E1E5ED\",\"showgrid\":true,\"tickfont\":{\"color\":\"#4D5663\"},\"title\":{\"font\":{\"color\":\"#4D5663\"},\"text\":\"\"},\"zerolinecolor\":\"#E1E5ED\"}},                        {\"showLink\": true, \"linkText\": \"Export to plot.ly\", \"plotlyServerURL\": \"https://plot.ly\", \"responsive\": true}                    ).then(function(){\n",
       "                            \n",
       "var gd = document.getElementById('3ab02daa-2ab4-490b-9fc3-3059d8586e46');\n",
       "var x = new MutationObserver(function (mutations, observer) {{\n",
       "        var display = window.getComputedStyle(gd).display;\n",
       "        if (!display || display === 'none') {{\n",
       "            console.log([gd, 'removed!']);\n",
       "            Plotly.purge(gd);\n",
       "            observer.disconnect();\n",
       "        }}\n",
       "}});\n",
       "\n",
       "// Listen for the removal of the full notebook cells\n",
       "var notebookContainer = gd.closest('#notebook-container');\n",
       "if (notebookContainer) {{\n",
       "    x.observe(notebookContainer, {childList: true});\n",
       "}}\n",
       "\n",
       "// Listen for the clearing of the current output cell\n",
       "var outputEl = gd.closest('.output');\n",
       "if (outputEl) {{\n",
       "    x.observe(outputEl, {childList: true});\n",
       "}}\n",
       "\n",
       "                        })                };                });            </script>        </div>"
      ]
     },
     "metadata": {},
     "output_type": "display_data"
    }
   ],
   "source": [
    "df.iplot(kind='bubble',x='A',y='B',size='C')"
   ]
  },
  {
   "cell_type": "markdown",
   "id": "d67e4982",
   "metadata": {},
   "source": [
    "### scatter_matrix()"
   ]
  },
  {
   "cell_type": "code",
   "execution_count": 21,
   "id": "12c2b033",
   "metadata": {},
   "outputs": [
    {
     "data": {
      "application/vnd.plotly.v1+json": {
       "config": {
        "linkText": "Export to plot.ly",
        "plotlyServerURL": "https://plot.ly",
        "showLink": true
       },
       "data": [
        {
         "histfunc": "count",
         "histnorm": "",
         "marker": {
          "color": "rgba(255, 153, 51, 1.0)",
          "line": {
           "color": "#4D5663",
           "width": 1.3
          }
         },
         "name": "A",
         "nbinsx": 10,
         "opacity": 0.8,
         "orientation": "v",
         "type": "histogram",
         "x": [
          -0.9667706031559152,
          -0.2859230331659126,
          -0.9598172529636709,
          1.6994273373143356,
          0.6679156281878831,
          -0.7921386723269326,
          0.6677875090604823,
          0.18842161040285368,
          1.2197013733786959,
          0.3740932827273875,
          0.6763751328413449,
          1.0494561021545243,
          0.07221209523657499,
          -0.8791766868027052,
          0.12162966723876437,
          -0.10357449487613801,
          -0.5094000022078592,
          0.6239757340029429,
          -1.2449571168622398,
          0.3594084096499897,
          1.6765297679482034,
          0.13509423235704984,
          0.2705117695196429,
          -0.7119820402020055,
          -0.12907758215134288,
          0.08319611741499265,
          0.430408914483296,
          1.1322952435002804,
          -0.9607675765706225,
          -0.1420858459791905,
          0.9348025697422142,
          1.0557892979911945,
          -0.7528462987022209,
          -2.1819039128157867,
          -1.4046399567682601,
          0.5861898200940868,
          -0.2911744291241955,
          -0.5509183453632426,
          -0.1127612420803882,
          0.6888117831712275,
          -0.1364296263697243,
          0.3277151667010575,
          0.33758301287551934,
          0.7981383473407812,
          -0.5749282127701741,
          0.0573190971632262,
          2.005614222502313,
          -0.36084649081020853,
          0.12500468331404857,
          -1.000769118596277,
          -1.2581246473715653,
          0.8727168540806867,
          0.5189249974409815,
          0.26003727857485476,
          0.9036555150907073,
          0.2100386271152475,
          0.8011528441099885,
          -1.4767051234211053,
          -0.2984036629837312,
          -2.9439786983978737,
          -0.2072924708400469,
          -0.8970346988592104,
          -1.562210930137962,
          -1.2007698303843537,
          0.5761557464682605,
          -0.3334196477312107,
          -0.1475085352910442,
          -1.9221100669005526,
          -0.37263094070359437,
          -0.2961685288793439,
          0.867188512443164,
          0.21374050067553674,
          -0.7153835481111949,
          1.2527062398553368,
          1.183821901529496,
          2.200161640450383,
          1.695203262152829,
          -1.2996409871306696,
          -0.4603476887302826,
          -0.3357203379555168,
          -0.00262303954320485,
          1.0643942398357191,
          0.326733874202913,
          -0.21373908648877013,
          -1.187563138747254,
          1.43363810629614,
          -0.78225692691843,
          0.0820954573532839,
          1.0920156152206064,
          1.3080169562280424,
          -1.3269670830691598,
          0.6523762892146466,
          -0.2841860611708281,
          -0.06085191281269883,
          0.1811085429676458,
          0.27988653937338126,
          -1.5113247093622162,
          1.9927114711577558,
          -1.2115200720889219,
          1.730413492768943
         ],
         "xaxis": "x",
         "yaxis": "y"
        },
        {
         "line": {
          "color": "rgba(128, 128, 128, 1.0)",
          "dash": "solid",
          "shape": "linear",
          "width": 1.3
         },
         "marker": {
          "size": 2,
          "symbol": "circle"
         },
         "mode": "markers",
         "name": "A",
         "text": "",
         "type": "scatter",
         "x": [
          -1.3188190343406079,
          -0.5195427305961262,
          3.386453821992028,
          -0.09705417497171678,
          -0.297892863845476,
          -0.26756095229456917,
          0.5700665741375269,
          0.44529929220723913,
          -0.5510229873684799,
          1.7463483158674042,
          1.0118648347277688,
          0.1458689328478937,
          1.6735595274266766,
          0.7379430702485847,
          -0.7028689770607447,
          -0.07384558691768216,
          -1.7178452837414204,
          -1.9804215168285524,
          1.8325098041859333,
          0.4993355982667355,
          0.6159257998414503,
          -0.4792071402444821,
          0.3559177987316825,
          0.04575842620889139,
          -0.8937333342631764,
          -0.8458911423699876,
          1.2132038105440868,
          0.39373880580881887,
          1.1759919470652533,
          -2.068247462098143,
          -0.18747085870618696,
          -0.008194876832229107,
          -0.907129791010329,
          1.925063230443421,
          1.01885368544152,
          1.387438436729016,
          -1.0066955686153438,
          -0.9671187007033104,
          0.731976451138149,
          -0.9371741422340341,
          -0.768941907442198,
          0.0008091449242708666,
          0.07929553953223403,
          -0.012771443464080616,
          -1.091398000879962,
          0.6806417721703428,
          2.520321123148215,
          -1.6307687921002214,
          0.18510853667360713,
          -0.5309953436595065,
          -0.22650831604718946,
          -1.258650901561935,
          -0.29680745281406823,
          1.2488894303379945,
          0.9682519853659632,
          0.9040218291484514,
          0.4598920631590823,
          0.09824730993245537,
          2.4477757145812893,
          0.7180564035299077,
          0.0315662683405219,
          -0.22996495250392865,
          0.2690941714596704,
          -0.6618681113312663,
          2.4622984818930136,
          -0.9383539350729556,
          0.19670822651949327,
          0.332796451140872,
          -0.8804151825842351,
          1.0226176431072793,
          -0.9568652442737168,
          0.8632965925105605,
          0.3900306902768008,
          -0.9734778777546095,
          -0.03650594927790021,
          0.7698691732943076,
          -1.3788806224060008,
          1.2099361028622364,
          0.9999975718199677,
          -1.0101204359398641,
          0.5601146900966223,
          1.0474334676881487,
          0.9083479954052169,
          0.36007125845211757,
          0.7990499474418643,
          0.047683355715569184,
          0.9159390582775966,
          1.1103493975674814,
          -0.7261520132147986,
          -0.0351697431708248,
          0.8903375868875737,
          -0.832922227123769,
          1.3524321907790178,
          -2.299743297174103,
          -0.10650146403260315,
          -0.8406462819832169,
          -1.0635316643185633,
          0.7775874644776857,
          0.9727642264248069,
          -0.4108309101944478
         ],
         "xaxis": "x2",
         "y": [
          -0.9667706031559152,
          -0.2859230331659126,
          -0.9598172529636709,
          1.6994273373143356,
          0.6679156281878831,
          -0.7921386723269326,
          0.6677875090604823,
          0.18842161040285368,
          1.2197013733786959,
          0.3740932827273875,
          0.6763751328413449,
          1.0494561021545243,
          0.07221209523657499,
          -0.8791766868027052,
          0.12162966723876437,
          -0.10357449487613801,
          -0.5094000022078592,
          0.6239757340029429,
          -1.2449571168622398,
          0.3594084096499897,
          1.6765297679482034,
          0.13509423235704984,
          0.2705117695196429,
          -0.7119820402020055,
          -0.12907758215134288,
          0.08319611741499265,
          0.430408914483296,
          1.1322952435002804,
          -0.9607675765706225,
          -0.1420858459791905,
          0.9348025697422142,
          1.0557892979911945,
          -0.7528462987022209,
          -2.1819039128157867,
          -1.4046399567682601,
          0.5861898200940868,
          -0.2911744291241955,
          -0.5509183453632426,
          -0.1127612420803882,
          0.6888117831712275,
          -0.1364296263697243,
          0.3277151667010575,
          0.33758301287551934,
          0.7981383473407812,
          -0.5749282127701741,
          0.0573190971632262,
          2.005614222502313,
          -0.36084649081020853,
          0.12500468331404857,
          -1.000769118596277,
          -1.2581246473715653,
          0.8727168540806867,
          0.5189249974409815,
          0.26003727857485476,
          0.9036555150907073,
          0.2100386271152475,
          0.8011528441099885,
          -1.4767051234211053,
          -0.2984036629837312,
          -2.9439786983978737,
          -0.2072924708400469,
          -0.8970346988592104,
          -1.562210930137962,
          -1.2007698303843537,
          0.5761557464682605,
          -0.3334196477312107,
          -0.1475085352910442,
          -1.9221100669005526,
          -0.37263094070359437,
          -0.2961685288793439,
          0.867188512443164,
          0.21374050067553674,
          -0.7153835481111949,
          1.2527062398553368,
          1.183821901529496,
          2.200161640450383,
          1.695203262152829,
          -1.2996409871306696,
          -0.4603476887302826,
          -0.3357203379555168,
          -0.00262303954320485,
          1.0643942398357191,
          0.326733874202913,
          -0.21373908648877013,
          -1.187563138747254,
          1.43363810629614,
          -0.78225692691843,
          0.0820954573532839,
          1.0920156152206064,
          1.3080169562280424,
          -1.3269670830691598,
          0.6523762892146466,
          -0.2841860611708281,
          -0.06085191281269883,
          0.1811085429676458,
          0.27988653937338126,
          -1.5113247093622162,
          1.9927114711577558,
          -1.2115200720889219,
          1.730413492768943
         ],
         "yaxis": "y2"
        },
        {
         "line": {
          "color": "rgba(128, 128, 128, 1.0)",
          "dash": "solid",
          "shape": "linear",
          "width": 1.3
         },
         "marker": {
          "size": 2,
          "symbol": "circle"
         },
         "mode": "markers",
         "name": "A",
         "text": "",
         "type": "scatter",
         "x": [
          0.25384966049770624,
          -0.5072527135914842,
          -0.337956158122121,
          -0.021352989724285766,
          1.1798868936955196,
          -1.0619700074535035,
          -1.242640821990061,
          0.63718481054885,
          1.182983470444718,
          1.1803557563755003,
          1.4251439506467716,
          -0.059659649994779365,
          -0.8183834369391694,
          -0.5480051785885504,
          0.6047796513034572,
          -1.532362548338797,
          1.9239531136213526,
          -2.2729330116717357,
          0.7038139573002804,
          -0.5783982798836852,
          -0.40423646886615494,
          -1.4741140623505002,
          0.9421230293344746,
          -0.40488433389262524,
          0.7385946957282342,
          -1.220305479372563,
          0.5083037439106535,
          -1.6573596969282112,
          -0.30622793420655764,
          1.2090117296626592,
          -2.092375564918579,
          -0.07912412923330465,
          0.9907154607991587,
          1.3835363731413068,
          0.062050475447299046,
          -1.3279093169917124,
          -0.24090333909465758,
          -0.8686632118413525,
          -0.8737433194791209,
          1.286057339281788,
          1.1686997283325733,
          0.11463104050926562,
          -0.49333094725935783,
          -0.7163251198552059,
          -0.3867609736290793,
          -0.9300779087220071,
          -0.5029500766553069,
          -0.5099766136711134,
          0.7650616600011578,
          0.40885174878448294,
          0.1858949247611975,
          0.6334705020307428,
          0.857156989390653,
          1.1016962908562378,
          -2.6962695811727477,
          0.3671456344609041,
          -0.9456895970314112,
          0.8262109010679536,
          0.31775441451093905,
          -0.8140391902608517,
          -1.206299209830328,
          -1.8531579472430875,
          -0.8876817122602841,
          0.05353775292349346,
          -0.12607935820821967,
          -0.03448799870597999,
          0.09870641464153888,
          -0.1446216067198726,
          1.2998517221380463,
          -0.12470385761846105,
          0.47802670745805237,
          -0.9522869833192295,
          -1.636073353351388,
          -0.6203662373169074,
          -0.29660064998420343,
          1.3138788609614107,
          1.265578656104241,
          -0.9401464868752111,
          0.5336937679093039,
          0.9778422471052447,
          -0.3184371043335791,
          -0.281351219907658,
          -0.1001231941237401,
          -0.06297713617496802,
          1.0764980974966396,
          0.8182828791208246,
          -0.8802382564637786,
          0.5766341192681865,
          0.10400447689675228,
          2.811653328740616,
          0.6747095421809363,
          -0.0952407923845185,
          0.8569146552911229,
          0.17384052881986306,
          -0.5743496895141323,
          -0.020052297571810183,
          1.615604923206011,
          0.14114648417347928,
          0.8334472689749779,
          1.2835939015893971
         ],
         "xaxis": "x3",
         "y": [
          -0.9667706031559152,
          -0.2859230331659126,
          -0.9598172529636709,
          1.6994273373143356,
          0.6679156281878831,
          -0.7921386723269326,
          0.6677875090604823,
          0.18842161040285368,
          1.2197013733786959,
          0.3740932827273875,
          0.6763751328413449,
          1.0494561021545243,
          0.07221209523657499,
          -0.8791766868027052,
          0.12162966723876437,
          -0.10357449487613801,
          -0.5094000022078592,
          0.6239757340029429,
          -1.2449571168622398,
          0.3594084096499897,
          1.6765297679482034,
          0.13509423235704984,
          0.2705117695196429,
          -0.7119820402020055,
          -0.12907758215134288,
          0.08319611741499265,
          0.430408914483296,
          1.1322952435002804,
          -0.9607675765706225,
          -0.1420858459791905,
          0.9348025697422142,
          1.0557892979911945,
          -0.7528462987022209,
          -2.1819039128157867,
          -1.4046399567682601,
          0.5861898200940868,
          -0.2911744291241955,
          -0.5509183453632426,
          -0.1127612420803882,
          0.6888117831712275,
          -0.1364296263697243,
          0.3277151667010575,
          0.33758301287551934,
          0.7981383473407812,
          -0.5749282127701741,
          0.0573190971632262,
          2.005614222502313,
          -0.36084649081020853,
          0.12500468331404857,
          -1.000769118596277,
          -1.2581246473715653,
          0.8727168540806867,
          0.5189249974409815,
          0.26003727857485476,
          0.9036555150907073,
          0.2100386271152475,
          0.8011528441099885,
          -1.4767051234211053,
          -0.2984036629837312,
          -2.9439786983978737,
          -0.2072924708400469,
          -0.8970346988592104,
          -1.562210930137962,
          -1.2007698303843537,
          0.5761557464682605,
          -0.3334196477312107,
          -0.1475085352910442,
          -1.9221100669005526,
          -0.37263094070359437,
          -0.2961685288793439,
          0.867188512443164,
          0.21374050067553674,
          -0.7153835481111949,
          1.2527062398553368,
          1.183821901529496,
          2.200161640450383,
          1.695203262152829,
          -1.2996409871306696,
          -0.4603476887302826,
          -0.3357203379555168,
          -0.00262303954320485,
          1.0643942398357191,
          0.326733874202913,
          -0.21373908648877013,
          -1.187563138747254,
          1.43363810629614,
          -0.78225692691843,
          0.0820954573532839,
          1.0920156152206064,
          1.3080169562280424,
          -1.3269670830691598,
          0.6523762892146466,
          -0.2841860611708281,
          -0.06085191281269883,
          0.1811085429676458,
          0.27988653937338126,
          -1.5113247093622162,
          1.9927114711577558,
          -1.2115200720889219,
          1.730413492768943
         ],
         "yaxis": "y3"
        },
        {
         "line": {
          "color": "rgba(128, 128, 128, 1.0)",
          "dash": "solid",
          "shape": "linear",
          "width": 1.3
         },
         "marker": {
          "size": 2,
          "symbol": "circle"
         },
         "mode": "markers",
         "name": "A",
         "text": "",
         "type": "scatter",
         "x": [
          1.4815474610296049,
          -1.9399949598560504,
          -0.5192410189081605,
          -0.7898645421626244,
          -1.7096375423618129,
          0.2714533654279277,
          -1.3968305414201274,
          0.6282768205350342,
          2.176222326302205,
          -1.0264252953976682,
          1.3904401099939683,
          0.010824542527164216,
          -1.2175794875521029,
          0.3716209577099888,
          -1.3120934728624076,
          3.170939661760095,
          -1.458745480205832,
          -0.26439735324349584,
          1.1148649811421643,
          -1.1834165391311606,
          0.19940803639036503,
          -0.6390283733918236,
          -0.2397171463813505,
          -0.6494781932428652,
          1.649310694332983,
          -0.2964914172594756,
          -0.9353650503551492,
          0.9157186257911698,
          0.4876738607533547,
          -0.48199022831880894,
          -0.8349616170091793,
          1.3455087541679283,
          1.0590188939449208,
          0.836366174132724,
          1.5584629863592703,
          0.8348947232424436,
          -1.5731745117470843,
          0.13442209475790842,
          0.47631553285110445,
          -1.2038030148104866,
          -0.4347025061416813,
          1.5278190505918834,
          -0.5130721965259754,
          -1.3361021034635543,
          0.9835424597703536,
          0.4705045921911986,
          -0.978921113520018,
          -0.7712720999658328,
          0.6585146037629854,
          -0.19953392510152093,
          0.6660646067585204,
          0.5970847152486468,
          0.7372721084064577,
          1.1911541187181174,
          1.1479936893825013,
          1.283248296703858,
          -0.7876409921955367,
          -0.9149652381778776,
          0.39827433505999343,
          -0.6710173250569395,
          0.8159945751152134,
          -1.5903063065526848,
          -0.4959982172304841,
          -1.3329954554344272,
          1.0199703277720364,
          2.4105667127187584,
          -0.32796522837022896,
          0.43346683329833796,
          0.8073583140133243,
          -1.5072450491863791,
          -1.6170993013177883,
          -0.326640720754919,
          -1.1417972275953043,
          -0.963167293179758,
          -1.1199542329043528,
          0.21898146132919458,
          -0.5538360340051623,
          0.437774048310451,
          -0.4554710344968834,
          0.8810671717263063,
          -0.18618693579618942,
          -0.22937403549950175,
          -1.2960949662883683,
          3.0244334385227534,
          0.09151833504505799,
          -1.2348946008715653,
          0.8435621156772137,
          1.5187612384908198,
          1.1205147462709322,
          1.4990579085824633,
          0.6940208707220915,
          0.03425611488741808,
          0.4662048603667723,
          0.9211490479984151,
          -1.538982321904577,
          -1.1380477010193768,
          0.10557234739990107,
          0.3037577914167502,
          1.5797856584030867,
          0.48563011243884
         ],
         "xaxis": "x4",
         "y": [
          -0.9667706031559152,
          -0.2859230331659126,
          -0.9598172529636709,
          1.6994273373143356,
          0.6679156281878831,
          -0.7921386723269326,
          0.6677875090604823,
          0.18842161040285368,
          1.2197013733786959,
          0.3740932827273875,
          0.6763751328413449,
          1.0494561021545243,
          0.07221209523657499,
          -0.8791766868027052,
          0.12162966723876437,
          -0.10357449487613801,
          -0.5094000022078592,
          0.6239757340029429,
          -1.2449571168622398,
          0.3594084096499897,
          1.6765297679482034,
          0.13509423235704984,
          0.2705117695196429,
          -0.7119820402020055,
          -0.12907758215134288,
          0.08319611741499265,
          0.430408914483296,
          1.1322952435002804,
          -0.9607675765706225,
          -0.1420858459791905,
          0.9348025697422142,
          1.0557892979911945,
          -0.7528462987022209,
          -2.1819039128157867,
          -1.4046399567682601,
          0.5861898200940868,
          -0.2911744291241955,
          -0.5509183453632426,
          -0.1127612420803882,
          0.6888117831712275,
          -0.1364296263697243,
          0.3277151667010575,
          0.33758301287551934,
          0.7981383473407812,
          -0.5749282127701741,
          0.0573190971632262,
          2.005614222502313,
          -0.36084649081020853,
          0.12500468331404857,
          -1.000769118596277,
          -1.2581246473715653,
          0.8727168540806867,
          0.5189249974409815,
          0.26003727857485476,
          0.9036555150907073,
          0.2100386271152475,
          0.8011528441099885,
          -1.4767051234211053,
          -0.2984036629837312,
          -2.9439786983978737,
          -0.2072924708400469,
          -0.8970346988592104,
          -1.562210930137962,
          -1.2007698303843537,
          0.5761557464682605,
          -0.3334196477312107,
          -0.1475085352910442,
          -1.9221100669005526,
          -0.37263094070359437,
          -0.2961685288793439,
          0.867188512443164,
          0.21374050067553674,
          -0.7153835481111949,
          1.2527062398553368,
          1.183821901529496,
          2.200161640450383,
          1.695203262152829,
          -1.2996409871306696,
          -0.4603476887302826,
          -0.3357203379555168,
          -0.00262303954320485,
          1.0643942398357191,
          0.326733874202913,
          -0.21373908648877013,
          -1.187563138747254,
          1.43363810629614,
          -0.78225692691843,
          0.0820954573532839,
          1.0920156152206064,
          1.3080169562280424,
          -1.3269670830691598,
          0.6523762892146466,
          -0.2841860611708281,
          -0.06085191281269883,
          0.1811085429676458,
          0.27988653937338126,
          -1.5113247093622162,
          1.9927114711577558,
          -1.2115200720889219,
          1.730413492768943
         ],
         "yaxis": "y4"
        },
        {
         "line": {
          "color": "rgba(128, 128, 128, 1.0)",
          "dash": "solid",
          "shape": "linear",
          "width": 1.3
         },
         "marker": {
          "size": 2,
          "symbol": "circle"
         },
         "mode": "markers",
         "name": "B",
         "text": "",
         "type": "scatter",
         "x": [
          -0.9667706031559152,
          -0.2859230331659126,
          -0.9598172529636709,
          1.6994273373143356,
          0.6679156281878831,
          -0.7921386723269326,
          0.6677875090604823,
          0.18842161040285368,
          1.2197013733786959,
          0.3740932827273875,
          0.6763751328413449,
          1.0494561021545243,
          0.07221209523657499,
          -0.8791766868027052,
          0.12162966723876437,
          -0.10357449487613801,
          -0.5094000022078592,
          0.6239757340029429,
          -1.2449571168622398,
          0.3594084096499897,
          1.6765297679482034,
          0.13509423235704984,
          0.2705117695196429,
          -0.7119820402020055,
          -0.12907758215134288,
          0.08319611741499265,
          0.430408914483296,
          1.1322952435002804,
          -0.9607675765706225,
          -0.1420858459791905,
          0.9348025697422142,
          1.0557892979911945,
          -0.7528462987022209,
          -2.1819039128157867,
          -1.4046399567682601,
          0.5861898200940868,
          -0.2911744291241955,
          -0.5509183453632426,
          -0.1127612420803882,
          0.6888117831712275,
          -0.1364296263697243,
          0.3277151667010575,
          0.33758301287551934,
          0.7981383473407812,
          -0.5749282127701741,
          0.0573190971632262,
          2.005614222502313,
          -0.36084649081020853,
          0.12500468331404857,
          -1.000769118596277,
          -1.2581246473715653,
          0.8727168540806867,
          0.5189249974409815,
          0.26003727857485476,
          0.9036555150907073,
          0.2100386271152475,
          0.8011528441099885,
          -1.4767051234211053,
          -0.2984036629837312,
          -2.9439786983978737,
          -0.2072924708400469,
          -0.8970346988592104,
          -1.562210930137962,
          -1.2007698303843537,
          0.5761557464682605,
          -0.3334196477312107,
          -0.1475085352910442,
          -1.9221100669005526,
          -0.37263094070359437,
          -0.2961685288793439,
          0.867188512443164,
          0.21374050067553674,
          -0.7153835481111949,
          1.2527062398553368,
          1.183821901529496,
          2.200161640450383,
          1.695203262152829,
          -1.2996409871306696,
          -0.4603476887302826,
          -0.3357203379555168,
          -0.00262303954320485,
          1.0643942398357191,
          0.326733874202913,
          -0.21373908648877013,
          -1.187563138747254,
          1.43363810629614,
          -0.78225692691843,
          0.0820954573532839,
          1.0920156152206064,
          1.3080169562280424,
          -1.3269670830691598,
          0.6523762892146466,
          -0.2841860611708281,
          -0.06085191281269883,
          0.1811085429676458,
          0.27988653937338126,
          -1.5113247093622162,
          1.9927114711577558,
          -1.2115200720889219,
          1.730413492768943
         ],
         "xaxis": "x5",
         "y": [
          -1.3188190343406079,
          -0.5195427305961262,
          3.386453821992028,
          -0.09705417497171678,
          -0.297892863845476,
          -0.26756095229456917,
          0.5700665741375269,
          0.44529929220723913,
          -0.5510229873684799,
          1.7463483158674042,
          1.0118648347277688,
          0.1458689328478937,
          1.6735595274266766,
          0.7379430702485847,
          -0.7028689770607447,
          -0.07384558691768216,
          -1.7178452837414204,
          -1.9804215168285524,
          1.8325098041859333,
          0.4993355982667355,
          0.6159257998414503,
          -0.4792071402444821,
          0.3559177987316825,
          0.04575842620889139,
          -0.8937333342631764,
          -0.8458911423699876,
          1.2132038105440868,
          0.39373880580881887,
          1.1759919470652533,
          -2.068247462098143,
          -0.18747085870618696,
          -0.008194876832229107,
          -0.907129791010329,
          1.925063230443421,
          1.01885368544152,
          1.387438436729016,
          -1.0066955686153438,
          -0.9671187007033104,
          0.731976451138149,
          -0.9371741422340341,
          -0.768941907442198,
          0.0008091449242708666,
          0.07929553953223403,
          -0.012771443464080616,
          -1.091398000879962,
          0.6806417721703428,
          2.520321123148215,
          -1.6307687921002214,
          0.18510853667360713,
          -0.5309953436595065,
          -0.22650831604718946,
          -1.258650901561935,
          -0.29680745281406823,
          1.2488894303379945,
          0.9682519853659632,
          0.9040218291484514,
          0.4598920631590823,
          0.09824730993245537,
          2.4477757145812893,
          0.7180564035299077,
          0.0315662683405219,
          -0.22996495250392865,
          0.2690941714596704,
          -0.6618681113312663,
          2.4622984818930136,
          -0.9383539350729556,
          0.19670822651949327,
          0.332796451140872,
          -0.8804151825842351,
          1.0226176431072793,
          -0.9568652442737168,
          0.8632965925105605,
          0.3900306902768008,
          -0.9734778777546095,
          -0.03650594927790021,
          0.7698691732943076,
          -1.3788806224060008,
          1.2099361028622364,
          0.9999975718199677,
          -1.0101204359398641,
          0.5601146900966223,
          1.0474334676881487,
          0.9083479954052169,
          0.36007125845211757,
          0.7990499474418643,
          0.047683355715569184,
          0.9159390582775966,
          1.1103493975674814,
          -0.7261520132147986,
          -0.0351697431708248,
          0.8903375868875737,
          -0.832922227123769,
          1.3524321907790178,
          -2.299743297174103,
          -0.10650146403260315,
          -0.8406462819832169,
          -1.0635316643185633,
          0.7775874644776857,
          0.9727642264248069,
          -0.4108309101944478
         ],
         "yaxis": "y5"
        },
        {
         "histfunc": "count",
         "histnorm": "",
         "marker": {
          "color": "rgba(55, 128, 191, 1.0)",
          "line": {
           "color": "#4D5663",
           "width": 1.3
          }
         },
         "name": "B",
         "nbinsx": 10,
         "opacity": 0.8,
         "orientation": "v",
         "type": "histogram",
         "x": [
          -1.3188190343406079,
          -0.5195427305961262,
          3.386453821992028,
          -0.09705417497171678,
          -0.297892863845476,
          -0.26756095229456917,
          0.5700665741375269,
          0.44529929220723913,
          -0.5510229873684799,
          1.7463483158674042,
          1.0118648347277688,
          0.1458689328478937,
          1.6735595274266766,
          0.7379430702485847,
          -0.7028689770607447,
          -0.07384558691768216,
          -1.7178452837414204,
          -1.9804215168285524,
          1.8325098041859333,
          0.4993355982667355,
          0.6159257998414503,
          -0.4792071402444821,
          0.3559177987316825,
          0.04575842620889139,
          -0.8937333342631764,
          -0.8458911423699876,
          1.2132038105440868,
          0.39373880580881887,
          1.1759919470652533,
          -2.068247462098143,
          -0.18747085870618696,
          -0.008194876832229107,
          -0.907129791010329,
          1.925063230443421,
          1.01885368544152,
          1.387438436729016,
          -1.0066955686153438,
          -0.9671187007033104,
          0.731976451138149,
          -0.9371741422340341,
          -0.768941907442198,
          0.0008091449242708666,
          0.07929553953223403,
          -0.012771443464080616,
          -1.091398000879962,
          0.6806417721703428,
          2.520321123148215,
          -1.6307687921002214,
          0.18510853667360713,
          -0.5309953436595065,
          -0.22650831604718946,
          -1.258650901561935,
          -0.29680745281406823,
          1.2488894303379945,
          0.9682519853659632,
          0.9040218291484514,
          0.4598920631590823,
          0.09824730993245537,
          2.4477757145812893,
          0.7180564035299077,
          0.0315662683405219,
          -0.22996495250392865,
          0.2690941714596704,
          -0.6618681113312663,
          2.4622984818930136,
          -0.9383539350729556,
          0.19670822651949327,
          0.332796451140872,
          -0.8804151825842351,
          1.0226176431072793,
          -0.9568652442737168,
          0.8632965925105605,
          0.3900306902768008,
          -0.9734778777546095,
          -0.03650594927790021,
          0.7698691732943076,
          -1.3788806224060008,
          1.2099361028622364,
          0.9999975718199677,
          -1.0101204359398641,
          0.5601146900966223,
          1.0474334676881487,
          0.9083479954052169,
          0.36007125845211757,
          0.7990499474418643,
          0.047683355715569184,
          0.9159390582775966,
          1.1103493975674814,
          -0.7261520132147986,
          -0.0351697431708248,
          0.8903375868875737,
          -0.832922227123769,
          1.3524321907790178,
          -2.299743297174103,
          -0.10650146403260315,
          -0.8406462819832169,
          -1.0635316643185633,
          0.7775874644776857,
          0.9727642264248069,
          -0.4108309101944478
         ],
         "xaxis": "x6",
         "yaxis": "y6"
        },
        {
         "line": {
          "color": "rgba(128, 128, 128, 1.0)",
          "dash": "solid",
          "shape": "linear",
          "width": 1.3
         },
         "marker": {
          "size": 2,
          "symbol": "circle"
         },
         "mode": "markers",
         "name": "B",
         "text": "",
         "type": "scatter",
         "x": [
          0.25384966049770624,
          -0.5072527135914842,
          -0.337956158122121,
          -0.021352989724285766,
          1.1798868936955196,
          -1.0619700074535035,
          -1.242640821990061,
          0.63718481054885,
          1.182983470444718,
          1.1803557563755003,
          1.4251439506467716,
          -0.059659649994779365,
          -0.8183834369391694,
          -0.5480051785885504,
          0.6047796513034572,
          -1.532362548338797,
          1.9239531136213526,
          -2.2729330116717357,
          0.7038139573002804,
          -0.5783982798836852,
          -0.40423646886615494,
          -1.4741140623505002,
          0.9421230293344746,
          -0.40488433389262524,
          0.7385946957282342,
          -1.220305479372563,
          0.5083037439106535,
          -1.6573596969282112,
          -0.30622793420655764,
          1.2090117296626592,
          -2.092375564918579,
          -0.07912412923330465,
          0.9907154607991587,
          1.3835363731413068,
          0.062050475447299046,
          -1.3279093169917124,
          -0.24090333909465758,
          -0.8686632118413525,
          -0.8737433194791209,
          1.286057339281788,
          1.1686997283325733,
          0.11463104050926562,
          -0.49333094725935783,
          -0.7163251198552059,
          -0.3867609736290793,
          -0.9300779087220071,
          -0.5029500766553069,
          -0.5099766136711134,
          0.7650616600011578,
          0.40885174878448294,
          0.1858949247611975,
          0.6334705020307428,
          0.857156989390653,
          1.1016962908562378,
          -2.6962695811727477,
          0.3671456344609041,
          -0.9456895970314112,
          0.8262109010679536,
          0.31775441451093905,
          -0.8140391902608517,
          -1.206299209830328,
          -1.8531579472430875,
          -0.8876817122602841,
          0.05353775292349346,
          -0.12607935820821967,
          -0.03448799870597999,
          0.09870641464153888,
          -0.1446216067198726,
          1.2998517221380463,
          -0.12470385761846105,
          0.47802670745805237,
          -0.9522869833192295,
          -1.636073353351388,
          -0.6203662373169074,
          -0.29660064998420343,
          1.3138788609614107,
          1.265578656104241,
          -0.9401464868752111,
          0.5336937679093039,
          0.9778422471052447,
          -0.3184371043335791,
          -0.281351219907658,
          -0.1001231941237401,
          -0.06297713617496802,
          1.0764980974966396,
          0.8182828791208246,
          -0.8802382564637786,
          0.5766341192681865,
          0.10400447689675228,
          2.811653328740616,
          0.6747095421809363,
          -0.0952407923845185,
          0.8569146552911229,
          0.17384052881986306,
          -0.5743496895141323,
          -0.020052297571810183,
          1.615604923206011,
          0.14114648417347928,
          0.8334472689749779,
          1.2835939015893971
         ],
         "xaxis": "x7",
         "y": [
          -1.3188190343406079,
          -0.5195427305961262,
          3.386453821992028,
          -0.09705417497171678,
          -0.297892863845476,
          -0.26756095229456917,
          0.5700665741375269,
          0.44529929220723913,
          -0.5510229873684799,
          1.7463483158674042,
          1.0118648347277688,
          0.1458689328478937,
          1.6735595274266766,
          0.7379430702485847,
          -0.7028689770607447,
          -0.07384558691768216,
          -1.7178452837414204,
          -1.9804215168285524,
          1.8325098041859333,
          0.4993355982667355,
          0.6159257998414503,
          -0.4792071402444821,
          0.3559177987316825,
          0.04575842620889139,
          -0.8937333342631764,
          -0.8458911423699876,
          1.2132038105440868,
          0.39373880580881887,
          1.1759919470652533,
          -2.068247462098143,
          -0.18747085870618696,
          -0.008194876832229107,
          -0.907129791010329,
          1.925063230443421,
          1.01885368544152,
          1.387438436729016,
          -1.0066955686153438,
          -0.9671187007033104,
          0.731976451138149,
          -0.9371741422340341,
          -0.768941907442198,
          0.0008091449242708666,
          0.07929553953223403,
          -0.012771443464080616,
          -1.091398000879962,
          0.6806417721703428,
          2.520321123148215,
          -1.6307687921002214,
          0.18510853667360713,
          -0.5309953436595065,
          -0.22650831604718946,
          -1.258650901561935,
          -0.29680745281406823,
          1.2488894303379945,
          0.9682519853659632,
          0.9040218291484514,
          0.4598920631590823,
          0.09824730993245537,
          2.4477757145812893,
          0.7180564035299077,
          0.0315662683405219,
          -0.22996495250392865,
          0.2690941714596704,
          -0.6618681113312663,
          2.4622984818930136,
          -0.9383539350729556,
          0.19670822651949327,
          0.332796451140872,
          -0.8804151825842351,
          1.0226176431072793,
          -0.9568652442737168,
          0.8632965925105605,
          0.3900306902768008,
          -0.9734778777546095,
          -0.03650594927790021,
          0.7698691732943076,
          -1.3788806224060008,
          1.2099361028622364,
          0.9999975718199677,
          -1.0101204359398641,
          0.5601146900966223,
          1.0474334676881487,
          0.9083479954052169,
          0.36007125845211757,
          0.7990499474418643,
          0.047683355715569184,
          0.9159390582775966,
          1.1103493975674814,
          -0.7261520132147986,
          -0.0351697431708248,
          0.8903375868875737,
          -0.832922227123769,
          1.3524321907790178,
          -2.299743297174103,
          -0.10650146403260315,
          -0.8406462819832169,
          -1.0635316643185633,
          0.7775874644776857,
          0.9727642264248069,
          -0.4108309101944478
         ],
         "yaxis": "y7"
        },
        {
         "line": {
          "color": "rgba(128, 128, 128, 1.0)",
          "dash": "solid",
          "shape": "linear",
          "width": 1.3
         },
         "marker": {
          "size": 2,
          "symbol": "circle"
         },
         "mode": "markers",
         "name": "B",
         "text": "",
         "type": "scatter",
         "x": [
          1.4815474610296049,
          -1.9399949598560504,
          -0.5192410189081605,
          -0.7898645421626244,
          -1.7096375423618129,
          0.2714533654279277,
          -1.3968305414201274,
          0.6282768205350342,
          2.176222326302205,
          -1.0264252953976682,
          1.3904401099939683,
          0.010824542527164216,
          -1.2175794875521029,
          0.3716209577099888,
          -1.3120934728624076,
          3.170939661760095,
          -1.458745480205832,
          -0.26439735324349584,
          1.1148649811421643,
          -1.1834165391311606,
          0.19940803639036503,
          -0.6390283733918236,
          -0.2397171463813505,
          -0.6494781932428652,
          1.649310694332983,
          -0.2964914172594756,
          -0.9353650503551492,
          0.9157186257911698,
          0.4876738607533547,
          -0.48199022831880894,
          -0.8349616170091793,
          1.3455087541679283,
          1.0590188939449208,
          0.836366174132724,
          1.5584629863592703,
          0.8348947232424436,
          -1.5731745117470843,
          0.13442209475790842,
          0.47631553285110445,
          -1.2038030148104866,
          -0.4347025061416813,
          1.5278190505918834,
          -0.5130721965259754,
          -1.3361021034635543,
          0.9835424597703536,
          0.4705045921911986,
          -0.978921113520018,
          -0.7712720999658328,
          0.6585146037629854,
          -0.19953392510152093,
          0.6660646067585204,
          0.5970847152486468,
          0.7372721084064577,
          1.1911541187181174,
          1.1479936893825013,
          1.283248296703858,
          -0.7876409921955367,
          -0.9149652381778776,
          0.39827433505999343,
          -0.6710173250569395,
          0.8159945751152134,
          -1.5903063065526848,
          -0.4959982172304841,
          -1.3329954554344272,
          1.0199703277720364,
          2.4105667127187584,
          -0.32796522837022896,
          0.43346683329833796,
          0.8073583140133243,
          -1.5072450491863791,
          -1.6170993013177883,
          -0.326640720754919,
          -1.1417972275953043,
          -0.963167293179758,
          -1.1199542329043528,
          0.21898146132919458,
          -0.5538360340051623,
          0.437774048310451,
          -0.4554710344968834,
          0.8810671717263063,
          -0.18618693579618942,
          -0.22937403549950175,
          -1.2960949662883683,
          3.0244334385227534,
          0.09151833504505799,
          -1.2348946008715653,
          0.8435621156772137,
          1.5187612384908198,
          1.1205147462709322,
          1.4990579085824633,
          0.6940208707220915,
          0.03425611488741808,
          0.4662048603667723,
          0.9211490479984151,
          -1.538982321904577,
          -1.1380477010193768,
          0.10557234739990107,
          0.3037577914167502,
          1.5797856584030867,
          0.48563011243884
         ],
         "xaxis": "x8",
         "y": [
          -1.3188190343406079,
          -0.5195427305961262,
          3.386453821992028,
          -0.09705417497171678,
          -0.297892863845476,
          -0.26756095229456917,
          0.5700665741375269,
          0.44529929220723913,
          -0.5510229873684799,
          1.7463483158674042,
          1.0118648347277688,
          0.1458689328478937,
          1.6735595274266766,
          0.7379430702485847,
          -0.7028689770607447,
          -0.07384558691768216,
          -1.7178452837414204,
          -1.9804215168285524,
          1.8325098041859333,
          0.4993355982667355,
          0.6159257998414503,
          -0.4792071402444821,
          0.3559177987316825,
          0.04575842620889139,
          -0.8937333342631764,
          -0.8458911423699876,
          1.2132038105440868,
          0.39373880580881887,
          1.1759919470652533,
          -2.068247462098143,
          -0.18747085870618696,
          -0.008194876832229107,
          -0.907129791010329,
          1.925063230443421,
          1.01885368544152,
          1.387438436729016,
          -1.0066955686153438,
          -0.9671187007033104,
          0.731976451138149,
          -0.9371741422340341,
          -0.768941907442198,
          0.0008091449242708666,
          0.07929553953223403,
          -0.012771443464080616,
          -1.091398000879962,
          0.6806417721703428,
          2.520321123148215,
          -1.6307687921002214,
          0.18510853667360713,
          -0.5309953436595065,
          -0.22650831604718946,
          -1.258650901561935,
          -0.29680745281406823,
          1.2488894303379945,
          0.9682519853659632,
          0.9040218291484514,
          0.4598920631590823,
          0.09824730993245537,
          2.4477757145812893,
          0.7180564035299077,
          0.0315662683405219,
          -0.22996495250392865,
          0.2690941714596704,
          -0.6618681113312663,
          2.4622984818930136,
          -0.9383539350729556,
          0.19670822651949327,
          0.332796451140872,
          -0.8804151825842351,
          1.0226176431072793,
          -0.9568652442737168,
          0.8632965925105605,
          0.3900306902768008,
          -0.9734778777546095,
          -0.03650594927790021,
          0.7698691732943076,
          -1.3788806224060008,
          1.2099361028622364,
          0.9999975718199677,
          -1.0101204359398641,
          0.5601146900966223,
          1.0474334676881487,
          0.9083479954052169,
          0.36007125845211757,
          0.7990499474418643,
          0.047683355715569184,
          0.9159390582775966,
          1.1103493975674814,
          -0.7261520132147986,
          -0.0351697431708248,
          0.8903375868875737,
          -0.832922227123769,
          1.3524321907790178,
          -2.299743297174103,
          -0.10650146403260315,
          -0.8406462819832169,
          -1.0635316643185633,
          0.7775874644776857,
          0.9727642264248069,
          -0.4108309101944478
         ],
         "yaxis": "y8"
        },
        {
         "line": {
          "color": "rgba(128, 128, 128, 1.0)",
          "dash": "solid",
          "shape": "linear",
          "width": 1.3
         },
         "marker": {
          "size": 2,
          "symbol": "circle"
         },
         "mode": "markers",
         "name": "C",
         "text": "",
         "type": "scatter",
         "x": [
          -0.9667706031559152,
          -0.2859230331659126,
          -0.9598172529636709,
          1.6994273373143356,
          0.6679156281878831,
          -0.7921386723269326,
          0.6677875090604823,
          0.18842161040285368,
          1.2197013733786959,
          0.3740932827273875,
          0.6763751328413449,
          1.0494561021545243,
          0.07221209523657499,
          -0.8791766868027052,
          0.12162966723876437,
          -0.10357449487613801,
          -0.5094000022078592,
          0.6239757340029429,
          -1.2449571168622398,
          0.3594084096499897,
          1.6765297679482034,
          0.13509423235704984,
          0.2705117695196429,
          -0.7119820402020055,
          -0.12907758215134288,
          0.08319611741499265,
          0.430408914483296,
          1.1322952435002804,
          -0.9607675765706225,
          -0.1420858459791905,
          0.9348025697422142,
          1.0557892979911945,
          -0.7528462987022209,
          -2.1819039128157867,
          -1.4046399567682601,
          0.5861898200940868,
          -0.2911744291241955,
          -0.5509183453632426,
          -0.1127612420803882,
          0.6888117831712275,
          -0.1364296263697243,
          0.3277151667010575,
          0.33758301287551934,
          0.7981383473407812,
          -0.5749282127701741,
          0.0573190971632262,
          2.005614222502313,
          -0.36084649081020853,
          0.12500468331404857,
          -1.000769118596277,
          -1.2581246473715653,
          0.8727168540806867,
          0.5189249974409815,
          0.26003727857485476,
          0.9036555150907073,
          0.2100386271152475,
          0.8011528441099885,
          -1.4767051234211053,
          -0.2984036629837312,
          -2.9439786983978737,
          -0.2072924708400469,
          -0.8970346988592104,
          -1.562210930137962,
          -1.2007698303843537,
          0.5761557464682605,
          -0.3334196477312107,
          -0.1475085352910442,
          -1.9221100669005526,
          -0.37263094070359437,
          -0.2961685288793439,
          0.867188512443164,
          0.21374050067553674,
          -0.7153835481111949,
          1.2527062398553368,
          1.183821901529496,
          2.200161640450383,
          1.695203262152829,
          -1.2996409871306696,
          -0.4603476887302826,
          -0.3357203379555168,
          -0.00262303954320485,
          1.0643942398357191,
          0.326733874202913,
          -0.21373908648877013,
          -1.187563138747254,
          1.43363810629614,
          -0.78225692691843,
          0.0820954573532839,
          1.0920156152206064,
          1.3080169562280424,
          -1.3269670830691598,
          0.6523762892146466,
          -0.2841860611708281,
          -0.06085191281269883,
          0.1811085429676458,
          0.27988653937338126,
          -1.5113247093622162,
          1.9927114711577558,
          -1.2115200720889219,
          1.730413492768943
         ],
         "xaxis": "x9",
         "y": [
          0.25384966049770624,
          -0.5072527135914842,
          -0.337956158122121,
          -0.021352989724285766,
          1.1798868936955196,
          -1.0619700074535035,
          -1.242640821990061,
          0.63718481054885,
          1.182983470444718,
          1.1803557563755003,
          1.4251439506467716,
          -0.059659649994779365,
          -0.8183834369391694,
          -0.5480051785885504,
          0.6047796513034572,
          -1.532362548338797,
          1.9239531136213526,
          -2.2729330116717357,
          0.7038139573002804,
          -0.5783982798836852,
          -0.40423646886615494,
          -1.4741140623505002,
          0.9421230293344746,
          -0.40488433389262524,
          0.7385946957282342,
          -1.220305479372563,
          0.5083037439106535,
          -1.6573596969282112,
          -0.30622793420655764,
          1.2090117296626592,
          -2.092375564918579,
          -0.07912412923330465,
          0.9907154607991587,
          1.3835363731413068,
          0.062050475447299046,
          -1.3279093169917124,
          -0.24090333909465758,
          -0.8686632118413525,
          -0.8737433194791209,
          1.286057339281788,
          1.1686997283325733,
          0.11463104050926562,
          -0.49333094725935783,
          -0.7163251198552059,
          -0.3867609736290793,
          -0.9300779087220071,
          -0.5029500766553069,
          -0.5099766136711134,
          0.7650616600011578,
          0.40885174878448294,
          0.1858949247611975,
          0.6334705020307428,
          0.857156989390653,
          1.1016962908562378,
          -2.6962695811727477,
          0.3671456344609041,
          -0.9456895970314112,
          0.8262109010679536,
          0.31775441451093905,
          -0.8140391902608517,
          -1.206299209830328,
          -1.8531579472430875,
          -0.8876817122602841,
          0.05353775292349346,
          -0.12607935820821967,
          -0.03448799870597999,
          0.09870641464153888,
          -0.1446216067198726,
          1.2998517221380463,
          -0.12470385761846105,
          0.47802670745805237,
          -0.9522869833192295,
          -1.636073353351388,
          -0.6203662373169074,
          -0.29660064998420343,
          1.3138788609614107,
          1.265578656104241,
          -0.9401464868752111,
          0.5336937679093039,
          0.9778422471052447,
          -0.3184371043335791,
          -0.281351219907658,
          -0.1001231941237401,
          -0.06297713617496802,
          1.0764980974966396,
          0.8182828791208246,
          -0.8802382564637786,
          0.5766341192681865,
          0.10400447689675228,
          2.811653328740616,
          0.6747095421809363,
          -0.0952407923845185,
          0.8569146552911229,
          0.17384052881986306,
          -0.5743496895141323,
          -0.020052297571810183,
          1.615604923206011,
          0.14114648417347928,
          0.8334472689749779,
          1.2835939015893971
         ],
         "yaxis": "y9"
        },
        {
         "line": {
          "color": "rgba(128, 128, 128, 1.0)",
          "dash": "solid",
          "shape": "linear",
          "width": 1.3
         },
         "marker": {
          "size": 2,
          "symbol": "circle"
         },
         "mode": "markers",
         "name": "C",
         "text": "",
         "type": "scatter",
         "x": [
          -1.3188190343406079,
          -0.5195427305961262,
          3.386453821992028,
          -0.09705417497171678,
          -0.297892863845476,
          -0.26756095229456917,
          0.5700665741375269,
          0.44529929220723913,
          -0.5510229873684799,
          1.7463483158674042,
          1.0118648347277688,
          0.1458689328478937,
          1.6735595274266766,
          0.7379430702485847,
          -0.7028689770607447,
          -0.07384558691768216,
          -1.7178452837414204,
          -1.9804215168285524,
          1.8325098041859333,
          0.4993355982667355,
          0.6159257998414503,
          -0.4792071402444821,
          0.3559177987316825,
          0.04575842620889139,
          -0.8937333342631764,
          -0.8458911423699876,
          1.2132038105440868,
          0.39373880580881887,
          1.1759919470652533,
          -2.068247462098143,
          -0.18747085870618696,
          -0.008194876832229107,
          -0.907129791010329,
          1.925063230443421,
          1.01885368544152,
          1.387438436729016,
          -1.0066955686153438,
          -0.9671187007033104,
          0.731976451138149,
          -0.9371741422340341,
          -0.768941907442198,
          0.0008091449242708666,
          0.07929553953223403,
          -0.012771443464080616,
          -1.091398000879962,
          0.6806417721703428,
          2.520321123148215,
          -1.6307687921002214,
          0.18510853667360713,
          -0.5309953436595065,
          -0.22650831604718946,
          -1.258650901561935,
          -0.29680745281406823,
          1.2488894303379945,
          0.9682519853659632,
          0.9040218291484514,
          0.4598920631590823,
          0.09824730993245537,
          2.4477757145812893,
          0.7180564035299077,
          0.0315662683405219,
          -0.22996495250392865,
          0.2690941714596704,
          -0.6618681113312663,
          2.4622984818930136,
          -0.9383539350729556,
          0.19670822651949327,
          0.332796451140872,
          -0.8804151825842351,
          1.0226176431072793,
          -0.9568652442737168,
          0.8632965925105605,
          0.3900306902768008,
          -0.9734778777546095,
          -0.03650594927790021,
          0.7698691732943076,
          -1.3788806224060008,
          1.2099361028622364,
          0.9999975718199677,
          -1.0101204359398641,
          0.5601146900966223,
          1.0474334676881487,
          0.9083479954052169,
          0.36007125845211757,
          0.7990499474418643,
          0.047683355715569184,
          0.9159390582775966,
          1.1103493975674814,
          -0.7261520132147986,
          -0.0351697431708248,
          0.8903375868875737,
          -0.832922227123769,
          1.3524321907790178,
          -2.299743297174103,
          -0.10650146403260315,
          -0.8406462819832169,
          -1.0635316643185633,
          0.7775874644776857,
          0.9727642264248069,
          -0.4108309101944478
         ],
         "xaxis": "x10",
         "y": [
          0.25384966049770624,
          -0.5072527135914842,
          -0.337956158122121,
          -0.021352989724285766,
          1.1798868936955196,
          -1.0619700074535035,
          -1.242640821990061,
          0.63718481054885,
          1.182983470444718,
          1.1803557563755003,
          1.4251439506467716,
          -0.059659649994779365,
          -0.8183834369391694,
          -0.5480051785885504,
          0.6047796513034572,
          -1.532362548338797,
          1.9239531136213526,
          -2.2729330116717357,
          0.7038139573002804,
          -0.5783982798836852,
          -0.40423646886615494,
          -1.4741140623505002,
          0.9421230293344746,
          -0.40488433389262524,
          0.7385946957282342,
          -1.220305479372563,
          0.5083037439106535,
          -1.6573596969282112,
          -0.30622793420655764,
          1.2090117296626592,
          -2.092375564918579,
          -0.07912412923330465,
          0.9907154607991587,
          1.3835363731413068,
          0.062050475447299046,
          -1.3279093169917124,
          -0.24090333909465758,
          -0.8686632118413525,
          -0.8737433194791209,
          1.286057339281788,
          1.1686997283325733,
          0.11463104050926562,
          -0.49333094725935783,
          -0.7163251198552059,
          -0.3867609736290793,
          -0.9300779087220071,
          -0.5029500766553069,
          -0.5099766136711134,
          0.7650616600011578,
          0.40885174878448294,
          0.1858949247611975,
          0.6334705020307428,
          0.857156989390653,
          1.1016962908562378,
          -2.6962695811727477,
          0.3671456344609041,
          -0.9456895970314112,
          0.8262109010679536,
          0.31775441451093905,
          -0.8140391902608517,
          -1.206299209830328,
          -1.8531579472430875,
          -0.8876817122602841,
          0.05353775292349346,
          -0.12607935820821967,
          -0.03448799870597999,
          0.09870641464153888,
          -0.1446216067198726,
          1.2998517221380463,
          -0.12470385761846105,
          0.47802670745805237,
          -0.9522869833192295,
          -1.636073353351388,
          -0.6203662373169074,
          -0.29660064998420343,
          1.3138788609614107,
          1.265578656104241,
          -0.9401464868752111,
          0.5336937679093039,
          0.9778422471052447,
          -0.3184371043335791,
          -0.281351219907658,
          -0.1001231941237401,
          -0.06297713617496802,
          1.0764980974966396,
          0.8182828791208246,
          -0.8802382564637786,
          0.5766341192681865,
          0.10400447689675228,
          2.811653328740616,
          0.6747095421809363,
          -0.0952407923845185,
          0.8569146552911229,
          0.17384052881986306,
          -0.5743496895141323,
          -0.020052297571810183,
          1.615604923206011,
          0.14114648417347928,
          0.8334472689749779,
          1.2835939015893971
         ],
         "yaxis": "y10"
        },
        {
         "histfunc": "count",
         "histnorm": "",
         "marker": {
          "color": "rgba(50, 171, 96, 1.0)",
          "line": {
           "color": "#4D5663",
           "width": 1.3
          }
         },
         "name": "C",
         "nbinsx": 10,
         "opacity": 0.8,
         "orientation": "v",
         "type": "histogram",
         "x": [
          0.25384966049770624,
          -0.5072527135914842,
          -0.337956158122121,
          -0.021352989724285766,
          1.1798868936955196,
          -1.0619700074535035,
          -1.242640821990061,
          0.63718481054885,
          1.182983470444718,
          1.1803557563755003,
          1.4251439506467716,
          -0.059659649994779365,
          -0.8183834369391694,
          -0.5480051785885504,
          0.6047796513034572,
          -1.532362548338797,
          1.9239531136213526,
          -2.2729330116717357,
          0.7038139573002804,
          -0.5783982798836852,
          -0.40423646886615494,
          -1.4741140623505002,
          0.9421230293344746,
          -0.40488433389262524,
          0.7385946957282342,
          -1.220305479372563,
          0.5083037439106535,
          -1.6573596969282112,
          -0.30622793420655764,
          1.2090117296626592,
          -2.092375564918579,
          -0.07912412923330465,
          0.9907154607991587,
          1.3835363731413068,
          0.062050475447299046,
          -1.3279093169917124,
          -0.24090333909465758,
          -0.8686632118413525,
          -0.8737433194791209,
          1.286057339281788,
          1.1686997283325733,
          0.11463104050926562,
          -0.49333094725935783,
          -0.7163251198552059,
          -0.3867609736290793,
          -0.9300779087220071,
          -0.5029500766553069,
          -0.5099766136711134,
          0.7650616600011578,
          0.40885174878448294,
          0.1858949247611975,
          0.6334705020307428,
          0.857156989390653,
          1.1016962908562378,
          -2.6962695811727477,
          0.3671456344609041,
          -0.9456895970314112,
          0.8262109010679536,
          0.31775441451093905,
          -0.8140391902608517,
          -1.206299209830328,
          -1.8531579472430875,
          -0.8876817122602841,
          0.05353775292349346,
          -0.12607935820821967,
          -0.03448799870597999,
          0.09870641464153888,
          -0.1446216067198726,
          1.2998517221380463,
          -0.12470385761846105,
          0.47802670745805237,
          -0.9522869833192295,
          -1.636073353351388,
          -0.6203662373169074,
          -0.29660064998420343,
          1.3138788609614107,
          1.265578656104241,
          -0.9401464868752111,
          0.5336937679093039,
          0.9778422471052447,
          -0.3184371043335791,
          -0.281351219907658,
          -0.1001231941237401,
          -0.06297713617496802,
          1.0764980974966396,
          0.8182828791208246,
          -0.8802382564637786,
          0.5766341192681865,
          0.10400447689675228,
          2.811653328740616,
          0.6747095421809363,
          -0.0952407923845185,
          0.8569146552911229,
          0.17384052881986306,
          -0.5743496895141323,
          -0.020052297571810183,
          1.615604923206011,
          0.14114648417347928,
          0.8334472689749779,
          1.2835939015893971
         ],
         "xaxis": "x11",
         "yaxis": "y11"
        },
        {
         "line": {
          "color": "rgba(128, 128, 128, 1.0)",
          "dash": "solid",
          "shape": "linear",
          "width": 1.3
         },
         "marker": {
          "size": 2,
          "symbol": "circle"
         },
         "mode": "markers",
         "name": "C",
         "text": "",
         "type": "scatter",
         "x": [
          1.4815474610296049,
          -1.9399949598560504,
          -0.5192410189081605,
          -0.7898645421626244,
          -1.7096375423618129,
          0.2714533654279277,
          -1.3968305414201274,
          0.6282768205350342,
          2.176222326302205,
          -1.0264252953976682,
          1.3904401099939683,
          0.010824542527164216,
          -1.2175794875521029,
          0.3716209577099888,
          -1.3120934728624076,
          3.170939661760095,
          -1.458745480205832,
          -0.26439735324349584,
          1.1148649811421643,
          -1.1834165391311606,
          0.19940803639036503,
          -0.6390283733918236,
          -0.2397171463813505,
          -0.6494781932428652,
          1.649310694332983,
          -0.2964914172594756,
          -0.9353650503551492,
          0.9157186257911698,
          0.4876738607533547,
          -0.48199022831880894,
          -0.8349616170091793,
          1.3455087541679283,
          1.0590188939449208,
          0.836366174132724,
          1.5584629863592703,
          0.8348947232424436,
          -1.5731745117470843,
          0.13442209475790842,
          0.47631553285110445,
          -1.2038030148104866,
          -0.4347025061416813,
          1.5278190505918834,
          -0.5130721965259754,
          -1.3361021034635543,
          0.9835424597703536,
          0.4705045921911986,
          -0.978921113520018,
          -0.7712720999658328,
          0.6585146037629854,
          -0.19953392510152093,
          0.6660646067585204,
          0.5970847152486468,
          0.7372721084064577,
          1.1911541187181174,
          1.1479936893825013,
          1.283248296703858,
          -0.7876409921955367,
          -0.9149652381778776,
          0.39827433505999343,
          -0.6710173250569395,
          0.8159945751152134,
          -1.5903063065526848,
          -0.4959982172304841,
          -1.3329954554344272,
          1.0199703277720364,
          2.4105667127187584,
          -0.32796522837022896,
          0.43346683329833796,
          0.8073583140133243,
          -1.5072450491863791,
          -1.6170993013177883,
          -0.326640720754919,
          -1.1417972275953043,
          -0.963167293179758,
          -1.1199542329043528,
          0.21898146132919458,
          -0.5538360340051623,
          0.437774048310451,
          -0.4554710344968834,
          0.8810671717263063,
          -0.18618693579618942,
          -0.22937403549950175,
          -1.2960949662883683,
          3.0244334385227534,
          0.09151833504505799,
          -1.2348946008715653,
          0.8435621156772137,
          1.5187612384908198,
          1.1205147462709322,
          1.4990579085824633,
          0.6940208707220915,
          0.03425611488741808,
          0.4662048603667723,
          0.9211490479984151,
          -1.538982321904577,
          -1.1380477010193768,
          0.10557234739990107,
          0.3037577914167502,
          1.5797856584030867,
          0.48563011243884
         ],
         "xaxis": "x12",
         "y": [
          0.25384966049770624,
          -0.5072527135914842,
          -0.337956158122121,
          -0.021352989724285766,
          1.1798868936955196,
          -1.0619700074535035,
          -1.242640821990061,
          0.63718481054885,
          1.182983470444718,
          1.1803557563755003,
          1.4251439506467716,
          -0.059659649994779365,
          -0.8183834369391694,
          -0.5480051785885504,
          0.6047796513034572,
          -1.532362548338797,
          1.9239531136213526,
          -2.2729330116717357,
          0.7038139573002804,
          -0.5783982798836852,
          -0.40423646886615494,
          -1.4741140623505002,
          0.9421230293344746,
          -0.40488433389262524,
          0.7385946957282342,
          -1.220305479372563,
          0.5083037439106535,
          -1.6573596969282112,
          -0.30622793420655764,
          1.2090117296626592,
          -2.092375564918579,
          -0.07912412923330465,
          0.9907154607991587,
          1.3835363731413068,
          0.062050475447299046,
          -1.3279093169917124,
          -0.24090333909465758,
          -0.8686632118413525,
          -0.8737433194791209,
          1.286057339281788,
          1.1686997283325733,
          0.11463104050926562,
          -0.49333094725935783,
          -0.7163251198552059,
          -0.3867609736290793,
          -0.9300779087220071,
          -0.5029500766553069,
          -0.5099766136711134,
          0.7650616600011578,
          0.40885174878448294,
          0.1858949247611975,
          0.6334705020307428,
          0.857156989390653,
          1.1016962908562378,
          -2.6962695811727477,
          0.3671456344609041,
          -0.9456895970314112,
          0.8262109010679536,
          0.31775441451093905,
          -0.8140391902608517,
          -1.206299209830328,
          -1.8531579472430875,
          -0.8876817122602841,
          0.05353775292349346,
          -0.12607935820821967,
          -0.03448799870597999,
          0.09870641464153888,
          -0.1446216067198726,
          1.2998517221380463,
          -0.12470385761846105,
          0.47802670745805237,
          -0.9522869833192295,
          -1.636073353351388,
          -0.6203662373169074,
          -0.29660064998420343,
          1.3138788609614107,
          1.265578656104241,
          -0.9401464868752111,
          0.5336937679093039,
          0.9778422471052447,
          -0.3184371043335791,
          -0.281351219907658,
          -0.1001231941237401,
          -0.06297713617496802,
          1.0764980974966396,
          0.8182828791208246,
          -0.8802382564637786,
          0.5766341192681865,
          0.10400447689675228,
          2.811653328740616,
          0.6747095421809363,
          -0.0952407923845185,
          0.8569146552911229,
          0.17384052881986306,
          -0.5743496895141323,
          -0.020052297571810183,
          1.615604923206011,
          0.14114648417347928,
          0.8334472689749779,
          1.2835939015893971
         ],
         "yaxis": "y12"
        },
        {
         "line": {
          "color": "rgba(128, 128, 128, 1.0)",
          "dash": "solid",
          "shape": "linear",
          "width": 1.3
         },
         "marker": {
          "size": 2,
          "symbol": "circle"
         },
         "mode": "markers",
         "name": "D",
         "text": "",
         "type": "scatter",
         "x": [
          -0.9667706031559152,
          -0.2859230331659126,
          -0.9598172529636709,
          1.6994273373143356,
          0.6679156281878831,
          -0.7921386723269326,
          0.6677875090604823,
          0.18842161040285368,
          1.2197013733786959,
          0.3740932827273875,
          0.6763751328413449,
          1.0494561021545243,
          0.07221209523657499,
          -0.8791766868027052,
          0.12162966723876437,
          -0.10357449487613801,
          -0.5094000022078592,
          0.6239757340029429,
          -1.2449571168622398,
          0.3594084096499897,
          1.6765297679482034,
          0.13509423235704984,
          0.2705117695196429,
          -0.7119820402020055,
          -0.12907758215134288,
          0.08319611741499265,
          0.430408914483296,
          1.1322952435002804,
          -0.9607675765706225,
          -0.1420858459791905,
          0.9348025697422142,
          1.0557892979911945,
          -0.7528462987022209,
          -2.1819039128157867,
          -1.4046399567682601,
          0.5861898200940868,
          -0.2911744291241955,
          -0.5509183453632426,
          -0.1127612420803882,
          0.6888117831712275,
          -0.1364296263697243,
          0.3277151667010575,
          0.33758301287551934,
          0.7981383473407812,
          -0.5749282127701741,
          0.0573190971632262,
          2.005614222502313,
          -0.36084649081020853,
          0.12500468331404857,
          -1.000769118596277,
          -1.2581246473715653,
          0.8727168540806867,
          0.5189249974409815,
          0.26003727857485476,
          0.9036555150907073,
          0.2100386271152475,
          0.8011528441099885,
          -1.4767051234211053,
          -0.2984036629837312,
          -2.9439786983978737,
          -0.2072924708400469,
          -0.8970346988592104,
          -1.562210930137962,
          -1.2007698303843537,
          0.5761557464682605,
          -0.3334196477312107,
          -0.1475085352910442,
          -1.9221100669005526,
          -0.37263094070359437,
          -0.2961685288793439,
          0.867188512443164,
          0.21374050067553674,
          -0.7153835481111949,
          1.2527062398553368,
          1.183821901529496,
          2.200161640450383,
          1.695203262152829,
          -1.2996409871306696,
          -0.4603476887302826,
          -0.3357203379555168,
          -0.00262303954320485,
          1.0643942398357191,
          0.326733874202913,
          -0.21373908648877013,
          -1.187563138747254,
          1.43363810629614,
          -0.78225692691843,
          0.0820954573532839,
          1.0920156152206064,
          1.3080169562280424,
          -1.3269670830691598,
          0.6523762892146466,
          -0.2841860611708281,
          -0.06085191281269883,
          0.1811085429676458,
          0.27988653937338126,
          -1.5113247093622162,
          1.9927114711577558,
          -1.2115200720889219,
          1.730413492768943
         ],
         "xaxis": "x13",
         "y": [
          1.4815474610296049,
          -1.9399949598560504,
          -0.5192410189081605,
          -0.7898645421626244,
          -1.7096375423618129,
          0.2714533654279277,
          -1.3968305414201274,
          0.6282768205350342,
          2.176222326302205,
          -1.0264252953976682,
          1.3904401099939683,
          0.010824542527164216,
          -1.2175794875521029,
          0.3716209577099888,
          -1.3120934728624076,
          3.170939661760095,
          -1.458745480205832,
          -0.26439735324349584,
          1.1148649811421643,
          -1.1834165391311606,
          0.19940803639036503,
          -0.6390283733918236,
          -0.2397171463813505,
          -0.6494781932428652,
          1.649310694332983,
          -0.2964914172594756,
          -0.9353650503551492,
          0.9157186257911698,
          0.4876738607533547,
          -0.48199022831880894,
          -0.8349616170091793,
          1.3455087541679283,
          1.0590188939449208,
          0.836366174132724,
          1.5584629863592703,
          0.8348947232424436,
          -1.5731745117470843,
          0.13442209475790842,
          0.47631553285110445,
          -1.2038030148104866,
          -0.4347025061416813,
          1.5278190505918834,
          -0.5130721965259754,
          -1.3361021034635543,
          0.9835424597703536,
          0.4705045921911986,
          -0.978921113520018,
          -0.7712720999658328,
          0.6585146037629854,
          -0.19953392510152093,
          0.6660646067585204,
          0.5970847152486468,
          0.7372721084064577,
          1.1911541187181174,
          1.1479936893825013,
          1.283248296703858,
          -0.7876409921955367,
          -0.9149652381778776,
          0.39827433505999343,
          -0.6710173250569395,
          0.8159945751152134,
          -1.5903063065526848,
          -0.4959982172304841,
          -1.3329954554344272,
          1.0199703277720364,
          2.4105667127187584,
          -0.32796522837022896,
          0.43346683329833796,
          0.8073583140133243,
          -1.5072450491863791,
          -1.6170993013177883,
          -0.326640720754919,
          -1.1417972275953043,
          -0.963167293179758,
          -1.1199542329043528,
          0.21898146132919458,
          -0.5538360340051623,
          0.437774048310451,
          -0.4554710344968834,
          0.8810671717263063,
          -0.18618693579618942,
          -0.22937403549950175,
          -1.2960949662883683,
          3.0244334385227534,
          0.09151833504505799,
          -1.2348946008715653,
          0.8435621156772137,
          1.5187612384908198,
          1.1205147462709322,
          1.4990579085824633,
          0.6940208707220915,
          0.03425611488741808,
          0.4662048603667723,
          0.9211490479984151,
          -1.538982321904577,
          -1.1380477010193768,
          0.10557234739990107,
          0.3037577914167502,
          1.5797856584030867,
          0.48563011243884
         ],
         "yaxis": "y13"
        },
        {
         "line": {
          "color": "rgba(128, 128, 128, 1.0)",
          "dash": "solid",
          "shape": "linear",
          "width": 1.3
         },
         "marker": {
          "size": 2,
          "symbol": "circle"
         },
         "mode": "markers",
         "name": "D",
         "text": "",
         "type": "scatter",
         "x": [
          -1.3188190343406079,
          -0.5195427305961262,
          3.386453821992028,
          -0.09705417497171678,
          -0.297892863845476,
          -0.26756095229456917,
          0.5700665741375269,
          0.44529929220723913,
          -0.5510229873684799,
          1.7463483158674042,
          1.0118648347277688,
          0.1458689328478937,
          1.6735595274266766,
          0.7379430702485847,
          -0.7028689770607447,
          -0.07384558691768216,
          -1.7178452837414204,
          -1.9804215168285524,
          1.8325098041859333,
          0.4993355982667355,
          0.6159257998414503,
          -0.4792071402444821,
          0.3559177987316825,
          0.04575842620889139,
          -0.8937333342631764,
          -0.8458911423699876,
          1.2132038105440868,
          0.39373880580881887,
          1.1759919470652533,
          -2.068247462098143,
          -0.18747085870618696,
          -0.008194876832229107,
          -0.907129791010329,
          1.925063230443421,
          1.01885368544152,
          1.387438436729016,
          -1.0066955686153438,
          -0.9671187007033104,
          0.731976451138149,
          -0.9371741422340341,
          -0.768941907442198,
          0.0008091449242708666,
          0.07929553953223403,
          -0.012771443464080616,
          -1.091398000879962,
          0.6806417721703428,
          2.520321123148215,
          -1.6307687921002214,
          0.18510853667360713,
          -0.5309953436595065,
          -0.22650831604718946,
          -1.258650901561935,
          -0.29680745281406823,
          1.2488894303379945,
          0.9682519853659632,
          0.9040218291484514,
          0.4598920631590823,
          0.09824730993245537,
          2.4477757145812893,
          0.7180564035299077,
          0.0315662683405219,
          -0.22996495250392865,
          0.2690941714596704,
          -0.6618681113312663,
          2.4622984818930136,
          -0.9383539350729556,
          0.19670822651949327,
          0.332796451140872,
          -0.8804151825842351,
          1.0226176431072793,
          -0.9568652442737168,
          0.8632965925105605,
          0.3900306902768008,
          -0.9734778777546095,
          -0.03650594927790021,
          0.7698691732943076,
          -1.3788806224060008,
          1.2099361028622364,
          0.9999975718199677,
          -1.0101204359398641,
          0.5601146900966223,
          1.0474334676881487,
          0.9083479954052169,
          0.36007125845211757,
          0.7990499474418643,
          0.047683355715569184,
          0.9159390582775966,
          1.1103493975674814,
          -0.7261520132147986,
          -0.0351697431708248,
          0.8903375868875737,
          -0.832922227123769,
          1.3524321907790178,
          -2.299743297174103,
          -0.10650146403260315,
          -0.8406462819832169,
          -1.0635316643185633,
          0.7775874644776857,
          0.9727642264248069,
          -0.4108309101944478
         ],
         "xaxis": "x14",
         "y": [
          1.4815474610296049,
          -1.9399949598560504,
          -0.5192410189081605,
          -0.7898645421626244,
          -1.7096375423618129,
          0.2714533654279277,
          -1.3968305414201274,
          0.6282768205350342,
          2.176222326302205,
          -1.0264252953976682,
          1.3904401099939683,
          0.010824542527164216,
          -1.2175794875521029,
          0.3716209577099888,
          -1.3120934728624076,
          3.170939661760095,
          -1.458745480205832,
          -0.26439735324349584,
          1.1148649811421643,
          -1.1834165391311606,
          0.19940803639036503,
          -0.6390283733918236,
          -0.2397171463813505,
          -0.6494781932428652,
          1.649310694332983,
          -0.2964914172594756,
          -0.9353650503551492,
          0.9157186257911698,
          0.4876738607533547,
          -0.48199022831880894,
          -0.8349616170091793,
          1.3455087541679283,
          1.0590188939449208,
          0.836366174132724,
          1.5584629863592703,
          0.8348947232424436,
          -1.5731745117470843,
          0.13442209475790842,
          0.47631553285110445,
          -1.2038030148104866,
          -0.4347025061416813,
          1.5278190505918834,
          -0.5130721965259754,
          -1.3361021034635543,
          0.9835424597703536,
          0.4705045921911986,
          -0.978921113520018,
          -0.7712720999658328,
          0.6585146037629854,
          -0.19953392510152093,
          0.6660646067585204,
          0.5970847152486468,
          0.7372721084064577,
          1.1911541187181174,
          1.1479936893825013,
          1.283248296703858,
          -0.7876409921955367,
          -0.9149652381778776,
          0.39827433505999343,
          -0.6710173250569395,
          0.8159945751152134,
          -1.5903063065526848,
          -0.4959982172304841,
          -1.3329954554344272,
          1.0199703277720364,
          2.4105667127187584,
          -0.32796522837022896,
          0.43346683329833796,
          0.8073583140133243,
          -1.5072450491863791,
          -1.6170993013177883,
          -0.326640720754919,
          -1.1417972275953043,
          -0.963167293179758,
          -1.1199542329043528,
          0.21898146132919458,
          -0.5538360340051623,
          0.437774048310451,
          -0.4554710344968834,
          0.8810671717263063,
          -0.18618693579618942,
          -0.22937403549950175,
          -1.2960949662883683,
          3.0244334385227534,
          0.09151833504505799,
          -1.2348946008715653,
          0.8435621156772137,
          1.5187612384908198,
          1.1205147462709322,
          1.4990579085824633,
          0.6940208707220915,
          0.03425611488741808,
          0.4662048603667723,
          0.9211490479984151,
          -1.538982321904577,
          -1.1380477010193768,
          0.10557234739990107,
          0.3037577914167502,
          1.5797856584030867,
          0.48563011243884
         ],
         "yaxis": "y14"
        },
        {
         "line": {
          "color": "rgba(128, 128, 128, 1.0)",
          "dash": "solid",
          "shape": "linear",
          "width": 1.3
         },
         "marker": {
          "size": 2,
          "symbol": "circle"
         },
         "mode": "markers",
         "name": "D",
         "text": "",
         "type": "scatter",
         "x": [
          0.25384966049770624,
          -0.5072527135914842,
          -0.337956158122121,
          -0.021352989724285766,
          1.1798868936955196,
          -1.0619700074535035,
          -1.242640821990061,
          0.63718481054885,
          1.182983470444718,
          1.1803557563755003,
          1.4251439506467716,
          -0.059659649994779365,
          -0.8183834369391694,
          -0.5480051785885504,
          0.6047796513034572,
          -1.532362548338797,
          1.9239531136213526,
          -2.2729330116717357,
          0.7038139573002804,
          -0.5783982798836852,
          -0.40423646886615494,
          -1.4741140623505002,
          0.9421230293344746,
          -0.40488433389262524,
          0.7385946957282342,
          -1.220305479372563,
          0.5083037439106535,
          -1.6573596969282112,
          -0.30622793420655764,
          1.2090117296626592,
          -2.092375564918579,
          -0.07912412923330465,
          0.9907154607991587,
          1.3835363731413068,
          0.062050475447299046,
          -1.3279093169917124,
          -0.24090333909465758,
          -0.8686632118413525,
          -0.8737433194791209,
          1.286057339281788,
          1.1686997283325733,
          0.11463104050926562,
          -0.49333094725935783,
          -0.7163251198552059,
          -0.3867609736290793,
          -0.9300779087220071,
          -0.5029500766553069,
          -0.5099766136711134,
          0.7650616600011578,
          0.40885174878448294,
          0.1858949247611975,
          0.6334705020307428,
          0.857156989390653,
          1.1016962908562378,
          -2.6962695811727477,
          0.3671456344609041,
          -0.9456895970314112,
          0.8262109010679536,
          0.31775441451093905,
          -0.8140391902608517,
          -1.206299209830328,
          -1.8531579472430875,
          -0.8876817122602841,
          0.05353775292349346,
          -0.12607935820821967,
          -0.03448799870597999,
          0.09870641464153888,
          -0.1446216067198726,
          1.2998517221380463,
          -0.12470385761846105,
          0.47802670745805237,
          -0.9522869833192295,
          -1.636073353351388,
          -0.6203662373169074,
          -0.29660064998420343,
          1.3138788609614107,
          1.265578656104241,
          -0.9401464868752111,
          0.5336937679093039,
          0.9778422471052447,
          -0.3184371043335791,
          -0.281351219907658,
          -0.1001231941237401,
          -0.06297713617496802,
          1.0764980974966396,
          0.8182828791208246,
          -0.8802382564637786,
          0.5766341192681865,
          0.10400447689675228,
          2.811653328740616,
          0.6747095421809363,
          -0.0952407923845185,
          0.8569146552911229,
          0.17384052881986306,
          -0.5743496895141323,
          -0.020052297571810183,
          1.615604923206011,
          0.14114648417347928,
          0.8334472689749779,
          1.2835939015893971
         ],
         "xaxis": "x15",
         "y": [
          1.4815474610296049,
          -1.9399949598560504,
          -0.5192410189081605,
          -0.7898645421626244,
          -1.7096375423618129,
          0.2714533654279277,
          -1.3968305414201274,
          0.6282768205350342,
          2.176222326302205,
          -1.0264252953976682,
          1.3904401099939683,
          0.010824542527164216,
          -1.2175794875521029,
          0.3716209577099888,
          -1.3120934728624076,
          3.170939661760095,
          -1.458745480205832,
          -0.26439735324349584,
          1.1148649811421643,
          -1.1834165391311606,
          0.19940803639036503,
          -0.6390283733918236,
          -0.2397171463813505,
          -0.6494781932428652,
          1.649310694332983,
          -0.2964914172594756,
          -0.9353650503551492,
          0.9157186257911698,
          0.4876738607533547,
          -0.48199022831880894,
          -0.8349616170091793,
          1.3455087541679283,
          1.0590188939449208,
          0.836366174132724,
          1.5584629863592703,
          0.8348947232424436,
          -1.5731745117470843,
          0.13442209475790842,
          0.47631553285110445,
          -1.2038030148104866,
          -0.4347025061416813,
          1.5278190505918834,
          -0.5130721965259754,
          -1.3361021034635543,
          0.9835424597703536,
          0.4705045921911986,
          -0.978921113520018,
          -0.7712720999658328,
          0.6585146037629854,
          -0.19953392510152093,
          0.6660646067585204,
          0.5970847152486468,
          0.7372721084064577,
          1.1911541187181174,
          1.1479936893825013,
          1.283248296703858,
          -0.7876409921955367,
          -0.9149652381778776,
          0.39827433505999343,
          -0.6710173250569395,
          0.8159945751152134,
          -1.5903063065526848,
          -0.4959982172304841,
          -1.3329954554344272,
          1.0199703277720364,
          2.4105667127187584,
          -0.32796522837022896,
          0.43346683329833796,
          0.8073583140133243,
          -1.5072450491863791,
          -1.6170993013177883,
          -0.326640720754919,
          -1.1417972275953043,
          -0.963167293179758,
          -1.1199542329043528,
          0.21898146132919458,
          -0.5538360340051623,
          0.437774048310451,
          -0.4554710344968834,
          0.8810671717263063,
          -0.18618693579618942,
          -0.22937403549950175,
          -1.2960949662883683,
          3.0244334385227534,
          0.09151833504505799,
          -1.2348946008715653,
          0.8435621156772137,
          1.5187612384908198,
          1.1205147462709322,
          1.4990579085824633,
          0.6940208707220915,
          0.03425611488741808,
          0.4662048603667723,
          0.9211490479984151,
          -1.538982321904577,
          -1.1380477010193768,
          0.10557234739990107,
          0.3037577914167502,
          1.5797856584030867,
          0.48563011243884
         ],
         "yaxis": "y15"
        },
        {
         "histfunc": "count",
         "histnorm": "",
         "marker": {
          "color": "rgba(128, 0, 128, 1.0)",
          "line": {
           "color": "#4D5663",
           "width": 1.3
          }
         },
         "name": "D",
         "nbinsx": 10,
         "opacity": 0.8,
         "orientation": "v",
         "type": "histogram",
         "x": [
          1.4815474610296049,
          -1.9399949598560504,
          -0.5192410189081605,
          -0.7898645421626244,
          -1.7096375423618129,
          0.2714533654279277,
          -1.3968305414201274,
          0.6282768205350342,
          2.176222326302205,
          -1.0264252953976682,
          1.3904401099939683,
          0.010824542527164216,
          -1.2175794875521029,
          0.3716209577099888,
          -1.3120934728624076,
          3.170939661760095,
          -1.458745480205832,
          -0.26439735324349584,
          1.1148649811421643,
          -1.1834165391311606,
          0.19940803639036503,
          -0.6390283733918236,
          -0.2397171463813505,
          -0.6494781932428652,
          1.649310694332983,
          -0.2964914172594756,
          -0.9353650503551492,
          0.9157186257911698,
          0.4876738607533547,
          -0.48199022831880894,
          -0.8349616170091793,
          1.3455087541679283,
          1.0590188939449208,
          0.836366174132724,
          1.5584629863592703,
          0.8348947232424436,
          -1.5731745117470843,
          0.13442209475790842,
          0.47631553285110445,
          -1.2038030148104866,
          -0.4347025061416813,
          1.5278190505918834,
          -0.5130721965259754,
          -1.3361021034635543,
          0.9835424597703536,
          0.4705045921911986,
          -0.978921113520018,
          -0.7712720999658328,
          0.6585146037629854,
          -0.19953392510152093,
          0.6660646067585204,
          0.5970847152486468,
          0.7372721084064577,
          1.1911541187181174,
          1.1479936893825013,
          1.283248296703858,
          -0.7876409921955367,
          -0.9149652381778776,
          0.39827433505999343,
          -0.6710173250569395,
          0.8159945751152134,
          -1.5903063065526848,
          -0.4959982172304841,
          -1.3329954554344272,
          1.0199703277720364,
          2.4105667127187584,
          -0.32796522837022896,
          0.43346683329833796,
          0.8073583140133243,
          -1.5072450491863791,
          -1.6170993013177883,
          -0.326640720754919,
          -1.1417972275953043,
          -0.963167293179758,
          -1.1199542329043528,
          0.21898146132919458,
          -0.5538360340051623,
          0.437774048310451,
          -0.4554710344968834,
          0.8810671717263063,
          -0.18618693579618942,
          -0.22937403549950175,
          -1.2960949662883683,
          3.0244334385227534,
          0.09151833504505799,
          -1.2348946008715653,
          0.8435621156772137,
          1.5187612384908198,
          1.1205147462709322,
          1.4990579085824633,
          0.6940208707220915,
          0.03425611488741808,
          0.4662048603667723,
          0.9211490479984151,
          -1.538982321904577,
          -1.1380477010193768,
          0.10557234739990107,
          0.3037577914167502,
          1.5797856584030867,
          0.48563011243884
         ],
         "xaxis": "x16",
         "yaxis": "y16"
        }
       ],
       "layout": {
        "bargap": 0.02,
        "legend": {
         "bgcolor": "#F5F6F9",
         "font": {
          "color": "#4D5663"
         }
        },
        "paper_bgcolor": "#F5F6F9",
        "plot_bgcolor": "#F5F6F9",
        "showlegend": false,
        "template": {
         "data": {
          "bar": [
           {
            "error_x": {
             "color": "#2a3f5f"
            },
            "error_y": {
             "color": "#2a3f5f"
            },
            "marker": {
             "line": {
              "color": "#E5ECF6",
              "width": 0.5
             },
             "pattern": {
              "fillmode": "overlay",
              "size": 10,
              "solidity": 0.2
             }
            },
            "type": "bar"
           }
          ],
          "barpolar": [
           {
            "marker": {
             "line": {
              "color": "#E5ECF6",
              "width": 0.5
             },
             "pattern": {
              "fillmode": "overlay",
              "size": 10,
              "solidity": 0.2
             }
            },
            "type": "barpolar"
           }
          ],
          "carpet": [
           {
            "aaxis": {
             "endlinecolor": "#2a3f5f",
             "gridcolor": "white",
             "linecolor": "white",
             "minorgridcolor": "white",
             "startlinecolor": "#2a3f5f"
            },
            "baxis": {
             "endlinecolor": "#2a3f5f",
             "gridcolor": "white",
             "linecolor": "white",
             "minorgridcolor": "white",
             "startlinecolor": "#2a3f5f"
            },
            "type": "carpet"
           }
          ],
          "choropleth": [
           {
            "colorbar": {
             "outlinewidth": 0,
             "ticks": ""
            },
            "type": "choropleth"
           }
          ],
          "contour": [
           {
            "colorbar": {
             "outlinewidth": 0,
             "ticks": ""
            },
            "colorscale": [
             [
              0,
              "#0d0887"
             ],
             [
              0.1111111111111111,
              "#46039f"
             ],
             [
              0.2222222222222222,
              "#7201a8"
             ],
             [
              0.3333333333333333,
              "#9c179e"
             ],
             [
              0.4444444444444444,
              "#bd3786"
             ],
             [
              0.5555555555555556,
              "#d8576b"
             ],
             [
              0.6666666666666666,
              "#ed7953"
             ],
             [
              0.7777777777777778,
              "#fb9f3a"
             ],
             [
              0.8888888888888888,
              "#fdca26"
             ],
             [
              1,
              "#f0f921"
             ]
            ],
            "type": "contour"
           }
          ],
          "contourcarpet": [
           {
            "colorbar": {
             "outlinewidth": 0,
             "ticks": ""
            },
            "type": "contourcarpet"
           }
          ],
          "heatmap": [
           {
            "colorbar": {
             "outlinewidth": 0,
             "ticks": ""
            },
            "colorscale": [
             [
              0,
              "#0d0887"
             ],
             [
              0.1111111111111111,
              "#46039f"
             ],
             [
              0.2222222222222222,
              "#7201a8"
             ],
             [
              0.3333333333333333,
              "#9c179e"
             ],
             [
              0.4444444444444444,
              "#bd3786"
             ],
             [
              0.5555555555555556,
              "#d8576b"
             ],
             [
              0.6666666666666666,
              "#ed7953"
             ],
             [
              0.7777777777777778,
              "#fb9f3a"
             ],
             [
              0.8888888888888888,
              "#fdca26"
             ],
             [
              1,
              "#f0f921"
             ]
            ],
            "type": "heatmap"
           }
          ],
          "heatmapgl": [
           {
            "colorbar": {
             "outlinewidth": 0,
             "ticks": ""
            },
            "colorscale": [
             [
              0,
              "#0d0887"
             ],
             [
              0.1111111111111111,
              "#46039f"
             ],
             [
              0.2222222222222222,
              "#7201a8"
             ],
             [
              0.3333333333333333,
              "#9c179e"
             ],
             [
              0.4444444444444444,
              "#bd3786"
             ],
             [
              0.5555555555555556,
              "#d8576b"
             ],
             [
              0.6666666666666666,
              "#ed7953"
             ],
             [
              0.7777777777777778,
              "#fb9f3a"
             ],
             [
              0.8888888888888888,
              "#fdca26"
             ],
             [
              1,
              "#f0f921"
             ]
            ],
            "type": "heatmapgl"
           }
          ],
          "histogram": [
           {
            "marker": {
             "pattern": {
              "fillmode": "overlay",
              "size": 10,
              "solidity": 0.2
             }
            },
            "type": "histogram"
           }
          ],
          "histogram2d": [
           {
            "colorbar": {
             "outlinewidth": 0,
             "ticks": ""
            },
            "colorscale": [
             [
              0,
              "#0d0887"
             ],
             [
              0.1111111111111111,
              "#46039f"
             ],
             [
              0.2222222222222222,
              "#7201a8"
             ],
             [
              0.3333333333333333,
              "#9c179e"
             ],
             [
              0.4444444444444444,
              "#bd3786"
             ],
             [
              0.5555555555555556,
              "#d8576b"
             ],
             [
              0.6666666666666666,
              "#ed7953"
             ],
             [
              0.7777777777777778,
              "#fb9f3a"
             ],
             [
              0.8888888888888888,
              "#fdca26"
             ],
             [
              1,
              "#f0f921"
             ]
            ],
            "type": "histogram2d"
           }
          ],
          "histogram2dcontour": [
           {
            "colorbar": {
             "outlinewidth": 0,
             "ticks": ""
            },
            "colorscale": [
             [
              0,
              "#0d0887"
             ],
             [
              0.1111111111111111,
              "#46039f"
             ],
             [
              0.2222222222222222,
              "#7201a8"
             ],
             [
              0.3333333333333333,
              "#9c179e"
             ],
             [
              0.4444444444444444,
              "#bd3786"
             ],
             [
              0.5555555555555556,
              "#d8576b"
             ],
             [
              0.6666666666666666,
              "#ed7953"
             ],
             [
              0.7777777777777778,
              "#fb9f3a"
             ],
             [
              0.8888888888888888,
              "#fdca26"
             ],
             [
              1,
              "#f0f921"
             ]
            ],
            "type": "histogram2dcontour"
           }
          ],
          "mesh3d": [
           {
            "colorbar": {
             "outlinewidth": 0,
             "ticks": ""
            },
            "type": "mesh3d"
           }
          ],
          "parcoords": [
           {
            "line": {
             "colorbar": {
              "outlinewidth": 0,
              "ticks": ""
             }
            },
            "type": "parcoords"
           }
          ],
          "pie": [
           {
            "automargin": true,
            "type": "pie"
           }
          ],
          "scatter": [
           {
            "fillpattern": {
             "fillmode": "overlay",
             "size": 10,
             "solidity": 0.2
            },
            "type": "scatter"
           }
          ],
          "scatter3d": [
           {
            "line": {
             "colorbar": {
              "outlinewidth": 0,
              "ticks": ""
             }
            },
            "marker": {
             "colorbar": {
              "outlinewidth": 0,
              "ticks": ""
             }
            },
            "type": "scatter3d"
           }
          ],
          "scattercarpet": [
           {
            "marker": {
             "colorbar": {
              "outlinewidth": 0,
              "ticks": ""
             }
            },
            "type": "scattercarpet"
           }
          ],
          "scattergeo": [
           {
            "marker": {
             "colorbar": {
              "outlinewidth": 0,
              "ticks": ""
             }
            },
            "type": "scattergeo"
           }
          ],
          "scattergl": [
           {
            "marker": {
             "colorbar": {
              "outlinewidth": 0,
              "ticks": ""
             }
            },
            "type": "scattergl"
           }
          ],
          "scattermapbox": [
           {
            "marker": {
             "colorbar": {
              "outlinewidth": 0,
              "ticks": ""
             }
            },
            "type": "scattermapbox"
           }
          ],
          "scatterpolar": [
           {
            "marker": {
             "colorbar": {
              "outlinewidth": 0,
              "ticks": ""
             }
            },
            "type": "scatterpolar"
           }
          ],
          "scatterpolargl": [
           {
            "marker": {
             "colorbar": {
              "outlinewidth": 0,
              "ticks": ""
             }
            },
            "type": "scatterpolargl"
           }
          ],
          "scatterternary": [
           {
            "marker": {
             "colorbar": {
              "outlinewidth": 0,
              "ticks": ""
             }
            },
            "type": "scatterternary"
           }
          ],
          "surface": [
           {
            "colorbar": {
             "outlinewidth": 0,
             "ticks": ""
            },
            "colorscale": [
             [
              0,
              "#0d0887"
             ],
             [
              0.1111111111111111,
              "#46039f"
             ],
             [
              0.2222222222222222,
              "#7201a8"
             ],
             [
              0.3333333333333333,
              "#9c179e"
             ],
             [
              0.4444444444444444,
              "#bd3786"
             ],
             [
              0.5555555555555556,
              "#d8576b"
             ],
             [
              0.6666666666666666,
              "#ed7953"
             ],
             [
              0.7777777777777778,
              "#fb9f3a"
             ],
             [
              0.8888888888888888,
              "#fdca26"
             ],
             [
              1,
              "#f0f921"
             ]
            ],
            "type": "surface"
           }
          ],
          "table": [
           {
            "cells": {
             "fill": {
              "color": "#EBF0F8"
             },
             "line": {
              "color": "white"
             }
            },
            "header": {
             "fill": {
              "color": "#C8D4E3"
             },
             "line": {
              "color": "white"
             }
            },
            "type": "table"
           }
          ]
         },
         "layout": {
          "annotationdefaults": {
           "arrowcolor": "#2a3f5f",
           "arrowhead": 0,
           "arrowwidth": 1
          },
          "autotypenumbers": "strict",
          "coloraxis": {
           "colorbar": {
            "outlinewidth": 0,
            "ticks": ""
           }
          },
          "colorscale": {
           "diverging": [
            [
             0,
             "#8e0152"
            ],
            [
             0.1,
             "#c51b7d"
            ],
            [
             0.2,
             "#de77ae"
            ],
            [
             0.3,
             "#f1b6da"
            ],
            [
             0.4,
             "#fde0ef"
            ],
            [
             0.5,
             "#f7f7f7"
            ],
            [
             0.6,
             "#e6f5d0"
            ],
            [
             0.7,
             "#b8e186"
            ],
            [
             0.8,
             "#7fbc41"
            ],
            [
             0.9,
             "#4d9221"
            ],
            [
             1,
             "#276419"
            ]
           ],
           "sequential": [
            [
             0,
             "#0d0887"
            ],
            [
             0.1111111111111111,
             "#46039f"
            ],
            [
             0.2222222222222222,
             "#7201a8"
            ],
            [
             0.3333333333333333,
             "#9c179e"
            ],
            [
             0.4444444444444444,
             "#bd3786"
            ],
            [
             0.5555555555555556,
             "#d8576b"
            ],
            [
             0.6666666666666666,
             "#ed7953"
            ],
            [
             0.7777777777777778,
             "#fb9f3a"
            ],
            [
             0.8888888888888888,
             "#fdca26"
            ],
            [
             1,
             "#f0f921"
            ]
           ],
           "sequentialminus": [
            [
             0,
             "#0d0887"
            ],
            [
             0.1111111111111111,
             "#46039f"
            ],
            [
             0.2222222222222222,
             "#7201a8"
            ],
            [
             0.3333333333333333,
             "#9c179e"
            ],
            [
             0.4444444444444444,
             "#bd3786"
            ],
            [
             0.5555555555555556,
             "#d8576b"
            ],
            [
             0.6666666666666666,
             "#ed7953"
            ],
            [
             0.7777777777777778,
             "#fb9f3a"
            ],
            [
             0.8888888888888888,
             "#fdca26"
            ],
            [
             1,
             "#f0f921"
            ]
           ]
          },
          "colorway": [
           "#636efa",
           "#EF553B",
           "#00cc96",
           "#ab63fa",
           "#FFA15A",
           "#19d3f3",
           "#FF6692",
           "#B6E880",
           "#FF97FF",
           "#FECB52"
          ],
          "font": {
           "color": "#2a3f5f"
          },
          "geo": {
           "bgcolor": "white",
           "lakecolor": "white",
           "landcolor": "#E5ECF6",
           "showlakes": true,
           "showland": true,
           "subunitcolor": "white"
          },
          "hoverlabel": {
           "align": "left"
          },
          "hovermode": "closest",
          "mapbox": {
           "style": "light"
          },
          "paper_bgcolor": "white",
          "plot_bgcolor": "#E5ECF6",
          "polar": {
           "angularaxis": {
            "gridcolor": "white",
            "linecolor": "white",
            "ticks": ""
           },
           "bgcolor": "#E5ECF6",
           "radialaxis": {
            "gridcolor": "white",
            "linecolor": "white",
            "ticks": ""
           }
          },
          "scene": {
           "xaxis": {
            "backgroundcolor": "#E5ECF6",
            "gridcolor": "white",
            "gridwidth": 2,
            "linecolor": "white",
            "showbackground": true,
            "ticks": "",
            "zerolinecolor": "white"
           },
           "yaxis": {
            "backgroundcolor": "#E5ECF6",
            "gridcolor": "white",
            "gridwidth": 2,
            "linecolor": "white",
            "showbackground": true,
            "ticks": "",
            "zerolinecolor": "white"
           },
           "zaxis": {
            "backgroundcolor": "#E5ECF6",
            "gridcolor": "white",
            "gridwidth": 2,
            "linecolor": "white",
            "showbackground": true,
            "ticks": "",
            "zerolinecolor": "white"
           }
          },
          "shapedefaults": {
           "line": {
            "color": "#2a3f5f"
           }
          },
          "ternary": {
           "aaxis": {
            "gridcolor": "white",
            "linecolor": "white",
            "ticks": ""
           },
           "baxis": {
            "gridcolor": "white",
            "linecolor": "white",
            "ticks": ""
           },
           "bgcolor": "#E5ECF6",
           "caxis": {
            "gridcolor": "white",
            "linecolor": "white",
            "ticks": ""
           }
          },
          "title": {
           "x": 0.05
          },
          "xaxis": {
           "automargin": true,
           "gridcolor": "white",
           "linecolor": "white",
           "ticks": "",
           "title": {
            "standoff": 15
           },
           "zerolinecolor": "white",
           "zerolinewidth": 2
          },
          "yaxis": {
           "automargin": true,
           "gridcolor": "white",
           "linecolor": "white",
           "ticks": "",
           "title": {
            "standoff": 15
           },
           "zerolinecolor": "white",
           "zerolinewidth": 2
          }
         }
        },
        "title": {
         "font": {
          "color": "#4D5663"
         }
        },
        "xaxis": {
         "anchor": "y",
         "domain": [
          0,
          0.2125
         ],
         "gridcolor": "#E1E5ED",
         "showgrid": false,
         "tickfont": {
          "color": "#4D5663"
         },
         "title": {
          "font": {
           "color": "#4D5663"
          },
          "text": ""
         },
         "zerolinecolor": "#E1E5ED"
        },
        "xaxis10": {
         "anchor": "y10",
         "domain": [
          0.2625,
          0.475
         ],
         "gridcolor": "#E1E5ED",
         "showgrid": false,
         "tickfont": {
          "color": "#4D5663"
         },
         "title": {
          "font": {
           "color": "#4D5663"
          },
          "text": ""
         },
         "zerolinecolor": "#E1E5ED"
        },
        "xaxis11": {
         "anchor": "y11",
         "domain": [
          0.525,
          0.7375
         ],
         "gridcolor": "#E1E5ED",
         "showgrid": false,
         "tickfont": {
          "color": "#4D5663"
         },
         "title": {
          "font": {
           "color": "#4D5663"
          },
          "text": ""
         },
         "zerolinecolor": "#E1E5ED"
        },
        "xaxis12": {
         "anchor": "y12",
         "domain": [
          0.7875,
          1
         ],
         "gridcolor": "#E1E5ED",
         "showgrid": false,
         "tickfont": {
          "color": "#4D5663"
         },
         "title": {
          "font": {
           "color": "#4D5663"
          },
          "text": ""
         },
         "zerolinecolor": "#E1E5ED"
        },
        "xaxis13": {
         "anchor": "y13",
         "domain": [
          0,
          0.2125
         ],
         "gridcolor": "#E1E5ED",
         "showgrid": false,
         "tickfont": {
          "color": "#4D5663"
         },
         "title": {
          "font": {
           "color": "#4D5663"
          },
          "text": ""
         },
         "zerolinecolor": "#E1E5ED"
        },
        "xaxis14": {
         "anchor": "y14",
         "domain": [
          0.2625,
          0.475
         ],
         "gridcolor": "#E1E5ED",
         "showgrid": false,
         "tickfont": {
          "color": "#4D5663"
         },
         "title": {
          "font": {
           "color": "#4D5663"
          },
          "text": ""
         },
         "zerolinecolor": "#E1E5ED"
        },
        "xaxis15": {
         "anchor": "y15",
         "domain": [
          0.525,
          0.7375
         ],
         "gridcolor": "#E1E5ED",
         "showgrid": false,
         "tickfont": {
          "color": "#4D5663"
         },
         "title": {
          "font": {
           "color": "#4D5663"
          },
          "text": ""
         },
         "zerolinecolor": "#E1E5ED"
        },
        "xaxis16": {
         "anchor": "y16",
         "domain": [
          0.7875,
          1
         ],
         "gridcolor": "#E1E5ED",
         "showgrid": false,
         "tickfont": {
          "color": "#4D5663"
         },
         "title": {
          "font": {
           "color": "#4D5663"
          },
          "text": ""
         },
         "zerolinecolor": "#E1E5ED"
        },
        "xaxis2": {
         "anchor": "y2",
         "domain": [
          0.2625,
          0.475
         ],
         "gridcolor": "#E1E5ED",
         "showgrid": false,
         "tickfont": {
          "color": "#4D5663"
         },
         "title": {
          "font": {
           "color": "#4D5663"
          },
          "text": ""
         },
         "zerolinecolor": "#E1E5ED"
        },
        "xaxis3": {
         "anchor": "y3",
         "domain": [
          0.525,
          0.7375
         ],
         "gridcolor": "#E1E5ED",
         "showgrid": false,
         "tickfont": {
          "color": "#4D5663"
         },
         "title": {
          "font": {
           "color": "#4D5663"
          },
          "text": ""
         },
         "zerolinecolor": "#E1E5ED"
        },
        "xaxis4": {
         "anchor": "y4",
         "domain": [
          0.7875,
          1
         ],
         "gridcolor": "#E1E5ED",
         "showgrid": false,
         "tickfont": {
          "color": "#4D5663"
         },
         "title": {
          "font": {
           "color": "#4D5663"
          },
          "text": ""
         },
         "zerolinecolor": "#E1E5ED"
        },
        "xaxis5": {
         "anchor": "y5",
         "domain": [
          0,
          0.2125
         ],
         "gridcolor": "#E1E5ED",
         "showgrid": false,
         "tickfont": {
          "color": "#4D5663"
         },
         "title": {
          "font": {
           "color": "#4D5663"
          },
          "text": ""
         },
         "zerolinecolor": "#E1E5ED"
        },
        "xaxis6": {
         "anchor": "y6",
         "domain": [
          0.2625,
          0.475
         ],
         "gridcolor": "#E1E5ED",
         "showgrid": false,
         "tickfont": {
          "color": "#4D5663"
         },
         "title": {
          "font": {
           "color": "#4D5663"
          },
          "text": ""
         },
         "zerolinecolor": "#E1E5ED"
        },
        "xaxis7": {
         "anchor": "y7",
         "domain": [
          0.525,
          0.7375
         ],
         "gridcolor": "#E1E5ED",
         "showgrid": false,
         "tickfont": {
          "color": "#4D5663"
         },
         "title": {
          "font": {
           "color": "#4D5663"
          },
          "text": ""
         },
         "zerolinecolor": "#E1E5ED"
        },
        "xaxis8": {
         "anchor": "y8",
         "domain": [
          0.7875,
          1
         ],
         "gridcolor": "#E1E5ED",
         "showgrid": false,
         "tickfont": {
          "color": "#4D5663"
         },
         "title": {
          "font": {
           "color": "#4D5663"
          },
          "text": ""
         },
         "zerolinecolor": "#E1E5ED"
        },
        "xaxis9": {
         "anchor": "y9",
         "domain": [
          0,
          0.2125
         ],
         "gridcolor": "#E1E5ED",
         "showgrid": false,
         "tickfont": {
          "color": "#4D5663"
         },
         "title": {
          "font": {
           "color": "#4D5663"
          },
          "text": ""
         },
         "zerolinecolor": "#E1E5ED"
        },
        "yaxis": {
         "anchor": "x",
         "domain": [
          0.8025,
          1
         ],
         "gridcolor": "#E1E5ED",
         "showgrid": false,
         "tickfont": {
          "color": "#4D5663"
         },
         "title": {
          "font": {
           "color": "#4D5663"
          },
          "text": ""
         },
         "zerolinecolor": "#E1E5ED"
        },
        "yaxis10": {
         "anchor": "x10",
         "domain": [
          0.2675,
          0.465
         ],
         "gridcolor": "#E1E5ED",
         "showgrid": false,
         "tickfont": {
          "color": "#4D5663"
         },
         "title": {
          "font": {
           "color": "#4D5663"
          },
          "text": ""
         },
         "zerolinecolor": "#E1E5ED"
        },
        "yaxis11": {
         "anchor": "x11",
         "domain": [
          0.2675,
          0.465
         ],
         "gridcolor": "#E1E5ED",
         "showgrid": false,
         "tickfont": {
          "color": "#4D5663"
         },
         "title": {
          "font": {
           "color": "#4D5663"
          },
          "text": ""
         },
         "zerolinecolor": "#E1E5ED"
        },
        "yaxis12": {
         "anchor": "x12",
         "domain": [
          0.2675,
          0.465
         ],
         "gridcolor": "#E1E5ED",
         "showgrid": false,
         "tickfont": {
          "color": "#4D5663"
         },
         "title": {
          "font": {
           "color": "#4D5663"
          },
          "text": ""
         },
         "zerolinecolor": "#E1E5ED"
        },
        "yaxis13": {
         "anchor": "x13",
         "domain": [
          0,
          0.1975
         ],
         "gridcolor": "#E1E5ED",
         "showgrid": false,
         "tickfont": {
          "color": "#4D5663"
         },
         "title": {
          "font": {
           "color": "#4D5663"
          },
          "text": ""
         },
         "zerolinecolor": "#E1E5ED"
        },
        "yaxis14": {
         "anchor": "x14",
         "domain": [
          0,
          0.1975
         ],
         "gridcolor": "#E1E5ED",
         "showgrid": false,
         "tickfont": {
          "color": "#4D5663"
         },
         "title": {
          "font": {
           "color": "#4D5663"
          },
          "text": ""
         },
         "zerolinecolor": "#E1E5ED"
        },
        "yaxis15": {
         "anchor": "x15",
         "domain": [
          0,
          0.1975
         ],
         "gridcolor": "#E1E5ED",
         "showgrid": false,
         "tickfont": {
          "color": "#4D5663"
         },
         "title": {
          "font": {
           "color": "#4D5663"
          },
          "text": ""
         },
         "zerolinecolor": "#E1E5ED"
        },
        "yaxis16": {
         "anchor": "x16",
         "domain": [
          0,
          0.1975
         ],
         "gridcolor": "#E1E5ED",
         "showgrid": false,
         "tickfont": {
          "color": "#4D5663"
         },
         "title": {
          "font": {
           "color": "#4D5663"
          },
          "text": ""
         },
         "zerolinecolor": "#E1E5ED"
        },
        "yaxis2": {
         "anchor": "x2",
         "domain": [
          0.8025,
          1
         ],
         "gridcolor": "#E1E5ED",
         "showgrid": false,
         "tickfont": {
          "color": "#4D5663"
         },
         "title": {
          "font": {
           "color": "#4D5663"
          },
          "text": ""
         },
         "zerolinecolor": "#E1E5ED"
        },
        "yaxis3": {
         "anchor": "x3",
         "domain": [
          0.8025,
          1
         ],
         "gridcolor": "#E1E5ED",
         "showgrid": false,
         "tickfont": {
          "color": "#4D5663"
         },
         "title": {
          "font": {
           "color": "#4D5663"
          },
          "text": ""
         },
         "zerolinecolor": "#E1E5ED"
        },
        "yaxis4": {
         "anchor": "x4",
         "domain": [
          0.8025,
          1
         ],
         "gridcolor": "#E1E5ED",
         "showgrid": false,
         "tickfont": {
          "color": "#4D5663"
         },
         "title": {
          "font": {
           "color": "#4D5663"
          },
          "text": ""
         },
         "zerolinecolor": "#E1E5ED"
        },
        "yaxis5": {
         "anchor": "x5",
         "domain": [
          0.535,
          0.7325
         ],
         "gridcolor": "#E1E5ED",
         "showgrid": false,
         "tickfont": {
          "color": "#4D5663"
         },
         "title": {
          "font": {
           "color": "#4D5663"
          },
          "text": ""
         },
         "zerolinecolor": "#E1E5ED"
        },
        "yaxis6": {
         "anchor": "x6",
         "domain": [
          0.535,
          0.7325
         ],
         "gridcolor": "#E1E5ED",
         "showgrid": false,
         "tickfont": {
          "color": "#4D5663"
         },
         "title": {
          "font": {
           "color": "#4D5663"
          },
          "text": ""
         },
         "zerolinecolor": "#E1E5ED"
        },
        "yaxis7": {
         "anchor": "x7",
         "domain": [
          0.535,
          0.7325
         ],
         "gridcolor": "#E1E5ED",
         "showgrid": false,
         "tickfont": {
          "color": "#4D5663"
         },
         "title": {
          "font": {
           "color": "#4D5663"
          },
          "text": ""
         },
         "zerolinecolor": "#E1E5ED"
        },
        "yaxis8": {
         "anchor": "x8",
         "domain": [
          0.535,
          0.7325
         ],
         "gridcolor": "#E1E5ED",
         "showgrid": false,
         "tickfont": {
          "color": "#4D5663"
         },
         "title": {
          "font": {
           "color": "#4D5663"
          },
          "text": ""
         },
         "zerolinecolor": "#E1E5ED"
        },
        "yaxis9": {
         "anchor": "x9",
         "domain": [
          0.2675,
          0.465
         ],
         "gridcolor": "#E1E5ED",
         "showgrid": false,
         "tickfont": {
          "color": "#4D5663"
         },
         "title": {
          "font": {
           "color": "#4D5663"
          },
          "text": ""
         },
         "zerolinecolor": "#E1E5ED"
        }
       }
      },
      "text/html": [
       "<div>                            <div id=\"02b4de63-8944-4f7b-8917-ef7e9b8d6e6b\" class=\"plotly-graph-div\" style=\"height:525px; width:100%;\"></div>            <script type=\"text/javascript\">                require([\"plotly\"], function(Plotly) {                    window.PLOTLYENV=window.PLOTLYENV || {};\n",
       "                    window.PLOTLYENV.BASE_URL='https://plot.ly';                                    if (document.getElementById(\"02b4de63-8944-4f7b-8917-ef7e9b8d6e6b\")) {                    Plotly.newPlot(                        \"02b4de63-8944-4f7b-8917-ef7e9b8d6e6b\",                        [{\"histfunc\":\"count\",\"histnorm\":\"\",\"marker\":{\"color\":\"rgba(255, 153, 51, 1.0)\",\"line\":{\"color\":\"#4D5663\",\"width\":1.3}},\"name\":\"A\",\"nbinsx\":10,\"opacity\":0.8,\"orientation\":\"v\",\"x\":[-0.9667706031559152,-0.2859230331659126,-0.9598172529636709,1.6994273373143356,0.6679156281878831,-0.7921386723269326,0.6677875090604823,0.18842161040285368,1.2197013733786959,0.3740932827273875,0.6763751328413449,1.0494561021545243,0.07221209523657499,-0.8791766868027052,0.12162966723876437,-0.10357449487613801,-0.5094000022078592,0.6239757340029429,-1.2449571168622398,0.3594084096499897,1.6765297679482034,0.13509423235704984,0.2705117695196429,-0.7119820402020055,-0.12907758215134288,0.08319611741499265,0.430408914483296,1.1322952435002804,-0.9607675765706225,-0.1420858459791905,0.9348025697422142,1.0557892979911945,-0.7528462987022209,-2.1819039128157867,-1.4046399567682601,0.5861898200940868,-0.2911744291241955,-0.5509183453632426,-0.1127612420803882,0.6888117831712275,-0.1364296263697243,0.3277151667010575,0.33758301287551934,0.7981383473407812,-0.5749282127701741,0.0573190971632262,2.005614222502313,-0.36084649081020853,0.12500468331404857,-1.000769118596277,-1.2581246473715653,0.8727168540806867,0.5189249974409815,0.26003727857485476,0.9036555150907073,0.2100386271152475,0.8011528441099885,-1.4767051234211053,-0.2984036629837312,-2.9439786983978737,-0.2072924708400469,-0.8970346988592104,-1.562210930137962,-1.2007698303843537,0.5761557464682605,-0.3334196477312107,-0.1475085352910442,-1.9221100669005526,-0.37263094070359437,-0.2961685288793439,0.867188512443164,0.21374050067553674,-0.7153835481111949,1.2527062398553368,1.183821901529496,2.200161640450383,1.695203262152829,-1.2996409871306696,-0.4603476887302826,-0.3357203379555168,-0.00262303954320485,1.0643942398357191,0.326733874202913,-0.21373908648877013,-1.187563138747254,1.43363810629614,-0.78225692691843,0.0820954573532839,1.0920156152206064,1.3080169562280424,-1.3269670830691598,0.6523762892146466,-0.2841860611708281,-0.06085191281269883,0.1811085429676458,0.27988653937338126,-1.5113247093622162,1.9927114711577558,-1.2115200720889219,1.730413492768943],\"xaxis\":\"x\",\"yaxis\":\"y\",\"type\":\"histogram\"},{\"line\":{\"color\":\"rgba(128, 128, 128, 1.0)\",\"dash\":\"solid\",\"shape\":\"linear\",\"width\":1.3},\"marker\":{\"size\":2,\"symbol\":\"circle\"},\"mode\":\"markers\",\"name\":\"A\",\"text\":\"\",\"x\":[-1.3188190343406079,-0.5195427305961262,3.386453821992028,-0.09705417497171678,-0.297892863845476,-0.26756095229456917,0.5700665741375269,0.44529929220723913,-0.5510229873684799,1.7463483158674042,1.0118648347277688,0.1458689328478937,1.6735595274266766,0.7379430702485847,-0.7028689770607447,-0.07384558691768216,-1.7178452837414204,-1.9804215168285524,1.8325098041859333,0.4993355982667355,0.6159257998414503,-0.4792071402444821,0.3559177987316825,0.04575842620889139,-0.8937333342631764,-0.8458911423699876,1.2132038105440868,0.39373880580881887,1.1759919470652533,-2.068247462098143,-0.18747085870618696,-0.008194876832229107,-0.907129791010329,1.925063230443421,1.01885368544152,1.387438436729016,-1.0066955686153438,-0.9671187007033104,0.731976451138149,-0.9371741422340341,-0.768941907442198,0.0008091449242708666,0.07929553953223403,-0.012771443464080616,-1.091398000879962,0.6806417721703428,2.520321123148215,-1.6307687921002214,0.18510853667360713,-0.5309953436595065,-0.22650831604718946,-1.258650901561935,-0.29680745281406823,1.2488894303379945,0.9682519853659632,0.9040218291484514,0.4598920631590823,0.09824730993245537,2.4477757145812893,0.7180564035299077,0.0315662683405219,-0.22996495250392865,0.2690941714596704,-0.6618681113312663,2.4622984818930136,-0.9383539350729556,0.19670822651949327,0.332796451140872,-0.8804151825842351,1.0226176431072793,-0.9568652442737168,0.8632965925105605,0.3900306902768008,-0.9734778777546095,-0.03650594927790021,0.7698691732943076,-1.3788806224060008,1.2099361028622364,0.9999975718199677,-1.0101204359398641,0.5601146900966223,1.0474334676881487,0.9083479954052169,0.36007125845211757,0.7990499474418643,0.047683355715569184,0.9159390582775966,1.1103493975674814,-0.7261520132147986,-0.0351697431708248,0.8903375868875737,-0.832922227123769,1.3524321907790178,-2.299743297174103,-0.10650146403260315,-0.8406462819832169,-1.0635316643185633,0.7775874644776857,0.9727642264248069,-0.4108309101944478],\"xaxis\":\"x2\",\"y\":[-0.9667706031559152,-0.2859230331659126,-0.9598172529636709,1.6994273373143356,0.6679156281878831,-0.7921386723269326,0.6677875090604823,0.18842161040285368,1.2197013733786959,0.3740932827273875,0.6763751328413449,1.0494561021545243,0.07221209523657499,-0.8791766868027052,0.12162966723876437,-0.10357449487613801,-0.5094000022078592,0.6239757340029429,-1.2449571168622398,0.3594084096499897,1.6765297679482034,0.13509423235704984,0.2705117695196429,-0.7119820402020055,-0.12907758215134288,0.08319611741499265,0.430408914483296,1.1322952435002804,-0.9607675765706225,-0.1420858459791905,0.9348025697422142,1.0557892979911945,-0.7528462987022209,-2.1819039128157867,-1.4046399567682601,0.5861898200940868,-0.2911744291241955,-0.5509183453632426,-0.1127612420803882,0.6888117831712275,-0.1364296263697243,0.3277151667010575,0.33758301287551934,0.7981383473407812,-0.5749282127701741,0.0573190971632262,2.005614222502313,-0.36084649081020853,0.12500468331404857,-1.000769118596277,-1.2581246473715653,0.8727168540806867,0.5189249974409815,0.26003727857485476,0.9036555150907073,0.2100386271152475,0.8011528441099885,-1.4767051234211053,-0.2984036629837312,-2.9439786983978737,-0.2072924708400469,-0.8970346988592104,-1.562210930137962,-1.2007698303843537,0.5761557464682605,-0.3334196477312107,-0.1475085352910442,-1.9221100669005526,-0.37263094070359437,-0.2961685288793439,0.867188512443164,0.21374050067553674,-0.7153835481111949,1.2527062398553368,1.183821901529496,2.200161640450383,1.695203262152829,-1.2996409871306696,-0.4603476887302826,-0.3357203379555168,-0.00262303954320485,1.0643942398357191,0.326733874202913,-0.21373908648877013,-1.187563138747254,1.43363810629614,-0.78225692691843,0.0820954573532839,1.0920156152206064,1.3080169562280424,-1.3269670830691598,0.6523762892146466,-0.2841860611708281,-0.06085191281269883,0.1811085429676458,0.27988653937338126,-1.5113247093622162,1.9927114711577558,-1.2115200720889219,1.730413492768943],\"yaxis\":\"y2\",\"type\":\"scatter\"},{\"line\":{\"color\":\"rgba(128, 128, 128, 1.0)\",\"dash\":\"solid\",\"shape\":\"linear\",\"width\":1.3},\"marker\":{\"size\":2,\"symbol\":\"circle\"},\"mode\":\"markers\",\"name\":\"A\",\"text\":\"\",\"x\":[0.25384966049770624,-0.5072527135914842,-0.337956158122121,-0.021352989724285766,1.1798868936955196,-1.0619700074535035,-1.242640821990061,0.63718481054885,1.182983470444718,1.1803557563755003,1.4251439506467716,-0.059659649994779365,-0.8183834369391694,-0.5480051785885504,0.6047796513034572,-1.532362548338797,1.9239531136213526,-2.2729330116717357,0.7038139573002804,-0.5783982798836852,-0.40423646886615494,-1.4741140623505002,0.9421230293344746,-0.40488433389262524,0.7385946957282342,-1.220305479372563,0.5083037439106535,-1.6573596969282112,-0.30622793420655764,1.2090117296626592,-2.092375564918579,-0.07912412923330465,0.9907154607991587,1.3835363731413068,0.062050475447299046,-1.3279093169917124,-0.24090333909465758,-0.8686632118413525,-0.8737433194791209,1.286057339281788,1.1686997283325733,0.11463104050926562,-0.49333094725935783,-0.7163251198552059,-0.3867609736290793,-0.9300779087220071,-0.5029500766553069,-0.5099766136711134,0.7650616600011578,0.40885174878448294,0.1858949247611975,0.6334705020307428,0.857156989390653,1.1016962908562378,-2.6962695811727477,0.3671456344609041,-0.9456895970314112,0.8262109010679536,0.31775441451093905,-0.8140391902608517,-1.206299209830328,-1.8531579472430875,-0.8876817122602841,0.05353775292349346,-0.12607935820821967,-0.03448799870597999,0.09870641464153888,-0.1446216067198726,1.2998517221380463,-0.12470385761846105,0.47802670745805237,-0.9522869833192295,-1.636073353351388,-0.6203662373169074,-0.29660064998420343,1.3138788609614107,1.265578656104241,-0.9401464868752111,0.5336937679093039,0.9778422471052447,-0.3184371043335791,-0.281351219907658,-0.1001231941237401,-0.06297713617496802,1.0764980974966396,0.8182828791208246,-0.8802382564637786,0.5766341192681865,0.10400447689675228,2.811653328740616,0.6747095421809363,-0.0952407923845185,0.8569146552911229,0.17384052881986306,-0.5743496895141323,-0.020052297571810183,1.615604923206011,0.14114648417347928,0.8334472689749779,1.2835939015893971],\"xaxis\":\"x3\",\"y\":[-0.9667706031559152,-0.2859230331659126,-0.9598172529636709,1.6994273373143356,0.6679156281878831,-0.7921386723269326,0.6677875090604823,0.18842161040285368,1.2197013733786959,0.3740932827273875,0.6763751328413449,1.0494561021545243,0.07221209523657499,-0.8791766868027052,0.12162966723876437,-0.10357449487613801,-0.5094000022078592,0.6239757340029429,-1.2449571168622398,0.3594084096499897,1.6765297679482034,0.13509423235704984,0.2705117695196429,-0.7119820402020055,-0.12907758215134288,0.08319611741499265,0.430408914483296,1.1322952435002804,-0.9607675765706225,-0.1420858459791905,0.9348025697422142,1.0557892979911945,-0.7528462987022209,-2.1819039128157867,-1.4046399567682601,0.5861898200940868,-0.2911744291241955,-0.5509183453632426,-0.1127612420803882,0.6888117831712275,-0.1364296263697243,0.3277151667010575,0.33758301287551934,0.7981383473407812,-0.5749282127701741,0.0573190971632262,2.005614222502313,-0.36084649081020853,0.12500468331404857,-1.000769118596277,-1.2581246473715653,0.8727168540806867,0.5189249974409815,0.26003727857485476,0.9036555150907073,0.2100386271152475,0.8011528441099885,-1.4767051234211053,-0.2984036629837312,-2.9439786983978737,-0.2072924708400469,-0.8970346988592104,-1.562210930137962,-1.2007698303843537,0.5761557464682605,-0.3334196477312107,-0.1475085352910442,-1.9221100669005526,-0.37263094070359437,-0.2961685288793439,0.867188512443164,0.21374050067553674,-0.7153835481111949,1.2527062398553368,1.183821901529496,2.200161640450383,1.695203262152829,-1.2996409871306696,-0.4603476887302826,-0.3357203379555168,-0.00262303954320485,1.0643942398357191,0.326733874202913,-0.21373908648877013,-1.187563138747254,1.43363810629614,-0.78225692691843,0.0820954573532839,1.0920156152206064,1.3080169562280424,-1.3269670830691598,0.6523762892146466,-0.2841860611708281,-0.06085191281269883,0.1811085429676458,0.27988653937338126,-1.5113247093622162,1.9927114711577558,-1.2115200720889219,1.730413492768943],\"yaxis\":\"y3\",\"type\":\"scatter\"},{\"line\":{\"color\":\"rgba(128, 128, 128, 1.0)\",\"dash\":\"solid\",\"shape\":\"linear\",\"width\":1.3},\"marker\":{\"size\":2,\"symbol\":\"circle\"},\"mode\":\"markers\",\"name\":\"A\",\"text\":\"\",\"x\":[1.4815474610296049,-1.9399949598560504,-0.5192410189081605,-0.7898645421626244,-1.7096375423618129,0.2714533654279277,-1.3968305414201274,0.6282768205350342,2.176222326302205,-1.0264252953976682,1.3904401099939683,0.010824542527164216,-1.2175794875521029,0.3716209577099888,-1.3120934728624076,3.170939661760095,-1.458745480205832,-0.26439735324349584,1.1148649811421643,-1.1834165391311606,0.19940803639036503,-0.6390283733918236,-0.2397171463813505,-0.6494781932428652,1.649310694332983,-0.2964914172594756,-0.9353650503551492,0.9157186257911698,0.4876738607533547,-0.48199022831880894,-0.8349616170091793,1.3455087541679283,1.0590188939449208,0.836366174132724,1.5584629863592703,0.8348947232424436,-1.5731745117470843,0.13442209475790842,0.47631553285110445,-1.2038030148104866,-0.4347025061416813,1.5278190505918834,-0.5130721965259754,-1.3361021034635543,0.9835424597703536,0.4705045921911986,-0.978921113520018,-0.7712720999658328,0.6585146037629854,-0.19953392510152093,0.6660646067585204,0.5970847152486468,0.7372721084064577,1.1911541187181174,1.1479936893825013,1.283248296703858,-0.7876409921955367,-0.9149652381778776,0.39827433505999343,-0.6710173250569395,0.8159945751152134,-1.5903063065526848,-0.4959982172304841,-1.3329954554344272,1.0199703277720364,2.4105667127187584,-0.32796522837022896,0.43346683329833796,0.8073583140133243,-1.5072450491863791,-1.6170993013177883,-0.326640720754919,-1.1417972275953043,-0.963167293179758,-1.1199542329043528,0.21898146132919458,-0.5538360340051623,0.437774048310451,-0.4554710344968834,0.8810671717263063,-0.18618693579618942,-0.22937403549950175,-1.2960949662883683,3.0244334385227534,0.09151833504505799,-1.2348946008715653,0.8435621156772137,1.5187612384908198,1.1205147462709322,1.4990579085824633,0.6940208707220915,0.03425611488741808,0.4662048603667723,0.9211490479984151,-1.538982321904577,-1.1380477010193768,0.10557234739990107,0.3037577914167502,1.5797856584030867,0.48563011243884],\"xaxis\":\"x4\",\"y\":[-0.9667706031559152,-0.2859230331659126,-0.9598172529636709,1.6994273373143356,0.6679156281878831,-0.7921386723269326,0.6677875090604823,0.18842161040285368,1.2197013733786959,0.3740932827273875,0.6763751328413449,1.0494561021545243,0.07221209523657499,-0.8791766868027052,0.12162966723876437,-0.10357449487613801,-0.5094000022078592,0.6239757340029429,-1.2449571168622398,0.3594084096499897,1.6765297679482034,0.13509423235704984,0.2705117695196429,-0.7119820402020055,-0.12907758215134288,0.08319611741499265,0.430408914483296,1.1322952435002804,-0.9607675765706225,-0.1420858459791905,0.9348025697422142,1.0557892979911945,-0.7528462987022209,-2.1819039128157867,-1.4046399567682601,0.5861898200940868,-0.2911744291241955,-0.5509183453632426,-0.1127612420803882,0.6888117831712275,-0.1364296263697243,0.3277151667010575,0.33758301287551934,0.7981383473407812,-0.5749282127701741,0.0573190971632262,2.005614222502313,-0.36084649081020853,0.12500468331404857,-1.000769118596277,-1.2581246473715653,0.8727168540806867,0.5189249974409815,0.26003727857485476,0.9036555150907073,0.2100386271152475,0.8011528441099885,-1.4767051234211053,-0.2984036629837312,-2.9439786983978737,-0.2072924708400469,-0.8970346988592104,-1.562210930137962,-1.2007698303843537,0.5761557464682605,-0.3334196477312107,-0.1475085352910442,-1.9221100669005526,-0.37263094070359437,-0.2961685288793439,0.867188512443164,0.21374050067553674,-0.7153835481111949,1.2527062398553368,1.183821901529496,2.200161640450383,1.695203262152829,-1.2996409871306696,-0.4603476887302826,-0.3357203379555168,-0.00262303954320485,1.0643942398357191,0.326733874202913,-0.21373908648877013,-1.187563138747254,1.43363810629614,-0.78225692691843,0.0820954573532839,1.0920156152206064,1.3080169562280424,-1.3269670830691598,0.6523762892146466,-0.2841860611708281,-0.06085191281269883,0.1811085429676458,0.27988653937338126,-1.5113247093622162,1.9927114711577558,-1.2115200720889219,1.730413492768943],\"yaxis\":\"y4\",\"type\":\"scatter\"},{\"line\":{\"color\":\"rgba(128, 128, 128, 1.0)\",\"dash\":\"solid\",\"shape\":\"linear\",\"width\":1.3},\"marker\":{\"size\":2,\"symbol\":\"circle\"},\"mode\":\"markers\",\"name\":\"B\",\"text\":\"\",\"x\":[-0.9667706031559152,-0.2859230331659126,-0.9598172529636709,1.6994273373143356,0.6679156281878831,-0.7921386723269326,0.6677875090604823,0.18842161040285368,1.2197013733786959,0.3740932827273875,0.6763751328413449,1.0494561021545243,0.07221209523657499,-0.8791766868027052,0.12162966723876437,-0.10357449487613801,-0.5094000022078592,0.6239757340029429,-1.2449571168622398,0.3594084096499897,1.6765297679482034,0.13509423235704984,0.2705117695196429,-0.7119820402020055,-0.12907758215134288,0.08319611741499265,0.430408914483296,1.1322952435002804,-0.9607675765706225,-0.1420858459791905,0.9348025697422142,1.0557892979911945,-0.7528462987022209,-2.1819039128157867,-1.4046399567682601,0.5861898200940868,-0.2911744291241955,-0.5509183453632426,-0.1127612420803882,0.6888117831712275,-0.1364296263697243,0.3277151667010575,0.33758301287551934,0.7981383473407812,-0.5749282127701741,0.0573190971632262,2.005614222502313,-0.36084649081020853,0.12500468331404857,-1.000769118596277,-1.2581246473715653,0.8727168540806867,0.5189249974409815,0.26003727857485476,0.9036555150907073,0.2100386271152475,0.8011528441099885,-1.4767051234211053,-0.2984036629837312,-2.9439786983978737,-0.2072924708400469,-0.8970346988592104,-1.562210930137962,-1.2007698303843537,0.5761557464682605,-0.3334196477312107,-0.1475085352910442,-1.9221100669005526,-0.37263094070359437,-0.2961685288793439,0.867188512443164,0.21374050067553674,-0.7153835481111949,1.2527062398553368,1.183821901529496,2.200161640450383,1.695203262152829,-1.2996409871306696,-0.4603476887302826,-0.3357203379555168,-0.00262303954320485,1.0643942398357191,0.326733874202913,-0.21373908648877013,-1.187563138747254,1.43363810629614,-0.78225692691843,0.0820954573532839,1.0920156152206064,1.3080169562280424,-1.3269670830691598,0.6523762892146466,-0.2841860611708281,-0.06085191281269883,0.1811085429676458,0.27988653937338126,-1.5113247093622162,1.9927114711577558,-1.2115200720889219,1.730413492768943],\"xaxis\":\"x5\",\"y\":[-1.3188190343406079,-0.5195427305961262,3.386453821992028,-0.09705417497171678,-0.297892863845476,-0.26756095229456917,0.5700665741375269,0.44529929220723913,-0.5510229873684799,1.7463483158674042,1.0118648347277688,0.1458689328478937,1.6735595274266766,0.7379430702485847,-0.7028689770607447,-0.07384558691768216,-1.7178452837414204,-1.9804215168285524,1.8325098041859333,0.4993355982667355,0.6159257998414503,-0.4792071402444821,0.3559177987316825,0.04575842620889139,-0.8937333342631764,-0.8458911423699876,1.2132038105440868,0.39373880580881887,1.1759919470652533,-2.068247462098143,-0.18747085870618696,-0.008194876832229107,-0.907129791010329,1.925063230443421,1.01885368544152,1.387438436729016,-1.0066955686153438,-0.9671187007033104,0.731976451138149,-0.9371741422340341,-0.768941907442198,0.0008091449242708666,0.07929553953223403,-0.012771443464080616,-1.091398000879962,0.6806417721703428,2.520321123148215,-1.6307687921002214,0.18510853667360713,-0.5309953436595065,-0.22650831604718946,-1.258650901561935,-0.29680745281406823,1.2488894303379945,0.9682519853659632,0.9040218291484514,0.4598920631590823,0.09824730993245537,2.4477757145812893,0.7180564035299077,0.0315662683405219,-0.22996495250392865,0.2690941714596704,-0.6618681113312663,2.4622984818930136,-0.9383539350729556,0.19670822651949327,0.332796451140872,-0.8804151825842351,1.0226176431072793,-0.9568652442737168,0.8632965925105605,0.3900306902768008,-0.9734778777546095,-0.03650594927790021,0.7698691732943076,-1.3788806224060008,1.2099361028622364,0.9999975718199677,-1.0101204359398641,0.5601146900966223,1.0474334676881487,0.9083479954052169,0.36007125845211757,0.7990499474418643,0.047683355715569184,0.9159390582775966,1.1103493975674814,-0.7261520132147986,-0.0351697431708248,0.8903375868875737,-0.832922227123769,1.3524321907790178,-2.299743297174103,-0.10650146403260315,-0.8406462819832169,-1.0635316643185633,0.7775874644776857,0.9727642264248069,-0.4108309101944478],\"yaxis\":\"y5\",\"type\":\"scatter\"},{\"histfunc\":\"count\",\"histnorm\":\"\",\"marker\":{\"color\":\"rgba(55, 128, 191, 1.0)\",\"line\":{\"color\":\"#4D5663\",\"width\":1.3}},\"name\":\"B\",\"nbinsx\":10,\"opacity\":0.8,\"orientation\":\"v\",\"x\":[-1.3188190343406079,-0.5195427305961262,3.386453821992028,-0.09705417497171678,-0.297892863845476,-0.26756095229456917,0.5700665741375269,0.44529929220723913,-0.5510229873684799,1.7463483158674042,1.0118648347277688,0.1458689328478937,1.6735595274266766,0.7379430702485847,-0.7028689770607447,-0.07384558691768216,-1.7178452837414204,-1.9804215168285524,1.8325098041859333,0.4993355982667355,0.6159257998414503,-0.4792071402444821,0.3559177987316825,0.04575842620889139,-0.8937333342631764,-0.8458911423699876,1.2132038105440868,0.39373880580881887,1.1759919470652533,-2.068247462098143,-0.18747085870618696,-0.008194876832229107,-0.907129791010329,1.925063230443421,1.01885368544152,1.387438436729016,-1.0066955686153438,-0.9671187007033104,0.731976451138149,-0.9371741422340341,-0.768941907442198,0.0008091449242708666,0.07929553953223403,-0.012771443464080616,-1.091398000879962,0.6806417721703428,2.520321123148215,-1.6307687921002214,0.18510853667360713,-0.5309953436595065,-0.22650831604718946,-1.258650901561935,-0.29680745281406823,1.2488894303379945,0.9682519853659632,0.9040218291484514,0.4598920631590823,0.09824730993245537,2.4477757145812893,0.7180564035299077,0.0315662683405219,-0.22996495250392865,0.2690941714596704,-0.6618681113312663,2.4622984818930136,-0.9383539350729556,0.19670822651949327,0.332796451140872,-0.8804151825842351,1.0226176431072793,-0.9568652442737168,0.8632965925105605,0.3900306902768008,-0.9734778777546095,-0.03650594927790021,0.7698691732943076,-1.3788806224060008,1.2099361028622364,0.9999975718199677,-1.0101204359398641,0.5601146900966223,1.0474334676881487,0.9083479954052169,0.36007125845211757,0.7990499474418643,0.047683355715569184,0.9159390582775966,1.1103493975674814,-0.7261520132147986,-0.0351697431708248,0.8903375868875737,-0.832922227123769,1.3524321907790178,-2.299743297174103,-0.10650146403260315,-0.8406462819832169,-1.0635316643185633,0.7775874644776857,0.9727642264248069,-0.4108309101944478],\"xaxis\":\"x6\",\"yaxis\":\"y6\",\"type\":\"histogram\"},{\"line\":{\"color\":\"rgba(128, 128, 128, 1.0)\",\"dash\":\"solid\",\"shape\":\"linear\",\"width\":1.3},\"marker\":{\"size\":2,\"symbol\":\"circle\"},\"mode\":\"markers\",\"name\":\"B\",\"text\":\"\",\"x\":[0.25384966049770624,-0.5072527135914842,-0.337956158122121,-0.021352989724285766,1.1798868936955196,-1.0619700074535035,-1.242640821990061,0.63718481054885,1.182983470444718,1.1803557563755003,1.4251439506467716,-0.059659649994779365,-0.8183834369391694,-0.5480051785885504,0.6047796513034572,-1.532362548338797,1.9239531136213526,-2.2729330116717357,0.7038139573002804,-0.5783982798836852,-0.40423646886615494,-1.4741140623505002,0.9421230293344746,-0.40488433389262524,0.7385946957282342,-1.220305479372563,0.5083037439106535,-1.6573596969282112,-0.30622793420655764,1.2090117296626592,-2.092375564918579,-0.07912412923330465,0.9907154607991587,1.3835363731413068,0.062050475447299046,-1.3279093169917124,-0.24090333909465758,-0.8686632118413525,-0.8737433194791209,1.286057339281788,1.1686997283325733,0.11463104050926562,-0.49333094725935783,-0.7163251198552059,-0.3867609736290793,-0.9300779087220071,-0.5029500766553069,-0.5099766136711134,0.7650616600011578,0.40885174878448294,0.1858949247611975,0.6334705020307428,0.857156989390653,1.1016962908562378,-2.6962695811727477,0.3671456344609041,-0.9456895970314112,0.8262109010679536,0.31775441451093905,-0.8140391902608517,-1.206299209830328,-1.8531579472430875,-0.8876817122602841,0.05353775292349346,-0.12607935820821967,-0.03448799870597999,0.09870641464153888,-0.1446216067198726,1.2998517221380463,-0.12470385761846105,0.47802670745805237,-0.9522869833192295,-1.636073353351388,-0.6203662373169074,-0.29660064998420343,1.3138788609614107,1.265578656104241,-0.9401464868752111,0.5336937679093039,0.9778422471052447,-0.3184371043335791,-0.281351219907658,-0.1001231941237401,-0.06297713617496802,1.0764980974966396,0.8182828791208246,-0.8802382564637786,0.5766341192681865,0.10400447689675228,2.811653328740616,0.6747095421809363,-0.0952407923845185,0.8569146552911229,0.17384052881986306,-0.5743496895141323,-0.020052297571810183,1.615604923206011,0.14114648417347928,0.8334472689749779,1.2835939015893971],\"xaxis\":\"x7\",\"y\":[-1.3188190343406079,-0.5195427305961262,3.386453821992028,-0.09705417497171678,-0.297892863845476,-0.26756095229456917,0.5700665741375269,0.44529929220723913,-0.5510229873684799,1.7463483158674042,1.0118648347277688,0.1458689328478937,1.6735595274266766,0.7379430702485847,-0.7028689770607447,-0.07384558691768216,-1.7178452837414204,-1.9804215168285524,1.8325098041859333,0.4993355982667355,0.6159257998414503,-0.4792071402444821,0.3559177987316825,0.04575842620889139,-0.8937333342631764,-0.8458911423699876,1.2132038105440868,0.39373880580881887,1.1759919470652533,-2.068247462098143,-0.18747085870618696,-0.008194876832229107,-0.907129791010329,1.925063230443421,1.01885368544152,1.387438436729016,-1.0066955686153438,-0.9671187007033104,0.731976451138149,-0.9371741422340341,-0.768941907442198,0.0008091449242708666,0.07929553953223403,-0.012771443464080616,-1.091398000879962,0.6806417721703428,2.520321123148215,-1.6307687921002214,0.18510853667360713,-0.5309953436595065,-0.22650831604718946,-1.258650901561935,-0.29680745281406823,1.2488894303379945,0.9682519853659632,0.9040218291484514,0.4598920631590823,0.09824730993245537,2.4477757145812893,0.7180564035299077,0.0315662683405219,-0.22996495250392865,0.2690941714596704,-0.6618681113312663,2.4622984818930136,-0.9383539350729556,0.19670822651949327,0.332796451140872,-0.8804151825842351,1.0226176431072793,-0.9568652442737168,0.8632965925105605,0.3900306902768008,-0.9734778777546095,-0.03650594927790021,0.7698691732943076,-1.3788806224060008,1.2099361028622364,0.9999975718199677,-1.0101204359398641,0.5601146900966223,1.0474334676881487,0.9083479954052169,0.36007125845211757,0.7990499474418643,0.047683355715569184,0.9159390582775966,1.1103493975674814,-0.7261520132147986,-0.0351697431708248,0.8903375868875737,-0.832922227123769,1.3524321907790178,-2.299743297174103,-0.10650146403260315,-0.8406462819832169,-1.0635316643185633,0.7775874644776857,0.9727642264248069,-0.4108309101944478],\"yaxis\":\"y7\",\"type\":\"scatter\"},{\"line\":{\"color\":\"rgba(128, 128, 128, 1.0)\",\"dash\":\"solid\",\"shape\":\"linear\",\"width\":1.3},\"marker\":{\"size\":2,\"symbol\":\"circle\"},\"mode\":\"markers\",\"name\":\"B\",\"text\":\"\",\"x\":[1.4815474610296049,-1.9399949598560504,-0.5192410189081605,-0.7898645421626244,-1.7096375423618129,0.2714533654279277,-1.3968305414201274,0.6282768205350342,2.176222326302205,-1.0264252953976682,1.3904401099939683,0.010824542527164216,-1.2175794875521029,0.3716209577099888,-1.3120934728624076,3.170939661760095,-1.458745480205832,-0.26439735324349584,1.1148649811421643,-1.1834165391311606,0.19940803639036503,-0.6390283733918236,-0.2397171463813505,-0.6494781932428652,1.649310694332983,-0.2964914172594756,-0.9353650503551492,0.9157186257911698,0.4876738607533547,-0.48199022831880894,-0.8349616170091793,1.3455087541679283,1.0590188939449208,0.836366174132724,1.5584629863592703,0.8348947232424436,-1.5731745117470843,0.13442209475790842,0.47631553285110445,-1.2038030148104866,-0.4347025061416813,1.5278190505918834,-0.5130721965259754,-1.3361021034635543,0.9835424597703536,0.4705045921911986,-0.978921113520018,-0.7712720999658328,0.6585146037629854,-0.19953392510152093,0.6660646067585204,0.5970847152486468,0.7372721084064577,1.1911541187181174,1.1479936893825013,1.283248296703858,-0.7876409921955367,-0.9149652381778776,0.39827433505999343,-0.6710173250569395,0.8159945751152134,-1.5903063065526848,-0.4959982172304841,-1.3329954554344272,1.0199703277720364,2.4105667127187584,-0.32796522837022896,0.43346683329833796,0.8073583140133243,-1.5072450491863791,-1.6170993013177883,-0.326640720754919,-1.1417972275953043,-0.963167293179758,-1.1199542329043528,0.21898146132919458,-0.5538360340051623,0.437774048310451,-0.4554710344968834,0.8810671717263063,-0.18618693579618942,-0.22937403549950175,-1.2960949662883683,3.0244334385227534,0.09151833504505799,-1.2348946008715653,0.8435621156772137,1.5187612384908198,1.1205147462709322,1.4990579085824633,0.6940208707220915,0.03425611488741808,0.4662048603667723,0.9211490479984151,-1.538982321904577,-1.1380477010193768,0.10557234739990107,0.3037577914167502,1.5797856584030867,0.48563011243884],\"xaxis\":\"x8\",\"y\":[-1.3188190343406079,-0.5195427305961262,3.386453821992028,-0.09705417497171678,-0.297892863845476,-0.26756095229456917,0.5700665741375269,0.44529929220723913,-0.5510229873684799,1.7463483158674042,1.0118648347277688,0.1458689328478937,1.6735595274266766,0.7379430702485847,-0.7028689770607447,-0.07384558691768216,-1.7178452837414204,-1.9804215168285524,1.8325098041859333,0.4993355982667355,0.6159257998414503,-0.4792071402444821,0.3559177987316825,0.04575842620889139,-0.8937333342631764,-0.8458911423699876,1.2132038105440868,0.39373880580881887,1.1759919470652533,-2.068247462098143,-0.18747085870618696,-0.008194876832229107,-0.907129791010329,1.925063230443421,1.01885368544152,1.387438436729016,-1.0066955686153438,-0.9671187007033104,0.731976451138149,-0.9371741422340341,-0.768941907442198,0.0008091449242708666,0.07929553953223403,-0.012771443464080616,-1.091398000879962,0.6806417721703428,2.520321123148215,-1.6307687921002214,0.18510853667360713,-0.5309953436595065,-0.22650831604718946,-1.258650901561935,-0.29680745281406823,1.2488894303379945,0.9682519853659632,0.9040218291484514,0.4598920631590823,0.09824730993245537,2.4477757145812893,0.7180564035299077,0.0315662683405219,-0.22996495250392865,0.2690941714596704,-0.6618681113312663,2.4622984818930136,-0.9383539350729556,0.19670822651949327,0.332796451140872,-0.8804151825842351,1.0226176431072793,-0.9568652442737168,0.8632965925105605,0.3900306902768008,-0.9734778777546095,-0.03650594927790021,0.7698691732943076,-1.3788806224060008,1.2099361028622364,0.9999975718199677,-1.0101204359398641,0.5601146900966223,1.0474334676881487,0.9083479954052169,0.36007125845211757,0.7990499474418643,0.047683355715569184,0.9159390582775966,1.1103493975674814,-0.7261520132147986,-0.0351697431708248,0.8903375868875737,-0.832922227123769,1.3524321907790178,-2.299743297174103,-0.10650146403260315,-0.8406462819832169,-1.0635316643185633,0.7775874644776857,0.9727642264248069,-0.4108309101944478],\"yaxis\":\"y8\",\"type\":\"scatter\"},{\"line\":{\"color\":\"rgba(128, 128, 128, 1.0)\",\"dash\":\"solid\",\"shape\":\"linear\",\"width\":1.3},\"marker\":{\"size\":2,\"symbol\":\"circle\"},\"mode\":\"markers\",\"name\":\"C\",\"text\":\"\",\"x\":[-0.9667706031559152,-0.2859230331659126,-0.9598172529636709,1.6994273373143356,0.6679156281878831,-0.7921386723269326,0.6677875090604823,0.18842161040285368,1.2197013733786959,0.3740932827273875,0.6763751328413449,1.0494561021545243,0.07221209523657499,-0.8791766868027052,0.12162966723876437,-0.10357449487613801,-0.5094000022078592,0.6239757340029429,-1.2449571168622398,0.3594084096499897,1.6765297679482034,0.13509423235704984,0.2705117695196429,-0.7119820402020055,-0.12907758215134288,0.08319611741499265,0.430408914483296,1.1322952435002804,-0.9607675765706225,-0.1420858459791905,0.9348025697422142,1.0557892979911945,-0.7528462987022209,-2.1819039128157867,-1.4046399567682601,0.5861898200940868,-0.2911744291241955,-0.5509183453632426,-0.1127612420803882,0.6888117831712275,-0.1364296263697243,0.3277151667010575,0.33758301287551934,0.7981383473407812,-0.5749282127701741,0.0573190971632262,2.005614222502313,-0.36084649081020853,0.12500468331404857,-1.000769118596277,-1.2581246473715653,0.8727168540806867,0.5189249974409815,0.26003727857485476,0.9036555150907073,0.2100386271152475,0.8011528441099885,-1.4767051234211053,-0.2984036629837312,-2.9439786983978737,-0.2072924708400469,-0.8970346988592104,-1.562210930137962,-1.2007698303843537,0.5761557464682605,-0.3334196477312107,-0.1475085352910442,-1.9221100669005526,-0.37263094070359437,-0.2961685288793439,0.867188512443164,0.21374050067553674,-0.7153835481111949,1.2527062398553368,1.183821901529496,2.200161640450383,1.695203262152829,-1.2996409871306696,-0.4603476887302826,-0.3357203379555168,-0.00262303954320485,1.0643942398357191,0.326733874202913,-0.21373908648877013,-1.187563138747254,1.43363810629614,-0.78225692691843,0.0820954573532839,1.0920156152206064,1.3080169562280424,-1.3269670830691598,0.6523762892146466,-0.2841860611708281,-0.06085191281269883,0.1811085429676458,0.27988653937338126,-1.5113247093622162,1.9927114711577558,-1.2115200720889219,1.730413492768943],\"xaxis\":\"x9\",\"y\":[0.25384966049770624,-0.5072527135914842,-0.337956158122121,-0.021352989724285766,1.1798868936955196,-1.0619700074535035,-1.242640821990061,0.63718481054885,1.182983470444718,1.1803557563755003,1.4251439506467716,-0.059659649994779365,-0.8183834369391694,-0.5480051785885504,0.6047796513034572,-1.532362548338797,1.9239531136213526,-2.2729330116717357,0.7038139573002804,-0.5783982798836852,-0.40423646886615494,-1.4741140623505002,0.9421230293344746,-0.40488433389262524,0.7385946957282342,-1.220305479372563,0.5083037439106535,-1.6573596969282112,-0.30622793420655764,1.2090117296626592,-2.092375564918579,-0.07912412923330465,0.9907154607991587,1.3835363731413068,0.062050475447299046,-1.3279093169917124,-0.24090333909465758,-0.8686632118413525,-0.8737433194791209,1.286057339281788,1.1686997283325733,0.11463104050926562,-0.49333094725935783,-0.7163251198552059,-0.3867609736290793,-0.9300779087220071,-0.5029500766553069,-0.5099766136711134,0.7650616600011578,0.40885174878448294,0.1858949247611975,0.6334705020307428,0.857156989390653,1.1016962908562378,-2.6962695811727477,0.3671456344609041,-0.9456895970314112,0.8262109010679536,0.31775441451093905,-0.8140391902608517,-1.206299209830328,-1.8531579472430875,-0.8876817122602841,0.05353775292349346,-0.12607935820821967,-0.03448799870597999,0.09870641464153888,-0.1446216067198726,1.2998517221380463,-0.12470385761846105,0.47802670745805237,-0.9522869833192295,-1.636073353351388,-0.6203662373169074,-0.29660064998420343,1.3138788609614107,1.265578656104241,-0.9401464868752111,0.5336937679093039,0.9778422471052447,-0.3184371043335791,-0.281351219907658,-0.1001231941237401,-0.06297713617496802,1.0764980974966396,0.8182828791208246,-0.8802382564637786,0.5766341192681865,0.10400447689675228,2.811653328740616,0.6747095421809363,-0.0952407923845185,0.8569146552911229,0.17384052881986306,-0.5743496895141323,-0.020052297571810183,1.615604923206011,0.14114648417347928,0.8334472689749779,1.2835939015893971],\"yaxis\":\"y9\",\"type\":\"scatter\"},{\"line\":{\"color\":\"rgba(128, 128, 128, 1.0)\",\"dash\":\"solid\",\"shape\":\"linear\",\"width\":1.3},\"marker\":{\"size\":2,\"symbol\":\"circle\"},\"mode\":\"markers\",\"name\":\"C\",\"text\":\"\",\"x\":[-1.3188190343406079,-0.5195427305961262,3.386453821992028,-0.09705417497171678,-0.297892863845476,-0.26756095229456917,0.5700665741375269,0.44529929220723913,-0.5510229873684799,1.7463483158674042,1.0118648347277688,0.1458689328478937,1.6735595274266766,0.7379430702485847,-0.7028689770607447,-0.07384558691768216,-1.7178452837414204,-1.9804215168285524,1.8325098041859333,0.4993355982667355,0.6159257998414503,-0.4792071402444821,0.3559177987316825,0.04575842620889139,-0.8937333342631764,-0.8458911423699876,1.2132038105440868,0.39373880580881887,1.1759919470652533,-2.068247462098143,-0.18747085870618696,-0.008194876832229107,-0.907129791010329,1.925063230443421,1.01885368544152,1.387438436729016,-1.0066955686153438,-0.9671187007033104,0.731976451138149,-0.9371741422340341,-0.768941907442198,0.0008091449242708666,0.07929553953223403,-0.012771443464080616,-1.091398000879962,0.6806417721703428,2.520321123148215,-1.6307687921002214,0.18510853667360713,-0.5309953436595065,-0.22650831604718946,-1.258650901561935,-0.29680745281406823,1.2488894303379945,0.9682519853659632,0.9040218291484514,0.4598920631590823,0.09824730993245537,2.4477757145812893,0.7180564035299077,0.0315662683405219,-0.22996495250392865,0.2690941714596704,-0.6618681113312663,2.4622984818930136,-0.9383539350729556,0.19670822651949327,0.332796451140872,-0.8804151825842351,1.0226176431072793,-0.9568652442737168,0.8632965925105605,0.3900306902768008,-0.9734778777546095,-0.03650594927790021,0.7698691732943076,-1.3788806224060008,1.2099361028622364,0.9999975718199677,-1.0101204359398641,0.5601146900966223,1.0474334676881487,0.9083479954052169,0.36007125845211757,0.7990499474418643,0.047683355715569184,0.9159390582775966,1.1103493975674814,-0.7261520132147986,-0.0351697431708248,0.8903375868875737,-0.832922227123769,1.3524321907790178,-2.299743297174103,-0.10650146403260315,-0.8406462819832169,-1.0635316643185633,0.7775874644776857,0.9727642264248069,-0.4108309101944478],\"xaxis\":\"x10\",\"y\":[0.25384966049770624,-0.5072527135914842,-0.337956158122121,-0.021352989724285766,1.1798868936955196,-1.0619700074535035,-1.242640821990061,0.63718481054885,1.182983470444718,1.1803557563755003,1.4251439506467716,-0.059659649994779365,-0.8183834369391694,-0.5480051785885504,0.6047796513034572,-1.532362548338797,1.9239531136213526,-2.2729330116717357,0.7038139573002804,-0.5783982798836852,-0.40423646886615494,-1.4741140623505002,0.9421230293344746,-0.40488433389262524,0.7385946957282342,-1.220305479372563,0.5083037439106535,-1.6573596969282112,-0.30622793420655764,1.2090117296626592,-2.092375564918579,-0.07912412923330465,0.9907154607991587,1.3835363731413068,0.062050475447299046,-1.3279093169917124,-0.24090333909465758,-0.8686632118413525,-0.8737433194791209,1.286057339281788,1.1686997283325733,0.11463104050926562,-0.49333094725935783,-0.7163251198552059,-0.3867609736290793,-0.9300779087220071,-0.5029500766553069,-0.5099766136711134,0.7650616600011578,0.40885174878448294,0.1858949247611975,0.6334705020307428,0.857156989390653,1.1016962908562378,-2.6962695811727477,0.3671456344609041,-0.9456895970314112,0.8262109010679536,0.31775441451093905,-0.8140391902608517,-1.206299209830328,-1.8531579472430875,-0.8876817122602841,0.05353775292349346,-0.12607935820821967,-0.03448799870597999,0.09870641464153888,-0.1446216067198726,1.2998517221380463,-0.12470385761846105,0.47802670745805237,-0.9522869833192295,-1.636073353351388,-0.6203662373169074,-0.29660064998420343,1.3138788609614107,1.265578656104241,-0.9401464868752111,0.5336937679093039,0.9778422471052447,-0.3184371043335791,-0.281351219907658,-0.1001231941237401,-0.06297713617496802,1.0764980974966396,0.8182828791208246,-0.8802382564637786,0.5766341192681865,0.10400447689675228,2.811653328740616,0.6747095421809363,-0.0952407923845185,0.8569146552911229,0.17384052881986306,-0.5743496895141323,-0.020052297571810183,1.615604923206011,0.14114648417347928,0.8334472689749779,1.2835939015893971],\"yaxis\":\"y10\",\"type\":\"scatter\"},{\"histfunc\":\"count\",\"histnorm\":\"\",\"marker\":{\"color\":\"rgba(50, 171, 96, 1.0)\",\"line\":{\"color\":\"#4D5663\",\"width\":1.3}},\"name\":\"C\",\"nbinsx\":10,\"opacity\":0.8,\"orientation\":\"v\",\"x\":[0.25384966049770624,-0.5072527135914842,-0.337956158122121,-0.021352989724285766,1.1798868936955196,-1.0619700074535035,-1.242640821990061,0.63718481054885,1.182983470444718,1.1803557563755003,1.4251439506467716,-0.059659649994779365,-0.8183834369391694,-0.5480051785885504,0.6047796513034572,-1.532362548338797,1.9239531136213526,-2.2729330116717357,0.7038139573002804,-0.5783982798836852,-0.40423646886615494,-1.4741140623505002,0.9421230293344746,-0.40488433389262524,0.7385946957282342,-1.220305479372563,0.5083037439106535,-1.6573596969282112,-0.30622793420655764,1.2090117296626592,-2.092375564918579,-0.07912412923330465,0.9907154607991587,1.3835363731413068,0.062050475447299046,-1.3279093169917124,-0.24090333909465758,-0.8686632118413525,-0.8737433194791209,1.286057339281788,1.1686997283325733,0.11463104050926562,-0.49333094725935783,-0.7163251198552059,-0.3867609736290793,-0.9300779087220071,-0.5029500766553069,-0.5099766136711134,0.7650616600011578,0.40885174878448294,0.1858949247611975,0.6334705020307428,0.857156989390653,1.1016962908562378,-2.6962695811727477,0.3671456344609041,-0.9456895970314112,0.8262109010679536,0.31775441451093905,-0.8140391902608517,-1.206299209830328,-1.8531579472430875,-0.8876817122602841,0.05353775292349346,-0.12607935820821967,-0.03448799870597999,0.09870641464153888,-0.1446216067198726,1.2998517221380463,-0.12470385761846105,0.47802670745805237,-0.9522869833192295,-1.636073353351388,-0.6203662373169074,-0.29660064998420343,1.3138788609614107,1.265578656104241,-0.9401464868752111,0.5336937679093039,0.9778422471052447,-0.3184371043335791,-0.281351219907658,-0.1001231941237401,-0.06297713617496802,1.0764980974966396,0.8182828791208246,-0.8802382564637786,0.5766341192681865,0.10400447689675228,2.811653328740616,0.6747095421809363,-0.0952407923845185,0.8569146552911229,0.17384052881986306,-0.5743496895141323,-0.020052297571810183,1.615604923206011,0.14114648417347928,0.8334472689749779,1.2835939015893971],\"xaxis\":\"x11\",\"yaxis\":\"y11\",\"type\":\"histogram\"},{\"line\":{\"color\":\"rgba(128, 128, 128, 1.0)\",\"dash\":\"solid\",\"shape\":\"linear\",\"width\":1.3},\"marker\":{\"size\":2,\"symbol\":\"circle\"},\"mode\":\"markers\",\"name\":\"C\",\"text\":\"\",\"x\":[1.4815474610296049,-1.9399949598560504,-0.5192410189081605,-0.7898645421626244,-1.7096375423618129,0.2714533654279277,-1.3968305414201274,0.6282768205350342,2.176222326302205,-1.0264252953976682,1.3904401099939683,0.010824542527164216,-1.2175794875521029,0.3716209577099888,-1.3120934728624076,3.170939661760095,-1.458745480205832,-0.26439735324349584,1.1148649811421643,-1.1834165391311606,0.19940803639036503,-0.6390283733918236,-0.2397171463813505,-0.6494781932428652,1.649310694332983,-0.2964914172594756,-0.9353650503551492,0.9157186257911698,0.4876738607533547,-0.48199022831880894,-0.8349616170091793,1.3455087541679283,1.0590188939449208,0.836366174132724,1.5584629863592703,0.8348947232424436,-1.5731745117470843,0.13442209475790842,0.47631553285110445,-1.2038030148104866,-0.4347025061416813,1.5278190505918834,-0.5130721965259754,-1.3361021034635543,0.9835424597703536,0.4705045921911986,-0.978921113520018,-0.7712720999658328,0.6585146037629854,-0.19953392510152093,0.6660646067585204,0.5970847152486468,0.7372721084064577,1.1911541187181174,1.1479936893825013,1.283248296703858,-0.7876409921955367,-0.9149652381778776,0.39827433505999343,-0.6710173250569395,0.8159945751152134,-1.5903063065526848,-0.4959982172304841,-1.3329954554344272,1.0199703277720364,2.4105667127187584,-0.32796522837022896,0.43346683329833796,0.8073583140133243,-1.5072450491863791,-1.6170993013177883,-0.326640720754919,-1.1417972275953043,-0.963167293179758,-1.1199542329043528,0.21898146132919458,-0.5538360340051623,0.437774048310451,-0.4554710344968834,0.8810671717263063,-0.18618693579618942,-0.22937403549950175,-1.2960949662883683,3.0244334385227534,0.09151833504505799,-1.2348946008715653,0.8435621156772137,1.5187612384908198,1.1205147462709322,1.4990579085824633,0.6940208707220915,0.03425611488741808,0.4662048603667723,0.9211490479984151,-1.538982321904577,-1.1380477010193768,0.10557234739990107,0.3037577914167502,1.5797856584030867,0.48563011243884],\"xaxis\":\"x12\",\"y\":[0.25384966049770624,-0.5072527135914842,-0.337956158122121,-0.021352989724285766,1.1798868936955196,-1.0619700074535035,-1.242640821990061,0.63718481054885,1.182983470444718,1.1803557563755003,1.4251439506467716,-0.059659649994779365,-0.8183834369391694,-0.5480051785885504,0.6047796513034572,-1.532362548338797,1.9239531136213526,-2.2729330116717357,0.7038139573002804,-0.5783982798836852,-0.40423646886615494,-1.4741140623505002,0.9421230293344746,-0.40488433389262524,0.7385946957282342,-1.220305479372563,0.5083037439106535,-1.6573596969282112,-0.30622793420655764,1.2090117296626592,-2.092375564918579,-0.07912412923330465,0.9907154607991587,1.3835363731413068,0.062050475447299046,-1.3279093169917124,-0.24090333909465758,-0.8686632118413525,-0.8737433194791209,1.286057339281788,1.1686997283325733,0.11463104050926562,-0.49333094725935783,-0.7163251198552059,-0.3867609736290793,-0.9300779087220071,-0.5029500766553069,-0.5099766136711134,0.7650616600011578,0.40885174878448294,0.1858949247611975,0.6334705020307428,0.857156989390653,1.1016962908562378,-2.6962695811727477,0.3671456344609041,-0.9456895970314112,0.8262109010679536,0.31775441451093905,-0.8140391902608517,-1.206299209830328,-1.8531579472430875,-0.8876817122602841,0.05353775292349346,-0.12607935820821967,-0.03448799870597999,0.09870641464153888,-0.1446216067198726,1.2998517221380463,-0.12470385761846105,0.47802670745805237,-0.9522869833192295,-1.636073353351388,-0.6203662373169074,-0.29660064998420343,1.3138788609614107,1.265578656104241,-0.9401464868752111,0.5336937679093039,0.9778422471052447,-0.3184371043335791,-0.281351219907658,-0.1001231941237401,-0.06297713617496802,1.0764980974966396,0.8182828791208246,-0.8802382564637786,0.5766341192681865,0.10400447689675228,2.811653328740616,0.6747095421809363,-0.0952407923845185,0.8569146552911229,0.17384052881986306,-0.5743496895141323,-0.020052297571810183,1.615604923206011,0.14114648417347928,0.8334472689749779,1.2835939015893971],\"yaxis\":\"y12\",\"type\":\"scatter\"},{\"line\":{\"color\":\"rgba(128, 128, 128, 1.0)\",\"dash\":\"solid\",\"shape\":\"linear\",\"width\":1.3},\"marker\":{\"size\":2,\"symbol\":\"circle\"},\"mode\":\"markers\",\"name\":\"D\",\"text\":\"\",\"x\":[-0.9667706031559152,-0.2859230331659126,-0.9598172529636709,1.6994273373143356,0.6679156281878831,-0.7921386723269326,0.6677875090604823,0.18842161040285368,1.2197013733786959,0.3740932827273875,0.6763751328413449,1.0494561021545243,0.07221209523657499,-0.8791766868027052,0.12162966723876437,-0.10357449487613801,-0.5094000022078592,0.6239757340029429,-1.2449571168622398,0.3594084096499897,1.6765297679482034,0.13509423235704984,0.2705117695196429,-0.7119820402020055,-0.12907758215134288,0.08319611741499265,0.430408914483296,1.1322952435002804,-0.9607675765706225,-0.1420858459791905,0.9348025697422142,1.0557892979911945,-0.7528462987022209,-2.1819039128157867,-1.4046399567682601,0.5861898200940868,-0.2911744291241955,-0.5509183453632426,-0.1127612420803882,0.6888117831712275,-0.1364296263697243,0.3277151667010575,0.33758301287551934,0.7981383473407812,-0.5749282127701741,0.0573190971632262,2.005614222502313,-0.36084649081020853,0.12500468331404857,-1.000769118596277,-1.2581246473715653,0.8727168540806867,0.5189249974409815,0.26003727857485476,0.9036555150907073,0.2100386271152475,0.8011528441099885,-1.4767051234211053,-0.2984036629837312,-2.9439786983978737,-0.2072924708400469,-0.8970346988592104,-1.562210930137962,-1.2007698303843537,0.5761557464682605,-0.3334196477312107,-0.1475085352910442,-1.9221100669005526,-0.37263094070359437,-0.2961685288793439,0.867188512443164,0.21374050067553674,-0.7153835481111949,1.2527062398553368,1.183821901529496,2.200161640450383,1.695203262152829,-1.2996409871306696,-0.4603476887302826,-0.3357203379555168,-0.00262303954320485,1.0643942398357191,0.326733874202913,-0.21373908648877013,-1.187563138747254,1.43363810629614,-0.78225692691843,0.0820954573532839,1.0920156152206064,1.3080169562280424,-1.3269670830691598,0.6523762892146466,-0.2841860611708281,-0.06085191281269883,0.1811085429676458,0.27988653937338126,-1.5113247093622162,1.9927114711577558,-1.2115200720889219,1.730413492768943],\"xaxis\":\"x13\",\"y\":[1.4815474610296049,-1.9399949598560504,-0.5192410189081605,-0.7898645421626244,-1.7096375423618129,0.2714533654279277,-1.3968305414201274,0.6282768205350342,2.176222326302205,-1.0264252953976682,1.3904401099939683,0.010824542527164216,-1.2175794875521029,0.3716209577099888,-1.3120934728624076,3.170939661760095,-1.458745480205832,-0.26439735324349584,1.1148649811421643,-1.1834165391311606,0.19940803639036503,-0.6390283733918236,-0.2397171463813505,-0.6494781932428652,1.649310694332983,-0.2964914172594756,-0.9353650503551492,0.9157186257911698,0.4876738607533547,-0.48199022831880894,-0.8349616170091793,1.3455087541679283,1.0590188939449208,0.836366174132724,1.5584629863592703,0.8348947232424436,-1.5731745117470843,0.13442209475790842,0.47631553285110445,-1.2038030148104866,-0.4347025061416813,1.5278190505918834,-0.5130721965259754,-1.3361021034635543,0.9835424597703536,0.4705045921911986,-0.978921113520018,-0.7712720999658328,0.6585146037629854,-0.19953392510152093,0.6660646067585204,0.5970847152486468,0.7372721084064577,1.1911541187181174,1.1479936893825013,1.283248296703858,-0.7876409921955367,-0.9149652381778776,0.39827433505999343,-0.6710173250569395,0.8159945751152134,-1.5903063065526848,-0.4959982172304841,-1.3329954554344272,1.0199703277720364,2.4105667127187584,-0.32796522837022896,0.43346683329833796,0.8073583140133243,-1.5072450491863791,-1.6170993013177883,-0.326640720754919,-1.1417972275953043,-0.963167293179758,-1.1199542329043528,0.21898146132919458,-0.5538360340051623,0.437774048310451,-0.4554710344968834,0.8810671717263063,-0.18618693579618942,-0.22937403549950175,-1.2960949662883683,3.0244334385227534,0.09151833504505799,-1.2348946008715653,0.8435621156772137,1.5187612384908198,1.1205147462709322,1.4990579085824633,0.6940208707220915,0.03425611488741808,0.4662048603667723,0.9211490479984151,-1.538982321904577,-1.1380477010193768,0.10557234739990107,0.3037577914167502,1.5797856584030867,0.48563011243884],\"yaxis\":\"y13\",\"type\":\"scatter\"},{\"line\":{\"color\":\"rgba(128, 128, 128, 1.0)\",\"dash\":\"solid\",\"shape\":\"linear\",\"width\":1.3},\"marker\":{\"size\":2,\"symbol\":\"circle\"},\"mode\":\"markers\",\"name\":\"D\",\"text\":\"\",\"x\":[-1.3188190343406079,-0.5195427305961262,3.386453821992028,-0.09705417497171678,-0.297892863845476,-0.26756095229456917,0.5700665741375269,0.44529929220723913,-0.5510229873684799,1.7463483158674042,1.0118648347277688,0.1458689328478937,1.6735595274266766,0.7379430702485847,-0.7028689770607447,-0.07384558691768216,-1.7178452837414204,-1.9804215168285524,1.8325098041859333,0.4993355982667355,0.6159257998414503,-0.4792071402444821,0.3559177987316825,0.04575842620889139,-0.8937333342631764,-0.8458911423699876,1.2132038105440868,0.39373880580881887,1.1759919470652533,-2.068247462098143,-0.18747085870618696,-0.008194876832229107,-0.907129791010329,1.925063230443421,1.01885368544152,1.387438436729016,-1.0066955686153438,-0.9671187007033104,0.731976451138149,-0.9371741422340341,-0.768941907442198,0.0008091449242708666,0.07929553953223403,-0.012771443464080616,-1.091398000879962,0.6806417721703428,2.520321123148215,-1.6307687921002214,0.18510853667360713,-0.5309953436595065,-0.22650831604718946,-1.258650901561935,-0.29680745281406823,1.2488894303379945,0.9682519853659632,0.9040218291484514,0.4598920631590823,0.09824730993245537,2.4477757145812893,0.7180564035299077,0.0315662683405219,-0.22996495250392865,0.2690941714596704,-0.6618681113312663,2.4622984818930136,-0.9383539350729556,0.19670822651949327,0.332796451140872,-0.8804151825842351,1.0226176431072793,-0.9568652442737168,0.8632965925105605,0.3900306902768008,-0.9734778777546095,-0.03650594927790021,0.7698691732943076,-1.3788806224060008,1.2099361028622364,0.9999975718199677,-1.0101204359398641,0.5601146900966223,1.0474334676881487,0.9083479954052169,0.36007125845211757,0.7990499474418643,0.047683355715569184,0.9159390582775966,1.1103493975674814,-0.7261520132147986,-0.0351697431708248,0.8903375868875737,-0.832922227123769,1.3524321907790178,-2.299743297174103,-0.10650146403260315,-0.8406462819832169,-1.0635316643185633,0.7775874644776857,0.9727642264248069,-0.4108309101944478],\"xaxis\":\"x14\",\"y\":[1.4815474610296049,-1.9399949598560504,-0.5192410189081605,-0.7898645421626244,-1.7096375423618129,0.2714533654279277,-1.3968305414201274,0.6282768205350342,2.176222326302205,-1.0264252953976682,1.3904401099939683,0.010824542527164216,-1.2175794875521029,0.3716209577099888,-1.3120934728624076,3.170939661760095,-1.458745480205832,-0.26439735324349584,1.1148649811421643,-1.1834165391311606,0.19940803639036503,-0.6390283733918236,-0.2397171463813505,-0.6494781932428652,1.649310694332983,-0.2964914172594756,-0.9353650503551492,0.9157186257911698,0.4876738607533547,-0.48199022831880894,-0.8349616170091793,1.3455087541679283,1.0590188939449208,0.836366174132724,1.5584629863592703,0.8348947232424436,-1.5731745117470843,0.13442209475790842,0.47631553285110445,-1.2038030148104866,-0.4347025061416813,1.5278190505918834,-0.5130721965259754,-1.3361021034635543,0.9835424597703536,0.4705045921911986,-0.978921113520018,-0.7712720999658328,0.6585146037629854,-0.19953392510152093,0.6660646067585204,0.5970847152486468,0.7372721084064577,1.1911541187181174,1.1479936893825013,1.283248296703858,-0.7876409921955367,-0.9149652381778776,0.39827433505999343,-0.6710173250569395,0.8159945751152134,-1.5903063065526848,-0.4959982172304841,-1.3329954554344272,1.0199703277720364,2.4105667127187584,-0.32796522837022896,0.43346683329833796,0.8073583140133243,-1.5072450491863791,-1.6170993013177883,-0.326640720754919,-1.1417972275953043,-0.963167293179758,-1.1199542329043528,0.21898146132919458,-0.5538360340051623,0.437774048310451,-0.4554710344968834,0.8810671717263063,-0.18618693579618942,-0.22937403549950175,-1.2960949662883683,3.0244334385227534,0.09151833504505799,-1.2348946008715653,0.8435621156772137,1.5187612384908198,1.1205147462709322,1.4990579085824633,0.6940208707220915,0.03425611488741808,0.4662048603667723,0.9211490479984151,-1.538982321904577,-1.1380477010193768,0.10557234739990107,0.3037577914167502,1.5797856584030867,0.48563011243884],\"yaxis\":\"y14\",\"type\":\"scatter\"},{\"line\":{\"color\":\"rgba(128, 128, 128, 1.0)\",\"dash\":\"solid\",\"shape\":\"linear\",\"width\":1.3},\"marker\":{\"size\":2,\"symbol\":\"circle\"},\"mode\":\"markers\",\"name\":\"D\",\"text\":\"\",\"x\":[0.25384966049770624,-0.5072527135914842,-0.337956158122121,-0.021352989724285766,1.1798868936955196,-1.0619700074535035,-1.242640821990061,0.63718481054885,1.182983470444718,1.1803557563755003,1.4251439506467716,-0.059659649994779365,-0.8183834369391694,-0.5480051785885504,0.6047796513034572,-1.532362548338797,1.9239531136213526,-2.2729330116717357,0.7038139573002804,-0.5783982798836852,-0.40423646886615494,-1.4741140623505002,0.9421230293344746,-0.40488433389262524,0.7385946957282342,-1.220305479372563,0.5083037439106535,-1.6573596969282112,-0.30622793420655764,1.2090117296626592,-2.092375564918579,-0.07912412923330465,0.9907154607991587,1.3835363731413068,0.062050475447299046,-1.3279093169917124,-0.24090333909465758,-0.8686632118413525,-0.8737433194791209,1.286057339281788,1.1686997283325733,0.11463104050926562,-0.49333094725935783,-0.7163251198552059,-0.3867609736290793,-0.9300779087220071,-0.5029500766553069,-0.5099766136711134,0.7650616600011578,0.40885174878448294,0.1858949247611975,0.6334705020307428,0.857156989390653,1.1016962908562378,-2.6962695811727477,0.3671456344609041,-0.9456895970314112,0.8262109010679536,0.31775441451093905,-0.8140391902608517,-1.206299209830328,-1.8531579472430875,-0.8876817122602841,0.05353775292349346,-0.12607935820821967,-0.03448799870597999,0.09870641464153888,-0.1446216067198726,1.2998517221380463,-0.12470385761846105,0.47802670745805237,-0.9522869833192295,-1.636073353351388,-0.6203662373169074,-0.29660064998420343,1.3138788609614107,1.265578656104241,-0.9401464868752111,0.5336937679093039,0.9778422471052447,-0.3184371043335791,-0.281351219907658,-0.1001231941237401,-0.06297713617496802,1.0764980974966396,0.8182828791208246,-0.8802382564637786,0.5766341192681865,0.10400447689675228,2.811653328740616,0.6747095421809363,-0.0952407923845185,0.8569146552911229,0.17384052881986306,-0.5743496895141323,-0.020052297571810183,1.615604923206011,0.14114648417347928,0.8334472689749779,1.2835939015893971],\"xaxis\":\"x15\",\"y\":[1.4815474610296049,-1.9399949598560504,-0.5192410189081605,-0.7898645421626244,-1.7096375423618129,0.2714533654279277,-1.3968305414201274,0.6282768205350342,2.176222326302205,-1.0264252953976682,1.3904401099939683,0.010824542527164216,-1.2175794875521029,0.3716209577099888,-1.3120934728624076,3.170939661760095,-1.458745480205832,-0.26439735324349584,1.1148649811421643,-1.1834165391311606,0.19940803639036503,-0.6390283733918236,-0.2397171463813505,-0.6494781932428652,1.649310694332983,-0.2964914172594756,-0.9353650503551492,0.9157186257911698,0.4876738607533547,-0.48199022831880894,-0.8349616170091793,1.3455087541679283,1.0590188939449208,0.836366174132724,1.5584629863592703,0.8348947232424436,-1.5731745117470843,0.13442209475790842,0.47631553285110445,-1.2038030148104866,-0.4347025061416813,1.5278190505918834,-0.5130721965259754,-1.3361021034635543,0.9835424597703536,0.4705045921911986,-0.978921113520018,-0.7712720999658328,0.6585146037629854,-0.19953392510152093,0.6660646067585204,0.5970847152486468,0.7372721084064577,1.1911541187181174,1.1479936893825013,1.283248296703858,-0.7876409921955367,-0.9149652381778776,0.39827433505999343,-0.6710173250569395,0.8159945751152134,-1.5903063065526848,-0.4959982172304841,-1.3329954554344272,1.0199703277720364,2.4105667127187584,-0.32796522837022896,0.43346683329833796,0.8073583140133243,-1.5072450491863791,-1.6170993013177883,-0.326640720754919,-1.1417972275953043,-0.963167293179758,-1.1199542329043528,0.21898146132919458,-0.5538360340051623,0.437774048310451,-0.4554710344968834,0.8810671717263063,-0.18618693579618942,-0.22937403549950175,-1.2960949662883683,3.0244334385227534,0.09151833504505799,-1.2348946008715653,0.8435621156772137,1.5187612384908198,1.1205147462709322,1.4990579085824633,0.6940208707220915,0.03425611488741808,0.4662048603667723,0.9211490479984151,-1.538982321904577,-1.1380477010193768,0.10557234739990107,0.3037577914167502,1.5797856584030867,0.48563011243884],\"yaxis\":\"y15\",\"type\":\"scatter\"},{\"histfunc\":\"count\",\"histnorm\":\"\",\"marker\":{\"color\":\"rgba(128, 0, 128, 1.0)\",\"line\":{\"color\":\"#4D5663\",\"width\":1.3}},\"name\":\"D\",\"nbinsx\":10,\"opacity\":0.8,\"orientation\":\"v\",\"x\":[1.4815474610296049,-1.9399949598560504,-0.5192410189081605,-0.7898645421626244,-1.7096375423618129,0.2714533654279277,-1.3968305414201274,0.6282768205350342,2.176222326302205,-1.0264252953976682,1.3904401099939683,0.010824542527164216,-1.2175794875521029,0.3716209577099888,-1.3120934728624076,3.170939661760095,-1.458745480205832,-0.26439735324349584,1.1148649811421643,-1.1834165391311606,0.19940803639036503,-0.6390283733918236,-0.2397171463813505,-0.6494781932428652,1.649310694332983,-0.2964914172594756,-0.9353650503551492,0.9157186257911698,0.4876738607533547,-0.48199022831880894,-0.8349616170091793,1.3455087541679283,1.0590188939449208,0.836366174132724,1.5584629863592703,0.8348947232424436,-1.5731745117470843,0.13442209475790842,0.47631553285110445,-1.2038030148104866,-0.4347025061416813,1.5278190505918834,-0.5130721965259754,-1.3361021034635543,0.9835424597703536,0.4705045921911986,-0.978921113520018,-0.7712720999658328,0.6585146037629854,-0.19953392510152093,0.6660646067585204,0.5970847152486468,0.7372721084064577,1.1911541187181174,1.1479936893825013,1.283248296703858,-0.7876409921955367,-0.9149652381778776,0.39827433505999343,-0.6710173250569395,0.8159945751152134,-1.5903063065526848,-0.4959982172304841,-1.3329954554344272,1.0199703277720364,2.4105667127187584,-0.32796522837022896,0.43346683329833796,0.8073583140133243,-1.5072450491863791,-1.6170993013177883,-0.326640720754919,-1.1417972275953043,-0.963167293179758,-1.1199542329043528,0.21898146132919458,-0.5538360340051623,0.437774048310451,-0.4554710344968834,0.8810671717263063,-0.18618693579618942,-0.22937403549950175,-1.2960949662883683,3.0244334385227534,0.09151833504505799,-1.2348946008715653,0.8435621156772137,1.5187612384908198,1.1205147462709322,1.4990579085824633,0.6940208707220915,0.03425611488741808,0.4662048603667723,0.9211490479984151,-1.538982321904577,-1.1380477010193768,0.10557234739990107,0.3037577914167502,1.5797856584030867,0.48563011243884],\"xaxis\":\"x16\",\"yaxis\":\"y16\",\"type\":\"histogram\"}],                        {\"bargap\":0.02,\"legend\":{\"bgcolor\":\"#F5F6F9\",\"font\":{\"color\":\"#4D5663\"}},\"paper_bgcolor\":\"#F5F6F9\",\"plot_bgcolor\":\"#F5F6F9\",\"showlegend\":false,\"template\":{\"data\":{\"barpolar\":[{\"marker\":{\"line\":{\"color\":\"#E5ECF6\",\"width\":0.5},\"pattern\":{\"fillmode\":\"overlay\",\"size\":10,\"solidity\":0.2}},\"type\":\"barpolar\"}],\"bar\":[{\"error_x\":{\"color\":\"#2a3f5f\"},\"error_y\":{\"color\":\"#2a3f5f\"},\"marker\":{\"line\":{\"color\":\"#E5ECF6\",\"width\":0.5},\"pattern\":{\"fillmode\":\"overlay\",\"size\":10,\"solidity\":0.2}},\"type\":\"bar\"}],\"carpet\":[{\"aaxis\":{\"endlinecolor\":\"#2a3f5f\",\"gridcolor\":\"white\",\"linecolor\":\"white\",\"minorgridcolor\":\"white\",\"startlinecolor\":\"#2a3f5f\"},\"baxis\":{\"endlinecolor\":\"#2a3f5f\",\"gridcolor\":\"white\",\"linecolor\":\"white\",\"minorgridcolor\":\"white\",\"startlinecolor\":\"#2a3f5f\"},\"type\":\"carpet\"}],\"choropleth\":[{\"colorbar\":{\"outlinewidth\":0,\"ticks\":\"\"},\"type\":\"choropleth\"}],\"contourcarpet\":[{\"colorbar\":{\"outlinewidth\":0,\"ticks\":\"\"},\"type\":\"contourcarpet\"}],\"contour\":[{\"colorbar\":{\"outlinewidth\":0,\"ticks\":\"\"},\"colorscale\":[[0.0,\"#0d0887\"],[0.1111111111111111,\"#46039f\"],[0.2222222222222222,\"#7201a8\"],[0.3333333333333333,\"#9c179e\"],[0.4444444444444444,\"#bd3786\"],[0.5555555555555556,\"#d8576b\"],[0.6666666666666666,\"#ed7953\"],[0.7777777777777778,\"#fb9f3a\"],[0.8888888888888888,\"#fdca26\"],[1.0,\"#f0f921\"]],\"type\":\"contour\"}],\"heatmapgl\":[{\"colorbar\":{\"outlinewidth\":0,\"ticks\":\"\"},\"colorscale\":[[0.0,\"#0d0887\"],[0.1111111111111111,\"#46039f\"],[0.2222222222222222,\"#7201a8\"],[0.3333333333333333,\"#9c179e\"],[0.4444444444444444,\"#bd3786\"],[0.5555555555555556,\"#d8576b\"],[0.6666666666666666,\"#ed7953\"],[0.7777777777777778,\"#fb9f3a\"],[0.8888888888888888,\"#fdca26\"],[1.0,\"#f0f921\"]],\"type\":\"heatmapgl\"}],\"heatmap\":[{\"colorbar\":{\"outlinewidth\":0,\"ticks\":\"\"},\"colorscale\":[[0.0,\"#0d0887\"],[0.1111111111111111,\"#46039f\"],[0.2222222222222222,\"#7201a8\"],[0.3333333333333333,\"#9c179e\"],[0.4444444444444444,\"#bd3786\"],[0.5555555555555556,\"#d8576b\"],[0.6666666666666666,\"#ed7953\"],[0.7777777777777778,\"#fb9f3a\"],[0.8888888888888888,\"#fdca26\"],[1.0,\"#f0f921\"]],\"type\":\"heatmap\"}],\"histogram2dcontour\":[{\"colorbar\":{\"outlinewidth\":0,\"ticks\":\"\"},\"colorscale\":[[0.0,\"#0d0887\"],[0.1111111111111111,\"#46039f\"],[0.2222222222222222,\"#7201a8\"],[0.3333333333333333,\"#9c179e\"],[0.4444444444444444,\"#bd3786\"],[0.5555555555555556,\"#d8576b\"],[0.6666666666666666,\"#ed7953\"],[0.7777777777777778,\"#fb9f3a\"],[0.8888888888888888,\"#fdca26\"],[1.0,\"#f0f921\"]],\"type\":\"histogram2dcontour\"}],\"histogram2d\":[{\"colorbar\":{\"outlinewidth\":0,\"ticks\":\"\"},\"colorscale\":[[0.0,\"#0d0887\"],[0.1111111111111111,\"#46039f\"],[0.2222222222222222,\"#7201a8\"],[0.3333333333333333,\"#9c179e\"],[0.4444444444444444,\"#bd3786\"],[0.5555555555555556,\"#d8576b\"],[0.6666666666666666,\"#ed7953\"],[0.7777777777777778,\"#fb9f3a\"],[0.8888888888888888,\"#fdca26\"],[1.0,\"#f0f921\"]],\"type\":\"histogram2d\"}],\"histogram\":[{\"marker\":{\"pattern\":{\"fillmode\":\"overlay\",\"size\":10,\"solidity\":0.2}},\"type\":\"histogram\"}],\"mesh3d\":[{\"colorbar\":{\"outlinewidth\":0,\"ticks\":\"\"},\"type\":\"mesh3d\"}],\"parcoords\":[{\"line\":{\"colorbar\":{\"outlinewidth\":0,\"ticks\":\"\"}},\"type\":\"parcoords\"}],\"pie\":[{\"automargin\":true,\"type\":\"pie\"}],\"scatter3d\":[{\"line\":{\"colorbar\":{\"outlinewidth\":0,\"ticks\":\"\"}},\"marker\":{\"colorbar\":{\"outlinewidth\":0,\"ticks\":\"\"}},\"type\":\"scatter3d\"}],\"scattercarpet\":[{\"marker\":{\"colorbar\":{\"outlinewidth\":0,\"ticks\":\"\"}},\"type\":\"scattercarpet\"}],\"scattergeo\":[{\"marker\":{\"colorbar\":{\"outlinewidth\":0,\"ticks\":\"\"}},\"type\":\"scattergeo\"}],\"scattergl\":[{\"marker\":{\"colorbar\":{\"outlinewidth\":0,\"ticks\":\"\"}},\"type\":\"scattergl\"}],\"scattermapbox\":[{\"marker\":{\"colorbar\":{\"outlinewidth\":0,\"ticks\":\"\"}},\"type\":\"scattermapbox\"}],\"scatterpolargl\":[{\"marker\":{\"colorbar\":{\"outlinewidth\":0,\"ticks\":\"\"}},\"type\":\"scatterpolargl\"}],\"scatterpolar\":[{\"marker\":{\"colorbar\":{\"outlinewidth\":0,\"ticks\":\"\"}},\"type\":\"scatterpolar\"}],\"scatter\":[{\"fillpattern\":{\"fillmode\":\"overlay\",\"size\":10,\"solidity\":0.2},\"type\":\"scatter\"}],\"scatterternary\":[{\"marker\":{\"colorbar\":{\"outlinewidth\":0,\"ticks\":\"\"}},\"type\":\"scatterternary\"}],\"surface\":[{\"colorbar\":{\"outlinewidth\":0,\"ticks\":\"\"},\"colorscale\":[[0.0,\"#0d0887\"],[0.1111111111111111,\"#46039f\"],[0.2222222222222222,\"#7201a8\"],[0.3333333333333333,\"#9c179e\"],[0.4444444444444444,\"#bd3786\"],[0.5555555555555556,\"#d8576b\"],[0.6666666666666666,\"#ed7953\"],[0.7777777777777778,\"#fb9f3a\"],[0.8888888888888888,\"#fdca26\"],[1.0,\"#f0f921\"]],\"type\":\"surface\"}],\"table\":[{\"cells\":{\"fill\":{\"color\":\"#EBF0F8\"},\"line\":{\"color\":\"white\"}},\"header\":{\"fill\":{\"color\":\"#C8D4E3\"},\"line\":{\"color\":\"white\"}},\"type\":\"table\"}]},\"layout\":{\"annotationdefaults\":{\"arrowcolor\":\"#2a3f5f\",\"arrowhead\":0,\"arrowwidth\":1},\"autotypenumbers\":\"strict\",\"coloraxis\":{\"colorbar\":{\"outlinewidth\":0,\"ticks\":\"\"}},\"colorscale\":{\"diverging\":[[0,\"#8e0152\"],[0.1,\"#c51b7d\"],[0.2,\"#de77ae\"],[0.3,\"#f1b6da\"],[0.4,\"#fde0ef\"],[0.5,\"#f7f7f7\"],[0.6,\"#e6f5d0\"],[0.7,\"#b8e186\"],[0.8,\"#7fbc41\"],[0.9,\"#4d9221\"],[1,\"#276419\"]],\"sequential\":[[0.0,\"#0d0887\"],[0.1111111111111111,\"#46039f\"],[0.2222222222222222,\"#7201a8\"],[0.3333333333333333,\"#9c179e\"],[0.4444444444444444,\"#bd3786\"],[0.5555555555555556,\"#d8576b\"],[0.6666666666666666,\"#ed7953\"],[0.7777777777777778,\"#fb9f3a\"],[0.8888888888888888,\"#fdca26\"],[1.0,\"#f0f921\"]],\"sequentialminus\":[[0.0,\"#0d0887\"],[0.1111111111111111,\"#46039f\"],[0.2222222222222222,\"#7201a8\"],[0.3333333333333333,\"#9c179e\"],[0.4444444444444444,\"#bd3786\"],[0.5555555555555556,\"#d8576b\"],[0.6666666666666666,\"#ed7953\"],[0.7777777777777778,\"#fb9f3a\"],[0.8888888888888888,\"#fdca26\"],[1.0,\"#f0f921\"]]},\"colorway\":[\"#636efa\",\"#EF553B\",\"#00cc96\",\"#ab63fa\",\"#FFA15A\",\"#19d3f3\",\"#FF6692\",\"#B6E880\",\"#FF97FF\",\"#FECB52\"],\"font\":{\"color\":\"#2a3f5f\"},\"geo\":{\"bgcolor\":\"white\",\"lakecolor\":\"white\",\"landcolor\":\"#E5ECF6\",\"showlakes\":true,\"showland\":true,\"subunitcolor\":\"white\"},\"hoverlabel\":{\"align\":\"left\"},\"hovermode\":\"closest\",\"mapbox\":{\"style\":\"light\"},\"paper_bgcolor\":\"white\",\"plot_bgcolor\":\"#E5ECF6\",\"polar\":{\"angularaxis\":{\"gridcolor\":\"white\",\"linecolor\":\"white\",\"ticks\":\"\"},\"bgcolor\":\"#E5ECF6\",\"radialaxis\":{\"gridcolor\":\"white\",\"linecolor\":\"white\",\"ticks\":\"\"}},\"scene\":{\"xaxis\":{\"backgroundcolor\":\"#E5ECF6\",\"gridcolor\":\"white\",\"gridwidth\":2,\"linecolor\":\"white\",\"showbackground\":true,\"ticks\":\"\",\"zerolinecolor\":\"white\"},\"yaxis\":{\"backgroundcolor\":\"#E5ECF6\",\"gridcolor\":\"white\",\"gridwidth\":2,\"linecolor\":\"white\",\"showbackground\":true,\"ticks\":\"\",\"zerolinecolor\":\"white\"},\"zaxis\":{\"backgroundcolor\":\"#E5ECF6\",\"gridcolor\":\"white\",\"gridwidth\":2,\"linecolor\":\"white\",\"showbackground\":true,\"ticks\":\"\",\"zerolinecolor\":\"white\"}},\"shapedefaults\":{\"line\":{\"color\":\"#2a3f5f\"}},\"ternary\":{\"aaxis\":{\"gridcolor\":\"white\",\"linecolor\":\"white\",\"ticks\":\"\"},\"baxis\":{\"gridcolor\":\"white\",\"linecolor\":\"white\",\"ticks\":\"\"},\"bgcolor\":\"#E5ECF6\",\"caxis\":{\"gridcolor\":\"white\",\"linecolor\":\"white\",\"ticks\":\"\"}},\"title\":{\"x\":0.05},\"xaxis\":{\"automargin\":true,\"gridcolor\":\"white\",\"linecolor\":\"white\",\"ticks\":\"\",\"title\":{\"standoff\":15},\"zerolinecolor\":\"white\",\"zerolinewidth\":2},\"yaxis\":{\"automargin\":true,\"gridcolor\":\"white\",\"linecolor\":\"white\",\"ticks\":\"\",\"title\":{\"standoff\":15},\"zerolinecolor\":\"white\",\"zerolinewidth\":2}}},\"title\":{\"font\":{\"color\":\"#4D5663\"}},\"xaxis\":{\"anchor\":\"y\",\"domain\":[0.0,0.2125],\"gridcolor\":\"#E1E5ED\",\"showgrid\":false,\"tickfont\":{\"color\":\"#4D5663\"},\"title\":{\"font\":{\"color\":\"#4D5663\"},\"text\":\"\"},\"zerolinecolor\":\"#E1E5ED\"},\"yaxis\":{\"anchor\":\"x\",\"domain\":[0.8025,1.0],\"gridcolor\":\"#E1E5ED\",\"showgrid\":false,\"tickfont\":{\"color\":\"#4D5663\"},\"title\":{\"font\":{\"color\":\"#4D5663\"},\"text\":\"\"},\"zerolinecolor\":\"#E1E5ED\"},\"xaxis2\":{\"anchor\":\"y2\",\"domain\":[0.2625,0.475],\"gridcolor\":\"#E1E5ED\",\"showgrid\":false,\"tickfont\":{\"color\":\"#4D5663\"},\"title\":{\"font\":{\"color\":\"#4D5663\"},\"text\":\"\"},\"zerolinecolor\":\"#E1E5ED\"},\"yaxis2\":{\"anchor\":\"x2\",\"domain\":[0.8025,1.0],\"gridcolor\":\"#E1E5ED\",\"showgrid\":false,\"tickfont\":{\"color\":\"#4D5663\"},\"title\":{\"font\":{\"color\":\"#4D5663\"},\"text\":\"\"},\"zerolinecolor\":\"#E1E5ED\"},\"xaxis3\":{\"anchor\":\"y3\",\"domain\":[0.525,0.7375],\"gridcolor\":\"#E1E5ED\",\"showgrid\":false,\"tickfont\":{\"color\":\"#4D5663\"},\"title\":{\"font\":{\"color\":\"#4D5663\"},\"text\":\"\"},\"zerolinecolor\":\"#E1E5ED\"},\"yaxis3\":{\"anchor\":\"x3\",\"domain\":[0.8025,1.0],\"gridcolor\":\"#E1E5ED\",\"showgrid\":false,\"tickfont\":{\"color\":\"#4D5663\"},\"title\":{\"font\":{\"color\":\"#4D5663\"},\"text\":\"\"},\"zerolinecolor\":\"#E1E5ED\"},\"xaxis4\":{\"anchor\":\"y4\",\"domain\":[0.7875,1.0],\"gridcolor\":\"#E1E5ED\",\"showgrid\":false,\"tickfont\":{\"color\":\"#4D5663\"},\"title\":{\"font\":{\"color\":\"#4D5663\"},\"text\":\"\"},\"zerolinecolor\":\"#E1E5ED\"},\"yaxis4\":{\"anchor\":\"x4\",\"domain\":[0.8025,1.0],\"gridcolor\":\"#E1E5ED\",\"showgrid\":false,\"tickfont\":{\"color\":\"#4D5663\"},\"title\":{\"font\":{\"color\":\"#4D5663\"},\"text\":\"\"},\"zerolinecolor\":\"#E1E5ED\"},\"xaxis5\":{\"anchor\":\"y5\",\"domain\":[0.0,0.2125],\"gridcolor\":\"#E1E5ED\",\"showgrid\":false,\"tickfont\":{\"color\":\"#4D5663\"},\"title\":{\"font\":{\"color\":\"#4D5663\"},\"text\":\"\"},\"zerolinecolor\":\"#E1E5ED\"},\"yaxis5\":{\"anchor\":\"x5\",\"domain\":[0.535,0.7325],\"gridcolor\":\"#E1E5ED\",\"showgrid\":false,\"tickfont\":{\"color\":\"#4D5663\"},\"title\":{\"font\":{\"color\":\"#4D5663\"},\"text\":\"\"},\"zerolinecolor\":\"#E1E5ED\"},\"xaxis6\":{\"anchor\":\"y6\",\"domain\":[0.2625,0.475],\"gridcolor\":\"#E1E5ED\",\"showgrid\":false,\"tickfont\":{\"color\":\"#4D5663\"},\"title\":{\"font\":{\"color\":\"#4D5663\"},\"text\":\"\"},\"zerolinecolor\":\"#E1E5ED\"},\"yaxis6\":{\"anchor\":\"x6\",\"domain\":[0.535,0.7325],\"gridcolor\":\"#E1E5ED\",\"showgrid\":false,\"tickfont\":{\"color\":\"#4D5663\"},\"title\":{\"font\":{\"color\":\"#4D5663\"},\"text\":\"\"},\"zerolinecolor\":\"#E1E5ED\"},\"xaxis7\":{\"anchor\":\"y7\",\"domain\":[0.525,0.7375],\"gridcolor\":\"#E1E5ED\",\"showgrid\":false,\"tickfont\":{\"color\":\"#4D5663\"},\"title\":{\"font\":{\"color\":\"#4D5663\"},\"text\":\"\"},\"zerolinecolor\":\"#E1E5ED\"},\"yaxis7\":{\"anchor\":\"x7\",\"domain\":[0.535,0.7325],\"gridcolor\":\"#E1E5ED\",\"showgrid\":false,\"tickfont\":{\"color\":\"#4D5663\"},\"title\":{\"font\":{\"color\":\"#4D5663\"},\"text\":\"\"},\"zerolinecolor\":\"#E1E5ED\"},\"xaxis8\":{\"anchor\":\"y8\",\"domain\":[0.7875,1.0],\"gridcolor\":\"#E1E5ED\",\"showgrid\":false,\"tickfont\":{\"color\":\"#4D5663\"},\"title\":{\"font\":{\"color\":\"#4D5663\"},\"text\":\"\"},\"zerolinecolor\":\"#E1E5ED\"},\"yaxis8\":{\"anchor\":\"x8\",\"domain\":[0.535,0.7325],\"gridcolor\":\"#E1E5ED\",\"showgrid\":false,\"tickfont\":{\"color\":\"#4D5663\"},\"title\":{\"font\":{\"color\":\"#4D5663\"},\"text\":\"\"},\"zerolinecolor\":\"#E1E5ED\"},\"xaxis9\":{\"anchor\":\"y9\",\"domain\":[0.0,0.2125],\"gridcolor\":\"#E1E5ED\",\"showgrid\":false,\"tickfont\":{\"color\":\"#4D5663\"},\"title\":{\"font\":{\"color\":\"#4D5663\"},\"text\":\"\"},\"zerolinecolor\":\"#E1E5ED\"},\"yaxis9\":{\"anchor\":\"x9\",\"domain\":[0.2675,0.465],\"gridcolor\":\"#E1E5ED\",\"showgrid\":false,\"tickfont\":{\"color\":\"#4D5663\"},\"title\":{\"font\":{\"color\":\"#4D5663\"},\"text\":\"\"},\"zerolinecolor\":\"#E1E5ED\"},\"xaxis10\":{\"anchor\":\"y10\",\"domain\":[0.2625,0.475],\"gridcolor\":\"#E1E5ED\",\"showgrid\":false,\"tickfont\":{\"color\":\"#4D5663\"},\"title\":{\"font\":{\"color\":\"#4D5663\"},\"text\":\"\"},\"zerolinecolor\":\"#E1E5ED\"},\"yaxis10\":{\"anchor\":\"x10\",\"domain\":[0.2675,0.465],\"gridcolor\":\"#E1E5ED\",\"showgrid\":false,\"tickfont\":{\"color\":\"#4D5663\"},\"title\":{\"font\":{\"color\":\"#4D5663\"},\"text\":\"\"},\"zerolinecolor\":\"#E1E5ED\"},\"xaxis11\":{\"anchor\":\"y11\",\"domain\":[0.525,0.7375],\"gridcolor\":\"#E1E5ED\",\"showgrid\":false,\"tickfont\":{\"color\":\"#4D5663\"},\"title\":{\"font\":{\"color\":\"#4D5663\"},\"text\":\"\"},\"zerolinecolor\":\"#E1E5ED\"},\"yaxis11\":{\"anchor\":\"x11\",\"domain\":[0.2675,0.465],\"gridcolor\":\"#E1E5ED\",\"showgrid\":false,\"tickfont\":{\"color\":\"#4D5663\"},\"title\":{\"font\":{\"color\":\"#4D5663\"},\"text\":\"\"},\"zerolinecolor\":\"#E1E5ED\"},\"xaxis12\":{\"anchor\":\"y12\",\"domain\":[0.7875,1.0],\"gridcolor\":\"#E1E5ED\",\"showgrid\":false,\"tickfont\":{\"color\":\"#4D5663\"},\"title\":{\"font\":{\"color\":\"#4D5663\"},\"text\":\"\"},\"zerolinecolor\":\"#E1E5ED\"},\"yaxis12\":{\"anchor\":\"x12\",\"domain\":[0.2675,0.465],\"gridcolor\":\"#E1E5ED\",\"showgrid\":false,\"tickfont\":{\"color\":\"#4D5663\"},\"title\":{\"font\":{\"color\":\"#4D5663\"},\"text\":\"\"},\"zerolinecolor\":\"#E1E5ED\"},\"xaxis13\":{\"anchor\":\"y13\",\"domain\":[0.0,0.2125],\"gridcolor\":\"#E1E5ED\",\"showgrid\":false,\"tickfont\":{\"color\":\"#4D5663\"},\"title\":{\"font\":{\"color\":\"#4D5663\"},\"text\":\"\"},\"zerolinecolor\":\"#E1E5ED\"},\"yaxis13\":{\"anchor\":\"x13\",\"domain\":[0.0,0.1975],\"gridcolor\":\"#E1E5ED\",\"showgrid\":false,\"tickfont\":{\"color\":\"#4D5663\"},\"title\":{\"font\":{\"color\":\"#4D5663\"},\"text\":\"\"},\"zerolinecolor\":\"#E1E5ED\"},\"xaxis14\":{\"anchor\":\"y14\",\"domain\":[0.2625,0.475],\"gridcolor\":\"#E1E5ED\",\"showgrid\":false,\"tickfont\":{\"color\":\"#4D5663\"},\"title\":{\"font\":{\"color\":\"#4D5663\"},\"text\":\"\"},\"zerolinecolor\":\"#E1E5ED\"},\"yaxis14\":{\"anchor\":\"x14\",\"domain\":[0.0,0.1975],\"gridcolor\":\"#E1E5ED\",\"showgrid\":false,\"tickfont\":{\"color\":\"#4D5663\"},\"title\":{\"font\":{\"color\":\"#4D5663\"},\"text\":\"\"},\"zerolinecolor\":\"#E1E5ED\"},\"xaxis15\":{\"anchor\":\"y15\",\"domain\":[0.525,0.7375],\"gridcolor\":\"#E1E5ED\",\"showgrid\":false,\"tickfont\":{\"color\":\"#4D5663\"},\"title\":{\"font\":{\"color\":\"#4D5663\"},\"text\":\"\"},\"zerolinecolor\":\"#E1E5ED\"},\"yaxis15\":{\"anchor\":\"x15\",\"domain\":[0.0,0.1975],\"gridcolor\":\"#E1E5ED\",\"showgrid\":false,\"tickfont\":{\"color\":\"#4D5663\"},\"title\":{\"font\":{\"color\":\"#4D5663\"},\"text\":\"\"},\"zerolinecolor\":\"#E1E5ED\"},\"xaxis16\":{\"anchor\":\"y16\",\"domain\":[0.7875,1.0],\"gridcolor\":\"#E1E5ED\",\"showgrid\":false,\"tickfont\":{\"color\":\"#4D5663\"},\"title\":{\"font\":{\"color\":\"#4D5663\"},\"text\":\"\"},\"zerolinecolor\":\"#E1E5ED\"},\"yaxis16\":{\"anchor\":\"x16\",\"domain\":[0.0,0.1975],\"gridcolor\":\"#E1E5ED\",\"showgrid\":false,\"tickfont\":{\"color\":\"#4D5663\"},\"title\":{\"font\":{\"color\":\"#4D5663\"},\"text\":\"\"},\"zerolinecolor\":\"#E1E5ED\"}},                        {\"showLink\": true, \"linkText\": \"Export to plot.ly\", \"plotlyServerURL\": \"https://plot.ly\", \"responsive\": true}                    ).then(function(){\n",
       "                            \n",
       "var gd = document.getElementById('02b4de63-8944-4f7b-8917-ef7e9b8d6e6b');\n",
       "var x = new MutationObserver(function (mutations, observer) {{\n",
       "        var display = window.getComputedStyle(gd).display;\n",
       "        if (!display || display === 'none') {{\n",
       "            console.log([gd, 'removed!']);\n",
       "            Plotly.purge(gd);\n",
       "            observer.disconnect();\n",
       "        }}\n",
       "}});\n",
       "\n",
       "// Listen for the removal of the full notebook cells\n",
       "var notebookContainer = gd.closest('#notebook-container');\n",
       "if (notebookContainer) {{\n",
       "    x.observe(notebookContainer, {childList: true});\n",
       "}}\n",
       "\n",
       "// Listen for the clearing of the current output cell\n",
       "var outputEl = gd.closest('.output');\n",
       "if (outputEl) {{\n",
       "    x.observe(outputEl, {childList: true});\n",
       "}}\n",
       "\n",
       "                        })                };                });            </script>        </div>"
      ]
     },
     "metadata": {},
     "output_type": "display_data"
    }
   ],
   "source": [
    "df.scatter_matrix()"
   ]
  }
 ],
 "metadata": {
  "kernelspec": {
   "display_name": "Python 3 (ipykernel)",
   "language": "python",
   "name": "python3"
  },
  "language_info": {
   "codemirror_mode": {
    "name": "ipython",
    "version": 3
   },
   "file_extension": ".py",
   "mimetype": "text/x-python",
   "name": "python",
   "nbconvert_exporter": "python",
   "pygments_lexer": "ipython3",
   "version": "3.9.7"
  }
 },
 "nbformat": 4,
 "nbformat_minor": 5
}
